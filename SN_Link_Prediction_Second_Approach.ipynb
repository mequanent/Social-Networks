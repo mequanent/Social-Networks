{
  "nbformat": 4,
  "nbformat_minor": 0,
  "metadata": {
    "colab": {
      "provenance": [],
      "toc_visible": true,
      "include_colab_link": true
    },
    "kernelspec": {
      "name": "python3",
      "display_name": "Python 3"
    },
    "language_info": {
      "name": "python"
    }
  },
  "cells": [
    {
      "cell_type": "markdown",
      "metadata": {
        "id": "view-in-github",
        "colab_type": "text"
      },
      "source": [
        "<a href=\"https://colab.research.google.com/github/mequanent/Social-Networks/blob/main/SN_Link_Prediction_Second_Approach.ipynb\" target=\"_parent\"><img src=\"https://colab.research.google.com/assets/colab-badge.svg\" alt=\"Open In Colab\"/></a>"
      ]
    },
    {
      "cell_type": "markdown",
      "source": [
        "**load graphs**"
      ],
      "metadata": {
        "id": "miAeDkcQfeH7"
      }
    },
    {
      "cell_type": "code",
      "execution_count": null,
      "metadata": {
        "colab": {
          "base_uri": "https://localhost:8080/"
        },
        "id": "2xgVnNaQEpWl",
        "outputId": "6c000fcd-bf6f-42ca-bfc6-5be4cf7a5f63"
      },
      "outputs": [
        {
          "output_type": "stream",
          "name": "stdout",
          "text": [
            "34\n",
            "78\n",
            "[0, 1, 2, 3, 4, 5, 6, 7, 8, 9, 10, 11, 12, 13, 14, 15, 16, 17, 18, 19, 20, 21, 22, 23, 24, 25, 26, 27, 28, 29, 30, 31, 32, 33]\n",
            "[1, 2, 3, 4, 5, 6, 7, 8, 10, 11, 12, 13, 17, 19, 21, 31]\n"
          ]
        }
      ],
      "source": [
        "#!pip install networkx\n",
        "import networkx as nx\n",
        "import time\n",
        "import numpy as np\n",
        "import pandas as pd\n",
        "\n",
        "# load graph\n",
        "G = nx.karate_club_graph()\n",
        "# graph statistics\n",
        "print(G.number_of_nodes())\n",
        "print(G.number_of_edges())\n",
        "print(list(G.nodes))\n",
        "print(list(G.neighbors(0)))"
      ]
    },
    {
      "cell_type": "markdown",
      "source": [
        "Remove edges"
      ],
      "metadata": {
        "id": "RIrLpRwwf8JP"
      }
    },
    {
      "cell_type": "code",
      "source": [
        "# remove edges\n",
        "edge_to_remove = [75, 51, 18]\n",
        "# remove edges\n",
        "removed_edges = list()\n",
        "for i in edge_to_remove:\n",
        "    u = list(G.edges)[i][0]\n",
        "    v = list(G.edges)[i][1]\n",
        "    removed_edges.append([u,v])\n",
        "    G.remove_edge(u,v)\n",
        "k = len(removed_edges)\n",
        "print(removed_edges)"
      ],
      "metadata": {
        "colab": {
          "base_uri": "https://localhost:8080/"
        },
        "id": "Txad53QtFzU7",
        "outputId": "a5fe6c71-628f-407e-cd5a-4b8c76a1e0a3"
      },
      "execution_count": null,
      "outputs": [
        {
          "output_type": "stream",
          "name": "stdout",
          "text": [
            "[[31, 32], [18, 33], [1, 7]]\n"
          ]
        }
      ]
    },
    {
      "cell_type": "markdown",
      "source": [
        "## LCC"
      ],
      "metadata": {
        "id": "qo4CdWsRNlMi"
      }
    },
    {
      "cell_type": "code",
      "source": [
        "#local clustering coffecient\n",
        "def local_clustering_coefficient(g):\n",
        "  LCC=dict()\n",
        "  for i in g.nodes:\n",
        "    triangles=nx.triangles(g,i)\n",
        "    k= nx.degree(g,i)\n",
        "    lcc=0\n",
        "    if k>1:\n",
        "      lcc=2*triangles/(k*(k-1))\n",
        "    LCC[i]=lcc\n",
        "\n",
        "  lccs=[]\n",
        "  for u in g.nodes:\n",
        "    for v in g.nodes:\n",
        "      if u not in nx.neighbors (g,v) and u<v:\n",
        "        lccs.append((u,v,LCC[u]+LCC[v]))\n",
        "  return lccs"
      ],
      "metadata": {
        "id": "i8Xta96INW_Z"
      },
      "execution_count": null,
      "outputs": []
    },
    {
      "cell_type": "markdown",
      "source": [
        "## simRank"
      ],
      "metadata": {
        "id": "nvUNz6qgBlA5"
      }
    },
    {
      "cell_type": "code",
      "source": [
        "\n",
        "from itertools import product\n",
        "\n",
        "def sim(g, old_sim, u, v):\n",
        "  s = list(product (g.adj[u], g.adj[v]))\n",
        "  sim_sum = sum(old_sim[w][x] for (w, x) in s) / len(s) if s else 0.0\n",
        "  return sim_sum\n",
        "\n",
        "def simrank_similarity(g, C=0.8, K=5):\n",
        "  newsim = {u: {v: 1.0 if u == v else 0.0 for v in g} for u in g}\n",
        "  for its in range(K):\n",
        "    old_sim = newsim.copy()\n",
        "    newsim = {u: {v: C*sim(g, old_sim, u, v) if u is not v else 1 for v in g} for u in g}\n",
        "\n",
        "  simrank_nodes = []\n",
        "  for u, y in newsim.items () : \n",
        "    for v, val in y.items () :\n",
        "      if u < v and u not in g.neighbors(v):\n",
        "        simrank_nodes.append([u,v,val])\n",
        "  return simrank_nodes "
      ],
      "metadata": {
        "id": "IE_xwW0MZoMT"
      },
      "execution_count": null,
      "outputs": []
    },
    {
      "cell_type": "code",
      "source": [
        "cn = nx.common_neighbor_centrality(G)\n",
        "# sort Common Neighbors\n",
        "sorted_cn = sorted(cn, key=lambda tup: tup[2], reverse=True)\n",
        "\n",
        "#jaccard coefficient\n",
        "jac = nx.jaccard_coefficient(G)\n",
        "# sort jaccard coefficient\n",
        "sorted_jac = sorted(jac, key=lambda tup: tup[2], reverse=True)\n",
        "\n",
        "#adamic_adar_index \n",
        "adam = nx.adamic_adar_index(G)\n",
        "# sort adam\n",
        "sorted_adam = sorted(adam, key=lambda tup: tup[2], reverse=True)\n",
        "\n",
        "#preferential_attachment\n",
        "pre = nx.preferential_attachment(G)\n",
        "# sort preferntial attachment\n",
        "sorted_pre = sorted(pre, key=lambda tup: tup[2], reverse=True)\n",
        "\n",
        "# local clustring coeffient \n",
        "lcc=local_clustering_coefficient(G)\n",
        "#sort local clustring coeffient\n",
        "sorted_lcc = sorted(lcc,key=lambda tup: tup[2],reverse=True)\n",
        "\n",
        "#sort simRank similarity\n",
        "sorted_simr = sorted(simrank_similarity(G), key=lambda tup: tup [2], reverse= True)"
      ],
      "metadata": {
        "id": "--5ocrjwNXjI"
      },
      "execution_count": null,
      "outputs": []
    },
    {
      "cell_type": "markdown",
      "source": [
        "## Metrics "
      ],
      "metadata": {
        "id": "gmHYktvpPAL5"
      }
    },
    {
      "cell_type": "code",
      "source": [
        "def metrics(cof, N, removed_edges):  \n",
        "  Mean_rank = 0\n",
        "  reciprocal_rank = 0\n",
        "  idx = 0\n",
        "  #N = 100\n",
        "  hit = 0\n",
        "\n",
        "  start = time.time()\n",
        "  for u,v,val in cof:\n",
        "      if [u,v] in removed_edges:\n",
        "        Mean_rank += idx\n",
        "        reciprocal_rank += 1/(idx+1)\n",
        "        if idx <= 100:\n",
        "          hit += 1\n",
        "      idx += 1\n",
        "  time_ = time.time() - start\n",
        "  \n",
        "  return Mean_rank/k, reciprocal_rank/k, hit, time_"
      ],
      "metadata": {
        "id": "aWrJoA3cPojJ"
      },
      "execution_count": null,
      "outputs": []
    },
    {
      "cell_type": "markdown",
      "source": [
        "## Display"
      ],
      "metadata": {
        "id": "bfFq0QUXR0RU"
      }
    },
    {
      "cell_type": "code",
      "source": [
        "def show(coef):\n",
        "  Mean_rank, reciprocal_rank, hit, time_ = metrics(coef, 100, removed_edges)\n",
        "  print(\"MR\", Mean_rank)\n",
        "  print(\"MRR\", reciprocal_rank)\n",
        "  print(\"Hit@100\", hit)\n",
        "  print(\"Time：%f seconds\" % time_)\n",
        "  print()"
      ],
      "metadata": {
        "id": "SjANEN1VSE6L"
      },
      "execution_count": null,
      "outputs": []
    },
    {
      "cell_type": "code",
      "source": [
        "#sorted_cn, sorted_jac, sorted_adam, sorted_pre, sorted_lcc, sorted_simr \n",
        "print(\"Common Neighbor\")\n",
        "show(sorted_cn) \n",
        "print(\"Jaccard Coefficient\")\n",
        "show(sorted_jac) \n",
        "print(\"Adamic/Adar\")\n",
        "show(sorted_adam)\n",
        "print(\"Preferential Attachment\") \n",
        "show(sorted_pre) \n",
        "print(\"Local Clustering Coefficient\")\n",
        "show(sorted_lcc) \n",
        "print(\"simRank\")\n",
        "show(sorted_simr) "
      ],
      "metadata": {
        "colab": {
          "base_uri": "https://localhost:8080/"
        },
        "id": "v3Wgw0NBSZJp",
        "outputId": "4bad14cc-aa1d-47ea-9282-373ffbddb272"
      },
      "execution_count": null,
      "outputs": [
        {
          "output_type": "stream",
          "name": "stdout",
          "text": [
            "Common Neighbor\n",
            "MR 160.0\n",
            "MRR 0.11390640802405506\n",
            "Hit@100 1\n",
            "Time：0.000288 seconds\n",
            "\n",
            "Jaccard Coefficient\n",
            "MR 184.33333333333334\n",
            "MRR 0.009301753947423238\n",
            "Hit@100 1\n",
            "Time：0.000277 seconds\n",
            "\n",
            "Adamic/Adar\n",
            "MR 131.0\n",
            "MRR 0.03173144573144573\n",
            "Hit@100 1\n",
            "Time：0.000255 seconds\n",
            "\n",
            "Preferential Attachment\n",
            "MR 74.0\n",
            "MRR 0.029221522292215224\n",
            "Hit@100 2\n",
            "Time：0.000223 seconds\n",
            "\n",
            "Local Clustering Coefficient\n",
            "MR 370.3333333333333\n",
            "MRR 0.0032556723687336662\n",
            "Hit@100 0\n",
            "Time：0.000249 seconds\n",
            "\n",
            "simRank\n",
            "MR 179.0\n",
            "MRR 0.006456824828917852\n",
            "Hit@100 1\n",
            "Time：0.000189 seconds\n",
            "\n"
          ]
        }
      ]
    },
    {
      "cell_type": "markdown",
      "source": [
        "# Homework"
      ],
      "metadata": {
        "id": "ecP6sF9DPHAh"
      }
    },
    {
      "cell_type": "markdown",
      "source": [
        "## metric function"
      ],
      "metadata": {
        "id": "OLASKiKe99uQ"
      }
    },
    {
      "cell_type": "code",
      "source": [
        "def get_metrics(cof, removed_edges):  \n",
        "  MRR = 0\n",
        "  MR = 0\n",
        "  idx = 0\n",
        "  hit50 = 0\n",
        "  hit100 = 0\n",
        "  hit300 = 0 \n",
        "\n",
        "  start = time.time()\n",
        "  for u,v,val in cof:\n",
        "      if [u,v] in removed_edges:\n",
        "        MR += idx\n",
        "        MRR += 1/(idx+1)\n",
        "        if idx <= 50:\n",
        "          hit50 += 1\n",
        "        if idx <= 100:\n",
        "          hit100 += 1\n",
        "        if idx <= 300:\n",
        "          hit300 += 1\n",
        "      idx += 1\n",
        "  time_ = time.time() - start\n",
        "  \n",
        "  return MR/k, MRR/k, hit50, hit100, hit300, time_"
      ],
      "metadata": {
        "id": "-yHaSuKw4fBn"
      },
      "execution_count": null,
      "outputs": []
    },
    {
      "cell_type": "code",
      "source": [
        "def remove_edges(g, edge_to_remove):\n",
        "  # remove edges\n",
        "  removed_edges = list()\n",
        "  for i in edge_to_remove:\n",
        "      u = list(g.edges)[i][0]\n",
        "      v = list(g.edges)[i][1]\n",
        "      removed_edges.append([u,v])\n",
        "      g.remove_edge(u,v)\n",
        "  k = len(removed_edges)\n",
        "  \n",
        "  return removed_edges "
      ],
      "metadata": {
        "id": "HJuyStWT0HVG"
      },
      "execution_count": null,
      "outputs": []
    },
    {
      "cell_type": "code",
      "source": [
        "# get and descending sort the similarity coefficients   \n",
        "def get_coefficients(g):\n",
        "  # Common Neighbor\n",
        "  cn = nx.common_neighbor_centrality(G)\n",
        "  sorted_cn = sorted(cn, key=lambda tup: tup[2], reverse=True)\n",
        "\n",
        "  # jaccard coefficient\n",
        "  jac = nx.jaccard_coefficient(G)\n",
        "  sorted_jac = sorted(jac, key=lambda tup: tup[2], reverse=True)\n",
        "\n",
        "  #adamic_adar_index \n",
        "  adam = nx.adamic_adar_index(G)\n",
        "  sorted_adam = sorted(adam, key=lambda tup: tup[2], reverse=True)\n",
        "\n",
        "  #preferential_attachment\n",
        "  pre = nx.preferential_attachment(G)\n",
        "  sorted_pre = sorted(pre, key=lambda tup: tup[2], reverse=True)\n",
        "\n",
        "  #local clustring coeffient \n",
        "  lcc=local_clustering_coefficient(G)\n",
        "  sorted_lcc = sorted(lcc,key=lambda tup: tup[2],reverse=True)\n",
        "\n",
        "  #simRank similarity\n",
        "  sorted_simr = sorted(simrank_similarity(G), key=lambda tup: tup [2], reverse= True)\n",
        "\n",
        "  return sorted_cn, sorted_jac, sorted_adam, sorted_pre, sorted_lcc, sorted_simr"
      ],
      "metadata": {
        "id": "oW6YUsmdbQUl"
      },
      "execution_count": null,
      "outputs": []
    },
    {
      "cell_type": "code",
      "source": [],
      "metadata": {
        "id": "hXfTcwhk2PqH"
      },
      "execution_count": null,
      "outputs": []
    },
    {
      "cell_type": "markdown",
      "source": [
        "## 10 iterations"
      ],
      "metadata": {
        "id": "xY8t5sM82Q-O"
      }
    },
    {
      "cell_type": "code",
      "source": [
        "columns = ['MR', 'MRR', 'Hit@50', 'Hit@100', 'Hit@300', 'time']\n",
        "indices = ['CN', 'Jaccard', 'Preferential Attachment', 'Adamic', 'LCC', 'simRank']\n",
        "\n",
        "df = pd.DataFrame(0.0, index=indices, columns=columns)\n",
        "df"
      ],
      "metadata": {
        "colab": {
          "base_uri": "https://localhost:8080/",
          "height": 237
        },
        "id": "a4Lmk5fc-X9p",
        "outputId": "9c36d334-dbff-44b4-9a9a-aeb50b8d49f7"
      },
      "execution_count": null,
      "outputs": [
        {
          "output_type": "execute_result",
          "data": {
            "text/plain": [
              "                          MR  MRR  Hit@50  Hit@100  Hit@300  time\n",
              "CN                       0.0  0.0     0.0      0.0      0.0   0.0\n",
              "Jaccard                  0.0  0.0     0.0      0.0      0.0   0.0\n",
              "Preferential Attachment  0.0  0.0     0.0      0.0      0.0   0.0\n",
              "Adamic                   0.0  0.0     0.0      0.0      0.0   0.0\n",
              "LCC                      0.0  0.0     0.0      0.0      0.0   0.0\n",
              "simRank                  0.0  0.0     0.0      0.0      0.0   0.0"
            ],
            "text/html": [
              "\n",
              "  <div id=\"df-8f7d4d26-368a-43f9-bf3f-6197ffa6146c\">\n",
              "    <div class=\"colab-df-container\">\n",
              "      <div>\n",
              "<style scoped>\n",
              "    .dataframe tbody tr th:only-of-type {\n",
              "        vertical-align: middle;\n",
              "    }\n",
              "\n",
              "    .dataframe tbody tr th {\n",
              "        vertical-align: top;\n",
              "    }\n",
              "\n",
              "    .dataframe thead th {\n",
              "        text-align: right;\n",
              "    }\n",
              "</style>\n",
              "<table border=\"1\" class=\"dataframe\">\n",
              "  <thead>\n",
              "    <tr style=\"text-align: right;\">\n",
              "      <th></th>\n",
              "      <th>MR</th>\n",
              "      <th>MRR</th>\n",
              "      <th>Hit@50</th>\n",
              "      <th>Hit@100</th>\n",
              "      <th>Hit@300</th>\n",
              "      <th>time</th>\n",
              "    </tr>\n",
              "  </thead>\n",
              "  <tbody>\n",
              "    <tr>\n",
              "      <th>CN</th>\n",
              "      <td>0.0</td>\n",
              "      <td>0.0</td>\n",
              "      <td>0.0</td>\n",
              "      <td>0.0</td>\n",
              "      <td>0.0</td>\n",
              "      <td>0.0</td>\n",
              "    </tr>\n",
              "    <tr>\n",
              "      <th>Jaccard</th>\n",
              "      <td>0.0</td>\n",
              "      <td>0.0</td>\n",
              "      <td>0.0</td>\n",
              "      <td>0.0</td>\n",
              "      <td>0.0</td>\n",
              "      <td>0.0</td>\n",
              "    </tr>\n",
              "    <tr>\n",
              "      <th>Preferential Attachment</th>\n",
              "      <td>0.0</td>\n",
              "      <td>0.0</td>\n",
              "      <td>0.0</td>\n",
              "      <td>0.0</td>\n",
              "      <td>0.0</td>\n",
              "      <td>0.0</td>\n",
              "    </tr>\n",
              "    <tr>\n",
              "      <th>Adamic</th>\n",
              "      <td>0.0</td>\n",
              "      <td>0.0</td>\n",
              "      <td>0.0</td>\n",
              "      <td>0.0</td>\n",
              "      <td>0.0</td>\n",
              "      <td>0.0</td>\n",
              "    </tr>\n",
              "    <tr>\n",
              "      <th>LCC</th>\n",
              "      <td>0.0</td>\n",
              "      <td>0.0</td>\n",
              "      <td>0.0</td>\n",
              "      <td>0.0</td>\n",
              "      <td>0.0</td>\n",
              "      <td>0.0</td>\n",
              "    </tr>\n",
              "    <tr>\n",
              "      <th>simRank</th>\n",
              "      <td>0.0</td>\n",
              "      <td>0.0</td>\n",
              "      <td>0.0</td>\n",
              "      <td>0.0</td>\n",
              "      <td>0.0</td>\n",
              "      <td>0.0</td>\n",
              "    </tr>\n",
              "  </tbody>\n",
              "</table>\n",
              "</div>\n",
              "      <button class=\"colab-df-convert\" onclick=\"convertToInteractive('df-8f7d4d26-368a-43f9-bf3f-6197ffa6146c')\"\n",
              "              title=\"Convert this dataframe to an interactive table.\"\n",
              "              style=\"display:none;\">\n",
              "        \n",
              "  <svg xmlns=\"http://www.w3.org/2000/svg\" height=\"24px\"viewBox=\"0 0 24 24\"\n",
              "       width=\"24px\">\n",
              "    <path d=\"M0 0h24v24H0V0z\" fill=\"none\"/>\n",
              "    <path d=\"M18.56 5.44l.94 2.06.94-2.06 2.06-.94-2.06-.94-.94-2.06-.94 2.06-2.06.94zm-11 1L8.5 8.5l.94-2.06 2.06-.94-2.06-.94L8.5 2.5l-.94 2.06-2.06.94zm10 10l.94 2.06.94-2.06 2.06-.94-2.06-.94-.94-2.06-.94 2.06-2.06.94z\"/><path d=\"M17.41 7.96l-1.37-1.37c-.4-.4-.92-.59-1.43-.59-.52 0-1.04.2-1.43.59L10.3 9.45l-7.72 7.72c-.78.78-.78 2.05 0 2.83L4 21.41c.39.39.9.59 1.41.59.51 0 1.02-.2 1.41-.59l7.78-7.78 2.81-2.81c.8-.78.8-2.07 0-2.86zM5.41 20L4 18.59l7.72-7.72 1.47 1.35L5.41 20z\"/>\n",
              "  </svg>\n",
              "      </button>\n",
              "      \n",
              "  <style>\n",
              "    .colab-df-container {\n",
              "      display:flex;\n",
              "      flex-wrap:wrap;\n",
              "      gap: 12px;\n",
              "    }\n",
              "\n",
              "    .colab-df-convert {\n",
              "      background-color: #E8F0FE;\n",
              "      border: none;\n",
              "      border-radius: 50%;\n",
              "      cursor: pointer;\n",
              "      display: none;\n",
              "      fill: #1967D2;\n",
              "      height: 32px;\n",
              "      padding: 0 0 0 0;\n",
              "      width: 32px;\n",
              "    }\n",
              "\n",
              "    .colab-df-convert:hover {\n",
              "      background-color: #E2EBFA;\n",
              "      box-shadow: 0px 1px 2px rgba(60, 64, 67, 0.3), 0px 1px 3px 1px rgba(60, 64, 67, 0.15);\n",
              "      fill: #174EA6;\n",
              "    }\n",
              "\n",
              "    [theme=dark] .colab-df-convert {\n",
              "      background-color: #3B4455;\n",
              "      fill: #D2E3FC;\n",
              "    }\n",
              "\n",
              "    [theme=dark] .colab-df-convert:hover {\n",
              "      background-color: #434B5C;\n",
              "      box-shadow: 0px 1px 3px 1px rgba(0, 0, 0, 0.15);\n",
              "      filter: drop-shadow(0px 1px 2px rgba(0, 0, 0, 0.3));\n",
              "      fill: #FFFFFF;\n",
              "    }\n",
              "  </style>\n",
              "\n",
              "      <script>\n",
              "        const buttonEl =\n",
              "          document.querySelector('#df-8f7d4d26-368a-43f9-bf3f-6197ffa6146c button.colab-df-convert');\n",
              "        buttonEl.style.display =\n",
              "          google.colab.kernel.accessAllowed ? 'block' : 'none';\n",
              "\n",
              "        async function convertToInteractive(key) {\n",
              "          const element = document.querySelector('#df-8f7d4d26-368a-43f9-bf3f-6197ffa6146c');\n",
              "          const dataTable =\n",
              "            await google.colab.kernel.invokeFunction('convertToInteractive',\n",
              "                                                     [key], {});\n",
              "          if (!dataTable) return;\n",
              "\n",
              "          const docLinkHtml = 'Like what you see? Visit the ' +\n",
              "            '<a target=\"_blank\" href=https://colab.research.google.com/notebooks/data_table.ipynb>data table notebook</a>'\n",
              "            + ' to learn more about interactive tables.';\n",
              "          element.innerHTML = '';\n",
              "          dataTable['output_type'] = 'display_data';\n",
              "          await google.colab.output.renderOutput(dataTable, element);\n",
              "          const docLink = document.createElement('div');\n",
              "          docLink.innerHTML = docLinkHtml;\n",
              "          element.appendChild(docLink);\n",
              "        }\n",
              "      </script>\n",
              "    </div>\n",
              "  </div>\n",
              "  "
            ]
          },
          "metadata": {},
          "execution_count": 48
        }
      ]
    },
    {
      "cell_type": "code",
      "source": [
        "def one_K_metrics(k):\n",
        "  columns = ['MR', 'MRR', 'Hit@50', 'Hit@100', 'Hit@300', 'time']\n",
        "  indices = ['CN', 'Jaccard', 'Preferential Attachment', 'Adamic', 'LCC', 'simRank']\n",
        "\n",
        "  df = pd.DataFrame(0.0, index=indices, columns=columns)\n",
        "  for i in range(10): \n",
        "    N = 100\n",
        "    g = nx.karate_club_graph() \n",
        "    edges_to_remove = np.random.choice(range(len(g.edges)), k, replace=False)\n",
        "    edges_to_remove = sorted(edges_to_remove, reverse=True)\n",
        "    removed_edges = remove_edges(g, edges_to_remove)\n",
        "\n",
        "    cn, jac, adam, pre, lcc, simr = get_coefficients(G)\n",
        "    #coefs = [get_coefficients(G)]\n",
        "\n",
        "    coefficients = {'CN': cn, 'Jaccard': jac, \n",
        "                      'Preferential Attachment': pre, \n",
        "                      'Adamic': adam, 'LCC': lcc, 'simRank': simr}\n",
        "  #coef_metric = dict()   \n",
        "\n",
        "    MR, MRR, hit50, hit100, hit300, time_ = 0.0, 0.0, 0.0, 0.0, 0.0, 0.0\n",
        "    for i in coefficients.keys():\n",
        "      # get MR, MRR, hit50, hit100, hit300, time_\n",
        "      #MR, MRR, hit50, hit100, hit300, time_ += [metrics(i, removed_edges)] \n",
        "      df.loc[i, :] += get_metrics(coefficients[i], removed_edges)  \n",
        "  df /= 10\n",
        "\n",
        "  return df\n"
      ],
      "metadata": {
        "id": "hHhcwLIz1IPH"
      },
      "execution_count": null,
      "outputs": []
    },
    {
      "cell_type": "code",
      "source": [
        "# do for all Ks\n",
        "K = [1, 5, 10, 50]\n",
        "\n",
        "for k in K:\n",
        "  print(f\"The corresponding metrics for K = {k}\")\n",
        "  print(one_K_metrics(k).to_markdown())\n",
        "  print()"
      ],
      "metadata": {
        "colab": {
          "base_uri": "https://localhost:8080/"
        },
        "id": "mokK4t8s_rlL",
        "outputId": "3bd5198e-e5cd-479c-ac27-b72ee01fb344"
      },
      "execution_count": null,
      "outputs": [
        {
          "output_type": "stream",
          "name": "stdout",
          "text": [
            "The corresponding metrics for K = 1\n",
            "|                         |   MR |         MRR |   Hit@50 |   Hit@100 |   Hit@300 |        time |\n",
            "|:------------------------|-----:|------------:|---------:|----------:|----------:|------------:|\n",
            "| CN                      | 25.8 | 0.0003861   |      0   |       0   |       0.1 | 0.000109243 |\n",
            "| Jaccard                 | 25.1 | 0.000396825 |      0   |       0   |       0.1 | 0.000120401 |\n",
            "| Preferential Attachment |  1.4 | 0.00666667  |      0.1 |       0.1 |       0.1 | 0.000101209 |\n",
            "| Adamic                  | 25.8 | 0.0003861   |      0   |       0   |       0.1 | 0.000111079 |\n",
            "| LCC                     | 44.7 | 0.000223214 |      0   |       0   |       0   | 0.000117397 |\n",
            "| simRank                 | 25.7 | 0.000387597 |      0   |       0   |       0.1 | 0.000138402 |\n",
            "\n",
            "The corresponding metrics for K = 5\n",
            "|                         |    MR |         MRR |   Hit@50 |   Hit@100 |   Hit@300 |        time |\n",
            "|:------------------------|------:|------------:|---------:|----------:|----------:|------------:|\n",
            "| CN                      | 23.56 | 0.0070926   |      0.1 |       0.1 |       0.6 | 0.000169849 |\n",
            "| Jaccard                 | 26.2  | 0.000794951 |      0.1 |       0.1 |       0.6 | 0.000182343 |\n",
            "| Preferential Attachment | 10.16 | 0.0033786   |      0.2 |       0.3 |       0.6 | 0.000162029 |\n",
            "| Adamic                  | 17.98 | 0.00230111  |      0.1 |       0.1 |       0.6 | 0.000182533 |\n",
            "| LCC                     | 50.44 | 0.000322799 |      0   |       0   |       0.1 | 0.000178576 |\n",
            "| simRank                 | 23.12 | 0.000684709 |      0   |       0.1 |       0.6 | 0.000205731 |\n",
            "\n",
            "The corresponding metrics for K = 10\n",
            "|                         |    MR |         MRR |   Hit@50 |   Hit@100 |   Hit@300 |        time |\n",
            "|:------------------------|------:|------------:|---------:|----------:|----------:|------------:|\n",
            "| CN                      |  9.56 | 0.000167718 |      0   |       0   |       0.4 | 0.000235438 |\n",
            "| Jaccard                 | 10.08 | 0.000158105 |      0   |       0   |       0.4 | 0.000269914 |\n",
            "| Preferential Attachment |  3    | 0.00147932  |      0.2 |       0.2 |       0.4 | 0.00026412  |\n",
            "| Adamic                  |  7.64 | 0.00023722  |      0   |       0   |       0.4 | 0.000255084 |\n",
            "| LCC                     | 18.58 | 8.60507e-05 |      0   |       0   |       0   | 0.000255418 |\n",
            "| simRank                 |  8.76 | 0.000187409 |      0   |       0   |       0.4 | 0.000291681 |\n",
            "\n",
            "The corresponding metrics for K = 50\n",
            "|                         |     MR |         MRR |   Hit@50 |   Hit@100 |   Hit@300 |        time |\n",
            "|:------------------------|-------:|------------:|---------:|----------:|----------:|------------:|\n",
            "| CN                      |  5.176 | 0.00542757  |      0.8 |       0.8 |       1.9 | 0.000766349 |\n",
            "| Jaccard                 |  6.334 | 0.000406864 |      0.8 |       0.8 |       1.9 | 0.000766897 |\n",
            "| Preferential Attachment |  3.168 | 0.000854701 |      0.4 |       1.2 |       1.9 | 0.000800538 |\n",
            "| Adamic                  |  3.976 | 0.00147622  |      0.8 |       0.8 |       1.9 | 0.000825977 |\n",
            "| LCC                     | 13.236 | 0.000134274 |      0   |       0   |       0.8 | 0.000836897 |\n",
            "| simRank                 |  6.174 | 0.000267931 |      0   |       0.8 |       1.9 | 0.00100646  |\n",
            "\n"
          ]
        }
      ]
    }
  ]
}