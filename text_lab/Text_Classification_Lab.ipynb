{
  "cells": [
    {
      "cell_type": "markdown",
      "metadata": {
        "id": "uuutyCx4YTpX"
      },
      "source": [
        "# Text Classification Lab\n",
        "In this lab session we will focus on the use of Neural Word Embeddings \n"
      ]
    },
    {
      "cell_type": "markdown",
      "metadata": {
        "id": "ledffNYYYTpX"
      },
      "source": [
        "## Table of Contents\n",
        "1. Data preparation\n",
        "2. Feature engineering\n",
        "3. Model\n",
        "4. Results evaluation\n",
        "5. Other things you could try\n",
        "6. Deep Learning\n",
        "7. Word to Vector\n",
        "8. Clustering\n",
        "9. High-dimension Visualization\n",
        "\n"
      ]
    },
    {
      "cell_type": "markdown",
      "metadata": {
        "id": "Hf2n_N1a3b20"
      },
      "source": [
        "### Necessary Library Requirements:\n",
        "\n",
        "\n",
        "- [Jupyter](http://jupyter.org/) (Strongly recommended but not required)\n",
        "    - Install via `pip3 install jupyter` and use `jupyter notebook` in terminal to run\n",
        "- [Scikit Learn](http://scikit-learn.org/stable/index.html)\n",
        "    - Install via `pip3 sklearn` from a terminal\n",
        "- [Pandas](http://pandas.pydata.org/)\n",
        "    - Install via `pip3 install pandas` from a terminal\n",
        "- [Numpy](http://www.numpy.org/)\n",
        "    - Install via `pip3 install numpy` from a terminal\n",
        "- [Matplotlib](https://matplotlib.org/)\n",
        "    - Install via `pip3 maplotlib` from a terminal\n",
        "- [Plotly](https://plot.ly/)\n",
        "    - Install via `pip3 install plotly` from a terminal\n",
        "- [Seaborn](https://seaborn.pydata.org/)\n",
        "    - Install and signup for `seaborn`\n",
        "- [NLTK](http://www.nltk.org/)\n",
        "    - Install via `pip3 install nltk` from a terminal\n",
        "\n",
        "- [Gensim](https://pypi.org/project/gensim/)\n",
        "    - Install via `pip3 install gensim`\n",
        "\n",
        "- [tensorflow](https://www.tensorflow.org/)\n",
        "    - Install via `pip3 install tensorflow`\n",
        "    - Also install `pip3 install tensorflow-hub`\n",
        "\n",
        "- [Keras](https://keras.io/)\n",
        "    - Install via `pip3 install keras`"
      ]
    },
    {
      "cell_type": "markdown",
      "metadata": {
        "id": "NVi6MhPC39g3"
      },
      "source": [
        "## Mount Folder from Google Drive"
      ]
    },
    {
      "cell_type": "code",
      "source": [
        "!nvidia-smi"
      ],
      "metadata": {
        "colab": {
          "base_uri": "https://localhost:8080/"
        },
        "id": "Do3m2mVhaeno",
        "outputId": "843f6659-346f-4829-c871-a750b4122040"
      },
      "execution_count": null,
      "outputs": [
        {
          "output_type": "stream",
          "name": "stdout",
          "text": [
            "Fri Dec 23 00:56:31 2022       \n",
            "+-----------------------------------------------------------------------------+\n",
            "| NVIDIA-SMI 460.32.03    Driver Version: 460.32.03    CUDA Version: 11.2     |\n",
            "|-------------------------------+----------------------+----------------------+\n",
            "| GPU  Name        Persistence-M| Bus-Id        Disp.A | Volatile Uncorr. ECC |\n",
            "| Fan  Temp  Perf  Pwr:Usage/Cap|         Memory-Usage | GPU-Util  Compute M. |\n",
            "|                               |                      |               MIG M. |\n",
            "|===============================+======================+======================|\n",
            "|   0  Tesla T4            Off  | 00000000:00:04.0 Off |                    0 |\n",
            "| N/A   58C    P0    27W /  70W |      0MiB / 15109MiB |      0%      Default |\n",
            "|                               |                      |                  N/A |\n",
            "+-------------------------------+----------------------+----------------------+\n",
            "                                                                               \n",
            "+-----------------------------------------------------------------------------+\n",
            "| Processes:                                                                  |\n",
            "|  GPU   GI   CI        PID   Type   Process name                  GPU Memory |\n",
            "|        ID   ID                                                   Usage      |\n",
            "|=============================================================================|\n",
            "|  No running processes found                                                 |\n",
            "+-----------------------------------------------------------------------------+\n"
          ]
        }
      ]
    },
    {
      "cell_type": "code",
      "source": [
        "!npx degit https://github.com/mequanent/Social-Networks -f"
      ],
      "metadata": {
        "id": "f-wU7cly_D7j",
        "outputId": "098dfb93-117c-4895-9007-53bdd1fd4f38",
        "colab": {
          "base_uri": "https://localhost:8080/"
        }
      },
      "execution_count": 3,
      "outputs": [
        {
          "output_type": "stream",
          "name": "stdout",
          "text": [
            "\u001b[K\u001b[?25hnpx: installed 1 in 2.254s\n",
            "\u001b[36m> destination directory is not empty. Using --force, continuing\u001b[39m\n",
            "\u001b[36m> cloned \u001b[1mmequanent/Social-Networks\u001b[22m#\u001b[1mHEAD\u001b[22m\u001b[39m\n"
          ]
        }
      ]
    },
    {
      "cell_type": "code",
      "source": [
        "#@title Libraries\n",
        "%matplotlib inline\n",
        "import numpy as np\n",
        "import pandas as pd\n",
        "import matplotlib.pyplot as plt\n",
        "import plotly.express as px\n",
        "import seaborn as sns\n",
        "\n",
        "import os \n",
        "import itertools\n",
        "\n",
        "from sklearn.preprocessing import LabelEncoder\n",
        "from sklearn.feature_extraction.text import CountVectorizer, TfidfVectorizer\n",
        "from sklearn.tree import DecisionTreeClassifier\n",
        "from sklearn.naive_bayes import MultinomialNB\n",
        "from sklearn.metrics import accuracy_score, classification_report, confusion_matrix\n",
        "from sklearn.manifold import TSNE\n",
        "from sklearn.cluster import KMeans\n",
        "\n",
        "import gensim\n",
        "from gensim.models import Word2Vec, KeyedVectors\n",
        "import gensim.downloader as api\n",
        "import tensorflow as tf\n",
        "\n",
        "## ignore warnings\n",
        "import warnings\n",
        "warnings.filterwarnings('ignore') \n",
        "\n",
        "import nltk\n",
        "nltk.download('punkt')"
      ],
      "metadata": {
        "id": "mLKxupmY_o08",
        "outputId": "9f6ab7f7-13c2-43f4-ba9b-81bbab14e85d",
        "colab": {
          "base_uri": "https://localhost:8080/"
        }
      },
      "execution_count": 1,
      "outputs": [
        {
          "output_type": "stream",
          "name": "stderr",
          "text": [
            "[nltk_data] Downloading package punkt to /root/nltk_data...\n",
            "[nltk_data]   Unzipping tokenizers/punkt.zip.\n"
          ]
        },
        {
          "output_type": "execute_result",
          "data": {
            "text/plain": [
              "True"
            ]
          },
          "metadata": {},
          "execution_count": 1
        }
      ]
    },
    {
      "cell_type": "code",
      "source": [
        "# show the folder \n",
        "data_folder = \"/content/text_lab\" # this is where you upload your zip file at \n",
        "os.listdir(data_folder) "
      ],
      "metadata": {
        "id": "pCEhZXjY_MA9",
        "outputId": "5f9d92e9-fb70-4384-ed81-b9a77b464c7b",
        "colab": {
          "base_uri": "https://localhost:8080/"
        }
      },
      "execution_count": 4,
      "outputs": [
        {
          "output_type": "execute_result",
          "data": {
            "text/plain": [
              "['data',\n",
              " 'test_df.pkl',\n",
              " 'HW.ipynb',\n",
              " 'Text_Classification_Lab.ipynb',\n",
              " 'train_df.pkl',\n",
              " 'logs',\n",
              " 'pics']"
            ]
          },
          "metadata": {},
          "execution_count": 4
        }
      ]
    },
    {
      "cell_type": "markdown",
      "metadata": {
        "id": "LIpAqCvMYTpX"
      },
      "source": [
        "---\n",
        "## Introduction"
      ]
    },
    {
      "cell_type": "markdown",
      "metadata": {
        "id": "n2paPeNbYTpX"
      },
      "source": [
        "**Dataset:** [SemEval 2017 Task](https://competitions.codalab.org/competitions/16380)\n",
        "\n",
        "**Task:** Classify text data into 4 different emotions using word embedding and other deep information retrieval approaches.\n",
        "\n",
        "![pic0](https://drive.google.com/uc?id=1W8Y2zAO0IUP86GgGASHW96YK74UGOavA)"
      ]
    },
    {
      "cell_type": "markdown",
      "metadata": {
        "id": "op_X7pR-YTpX"
      },
      "source": [
        "---\n",
        "## 1. Data Preparation"
      ]
    },
    {
      "cell_type": "markdown",
      "metadata": {
        "id": "ID-8I1ELYTpX"
      },
      "source": [
        "Before beggining the lab, please make sure to download the [Google News Dataset](https://drive.google.com/file/d/0B7XkCwpI5KDYNlNUTTlSS21pQmM/edit) and place it in a folder named \"GoogleNews\" in the same directory as this file."
      ]
    },
    {
      "cell_type": "markdown",
      "metadata": {
        "id": "pgoEbZzSYTpX"
      },
      "source": [
        "## 1.1 Load data\n",
        "\n",
        "We start by loading the csv files into a single pandas dataframe for training and one for testing."
      ]
    },
    {
      "cell_type": "code",
      "source": [
        "os.path.join(data_folder, \"data/semeval/train/anger-ratings-0to1.train.txt\")"
      ],
      "metadata": {
        "colab": {
          "base_uri": "https://localhost:8080/",
          "height": 36
        },
        "id": "CdGq0F4ldUZH",
        "outputId": "fd85a008-66ed-46f3-c651-92ce6dc9c4e2"
      },
      "execution_count": null,
      "outputs": [
        {
          "output_type": "execute_result",
          "data": {
            "text/plain": [
              "'/content/text_lab/data/semeval/train/anger-ratings-0to1.train.txt'"
            ],
            "application/vnd.google.colaboratory.intrinsic+json": {
              "type": "string"
            }
          },
          "metadata": {},
          "execution_count": 3
        }
      ]
    },
    {
      "cell_type": "code",
      "source": [
        "f\"{data_folder}/data/semeval/train/anger-ratings-0to1.train.txt\""
      ],
      "metadata": {
        "id": "MEGuvP8SmhkC",
        "outputId": "eeae9279-4746-4ba8-ebb7-3bd93ce626b8",
        "colab": {
          "base_uri": "https://localhost:8080/",
          "height": 36
        }
      },
      "execution_count": null,
      "outputs": [
        {
          "output_type": "execute_result",
          "data": {
            "text/plain": [
              "'/content/text_lab/data/semeval/train/anger-ratings-0to1.train.txt'"
            ],
            "application/vnd.google.colaboratory.intrinsic+json": {
              "type": "string"
            }
          },
          "metadata": {},
          "execution_count": 8
        }
      ]
    },
    {
      "cell_type": "code",
      "source": [
        "### training data\n",
        "columns = [\"id\", \"text\", \"emotion\", \"intensity\"]\n",
        "anger_train = pd.read_csv(f\"{data_folder}/data/semeval/train/anger-ratings-0to1.train.txt\", \n",
        "                          sep=\"\\t\", header=None, names=columns)\n",
        "sadness_train = pd.read_csv(f\"{data_folder}/data/semeval/train/sadness-ratings-0to1.train.txt\",\n",
        "                         sep=\"\\t\", header=None, names=columns)\n",
        "fear_train = pd.read_csv(f\"{data_folder}/data/semeval/train/fear-ratings-0to1.train.txt\",\n",
        "                         sep=\"\\t\", header=None, names=columns)\n",
        "joy_train = pd.read_csv(f\"{data_folder}/data/semeval/train/joy-ratings-0to1.train.txt\",\n",
        "                         sep=\"\\t\", header=None, names=columns)"
      ],
      "metadata": {
        "id": "EEj-PA0ijkow"
      },
      "execution_count": null,
      "outputs": []
    },
    {
      "cell_type": "code",
      "execution_count": null,
      "metadata": {
        "id": "yVc2T5MIYTpX",
        "vscode": {
          "languageId": "python"
        }
      },
      "outputs": [],
      "source": [
        "# combine 4 sub-dataset\n",
        "train_df = pd.concat([anger_train, fear_train, joy_train, sadness_train], ignore_index=True)"
      ]
    },
    {
      "cell_type": "code",
      "source": [
        "train_df['intensity'] > 0.5"
      ],
      "metadata": {
        "colab": {
          "base_uri": "https://localhost:8080/"
        },
        "id": "UjCFmcQreYpw",
        "outputId": "2edbcc33-33f3-4a82-84ed-d34a4842d020"
      },
      "execution_count": null,
      "outputs": [
        {
          "output_type": "execute_result",
          "data": {
            "text/plain": [
              "0        True\n",
              "1        True\n",
              "2        True\n",
              "3        True\n",
              "4        True\n",
              "        ...  \n",
              "3608    False\n",
              "3609    False\n",
              "3610    False\n",
              "3611    False\n",
              "3612    False\n",
              "Name: intensity, Length: 3613, dtype: bool"
            ]
          },
          "metadata": {},
          "execution_count": 11
        }
      ]
    },
    {
      "cell_type": "code",
      "source": [
        "train_df[(train_df['emotion']==\"anger\")&(train_df['intensity'] > 0.5)]"
      ],
      "metadata": {
        "colab": {
          "base_uri": "https://localhost:8080/",
          "height": 424
        },
        "id": "iumIrOvqewzr",
        "outputId": "44117215-3bfd-4769-89d5-d34ff77f7daf"
      },
      "execution_count": null,
      "outputs": [
        {
          "output_type": "execute_result",
          "data": {
            "text/plain": [
              "        id                                               text emotion  \\\n",
              "0    10000  How the fu*k! Who the heck! moved my fridge!.....   anger   \n",
              "1    10001  So my Indian Uber driver just called someone t...   anger   \n",
              "2    10002  @DPD_UK I asked for my parcel to be delivered ...   anger   \n",
              "3    10003  so ef whichever butt wipe pulled the fire alar...   anger   \n",
              "4    10004  Don't join @BTCare they put the phone down on ...   anger   \n",
              "..     ...                                                ...     ...   \n",
              "381  10381           don't provoke me after letting me down !   anger   \n",
              "382  10382  could never be a angry drunk lol yall weirdos ...   anger   \n",
              "383  10383  Yet we still have deaths, road rage, &amp; vio...   anger   \n",
              "396  10396  I have a rage rage ep 2 coming out soon I'll k...   anger   \n",
              "505  10505  Egyptian officials expressed frustration and o...   anger   \n",
              "\n",
              "     intensity  \n",
              "0        0.938  \n",
              "1        0.896  \n",
              "2        0.896  \n",
              "3        0.896  \n",
              "4        0.896  \n",
              "..         ...  \n",
              "381      0.521  \n",
              "382      0.521  \n",
              "383      0.521  \n",
              "396      0.520  \n",
              "505      0.579  \n",
              "\n",
              "[374 rows x 4 columns]"
            ],
            "text/html": [
              "\n",
              "  <div id=\"df-ff26f70b-c22c-4b9f-bfd6-a93af609f7d5\">\n",
              "    <div class=\"colab-df-container\">\n",
              "      <div>\n",
              "<style scoped>\n",
              "    .dataframe tbody tr th:only-of-type {\n",
              "        vertical-align: middle;\n",
              "    }\n",
              "\n",
              "    .dataframe tbody tr th {\n",
              "        vertical-align: top;\n",
              "    }\n",
              "\n",
              "    .dataframe thead th {\n",
              "        text-align: right;\n",
              "    }\n",
              "</style>\n",
              "<table border=\"1\" class=\"dataframe\">\n",
              "  <thead>\n",
              "    <tr style=\"text-align: right;\">\n",
              "      <th></th>\n",
              "      <th>id</th>\n",
              "      <th>text</th>\n",
              "      <th>emotion</th>\n",
              "      <th>intensity</th>\n",
              "    </tr>\n",
              "  </thead>\n",
              "  <tbody>\n",
              "    <tr>\n",
              "      <th>0</th>\n",
              "      <td>10000</td>\n",
              "      <td>How the fu*k! Who the heck! moved my fridge!.....</td>\n",
              "      <td>anger</td>\n",
              "      <td>0.938</td>\n",
              "    </tr>\n",
              "    <tr>\n",
              "      <th>1</th>\n",
              "      <td>10001</td>\n",
              "      <td>So my Indian Uber driver just called someone t...</td>\n",
              "      <td>anger</td>\n",
              "      <td>0.896</td>\n",
              "    </tr>\n",
              "    <tr>\n",
              "      <th>2</th>\n",
              "      <td>10002</td>\n",
              "      <td>@DPD_UK I asked for my parcel to be delivered ...</td>\n",
              "      <td>anger</td>\n",
              "      <td>0.896</td>\n",
              "    </tr>\n",
              "    <tr>\n",
              "      <th>3</th>\n",
              "      <td>10003</td>\n",
              "      <td>so ef whichever butt wipe pulled the fire alar...</td>\n",
              "      <td>anger</td>\n",
              "      <td>0.896</td>\n",
              "    </tr>\n",
              "    <tr>\n",
              "      <th>4</th>\n",
              "      <td>10004</td>\n",
              "      <td>Don't join @BTCare they put the phone down on ...</td>\n",
              "      <td>anger</td>\n",
              "      <td>0.896</td>\n",
              "    </tr>\n",
              "    <tr>\n",
              "      <th>...</th>\n",
              "      <td>...</td>\n",
              "      <td>...</td>\n",
              "      <td>...</td>\n",
              "      <td>...</td>\n",
              "    </tr>\n",
              "    <tr>\n",
              "      <th>381</th>\n",
              "      <td>10381</td>\n",
              "      <td>don't provoke me after letting me down !</td>\n",
              "      <td>anger</td>\n",
              "      <td>0.521</td>\n",
              "    </tr>\n",
              "    <tr>\n",
              "      <th>382</th>\n",
              "      <td>10382</td>\n",
              "      <td>could never be a angry drunk lol yall weirdos ...</td>\n",
              "      <td>anger</td>\n",
              "      <td>0.521</td>\n",
              "    </tr>\n",
              "    <tr>\n",
              "      <th>383</th>\n",
              "      <td>10383</td>\n",
              "      <td>Yet we still have deaths, road rage, &amp;amp; vio...</td>\n",
              "      <td>anger</td>\n",
              "      <td>0.521</td>\n",
              "    </tr>\n",
              "    <tr>\n",
              "      <th>396</th>\n",
              "      <td>10396</td>\n",
              "      <td>I have a rage rage ep 2 coming out soon I'll k...</td>\n",
              "      <td>anger</td>\n",
              "      <td>0.520</td>\n",
              "    </tr>\n",
              "    <tr>\n",
              "      <th>505</th>\n",
              "      <td>10505</td>\n",
              "      <td>Egyptian officials expressed frustration and o...</td>\n",
              "      <td>anger</td>\n",
              "      <td>0.579</td>\n",
              "    </tr>\n",
              "  </tbody>\n",
              "</table>\n",
              "<p>374 rows × 4 columns</p>\n",
              "</div>\n",
              "      <button class=\"colab-df-convert\" onclick=\"convertToInteractive('df-ff26f70b-c22c-4b9f-bfd6-a93af609f7d5')\"\n",
              "              title=\"Convert this dataframe to an interactive table.\"\n",
              "              style=\"display:none;\">\n",
              "        \n",
              "  <svg xmlns=\"http://www.w3.org/2000/svg\" height=\"24px\"viewBox=\"0 0 24 24\"\n",
              "       width=\"24px\">\n",
              "    <path d=\"M0 0h24v24H0V0z\" fill=\"none\"/>\n",
              "    <path d=\"M18.56 5.44l.94 2.06.94-2.06 2.06-.94-2.06-.94-.94-2.06-.94 2.06-2.06.94zm-11 1L8.5 8.5l.94-2.06 2.06-.94-2.06-.94L8.5 2.5l-.94 2.06-2.06.94zm10 10l.94 2.06.94-2.06 2.06-.94-2.06-.94-.94-2.06-.94 2.06-2.06.94z\"/><path d=\"M17.41 7.96l-1.37-1.37c-.4-.4-.92-.59-1.43-.59-.52 0-1.04.2-1.43.59L10.3 9.45l-7.72 7.72c-.78.78-.78 2.05 0 2.83L4 21.41c.39.39.9.59 1.41.59.51 0 1.02-.2 1.41-.59l7.78-7.78 2.81-2.81c.8-.78.8-2.07 0-2.86zM5.41 20L4 18.59l7.72-7.72 1.47 1.35L5.41 20z\"/>\n",
              "  </svg>\n",
              "      </button>\n",
              "      \n",
              "  <style>\n",
              "    .colab-df-container {\n",
              "      display:flex;\n",
              "      flex-wrap:wrap;\n",
              "      gap: 12px;\n",
              "    }\n",
              "\n",
              "    .colab-df-convert {\n",
              "      background-color: #E8F0FE;\n",
              "      border: none;\n",
              "      border-radius: 50%;\n",
              "      cursor: pointer;\n",
              "      display: none;\n",
              "      fill: #1967D2;\n",
              "      height: 32px;\n",
              "      padding: 0 0 0 0;\n",
              "      width: 32px;\n",
              "    }\n",
              "\n",
              "    .colab-df-convert:hover {\n",
              "      background-color: #E2EBFA;\n",
              "      box-shadow: 0px 1px 2px rgba(60, 64, 67, 0.3), 0px 1px 3px 1px rgba(60, 64, 67, 0.15);\n",
              "      fill: #174EA6;\n",
              "    }\n",
              "\n",
              "    [theme=dark] .colab-df-convert {\n",
              "      background-color: #3B4455;\n",
              "      fill: #D2E3FC;\n",
              "    }\n",
              "\n",
              "    [theme=dark] .colab-df-convert:hover {\n",
              "      background-color: #434B5C;\n",
              "      box-shadow: 0px 1px 3px 1px rgba(0, 0, 0, 0.15);\n",
              "      filter: drop-shadow(0px 1px 2px rgba(0, 0, 0, 0.3));\n",
              "      fill: #FFFFFF;\n",
              "    }\n",
              "  </style>\n",
              "\n",
              "      <script>\n",
              "        const buttonEl =\n",
              "          document.querySelector('#df-ff26f70b-c22c-4b9f-bfd6-a93af609f7d5 button.colab-df-convert');\n",
              "        buttonEl.style.display =\n",
              "          google.colab.kernel.accessAllowed ? 'block' : 'none';\n",
              "\n",
              "        async function convertToInteractive(key) {\n",
              "          const element = document.querySelector('#df-ff26f70b-c22c-4b9f-bfd6-a93af609f7d5');\n",
              "          const dataTable =\n",
              "            await google.colab.kernel.invokeFunction('convertToInteractive',\n",
              "                                                     [key], {});\n",
              "          if (!dataTable) return;\n",
              "\n",
              "          const docLinkHtml = 'Like what you see? Visit the ' +\n",
              "            '<a target=\"_blank\" href=https://colab.research.google.com/notebooks/data_table.ipynb>data table notebook</a>'\n",
              "            + ' to learn more about interactive tables.';\n",
              "          element.innerHTML = '';\n",
              "          dataTable['output_type'] = 'display_data';\n",
              "          await google.colab.output.renderOutput(dataTable, element);\n",
              "          const docLink = document.createElement('div');\n",
              "          docLink.innerHTML = docLinkHtml;\n",
              "          element.appendChild(docLink);\n",
              "        }\n",
              "      </script>\n",
              "    </div>\n",
              "  </div>\n",
              "  "
            ]
          },
          "metadata": {},
          "execution_count": 19
        }
      ]
    },
    {
      "cell_type": "code",
      "source": [
        "train_df['text'].str.replace(\"How\", \"howw\")"
      ],
      "metadata": {
        "colab": {
          "base_uri": "https://localhost:8080/"
        },
        "id": "7QJJBRbxfUi0",
        "outputId": "d7f6889c-8f10-4b8c-dccb-949d65379eed"
      },
      "execution_count": null,
      "outputs": [
        {
          "output_type": "execute_result",
          "data": {
            "text/plain": [
              "0       howw the fu*k! Who the heck! moved my fridge!....\n",
              "1       So my Indian Uber driver just called someone t...\n",
              "2       @DPD_UK I asked for my parcel to be delivered ...\n",
              "3       so ef whichever butt wipe pulled the fire alar...\n",
              "4       Don't join @BTCare they put the phone down on ...\n",
              "                              ...                        \n",
              "3608    @VivienLloyd Thank you so much! Just home - st...\n",
              "3609                Just put the winter duvet on ☃️❄️🌬☔️ \n",
              "3610    @SilkInSide @TommyJoeRatliff that's so pretty!...\n",
              "3611    @BluesfestByron second artist announcement loo...\n",
              "3612    I can literally eat creamy pesto pasta topped ...\n",
              "Name: text, Length: 3613, dtype: object"
            ]
          },
          "metadata": {},
          "execution_count": 20
        }
      ]
    },
    {
      "cell_type": "code",
      "source": [
        "train_df['text_2'] = train_df['text'].str.replace(\"How\", \"howw\") # assign modified column to original df"
      ],
      "metadata": {
        "id": "fNjWBsEMhHkM"
      },
      "execution_count": null,
      "outputs": []
    },
    {
      "cell_type": "code",
      "source": [
        "train_df"
      ],
      "metadata": {
        "colab": {
          "base_uri": "https://localhost:8080/",
          "height": 424
        },
        "id": "zyirt9bUhTty",
        "outputId": "f2b153c2-78ac-4ca1-8555-0ef027e7a088"
      },
      "execution_count": null,
      "outputs": [
        {
          "output_type": "execute_result",
          "data": {
            "text/plain": [
              "         id                                               text  emotion  \\\n",
              "0     10000  How the fu*k! Who the heck! moved my fridge!.....    anger   \n",
              "1     10001  So my Indian Uber driver just called someone t...    anger   \n",
              "2     10002  @DPD_UK I asked for my parcel to be delivered ...    anger   \n",
              "3     10003  so ef whichever butt wipe pulled the fire alar...    anger   \n",
              "4     10004  Don't join @BTCare they put the phone down on ...    anger   \n",
              "...     ...                                                ...      ...   \n",
              "3608  40781  @VivienLloyd Thank you so much! Just home - st...  sadness   \n",
              "3609  40782              Just put the winter duvet on ☃️❄️🌬☔️   sadness   \n",
              "3610  40783  @SilkInSide @TommyJoeRatliff that's so pretty!...  sadness   \n",
              "3611  40784  @BluesfestByron second artist announcement loo...  sadness   \n",
              "3612  40785  I can literally eat creamy pesto pasta topped ...  sadness   \n",
              "\n",
              "      intensity                                             text_2  \n",
              "0         0.938  howw the fu*k! Who the heck! moved my fridge!....  \n",
              "1         0.896  So my Indian Uber driver just called someone t...  \n",
              "2         0.896  @DPD_UK I asked for my parcel to be delivered ...  \n",
              "3         0.896  so ef whichever butt wipe pulled the fire alar...  \n",
              "4         0.896  Don't join @BTCare they put the phone down on ...  \n",
              "...         ...                                                ...  \n",
              "3608      0.104  @VivienLloyd Thank you so much! Just home - st...  \n",
              "3609      0.104              Just put the winter duvet on ☃️❄️🌬☔️   \n",
              "3610      0.088  @SilkInSide @TommyJoeRatliff that's so pretty!...  \n",
              "3611      0.083  @BluesfestByron second artist announcement loo...  \n",
              "3612      0.083  I can literally eat creamy pesto pasta topped ...  \n",
              "\n",
              "[3613 rows x 5 columns]"
            ],
            "text/html": [
              "\n",
              "  <div id=\"df-90b3b0e0-fb88-4d43-aa3a-cbf3c63942fc\">\n",
              "    <div class=\"colab-df-container\">\n",
              "      <div>\n",
              "<style scoped>\n",
              "    .dataframe tbody tr th:only-of-type {\n",
              "        vertical-align: middle;\n",
              "    }\n",
              "\n",
              "    .dataframe tbody tr th {\n",
              "        vertical-align: top;\n",
              "    }\n",
              "\n",
              "    .dataframe thead th {\n",
              "        text-align: right;\n",
              "    }\n",
              "</style>\n",
              "<table border=\"1\" class=\"dataframe\">\n",
              "  <thead>\n",
              "    <tr style=\"text-align: right;\">\n",
              "      <th></th>\n",
              "      <th>id</th>\n",
              "      <th>text</th>\n",
              "      <th>emotion</th>\n",
              "      <th>intensity</th>\n",
              "      <th>text_2</th>\n",
              "    </tr>\n",
              "  </thead>\n",
              "  <tbody>\n",
              "    <tr>\n",
              "      <th>0</th>\n",
              "      <td>10000</td>\n",
              "      <td>How the fu*k! Who the heck! moved my fridge!.....</td>\n",
              "      <td>anger</td>\n",
              "      <td>0.938</td>\n",
              "      <td>howw the fu*k! Who the heck! moved my fridge!....</td>\n",
              "    </tr>\n",
              "    <tr>\n",
              "      <th>1</th>\n",
              "      <td>10001</td>\n",
              "      <td>So my Indian Uber driver just called someone t...</td>\n",
              "      <td>anger</td>\n",
              "      <td>0.896</td>\n",
              "      <td>So my Indian Uber driver just called someone t...</td>\n",
              "    </tr>\n",
              "    <tr>\n",
              "      <th>2</th>\n",
              "      <td>10002</td>\n",
              "      <td>@DPD_UK I asked for my parcel to be delivered ...</td>\n",
              "      <td>anger</td>\n",
              "      <td>0.896</td>\n",
              "      <td>@DPD_UK I asked for my parcel to be delivered ...</td>\n",
              "    </tr>\n",
              "    <tr>\n",
              "      <th>3</th>\n",
              "      <td>10003</td>\n",
              "      <td>so ef whichever butt wipe pulled the fire alar...</td>\n",
              "      <td>anger</td>\n",
              "      <td>0.896</td>\n",
              "      <td>so ef whichever butt wipe pulled the fire alar...</td>\n",
              "    </tr>\n",
              "    <tr>\n",
              "      <th>4</th>\n",
              "      <td>10004</td>\n",
              "      <td>Don't join @BTCare they put the phone down on ...</td>\n",
              "      <td>anger</td>\n",
              "      <td>0.896</td>\n",
              "      <td>Don't join @BTCare they put the phone down on ...</td>\n",
              "    </tr>\n",
              "    <tr>\n",
              "      <th>...</th>\n",
              "      <td>...</td>\n",
              "      <td>...</td>\n",
              "      <td>...</td>\n",
              "      <td>...</td>\n",
              "      <td>...</td>\n",
              "    </tr>\n",
              "    <tr>\n",
              "      <th>3608</th>\n",
              "      <td>40781</td>\n",
              "      <td>@VivienLloyd Thank you so much! Just home - st...</td>\n",
              "      <td>sadness</td>\n",
              "      <td>0.104</td>\n",
              "      <td>@VivienLloyd Thank you so much! Just home - st...</td>\n",
              "    </tr>\n",
              "    <tr>\n",
              "      <th>3609</th>\n",
              "      <td>40782</td>\n",
              "      <td>Just put the winter duvet on ☃️❄️🌬☔️</td>\n",
              "      <td>sadness</td>\n",
              "      <td>0.104</td>\n",
              "      <td>Just put the winter duvet on ☃️❄️🌬☔️</td>\n",
              "    </tr>\n",
              "    <tr>\n",
              "      <th>3610</th>\n",
              "      <td>40783</td>\n",
              "      <td>@SilkInSide @TommyJoeRatliff that's so pretty!...</td>\n",
              "      <td>sadness</td>\n",
              "      <td>0.088</td>\n",
              "      <td>@SilkInSide @TommyJoeRatliff that's so pretty!...</td>\n",
              "    </tr>\n",
              "    <tr>\n",
              "      <th>3611</th>\n",
              "      <td>40784</td>\n",
              "      <td>@BluesfestByron second artist announcement loo...</td>\n",
              "      <td>sadness</td>\n",
              "      <td>0.083</td>\n",
              "      <td>@BluesfestByron second artist announcement loo...</td>\n",
              "    </tr>\n",
              "    <tr>\n",
              "      <th>3612</th>\n",
              "      <td>40785</td>\n",
              "      <td>I can literally eat creamy pesto pasta topped ...</td>\n",
              "      <td>sadness</td>\n",
              "      <td>0.083</td>\n",
              "      <td>I can literally eat creamy pesto pasta topped ...</td>\n",
              "    </tr>\n",
              "  </tbody>\n",
              "</table>\n",
              "<p>3613 rows × 5 columns</p>\n",
              "</div>\n",
              "      <button class=\"colab-df-convert\" onclick=\"convertToInteractive('df-90b3b0e0-fb88-4d43-aa3a-cbf3c63942fc')\"\n",
              "              title=\"Convert this dataframe to an interactive table.\"\n",
              "              style=\"display:none;\">\n",
              "        \n",
              "  <svg xmlns=\"http://www.w3.org/2000/svg\" height=\"24px\"viewBox=\"0 0 24 24\"\n",
              "       width=\"24px\">\n",
              "    <path d=\"M0 0h24v24H0V0z\" fill=\"none\"/>\n",
              "    <path d=\"M18.56 5.44l.94 2.06.94-2.06 2.06-.94-2.06-.94-.94-2.06-.94 2.06-2.06.94zm-11 1L8.5 8.5l.94-2.06 2.06-.94-2.06-.94L8.5 2.5l-.94 2.06-2.06.94zm10 10l.94 2.06.94-2.06 2.06-.94-2.06-.94-.94-2.06-.94 2.06-2.06.94z\"/><path d=\"M17.41 7.96l-1.37-1.37c-.4-.4-.92-.59-1.43-.59-.52 0-1.04.2-1.43.59L10.3 9.45l-7.72 7.72c-.78.78-.78 2.05 0 2.83L4 21.41c.39.39.9.59 1.41.59.51 0 1.02-.2 1.41-.59l7.78-7.78 2.81-2.81c.8-.78.8-2.07 0-2.86zM5.41 20L4 18.59l7.72-7.72 1.47 1.35L5.41 20z\"/>\n",
              "  </svg>\n",
              "      </button>\n",
              "      \n",
              "  <style>\n",
              "    .colab-df-container {\n",
              "      display:flex;\n",
              "      flex-wrap:wrap;\n",
              "      gap: 12px;\n",
              "    }\n",
              "\n",
              "    .colab-df-convert {\n",
              "      background-color: #E8F0FE;\n",
              "      border: none;\n",
              "      border-radius: 50%;\n",
              "      cursor: pointer;\n",
              "      display: none;\n",
              "      fill: #1967D2;\n",
              "      height: 32px;\n",
              "      padding: 0 0 0 0;\n",
              "      width: 32px;\n",
              "    }\n",
              "\n",
              "    .colab-df-convert:hover {\n",
              "      background-color: #E2EBFA;\n",
              "      box-shadow: 0px 1px 2px rgba(60, 64, 67, 0.3), 0px 1px 3px 1px rgba(60, 64, 67, 0.15);\n",
              "      fill: #174EA6;\n",
              "    }\n",
              "\n",
              "    [theme=dark] .colab-df-convert {\n",
              "      background-color: #3B4455;\n",
              "      fill: #D2E3FC;\n",
              "    }\n",
              "\n",
              "    [theme=dark] .colab-df-convert:hover {\n",
              "      background-color: #434B5C;\n",
              "      box-shadow: 0px 1px 3px 1px rgba(0, 0, 0, 0.15);\n",
              "      filter: drop-shadow(0px 1px 2px rgba(0, 0, 0, 0.3));\n",
              "      fill: #FFFFFF;\n",
              "    }\n",
              "  </style>\n",
              "\n",
              "      <script>\n",
              "        const buttonEl =\n",
              "          document.querySelector('#df-90b3b0e0-fb88-4d43-aa3a-cbf3c63942fc button.colab-df-convert');\n",
              "        buttonEl.style.display =\n",
              "          google.colab.kernel.accessAllowed ? 'block' : 'none';\n",
              "\n",
              "        async function convertToInteractive(key) {\n",
              "          const element = document.querySelector('#df-90b3b0e0-fb88-4d43-aa3a-cbf3c63942fc');\n",
              "          const dataTable =\n",
              "            await google.colab.kernel.invokeFunction('convertToInteractive',\n",
              "                                                     [key], {});\n",
              "          if (!dataTable) return;\n",
              "\n",
              "          const docLinkHtml = 'Like what you see? Visit the ' +\n",
              "            '<a target=\"_blank\" href=https://colab.research.google.com/notebooks/data_table.ipynb>data table notebook</a>'\n",
              "            + ' to learn more about interactive tables.';\n",
              "          element.innerHTML = '';\n",
              "          dataTable['output_type'] = 'display_data';\n",
              "          await google.colab.output.renderOutput(dataTable, element);\n",
              "          const docLink = document.createElement('div');\n",
              "          docLink.innerHTML = docLinkHtml;\n",
              "          element.appendChild(docLink);\n",
              "        }\n",
              "      </script>\n",
              "    </div>\n",
              "  </div>\n",
              "  "
            ]
          },
          "metadata": {},
          "execution_count": 22
        }
      ]
    },
    {
      "cell_type": "code",
      "execution_count": null,
      "metadata": {
        "colab": {
          "base_uri": "https://localhost:8080/",
          "height": 206
        },
        "id": "Kw8bGMv7YTpX",
        "outputId": "556c758d-2b69-41f1-d360-9b061121f97c",
        "vscode": {
          "languageId": "python"
        }
      },
      "outputs": [
        {
          "output_type": "execute_result",
          "data": {
            "text/plain": [
              "      id                                               text emotion  intensity\n",
              "0  10000  How the fu*k! Who the heck! moved my fridge!.....   anger      0.938\n",
              "1  10001  So my Indian Uber driver just called someone t...   anger      0.896\n",
              "2  10002  @DPD_UK I asked for my parcel to be delivered ...   anger      0.896\n",
              "3  10003  so ef whichever butt wipe pulled the fire alar...   anger      0.896\n",
              "4  10004  Don't join @BTCare they put the phone down on ...   anger      0.896"
            ],
            "text/html": [
              "\n",
              "  <div id=\"df-135c4207-374b-4c4d-afa7-a1126ccda8c6\">\n",
              "    <div class=\"colab-df-container\">\n",
              "      <div>\n",
              "<style scoped>\n",
              "    .dataframe tbody tr th:only-of-type {\n",
              "        vertical-align: middle;\n",
              "    }\n",
              "\n",
              "    .dataframe tbody tr th {\n",
              "        vertical-align: top;\n",
              "    }\n",
              "\n",
              "    .dataframe thead th {\n",
              "        text-align: right;\n",
              "    }\n",
              "</style>\n",
              "<table border=\"1\" class=\"dataframe\">\n",
              "  <thead>\n",
              "    <tr style=\"text-align: right;\">\n",
              "      <th></th>\n",
              "      <th>id</th>\n",
              "      <th>text</th>\n",
              "      <th>emotion</th>\n",
              "      <th>intensity</th>\n",
              "    </tr>\n",
              "  </thead>\n",
              "  <tbody>\n",
              "    <tr>\n",
              "      <th>0</th>\n",
              "      <td>10000</td>\n",
              "      <td>How the fu*k! Who the heck! moved my fridge!.....</td>\n",
              "      <td>anger</td>\n",
              "      <td>0.938</td>\n",
              "    </tr>\n",
              "    <tr>\n",
              "      <th>1</th>\n",
              "      <td>10001</td>\n",
              "      <td>So my Indian Uber driver just called someone t...</td>\n",
              "      <td>anger</td>\n",
              "      <td>0.896</td>\n",
              "    </tr>\n",
              "    <tr>\n",
              "      <th>2</th>\n",
              "      <td>10002</td>\n",
              "      <td>@DPD_UK I asked for my parcel to be delivered ...</td>\n",
              "      <td>anger</td>\n",
              "      <td>0.896</td>\n",
              "    </tr>\n",
              "    <tr>\n",
              "      <th>3</th>\n",
              "      <td>10003</td>\n",
              "      <td>so ef whichever butt wipe pulled the fire alar...</td>\n",
              "      <td>anger</td>\n",
              "      <td>0.896</td>\n",
              "    </tr>\n",
              "    <tr>\n",
              "      <th>4</th>\n",
              "      <td>10004</td>\n",
              "      <td>Don't join @BTCare they put the phone down on ...</td>\n",
              "      <td>anger</td>\n",
              "      <td>0.896</td>\n",
              "    </tr>\n",
              "  </tbody>\n",
              "</table>\n",
              "</div>\n",
              "      <button class=\"colab-df-convert\" onclick=\"convertToInteractive('df-135c4207-374b-4c4d-afa7-a1126ccda8c6')\"\n",
              "              title=\"Convert this dataframe to an interactive table.\"\n",
              "              style=\"display:none;\">\n",
              "        \n",
              "  <svg xmlns=\"http://www.w3.org/2000/svg\" height=\"24px\"viewBox=\"0 0 24 24\"\n",
              "       width=\"24px\">\n",
              "    <path d=\"M0 0h24v24H0V0z\" fill=\"none\"/>\n",
              "    <path d=\"M18.56 5.44l.94 2.06.94-2.06 2.06-.94-2.06-.94-.94-2.06-.94 2.06-2.06.94zm-11 1L8.5 8.5l.94-2.06 2.06-.94-2.06-.94L8.5 2.5l-.94 2.06-2.06.94zm10 10l.94 2.06.94-2.06 2.06-.94-2.06-.94-.94-2.06-.94 2.06-2.06.94z\"/><path d=\"M17.41 7.96l-1.37-1.37c-.4-.4-.92-.59-1.43-.59-.52 0-1.04.2-1.43.59L10.3 9.45l-7.72 7.72c-.78.78-.78 2.05 0 2.83L4 21.41c.39.39.9.59 1.41.59.51 0 1.02-.2 1.41-.59l7.78-7.78 2.81-2.81c.8-.78.8-2.07 0-2.86zM5.41 20L4 18.59l7.72-7.72 1.47 1.35L5.41 20z\"/>\n",
              "  </svg>\n",
              "      </button>\n",
              "      \n",
              "  <style>\n",
              "    .colab-df-container {\n",
              "      display:flex;\n",
              "      flex-wrap:wrap;\n",
              "      gap: 12px;\n",
              "    }\n",
              "\n",
              "    .colab-df-convert {\n",
              "      background-color: #E8F0FE;\n",
              "      border: none;\n",
              "      border-radius: 50%;\n",
              "      cursor: pointer;\n",
              "      display: none;\n",
              "      fill: #1967D2;\n",
              "      height: 32px;\n",
              "      padding: 0 0 0 0;\n",
              "      width: 32px;\n",
              "    }\n",
              "\n",
              "    .colab-df-convert:hover {\n",
              "      background-color: #E2EBFA;\n",
              "      box-shadow: 0px 1px 2px rgba(60, 64, 67, 0.3), 0px 1px 3px 1px rgba(60, 64, 67, 0.15);\n",
              "      fill: #174EA6;\n",
              "    }\n",
              "\n",
              "    [theme=dark] .colab-df-convert {\n",
              "      background-color: #3B4455;\n",
              "      fill: #D2E3FC;\n",
              "    }\n",
              "\n",
              "    [theme=dark] .colab-df-convert:hover {\n",
              "      background-color: #434B5C;\n",
              "      box-shadow: 0px 1px 3px 1px rgba(0, 0, 0, 0.15);\n",
              "      filter: drop-shadow(0px 1px 2px rgba(0, 0, 0, 0.3));\n",
              "      fill: #FFFFFF;\n",
              "    }\n",
              "  </style>\n",
              "\n",
              "      <script>\n",
              "        const buttonEl =\n",
              "          document.querySelector('#df-135c4207-374b-4c4d-afa7-a1126ccda8c6 button.colab-df-convert');\n",
              "        buttonEl.style.display =\n",
              "          google.colab.kernel.accessAllowed ? 'block' : 'none';\n",
              "\n",
              "        async function convertToInteractive(key) {\n",
              "          const element = document.querySelector('#df-135c4207-374b-4c4d-afa7-a1126ccda8c6');\n",
              "          const dataTable =\n",
              "            await google.colab.kernel.invokeFunction('convertToInteractive',\n",
              "                                                     [key], {});\n",
              "          if (!dataTable) return;\n",
              "\n",
              "          const docLinkHtml = 'Like what you see? Visit the ' +\n",
              "            '<a target=\"_blank\" href=https://colab.research.google.com/notebooks/data_table.ipynb>data table notebook</a>'\n",
              "            + ' to learn more about interactive tables.';\n",
              "          element.innerHTML = '';\n",
              "          dataTable['output_type'] = 'display_data';\n",
              "          await google.colab.output.renderOutput(dataTable, element);\n",
              "          const docLink = document.createElement('div');\n",
              "          docLink.innerHTML = docLinkHtml;\n",
              "          element.appendChild(docLink);\n",
              "        }\n",
              "      </script>\n",
              "    </div>\n",
              "  </div>\n",
              "  "
            ]
          },
          "metadata": {},
          "execution_count": 5
        }
      ],
      "source": [
        "### testing data\n",
        "anger_test = pd.read_csv(f\"{data_folder}/data/semeval/dev/anger-ratings-0to1.dev.gold.txt\",\n",
        "                         sep=\"\\t\", header=None, names=columns)\n",
        "sadness_test = pd.read_csv(f\"{data_folder}/data/semeval/dev/sadness-ratings-0to1.dev.gold.txt\",\n",
        "                         sep=\"\\t\", header=None, names=columns)\n",
        "fear_test = pd.read_csv(f\"{data_folder}/data/semeval/dev/fear-ratings-0to1.dev.gold.txt\",\n",
        "                         sep=\"\\t\", header=None, names=columns)\n",
        "joy_test = pd.read_csv(f\"{data_folder}/data/semeval/dev/joy-ratings-0to1.dev.gold.txt\",\n",
        "                         sep=\"\\t\", header=None, names=columns)\n",
        "\n",
        "# combine 4 sub-dataset\n",
        "test_df = pd.concat([anger_test, fear_test, joy_test, sadness_test], ignore_index=True)\n",
        "test_df.head()"
      ]
    },
    {
      "cell_type": "code",
      "source": [
        "train_df.tail(2)"
      ],
      "metadata": {
        "colab": {
          "base_uri": "https://localhost:8080/",
          "height": 112
        },
        "id": "GGQxBFQWhumk",
        "outputId": "525faf74-f095-4c60-d811-72bf57043a97"
      },
      "execution_count": null,
      "outputs": [
        {
          "output_type": "execute_result",
          "data": {
            "text/plain": [
              "         id                                               text  emotion  \\\n",
              "3611  40784  @BluesfestByron second artist announcement loo...  sadness   \n",
              "3612  40785  I can literally eat creamy pesto pasta topped ...  sadness   \n",
              "\n",
              "      intensity                                             text_2  \n",
              "3611      0.083  @BluesfestByron second artist announcement loo...  \n",
              "3612      0.083  I can literally eat creamy pesto pasta topped ...  "
            ],
            "text/html": [
              "\n",
              "  <div id=\"df-a1fa2a1b-3d89-4e26-b8a4-4e5aa7c43b2a\">\n",
              "    <div class=\"colab-df-container\">\n",
              "      <div>\n",
              "<style scoped>\n",
              "    .dataframe tbody tr th:only-of-type {\n",
              "        vertical-align: middle;\n",
              "    }\n",
              "\n",
              "    .dataframe tbody tr th {\n",
              "        vertical-align: top;\n",
              "    }\n",
              "\n",
              "    .dataframe thead th {\n",
              "        text-align: right;\n",
              "    }\n",
              "</style>\n",
              "<table border=\"1\" class=\"dataframe\">\n",
              "  <thead>\n",
              "    <tr style=\"text-align: right;\">\n",
              "      <th></th>\n",
              "      <th>id</th>\n",
              "      <th>text</th>\n",
              "      <th>emotion</th>\n",
              "      <th>intensity</th>\n",
              "      <th>text_2</th>\n",
              "    </tr>\n",
              "  </thead>\n",
              "  <tbody>\n",
              "    <tr>\n",
              "      <th>3611</th>\n",
              "      <td>40784</td>\n",
              "      <td>@BluesfestByron second artist announcement loo...</td>\n",
              "      <td>sadness</td>\n",
              "      <td>0.083</td>\n",
              "      <td>@BluesfestByron second artist announcement loo...</td>\n",
              "    </tr>\n",
              "    <tr>\n",
              "      <th>3612</th>\n",
              "      <td>40785</td>\n",
              "      <td>I can literally eat creamy pesto pasta topped ...</td>\n",
              "      <td>sadness</td>\n",
              "      <td>0.083</td>\n",
              "      <td>I can literally eat creamy pesto pasta topped ...</td>\n",
              "    </tr>\n",
              "  </tbody>\n",
              "</table>\n",
              "</div>\n",
              "      <button class=\"colab-df-convert\" onclick=\"convertToInteractive('df-a1fa2a1b-3d89-4e26-b8a4-4e5aa7c43b2a')\"\n",
              "              title=\"Convert this dataframe to an interactive table.\"\n",
              "              style=\"display:none;\">\n",
              "        \n",
              "  <svg xmlns=\"http://www.w3.org/2000/svg\" height=\"24px\"viewBox=\"0 0 24 24\"\n",
              "       width=\"24px\">\n",
              "    <path d=\"M0 0h24v24H0V0z\" fill=\"none\"/>\n",
              "    <path d=\"M18.56 5.44l.94 2.06.94-2.06 2.06-.94-2.06-.94-.94-2.06-.94 2.06-2.06.94zm-11 1L8.5 8.5l.94-2.06 2.06-.94-2.06-.94L8.5 2.5l-.94 2.06-2.06.94zm10 10l.94 2.06.94-2.06 2.06-.94-2.06-.94-.94-2.06-.94 2.06-2.06.94z\"/><path d=\"M17.41 7.96l-1.37-1.37c-.4-.4-.92-.59-1.43-.59-.52 0-1.04.2-1.43.59L10.3 9.45l-7.72 7.72c-.78.78-.78 2.05 0 2.83L4 21.41c.39.39.9.59 1.41.59.51 0 1.02-.2 1.41-.59l7.78-7.78 2.81-2.81c.8-.78.8-2.07 0-2.86zM5.41 20L4 18.59l7.72-7.72 1.47 1.35L5.41 20z\"/>\n",
              "  </svg>\n",
              "      </button>\n",
              "      \n",
              "  <style>\n",
              "    .colab-df-container {\n",
              "      display:flex;\n",
              "      flex-wrap:wrap;\n",
              "      gap: 12px;\n",
              "    }\n",
              "\n",
              "    .colab-df-convert {\n",
              "      background-color: #E8F0FE;\n",
              "      border: none;\n",
              "      border-radius: 50%;\n",
              "      cursor: pointer;\n",
              "      display: none;\n",
              "      fill: #1967D2;\n",
              "      height: 32px;\n",
              "      padding: 0 0 0 0;\n",
              "      width: 32px;\n",
              "    }\n",
              "\n",
              "    .colab-df-convert:hover {\n",
              "      background-color: #E2EBFA;\n",
              "      box-shadow: 0px 1px 2px rgba(60, 64, 67, 0.3), 0px 1px 3px 1px rgba(60, 64, 67, 0.15);\n",
              "      fill: #174EA6;\n",
              "    }\n",
              "\n",
              "    [theme=dark] .colab-df-convert {\n",
              "      background-color: #3B4455;\n",
              "      fill: #D2E3FC;\n",
              "    }\n",
              "\n",
              "    [theme=dark] .colab-df-convert:hover {\n",
              "      background-color: #434B5C;\n",
              "      box-shadow: 0px 1px 3px 1px rgba(0, 0, 0, 0.15);\n",
              "      filter: drop-shadow(0px 1px 2px rgba(0, 0, 0, 0.3));\n",
              "      fill: #FFFFFF;\n",
              "    }\n",
              "  </style>\n",
              "\n",
              "      <script>\n",
              "        const buttonEl =\n",
              "          document.querySelector('#df-a1fa2a1b-3d89-4e26-b8a4-4e5aa7c43b2a button.colab-df-convert');\n",
              "        buttonEl.style.display =\n",
              "          google.colab.kernel.accessAllowed ? 'block' : 'none';\n",
              "\n",
              "        async function convertToInteractive(key) {\n",
              "          const element = document.querySelector('#df-a1fa2a1b-3d89-4e26-b8a4-4e5aa7c43b2a');\n",
              "          const dataTable =\n",
              "            await google.colab.kernel.invokeFunction('convertToInteractive',\n",
              "                                                     [key], {});\n",
              "          if (!dataTable) return;\n",
              "\n",
              "          const docLinkHtml = 'Like what you see? Visit the ' +\n",
              "            '<a target=\"_blank\" href=https://colab.research.google.com/notebooks/data_table.ipynb>data table notebook</a>'\n",
              "            + ' to learn more about interactive tables.';\n",
              "          element.innerHTML = '';\n",
              "          dataTable['output_type'] = 'display_data';\n",
              "          await google.colab.output.renderOutput(dataTable, element);\n",
              "          const docLink = document.createElement('div');\n",
              "          docLink.innerHTML = docLinkHtml;\n",
              "          element.appendChild(docLink);\n",
              "        }\n",
              "      </script>\n",
              "    </div>\n",
              "  </div>\n",
              "  "
            ]
          },
          "metadata": {},
          "execution_count": 24
        }
      ]
    },
    {
      "cell_type": "code",
      "execution_count": null,
      "metadata": {
        "id": "HBHwcL8sYTpX",
        "vscode": {
          "languageId": "python"
        }
      },
      "outputs": [],
      "source": [
        "# shuffle dataset\n",
        "train_df = train_df.sample(frac=1)\n",
        "test_df = test_df.sample(frac=1)"
      ]
    },
    {
      "cell_type": "code",
      "execution_count": null,
      "metadata": {
        "colab": {
          "base_uri": "https://localhost:8080/"
        },
        "id": "9w_cDUwCYTpX",
        "outputId": "dfeace2e-2e6a-450d-9f09-8b38190d2b99",
        "scrolled": true,
        "vscode": {
          "languageId": "python"
        }
      },
      "outputs": [
        {
          "output_type": "stream",
          "name": "stdout",
          "text": [
            "Shape of Training df:  (3613, 5)\n",
            "Shape of Testing df:  (347, 4)\n"
          ]
        }
      ],
      "source": [
        "print(\"Shape of Training df: \", train_df.shape)\n",
        "print(\"Shape of Testing df: \", test_df.shape) "
      ]
    },
    {
      "cell_type": "code",
      "source": [
        "train_df.tail(2)"
      ],
      "metadata": {
        "colab": {
          "base_uri": "https://localhost:8080/",
          "height": 112
        },
        "id": "AHsXKIr7iHqZ",
        "outputId": "b5f4c5af-d768-4780-d235-74e86b0a9949"
      },
      "execution_count": null,
      "outputs": [
        {
          "output_type": "execute_result",
          "data": {
            "text/plain": [
              "        id                                               text emotion  \\\n",
              "120  10120  @FoxNews @SheriffClarke @FoxNewsInsider This m...   anger   \n",
              "428  10428  @voguemagazine, did you not learn from @FreePe...   anger   \n",
              "\n",
              "     intensity                                             text_2  \n",
              "120      0.688  @FoxNews @SheriffClarke @FoxNewsInsider This m...  \n",
              "428      0.479  @voguemagazine, did you not learn from @FreePe...  "
            ],
            "text/html": [
              "\n",
              "  <div id=\"df-42ed1efb-8adc-496b-b49e-65ff01ec2634\">\n",
              "    <div class=\"colab-df-container\">\n",
              "      <div>\n",
              "<style scoped>\n",
              "    .dataframe tbody tr th:only-of-type {\n",
              "        vertical-align: middle;\n",
              "    }\n",
              "\n",
              "    .dataframe tbody tr th {\n",
              "        vertical-align: top;\n",
              "    }\n",
              "\n",
              "    .dataframe thead th {\n",
              "        text-align: right;\n",
              "    }\n",
              "</style>\n",
              "<table border=\"1\" class=\"dataframe\">\n",
              "  <thead>\n",
              "    <tr style=\"text-align: right;\">\n",
              "      <th></th>\n",
              "      <th>id</th>\n",
              "      <th>text</th>\n",
              "      <th>emotion</th>\n",
              "      <th>intensity</th>\n",
              "      <th>text_2</th>\n",
              "    </tr>\n",
              "  </thead>\n",
              "  <tbody>\n",
              "    <tr>\n",
              "      <th>120</th>\n",
              "      <td>10120</td>\n",
              "      <td>@FoxNews @SheriffClarke @FoxNewsInsider This m...</td>\n",
              "      <td>anger</td>\n",
              "      <td>0.688</td>\n",
              "      <td>@FoxNews @SheriffClarke @FoxNewsInsider This m...</td>\n",
              "    </tr>\n",
              "    <tr>\n",
              "      <th>428</th>\n",
              "      <td>10428</td>\n",
              "      <td>@voguemagazine, did you not learn from @FreePe...</td>\n",
              "      <td>anger</td>\n",
              "      <td>0.479</td>\n",
              "      <td>@voguemagazine, did you not learn from @FreePe...</td>\n",
              "    </tr>\n",
              "  </tbody>\n",
              "</table>\n",
              "</div>\n",
              "      <button class=\"colab-df-convert\" onclick=\"convertToInteractive('df-42ed1efb-8adc-496b-b49e-65ff01ec2634')\"\n",
              "              title=\"Convert this dataframe to an interactive table.\"\n",
              "              style=\"display:none;\">\n",
              "        \n",
              "  <svg xmlns=\"http://www.w3.org/2000/svg\" height=\"24px\"viewBox=\"0 0 24 24\"\n",
              "       width=\"24px\">\n",
              "    <path d=\"M0 0h24v24H0V0z\" fill=\"none\"/>\n",
              "    <path d=\"M18.56 5.44l.94 2.06.94-2.06 2.06-.94-2.06-.94-.94-2.06-.94 2.06-2.06.94zm-11 1L8.5 8.5l.94-2.06 2.06-.94-2.06-.94L8.5 2.5l-.94 2.06-2.06.94zm10 10l.94 2.06.94-2.06 2.06-.94-2.06-.94-.94-2.06-.94 2.06-2.06.94z\"/><path d=\"M17.41 7.96l-1.37-1.37c-.4-.4-.92-.59-1.43-.59-.52 0-1.04.2-1.43.59L10.3 9.45l-7.72 7.72c-.78.78-.78 2.05 0 2.83L4 21.41c.39.39.9.59 1.41.59.51 0 1.02-.2 1.41-.59l7.78-7.78 2.81-2.81c.8-.78.8-2.07 0-2.86zM5.41 20L4 18.59l7.72-7.72 1.47 1.35L5.41 20z\"/>\n",
              "  </svg>\n",
              "      </button>\n",
              "      \n",
              "  <style>\n",
              "    .colab-df-container {\n",
              "      display:flex;\n",
              "      flex-wrap:wrap;\n",
              "      gap: 12px;\n",
              "    }\n",
              "\n",
              "    .colab-df-convert {\n",
              "      background-color: #E8F0FE;\n",
              "      border: none;\n",
              "      border-radius: 50%;\n",
              "      cursor: pointer;\n",
              "      display: none;\n",
              "      fill: #1967D2;\n",
              "      height: 32px;\n",
              "      padding: 0 0 0 0;\n",
              "      width: 32px;\n",
              "    }\n",
              "\n",
              "    .colab-df-convert:hover {\n",
              "      background-color: #E2EBFA;\n",
              "      box-shadow: 0px 1px 2px rgba(60, 64, 67, 0.3), 0px 1px 3px 1px rgba(60, 64, 67, 0.15);\n",
              "      fill: #174EA6;\n",
              "    }\n",
              "\n",
              "    [theme=dark] .colab-df-convert {\n",
              "      background-color: #3B4455;\n",
              "      fill: #D2E3FC;\n",
              "    }\n",
              "\n",
              "    [theme=dark] .colab-df-convert:hover {\n",
              "      background-color: #434B5C;\n",
              "      box-shadow: 0px 1px 3px 1px rgba(0, 0, 0, 0.15);\n",
              "      filter: drop-shadow(0px 1px 2px rgba(0, 0, 0, 0.3));\n",
              "      fill: #FFFFFF;\n",
              "    }\n",
              "  </style>\n",
              "\n",
              "      <script>\n",
              "        const buttonEl =\n",
              "          document.querySelector('#df-42ed1efb-8adc-496b-b49e-65ff01ec2634 button.colab-df-convert');\n",
              "        buttonEl.style.display =\n",
              "          google.colab.kernel.accessAllowed ? 'block' : 'none';\n",
              "\n",
              "        async function convertToInteractive(key) {\n",
              "          const element = document.querySelector('#df-42ed1efb-8adc-496b-b49e-65ff01ec2634');\n",
              "          const dataTable =\n",
              "            await google.colab.kernel.invokeFunction('convertToInteractive',\n",
              "                                                     [key], {});\n",
              "          if (!dataTable) return;\n",
              "\n",
              "          const docLinkHtml = 'Like what you see? Visit the ' +\n",
              "            '<a target=\"_blank\" href=https://colab.research.google.com/notebooks/data_table.ipynb>data table notebook</a>'\n",
              "            + ' to learn more about interactive tables.';\n",
              "          element.innerHTML = '';\n",
              "          dataTable['output_type'] = 'display_data';\n",
              "          await google.colab.output.renderOutput(dataTable, element);\n",
              "          const docLink = document.createElement('div');\n",
              "          docLink.innerHTML = docLinkHtml;\n",
              "          element.appendChild(docLink);\n",
              "        }\n",
              "      </script>\n",
              "    </div>\n",
              "  </div>\n",
              "  "
            ]
          },
          "metadata": {},
          "execution_count": 27
        }
      ]
    },
    {
      "cell_type": "markdown",
      "metadata": {
        "id": "escCgU1zYTpX"
      },
      "source": [
        "---\n",
        "### ** >>> Exercise 1 (Take home): **  \n",
        "Plot word frequency for Top 30 words in both train and test dataset. \n",
        "(Try to implement this by yourself!)"
      ]
    },
    {
      "cell_type": "code",
      "source": [
        "train_df['text'].values[0].split(' ')"
      ],
      "metadata": {
        "colab": {
          "base_uri": "https://localhost:8080/"
        },
        "id": "JKJquTCQiTam",
        "outputId": "bae18ec6-1092-4a3e-d825-591b3ce32649"
      },
      "execution_count": null,
      "outputs": [
        {
          "output_type": "execute_result",
          "data": {
            "text/plain": [
              "['I',\n",
              " 'like',\n",
              " 'the',\n",
              " 'commercial',\n",
              " 'where',\n",
              " '@kohara19,',\n",
              " 'on',\n",
              " 'a',\n",
              " 'chocolate',\n",
              " 'milk',\n",
              " 'bender,',\n",
              " 'steals',\n",
              " 'a',\n",
              " 'soccer',\n",
              " 'ball',\n",
              " 'from',\n",
              " 'some',\n",
              " 'guys',\n",
              " 'and',\n",
              " 'refuses',\n",
              " 'to',\n",
              " 'give',\n",
              " 'it',\n",
              " 'back.',\n",
              " '']"
            ]
          },
          "metadata": {},
          "execution_count": 28
        }
      ]
    },
    {
      "cell_type": "code",
      "execution_count": 6,
      "metadata": {
        "id": "HoXjet3pYTpo",
        "vscode": {
          "languageId": "python"
        },
        "colab": {
          "base_uri": "https://localhost:8080/",
          "height": 1000
        },
        "cellView": "form",
        "outputId": "4c81c90c-0e04-42da-8300-b84025c82f2e"
      },
      "outputs": [
        {
          "output_type": "display_data",
          "data": {
            "text/html": [
              "<html>\n",
              "<head><meta charset=\"utf-8\" /></head>\n",
              "<body>\n",
              "    <div>            <script src=\"https://cdnjs.cloudflare.com/ajax/libs/mathjax/2.7.5/MathJax.js?config=TeX-AMS-MML_SVG\"></script><script type=\"text/javascript\">if (window.MathJax) {MathJax.Hub.Config({SVG: {font: \"STIX-Web\"}});}</script>                <script type=\"text/javascript\">window.PlotlyConfig = {MathJaxConfig: 'local'};</script>\n",
              "        <script src=\"https://cdn.plot.ly/plotly-2.8.3.min.js\"></script>                <div id=\"f2375518-0102-414d-b0fc-42e97d4dba95\" class=\"plotly-graph-div\" style=\"height:525px; width:100%;\"></div>            <script type=\"text/javascript\">                                    window.PLOTLYENV=window.PLOTLYENV || {};                                    if (document.getElementById(\"f2375518-0102-414d-b0fc-42e97d4dba95\")) {                    Plotly.newPlot(                        \"f2375518-0102-414d-b0fc-42e97d4dba95\",                        [{\"alignmentgroup\":\"True\",\"hovertemplate\":\"index=%{x}<br>Frequencies=%{y}<extra></extra>\",\"legendgroup\":\"\",\"marker\":{\"color\":\"#636efa\",\"pattern\":{\"shape\":\"\"}},\"name\":\"\",\"offsetgroup\":\"\",\"orientation\":\"v\",\"showlegend\":false,\"textposition\":\"auto\",\"x\":[\"the\",\"to\",\"a\",\"I\",\"and\",\"of\",\"is\",\"in\",\"you\",\"my\",\"for\",\"that\",\"on\",\"it\",\"be\",\"me\",\"have\",\"so\",\"this\",\"with\",\"not\",\"at\",\"but\",\"just\",\"I'm\",\"was\",\"like\",\"are\",\"your\",\"all\"],\"xaxis\":\"x\",\"y\":[1585,1273,1145,1042,912,778,757,588,567,453,431,419,362,359,340,304,290,279,275,272,263,249,242,238,238,219,216,213,209,198],\"yaxis\":\"y\",\"type\":\"bar\"}],                        {\"template\":{\"data\":{\"bar\":[{\"error_x\":{\"color\":\"#2a3f5f\"},\"error_y\":{\"color\":\"#2a3f5f\"},\"marker\":{\"line\":{\"color\":\"#E5ECF6\",\"width\":0.5},\"pattern\":{\"fillmode\":\"overlay\",\"size\":10,\"solidity\":0.2}},\"type\":\"bar\"}],\"barpolar\":[{\"marker\":{\"line\":{\"color\":\"#E5ECF6\",\"width\":0.5},\"pattern\":{\"fillmode\":\"overlay\",\"size\":10,\"solidity\":0.2}},\"type\":\"barpolar\"}],\"carpet\":[{\"aaxis\":{\"endlinecolor\":\"#2a3f5f\",\"gridcolor\":\"white\",\"linecolor\":\"white\",\"minorgridcolor\":\"white\",\"startlinecolor\":\"#2a3f5f\"},\"baxis\":{\"endlinecolor\":\"#2a3f5f\",\"gridcolor\":\"white\",\"linecolor\":\"white\",\"minorgridcolor\":\"white\",\"startlinecolor\":\"#2a3f5f\"},\"type\":\"carpet\"}],\"choropleth\":[{\"colorbar\":{\"outlinewidth\":0,\"ticks\":\"\"},\"type\":\"choropleth\"}],\"contour\":[{\"colorbar\":{\"outlinewidth\":0,\"ticks\":\"\"},\"colorscale\":[[0.0,\"#0d0887\"],[0.1111111111111111,\"#46039f\"],[0.2222222222222222,\"#7201a8\"],[0.3333333333333333,\"#9c179e\"],[0.4444444444444444,\"#bd3786\"],[0.5555555555555556,\"#d8576b\"],[0.6666666666666666,\"#ed7953\"],[0.7777777777777778,\"#fb9f3a\"],[0.8888888888888888,\"#fdca26\"],[1.0,\"#f0f921\"]],\"type\":\"contour\"}],\"contourcarpet\":[{\"colorbar\":{\"outlinewidth\":0,\"ticks\":\"\"},\"type\":\"contourcarpet\"}],\"heatmap\":[{\"colorbar\":{\"outlinewidth\":0,\"ticks\":\"\"},\"colorscale\":[[0.0,\"#0d0887\"],[0.1111111111111111,\"#46039f\"],[0.2222222222222222,\"#7201a8\"],[0.3333333333333333,\"#9c179e\"],[0.4444444444444444,\"#bd3786\"],[0.5555555555555556,\"#d8576b\"],[0.6666666666666666,\"#ed7953\"],[0.7777777777777778,\"#fb9f3a\"],[0.8888888888888888,\"#fdca26\"],[1.0,\"#f0f921\"]],\"type\":\"heatmap\"}],\"heatmapgl\":[{\"colorbar\":{\"outlinewidth\":0,\"ticks\":\"\"},\"colorscale\":[[0.0,\"#0d0887\"],[0.1111111111111111,\"#46039f\"],[0.2222222222222222,\"#7201a8\"],[0.3333333333333333,\"#9c179e\"],[0.4444444444444444,\"#bd3786\"],[0.5555555555555556,\"#d8576b\"],[0.6666666666666666,\"#ed7953\"],[0.7777777777777778,\"#fb9f3a\"],[0.8888888888888888,\"#fdca26\"],[1.0,\"#f0f921\"]],\"type\":\"heatmapgl\"}],\"histogram\":[{\"marker\":{\"pattern\":{\"fillmode\":\"overlay\",\"size\":10,\"solidity\":0.2}},\"type\":\"histogram\"}],\"histogram2d\":[{\"colorbar\":{\"outlinewidth\":0,\"ticks\":\"\"},\"colorscale\":[[0.0,\"#0d0887\"],[0.1111111111111111,\"#46039f\"],[0.2222222222222222,\"#7201a8\"],[0.3333333333333333,\"#9c179e\"],[0.4444444444444444,\"#bd3786\"],[0.5555555555555556,\"#d8576b\"],[0.6666666666666666,\"#ed7953\"],[0.7777777777777778,\"#fb9f3a\"],[0.8888888888888888,\"#fdca26\"],[1.0,\"#f0f921\"]],\"type\":\"histogram2d\"}],\"histogram2dcontour\":[{\"colorbar\":{\"outlinewidth\":0,\"ticks\":\"\"},\"colorscale\":[[0.0,\"#0d0887\"],[0.1111111111111111,\"#46039f\"],[0.2222222222222222,\"#7201a8\"],[0.3333333333333333,\"#9c179e\"],[0.4444444444444444,\"#bd3786\"],[0.5555555555555556,\"#d8576b\"],[0.6666666666666666,\"#ed7953\"],[0.7777777777777778,\"#fb9f3a\"],[0.8888888888888888,\"#fdca26\"],[1.0,\"#f0f921\"]],\"type\":\"histogram2dcontour\"}],\"mesh3d\":[{\"colorbar\":{\"outlinewidth\":0,\"ticks\":\"\"},\"type\":\"mesh3d\"}],\"parcoords\":[{\"line\":{\"colorbar\":{\"outlinewidth\":0,\"ticks\":\"\"}},\"type\":\"parcoords\"}],\"pie\":[{\"automargin\":true,\"type\":\"pie\"}],\"scatter\":[{\"marker\":{\"colorbar\":{\"outlinewidth\":0,\"ticks\":\"\"}},\"type\":\"scatter\"}],\"scatter3d\":[{\"line\":{\"colorbar\":{\"outlinewidth\":0,\"ticks\":\"\"}},\"marker\":{\"colorbar\":{\"outlinewidth\":0,\"ticks\":\"\"}},\"type\":\"scatter3d\"}],\"scattercarpet\":[{\"marker\":{\"colorbar\":{\"outlinewidth\":0,\"ticks\":\"\"}},\"type\":\"scattercarpet\"}],\"scattergeo\":[{\"marker\":{\"colorbar\":{\"outlinewidth\":0,\"ticks\":\"\"}},\"type\":\"scattergeo\"}],\"scattergl\":[{\"marker\":{\"colorbar\":{\"outlinewidth\":0,\"ticks\":\"\"}},\"type\":\"scattergl\"}],\"scattermapbox\":[{\"marker\":{\"colorbar\":{\"outlinewidth\":0,\"ticks\":\"\"}},\"type\":\"scattermapbox\"}],\"scatterpolar\":[{\"marker\":{\"colorbar\":{\"outlinewidth\":0,\"ticks\":\"\"}},\"type\":\"scatterpolar\"}],\"scatterpolargl\":[{\"marker\":{\"colorbar\":{\"outlinewidth\":0,\"ticks\":\"\"}},\"type\":\"scatterpolargl\"}],\"scatterternary\":[{\"marker\":{\"colorbar\":{\"outlinewidth\":0,\"ticks\":\"\"}},\"type\":\"scatterternary\"}],\"surface\":[{\"colorbar\":{\"outlinewidth\":0,\"ticks\":\"\"},\"colorscale\":[[0.0,\"#0d0887\"],[0.1111111111111111,\"#46039f\"],[0.2222222222222222,\"#7201a8\"],[0.3333333333333333,\"#9c179e\"],[0.4444444444444444,\"#bd3786\"],[0.5555555555555556,\"#d8576b\"],[0.6666666666666666,\"#ed7953\"],[0.7777777777777778,\"#fb9f3a\"],[0.8888888888888888,\"#fdca26\"],[1.0,\"#f0f921\"]],\"type\":\"surface\"}],\"table\":[{\"cells\":{\"fill\":{\"color\":\"#EBF0F8\"},\"line\":{\"color\":\"white\"}},\"header\":{\"fill\":{\"color\":\"#C8D4E3\"},\"line\":{\"color\":\"white\"}},\"type\":\"table\"}]},\"layout\":{\"annotationdefaults\":{\"arrowcolor\":\"#2a3f5f\",\"arrowhead\":0,\"arrowwidth\":1},\"autotypenumbers\":\"strict\",\"coloraxis\":{\"colorbar\":{\"outlinewidth\":0,\"ticks\":\"\"}},\"colorscale\":{\"diverging\":[[0,\"#8e0152\"],[0.1,\"#c51b7d\"],[0.2,\"#de77ae\"],[0.3,\"#f1b6da\"],[0.4,\"#fde0ef\"],[0.5,\"#f7f7f7\"],[0.6,\"#e6f5d0\"],[0.7,\"#b8e186\"],[0.8,\"#7fbc41\"],[0.9,\"#4d9221\"],[1,\"#276419\"]],\"sequential\":[[0.0,\"#0d0887\"],[0.1111111111111111,\"#46039f\"],[0.2222222222222222,\"#7201a8\"],[0.3333333333333333,\"#9c179e\"],[0.4444444444444444,\"#bd3786\"],[0.5555555555555556,\"#d8576b\"],[0.6666666666666666,\"#ed7953\"],[0.7777777777777778,\"#fb9f3a\"],[0.8888888888888888,\"#fdca26\"],[1.0,\"#f0f921\"]],\"sequentialminus\":[[0.0,\"#0d0887\"],[0.1111111111111111,\"#46039f\"],[0.2222222222222222,\"#7201a8\"],[0.3333333333333333,\"#9c179e\"],[0.4444444444444444,\"#bd3786\"],[0.5555555555555556,\"#d8576b\"],[0.6666666666666666,\"#ed7953\"],[0.7777777777777778,\"#fb9f3a\"],[0.8888888888888888,\"#fdca26\"],[1.0,\"#f0f921\"]]},\"colorway\":[\"#636efa\",\"#EF553B\",\"#00cc96\",\"#ab63fa\",\"#FFA15A\",\"#19d3f3\",\"#FF6692\",\"#B6E880\",\"#FF97FF\",\"#FECB52\"],\"font\":{\"color\":\"#2a3f5f\"},\"geo\":{\"bgcolor\":\"white\",\"lakecolor\":\"white\",\"landcolor\":\"#E5ECF6\",\"showlakes\":true,\"showland\":true,\"subunitcolor\":\"white\"},\"hoverlabel\":{\"align\":\"left\"},\"hovermode\":\"closest\",\"mapbox\":{\"style\":\"light\"},\"paper_bgcolor\":\"white\",\"plot_bgcolor\":\"#E5ECF6\",\"polar\":{\"angularaxis\":{\"gridcolor\":\"white\",\"linecolor\":\"white\",\"ticks\":\"\"},\"bgcolor\":\"#E5ECF6\",\"radialaxis\":{\"gridcolor\":\"white\",\"linecolor\":\"white\",\"ticks\":\"\"}},\"scene\":{\"xaxis\":{\"backgroundcolor\":\"#E5ECF6\",\"gridcolor\":\"white\",\"gridwidth\":2,\"linecolor\":\"white\",\"showbackground\":true,\"ticks\":\"\",\"zerolinecolor\":\"white\"},\"yaxis\":{\"backgroundcolor\":\"#E5ECF6\",\"gridcolor\":\"white\",\"gridwidth\":2,\"linecolor\":\"white\",\"showbackground\":true,\"ticks\":\"\",\"zerolinecolor\":\"white\"},\"zaxis\":{\"backgroundcolor\":\"#E5ECF6\",\"gridcolor\":\"white\",\"gridwidth\":2,\"linecolor\":\"white\",\"showbackground\":true,\"ticks\":\"\",\"zerolinecolor\":\"white\"}},\"shapedefaults\":{\"line\":{\"color\":\"#2a3f5f\"}},\"ternary\":{\"aaxis\":{\"gridcolor\":\"white\",\"linecolor\":\"white\",\"ticks\":\"\"},\"baxis\":{\"gridcolor\":\"white\",\"linecolor\":\"white\",\"ticks\":\"\"},\"bgcolor\":\"#E5ECF6\",\"caxis\":{\"gridcolor\":\"white\",\"linecolor\":\"white\",\"ticks\":\"\"}},\"title\":{\"x\":0.05},\"xaxis\":{\"automargin\":true,\"gridcolor\":\"white\",\"linecolor\":\"white\",\"ticks\":\"\",\"title\":{\"standoff\":15},\"zerolinecolor\":\"white\",\"zerolinewidth\":2},\"yaxis\":{\"automargin\":true,\"gridcolor\":\"white\",\"linecolor\":\"white\",\"ticks\":\"\",\"title\":{\"standoff\":15},\"zerolinecolor\":\"white\",\"zerolinewidth\":2}}},\"xaxis\":{\"anchor\":\"y\",\"domain\":[0.0,1.0],\"title\":{\"text\":\"index\"}},\"yaxis\":{\"anchor\":\"x\",\"domain\":[0.0,1.0],\"title\":{\"text\":\"Frequencies\"}},\"legend\":{\"tracegroupgap\":0},\"title\":{\"text\":\"Top 30 frequent words from the TRAINING dataset\"},\"barmode\":\"relative\"},                        {\"responsive\": true}                    ).then(function(){\n",
              "                            \n",
              "var gd = document.getElementById('f2375518-0102-414d-b0fc-42e97d4dba95');\n",
              "var x = new MutationObserver(function (mutations, observer) {{\n",
              "        var display = window.getComputedStyle(gd).display;\n",
              "        if (!display || display === 'none') {{\n",
              "            console.log([gd, 'removed!']);\n",
              "            Plotly.purge(gd);\n",
              "            observer.disconnect();\n",
              "        }}\n",
              "}});\n",
              "\n",
              "// Listen for the removal of the full notebook cells\n",
              "var notebookContainer = gd.closest('#notebook-container');\n",
              "if (notebookContainer) {{\n",
              "    x.observe(notebookContainer, {childList: true});\n",
              "}}\n",
              "\n",
              "// Listen for the clearing of the current output cell\n",
              "var outputEl = gd.closest('.output');\n",
              "if (outputEl) {{\n",
              "    x.observe(outputEl, {childList: true});\n",
              "}}\n",
              "\n",
              "                        })                };                            </script>        </div>\n",
              "</body>\n",
              "</html>"
            ]
          },
          "metadata": {}
        },
        {
          "output_type": "display_data",
          "data": {
            "text/html": [
              "<html>\n",
              "<head><meta charset=\"utf-8\" /></head>\n",
              "<body>\n",
              "    <div>            <script src=\"https://cdnjs.cloudflare.com/ajax/libs/mathjax/2.7.5/MathJax.js?config=TeX-AMS-MML_SVG\"></script><script type=\"text/javascript\">if (window.MathJax) {MathJax.Hub.Config({SVG: {font: \"STIX-Web\"}});}</script>                <script type=\"text/javascript\">window.PlotlyConfig = {MathJaxConfig: 'local'};</script>\n",
              "        <script src=\"https://cdn.plot.ly/plotly-2.8.3.min.js\"></script>                <div id=\"89492df3-14f3-412b-ad74-13ddb9c5e69a\" class=\"plotly-graph-div\" style=\"height:525px; width:100%;\"></div>            <script type=\"text/javascript\">                                    window.PLOTLYENV=window.PLOTLYENV || {};                                    if (document.getElementById(\"89492df3-14f3-412b-ad74-13ddb9c5e69a\")) {                    Plotly.newPlot(                        \"89492df3-14f3-412b-ad74-13ddb9c5e69a\",                        [{\"alignmentgroup\":\"True\",\"hovertemplate\":\"index=%{x}<br>Frequencies=%{y}<extra></extra>\",\"legendgroup\":\"\",\"marker\":{\"color\":\"#636efa\",\"pattern\":{\"shape\":\"\"}},\"name\":\"\",\"offsetgroup\":\"\",\"orientation\":\"v\",\"showlegend\":false,\"textposition\":\"auto\",\"x\":[\"the\",\"to\",\"I\",\"a\",\"and\",\"of\",\"is\",\"in\",\"you\",\"for\",\"my\",\"it\",\"on\",\"that\",\"be\",\"was\",\"with\",\"have\",\"at\",\"get\",\"all\",\"are\",\"so\",\"your\",\"just\",\"i\",\"like\",\"will\",\"me\",\"but\"],\"xaxis\":\"x\",\"y\":[138,135,118,103,89,80,72,65,59,53,48,45,42,39,37,32,29,28,27,25,24,24,24,24,23,22,22,22,22,21],\"yaxis\":\"y\",\"type\":\"bar\"}],                        {\"template\":{\"data\":{\"bar\":[{\"error_x\":{\"color\":\"#2a3f5f\"},\"error_y\":{\"color\":\"#2a3f5f\"},\"marker\":{\"line\":{\"color\":\"#E5ECF6\",\"width\":0.5},\"pattern\":{\"fillmode\":\"overlay\",\"size\":10,\"solidity\":0.2}},\"type\":\"bar\"}],\"barpolar\":[{\"marker\":{\"line\":{\"color\":\"#E5ECF6\",\"width\":0.5},\"pattern\":{\"fillmode\":\"overlay\",\"size\":10,\"solidity\":0.2}},\"type\":\"barpolar\"}],\"carpet\":[{\"aaxis\":{\"endlinecolor\":\"#2a3f5f\",\"gridcolor\":\"white\",\"linecolor\":\"white\",\"minorgridcolor\":\"white\",\"startlinecolor\":\"#2a3f5f\"},\"baxis\":{\"endlinecolor\":\"#2a3f5f\",\"gridcolor\":\"white\",\"linecolor\":\"white\",\"minorgridcolor\":\"white\",\"startlinecolor\":\"#2a3f5f\"},\"type\":\"carpet\"}],\"choropleth\":[{\"colorbar\":{\"outlinewidth\":0,\"ticks\":\"\"},\"type\":\"choropleth\"}],\"contour\":[{\"colorbar\":{\"outlinewidth\":0,\"ticks\":\"\"},\"colorscale\":[[0.0,\"#0d0887\"],[0.1111111111111111,\"#46039f\"],[0.2222222222222222,\"#7201a8\"],[0.3333333333333333,\"#9c179e\"],[0.4444444444444444,\"#bd3786\"],[0.5555555555555556,\"#d8576b\"],[0.6666666666666666,\"#ed7953\"],[0.7777777777777778,\"#fb9f3a\"],[0.8888888888888888,\"#fdca26\"],[1.0,\"#f0f921\"]],\"type\":\"contour\"}],\"contourcarpet\":[{\"colorbar\":{\"outlinewidth\":0,\"ticks\":\"\"},\"type\":\"contourcarpet\"}],\"heatmap\":[{\"colorbar\":{\"outlinewidth\":0,\"ticks\":\"\"},\"colorscale\":[[0.0,\"#0d0887\"],[0.1111111111111111,\"#46039f\"],[0.2222222222222222,\"#7201a8\"],[0.3333333333333333,\"#9c179e\"],[0.4444444444444444,\"#bd3786\"],[0.5555555555555556,\"#d8576b\"],[0.6666666666666666,\"#ed7953\"],[0.7777777777777778,\"#fb9f3a\"],[0.8888888888888888,\"#fdca26\"],[1.0,\"#f0f921\"]],\"type\":\"heatmap\"}],\"heatmapgl\":[{\"colorbar\":{\"outlinewidth\":0,\"ticks\":\"\"},\"colorscale\":[[0.0,\"#0d0887\"],[0.1111111111111111,\"#46039f\"],[0.2222222222222222,\"#7201a8\"],[0.3333333333333333,\"#9c179e\"],[0.4444444444444444,\"#bd3786\"],[0.5555555555555556,\"#d8576b\"],[0.6666666666666666,\"#ed7953\"],[0.7777777777777778,\"#fb9f3a\"],[0.8888888888888888,\"#fdca26\"],[1.0,\"#f0f921\"]],\"type\":\"heatmapgl\"}],\"histogram\":[{\"marker\":{\"pattern\":{\"fillmode\":\"overlay\",\"size\":10,\"solidity\":0.2}},\"type\":\"histogram\"}],\"histogram2d\":[{\"colorbar\":{\"outlinewidth\":0,\"ticks\":\"\"},\"colorscale\":[[0.0,\"#0d0887\"],[0.1111111111111111,\"#46039f\"],[0.2222222222222222,\"#7201a8\"],[0.3333333333333333,\"#9c179e\"],[0.4444444444444444,\"#bd3786\"],[0.5555555555555556,\"#d8576b\"],[0.6666666666666666,\"#ed7953\"],[0.7777777777777778,\"#fb9f3a\"],[0.8888888888888888,\"#fdca26\"],[1.0,\"#f0f921\"]],\"type\":\"histogram2d\"}],\"histogram2dcontour\":[{\"colorbar\":{\"outlinewidth\":0,\"ticks\":\"\"},\"colorscale\":[[0.0,\"#0d0887\"],[0.1111111111111111,\"#46039f\"],[0.2222222222222222,\"#7201a8\"],[0.3333333333333333,\"#9c179e\"],[0.4444444444444444,\"#bd3786\"],[0.5555555555555556,\"#d8576b\"],[0.6666666666666666,\"#ed7953\"],[0.7777777777777778,\"#fb9f3a\"],[0.8888888888888888,\"#fdca26\"],[1.0,\"#f0f921\"]],\"type\":\"histogram2dcontour\"}],\"mesh3d\":[{\"colorbar\":{\"outlinewidth\":0,\"ticks\":\"\"},\"type\":\"mesh3d\"}],\"parcoords\":[{\"line\":{\"colorbar\":{\"outlinewidth\":0,\"ticks\":\"\"}},\"type\":\"parcoords\"}],\"pie\":[{\"automargin\":true,\"type\":\"pie\"}],\"scatter\":[{\"marker\":{\"colorbar\":{\"outlinewidth\":0,\"ticks\":\"\"}},\"type\":\"scatter\"}],\"scatter3d\":[{\"line\":{\"colorbar\":{\"outlinewidth\":0,\"ticks\":\"\"}},\"marker\":{\"colorbar\":{\"outlinewidth\":0,\"ticks\":\"\"}},\"type\":\"scatter3d\"}],\"scattercarpet\":[{\"marker\":{\"colorbar\":{\"outlinewidth\":0,\"ticks\":\"\"}},\"type\":\"scattercarpet\"}],\"scattergeo\":[{\"marker\":{\"colorbar\":{\"outlinewidth\":0,\"ticks\":\"\"}},\"type\":\"scattergeo\"}],\"scattergl\":[{\"marker\":{\"colorbar\":{\"outlinewidth\":0,\"ticks\":\"\"}},\"type\":\"scattergl\"}],\"scattermapbox\":[{\"marker\":{\"colorbar\":{\"outlinewidth\":0,\"ticks\":\"\"}},\"type\":\"scattermapbox\"}],\"scatterpolar\":[{\"marker\":{\"colorbar\":{\"outlinewidth\":0,\"ticks\":\"\"}},\"type\":\"scatterpolar\"}],\"scatterpolargl\":[{\"marker\":{\"colorbar\":{\"outlinewidth\":0,\"ticks\":\"\"}},\"type\":\"scatterpolargl\"}],\"scatterternary\":[{\"marker\":{\"colorbar\":{\"outlinewidth\":0,\"ticks\":\"\"}},\"type\":\"scatterternary\"}],\"surface\":[{\"colorbar\":{\"outlinewidth\":0,\"ticks\":\"\"},\"colorscale\":[[0.0,\"#0d0887\"],[0.1111111111111111,\"#46039f\"],[0.2222222222222222,\"#7201a8\"],[0.3333333333333333,\"#9c179e\"],[0.4444444444444444,\"#bd3786\"],[0.5555555555555556,\"#d8576b\"],[0.6666666666666666,\"#ed7953\"],[0.7777777777777778,\"#fb9f3a\"],[0.8888888888888888,\"#fdca26\"],[1.0,\"#f0f921\"]],\"type\":\"surface\"}],\"table\":[{\"cells\":{\"fill\":{\"color\":\"#EBF0F8\"},\"line\":{\"color\":\"white\"}},\"header\":{\"fill\":{\"color\":\"#C8D4E3\"},\"line\":{\"color\":\"white\"}},\"type\":\"table\"}]},\"layout\":{\"annotationdefaults\":{\"arrowcolor\":\"#2a3f5f\",\"arrowhead\":0,\"arrowwidth\":1},\"autotypenumbers\":\"strict\",\"coloraxis\":{\"colorbar\":{\"outlinewidth\":0,\"ticks\":\"\"}},\"colorscale\":{\"diverging\":[[0,\"#8e0152\"],[0.1,\"#c51b7d\"],[0.2,\"#de77ae\"],[0.3,\"#f1b6da\"],[0.4,\"#fde0ef\"],[0.5,\"#f7f7f7\"],[0.6,\"#e6f5d0\"],[0.7,\"#b8e186\"],[0.8,\"#7fbc41\"],[0.9,\"#4d9221\"],[1,\"#276419\"]],\"sequential\":[[0.0,\"#0d0887\"],[0.1111111111111111,\"#46039f\"],[0.2222222222222222,\"#7201a8\"],[0.3333333333333333,\"#9c179e\"],[0.4444444444444444,\"#bd3786\"],[0.5555555555555556,\"#d8576b\"],[0.6666666666666666,\"#ed7953\"],[0.7777777777777778,\"#fb9f3a\"],[0.8888888888888888,\"#fdca26\"],[1.0,\"#f0f921\"]],\"sequentialminus\":[[0.0,\"#0d0887\"],[0.1111111111111111,\"#46039f\"],[0.2222222222222222,\"#7201a8\"],[0.3333333333333333,\"#9c179e\"],[0.4444444444444444,\"#bd3786\"],[0.5555555555555556,\"#d8576b\"],[0.6666666666666666,\"#ed7953\"],[0.7777777777777778,\"#fb9f3a\"],[0.8888888888888888,\"#fdca26\"],[1.0,\"#f0f921\"]]},\"colorway\":[\"#636efa\",\"#EF553B\",\"#00cc96\",\"#ab63fa\",\"#FFA15A\",\"#19d3f3\",\"#FF6692\",\"#B6E880\",\"#FF97FF\",\"#FECB52\"],\"font\":{\"color\":\"#2a3f5f\"},\"geo\":{\"bgcolor\":\"white\",\"lakecolor\":\"white\",\"landcolor\":\"#E5ECF6\",\"showlakes\":true,\"showland\":true,\"subunitcolor\":\"white\"},\"hoverlabel\":{\"align\":\"left\"},\"hovermode\":\"closest\",\"mapbox\":{\"style\":\"light\"},\"paper_bgcolor\":\"white\",\"plot_bgcolor\":\"#E5ECF6\",\"polar\":{\"angularaxis\":{\"gridcolor\":\"white\",\"linecolor\":\"white\",\"ticks\":\"\"},\"bgcolor\":\"#E5ECF6\",\"radialaxis\":{\"gridcolor\":\"white\",\"linecolor\":\"white\",\"ticks\":\"\"}},\"scene\":{\"xaxis\":{\"backgroundcolor\":\"#E5ECF6\",\"gridcolor\":\"white\",\"gridwidth\":2,\"linecolor\":\"white\",\"showbackground\":true,\"ticks\":\"\",\"zerolinecolor\":\"white\"},\"yaxis\":{\"backgroundcolor\":\"#E5ECF6\",\"gridcolor\":\"white\",\"gridwidth\":2,\"linecolor\":\"white\",\"showbackground\":true,\"ticks\":\"\",\"zerolinecolor\":\"white\"},\"zaxis\":{\"backgroundcolor\":\"#E5ECF6\",\"gridcolor\":\"white\",\"gridwidth\":2,\"linecolor\":\"white\",\"showbackground\":true,\"ticks\":\"\",\"zerolinecolor\":\"white\"}},\"shapedefaults\":{\"line\":{\"color\":\"#2a3f5f\"}},\"ternary\":{\"aaxis\":{\"gridcolor\":\"white\",\"linecolor\":\"white\",\"ticks\":\"\"},\"baxis\":{\"gridcolor\":\"white\",\"linecolor\":\"white\",\"ticks\":\"\"},\"bgcolor\":\"#E5ECF6\",\"caxis\":{\"gridcolor\":\"white\",\"linecolor\":\"white\",\"ticks\":\"\"}},\"title\":{\"x\":0.05},\"xaxis\":{\"automargin\":true,\"gridcolor\":\"white\",\"linecolor\":\"white\",\"ticks\":\"\",\"title\":{\"standoff\":15},\"zerolinecolor\":\"white\",\"zerolinewidth\":2},\"yaxis\":{\"automargin\":true,\"gridcolor\":\"white\",\"linecolor\":\"white\",\"ticks\":\"\",\"title\":{\"standoff\":15},\"zerolinecolor\":\"white\",\"zerolinewidth\":2}}},\"xaxis\":{\"anchor\":\"y\",\"domain\":[0.0,1.0],\"title\":{\"text\":\"index\"}},\"yaxis\":{\"anchor\":\"x\",\"domain\":[0.0,1.0],\"title\":{\"text\":\"Frequencies\"}},\"legend\":{\"tracegroupgap\":0},\"title\":{\"text\":\"Top 30 frequent words from the TESTING dataset\"},\"barmode\":\"relative\"},                        {\"responsive\": true}                    ).then(function(){\n",
              "                            \n",
              "var gd = document.getElementById('89492df3-14f3-412b-ad74-13ddb9c5e69a');\n",
              "var x = new MutationObserver(function (mutations, observer) {{\n",
              "        var display = window.getComputedStyle(gd).display;\n",
              "        if (!display || display === 'none') {{\n",
              "            console.log([gd, 'removed!']);\n",
              "            Plotly.purge(gd);\n",
              "            observer.disconnect();\n",
              "        }}\n",
              "}});\n",
              "\n",
              "// Listen for the removal of the full notebook cells\n",
              "var notebookContainer = gd.closest('#notebook-container');\n",
              "if (notebookContainer) {{\n",
              "    x.observe(notebookContainer, {childList: true});\n",
              "}}\n",
              "\n",
              "// Listen for the clearing of the current output cell\n",
              "var outputEl = gd.closest('.output');\n",
              "if (outputEl) {{\n",
              "    x.observe(outputEl, {childList: true});\n",
              "}}\n",
              "\n",
              "                        })                };                            </script>        </div>\n",
              "</body>\n",
              "</html>"
            ]
          },
          "metadata": {}
        },
        {
          "output_type": "display_data",
          "data": {
            "text/html": [
              "<html>\n",
              "<head><meta charset=\"utf-8\" /></head>\n",
              "<body>\n",
              "    <div>            <script src=\"https://cdnjs.cloudflare.com/ajax/libs/mathjax/2.7.5/MathJax.js?config=TeX-AMS-MML_SVG\"></script><script type=\"text/javascript\">if (window.MathJax) {MathJax.Hub.Config({SVG: {font: \"STIX-Web\"}});}</script>                <script type=\"text/javascript\">window.PlotlyConfig = {MathJaxConfig: 'local'};</script>\n",
              "        <script src=\"https://cdn.plot.ly/plotly-2.8.3.min.js\"></script>                <div id=\"42f4632d-2c34-45f3-899d-078f903e0896\" class=\"plotly-graph-div\" style=\"height:525px; width:100%;\"></div>            <script type=\"text/javascript\">                                    window.PLOTLYENV=window.PLOTLYENV || {};                                    if (document.getElementById(\"42f4632d-2c34-45f3-899d-078f903e0896\")) {                    Plotly.newPlot(                        \"42f4632d-2c34-45f3-899d-078f903e0896\",                        [{\"alignmentgroup\":\"True\",\"hovertemplate\":\"index=%{x}<br>Term Frequencies=%{y}<extra></extra>\",\"legendgroup\":\"\",\"marker\":{\"color\":\"#636efa\",\"pattern\":{\"shape\":\"\"}},\"name\":\"\",\"offsetgroup\":\"\",\"orientation\":\"v\",\"showlegend\":false,\"textposition\":\"auto\",\"x\":[\"the\",\"to\",\"a\",\"I\",\"and\",\"of\",\"is\",\"in\",\"you\",\"my\",\"for\",\"that\",\"on\",\"it\",\"be\",\"me\",\"have\",\"so\",\"with\",\"this\",\"not\",\"at\",\"but\",\"just\",\"was\",\"I'm\",\"like\",\"are\",\"your\",\"all\"],\"xaxis\":\"x\",\"y\":[1723,1408,1248,1160,1001,858,829,653,626,501,484,458,404,404,377,326,318,303,301,290,283,276,263,261,251,247,238,237,233,222],\"yaxis\":\"y\",\"type\":\"bar\"}],                        {\"template\":{\"data\":{\"bar\":[{\"error_x\":{\"color\":\"#2a3f5f\"},\"error_y\":{\"color\":\"#2a3f5f\"},\"marker\":{\"line\":{\"color\":\"#E5ECF6\",\"width\":0.5},\"pattern\":{\"fillmode\":\"overlay\",\"size\":10,\"solidity\":0.2}},\"type\":\"bar\"}],\"barpolar\":[{\"marker\":{\"line\":{\"color\":\"#E5ECF6\",\"width\":0.5},\"pattern\":{\"fillmode\":\"overlay\",\"size\":10,\"solidity\":0.2}},\"type\":\"barpolar\"}],\"carpet\":[{\"aaxis\":{\"endlinecolor\":\"#2a3f5f\",\"gridcolor\":\"white\",\"linecolor\":\"white\",\"minorgridcolor\":\"white\",\"startlinecolor\":\"#2a3f5f\"},\"baxis\":{\"endlinecolor\":\"#2a3f5f\",\"gridcolor\":\"white\",\"linecolor\":\"white\",\"minorgridcolor\":\"white\",\"startlinecolor\":\"#2a3f5f\"},\"type\":\"carpet\"}],\"choropleth\":[{\"colorbar\":{\"outlinewidth\":0,\"ticks\":\"\"},\"type\":\"choropleth\"}],\"contour\":[{\"colorbar\":{\"outlinewidth\":0,\"ticks\":\"\"},\"colorscale\":[[0.0,\"#0d0887\"],[0.1111111111111111,\"#46039f\"],[0.2222222222222222,\"#7201a8\"],[0.3333333333333333,\"#9c179e\"],[0.4444444444444444,\"#bd3786\"],[0.5555555555555556,\"#d8576b\"],[0.6666666666666666,\"#ed7953\"],[0.7777777777777778,\"#fb9f3a\"],[0.8888888888888888,\"#fdca26\"],[1.0,\"#f0f921\"]],\"type\":\"contour\"}],\"contourcarpet\":[{\"colorbar\":{\"outlinewidth\":0,\"ticks\":\"\"},\"type\":\"contourcarpet\"}],\"heatmap\":[{\"colorbar\":{\"outlinewidth\":0,\"ticks\":\"\"},\"colorscale\":[[0.0,\"#0d0887\"],[0.1111111111111111,\"#46039f\"],[0.2222222222222222,\"#7201a8\"],[0.3333333333333333,\"#9c179e\"],[0.4444444444444444,\"#bd3786\"],[0.5555555555555556,\"#d8576b\"],[0.6666666666666666,\"#ed7953\"],[0.7777777777777778,\"#fb9f3a\"],[0.8888888888888888,\"#fdca26\"],[1.0,\"#f0f921\"]],\"type\":\"heatmap\"}],\"heatmapgl\":[{\"colorbar\":{\"outlinewidth\":0,\"ticks\":\"\"},\"colorscale\":[[0.0,\"#0d0887\"],[0.1111111111111111,\"#46039f\"],[0.2222222222222222,\"#7201a8\"],[0.3333333333333333,\"#9c179e\"],[0.4444444444444444,\"#bd3786\"],[0.5555555555555556,\"#d8576b\"],[0.6666666666666666,\"#ed7953\"],[0.7777777777777778,\"#fb9f3a\"],[0.8888888888888888,\"#fdca26\"],[1.0,\"#f0f921\"]],\"type\":\"heatmapgl\"}],\"histogram\":[{\"marker\":{\"pattern\":{\"fillmode\":\"overlay\",\"size\":10,\"solidity\":0.2}},\"type\":\"histogram\"}],\"histogram2d\":[{\"colorbar\":{\"outlinewidth\":0,\"ticks\":\"\"},\"colorscale\":[[0.0,\"#0d0887\"],[0.1111111111111111,\"#46039f\"],[0.2222222222222222,\"#7201a8\"],[0.3333333333333333,\"#9c179e\"],[0.4444444444444444,\"#bd3786\"],[0.5555555555555556,\"#d8576b\"],[0.6666666666666666,\"#ed7953\"],[0.7777777777777778,\"#fb9f3a\"],[0.8888888888888888,\"#fdca26\"],[1.0,\"#f0f921\"]],\"type\":\"histogram2d\"}],\"histogram2dcontour\":[{\"colorbar\":{\"outlinewidth\":0,\"ticks\":\"\"},\"colorscale\":[[0.0,\"#0d0887\"],[0.1111111111111111,\"#46039f\"],[0.2222222222222222,\"#7201a8\"],[0.3333333333333333,\"#9c179e\"],[0.4444444444444444,\"#bd3786\"],[0.5555555555555556,\"#d8576b\"],[0.6666666666666666,\"#ed7953\"],[0.7777777777777778,\"#fb9f3a\"],[0.8888888888888888,\"#fdca26\"],[1.0,\"#f0f921\"]],\"type\":\"histogram2dcontour\"}],\"mesh3d\":[{\"colorbar\":{\"outlinewidth\":0,\"ticks\":\"\"},\"type\":\"mesh3d\"}],\"parcoords\":[{\"line\":{\"colorbar\":{\"outlinewidth\":0,\"ticks\":\"\"}},\"type\":\"parcoords\"}],\"pie\":[{\"automargin\":true,\"type\":\"pie\"}],\"scatter\":[{\"marker\":{\"colorbar\":{\"outlinewidth\":0,\"ticks\":\"\"}},\"type\":\"scatter\"}],\"scatter3d\":[{\"line\":{\"colorbar\":{\"outlinewidth\":0,\"ticks\":\"\"}},\"marker\":{\"colorbar\":{\"outlinewidth\":0,\"ticks\":\"\"}},\"type\":\"scatter3d\"}],\"scattercarpet\":[{\"marker\":{\"colorbar\":{\"outlinewidth\":0,\"ticks\":\"\"}},\"type\":\"scattercarpet\"}],\"scattergeo\":[{\"marker\":{\"colorbar\":{\"outlinewidth\":0,\"ticks\":\"\"}},\"type\":\"scattergeo\"}],\"scattergl\":[{\"marker\":{\"colorbar\":{\"outlinewidth\":0,\"ticks\":\"\"}},\"type\":\"scattergl\"}],\"scattermapbox\":[{\"marker\":{\"colorbar\":{\"outlinewidth\":0,\"ticks\":\"\"}},\"type\":\"scattermapbox\"}],\"scatterpolar\":[{\"marker\":{\"colorbar\":{\"outlinewidth\":0,\"ticks\":\"\"}},\"type\":\"scatterpolar\"}],\"scatterpolargl\":[{\"marker\":{\"colorbar\":{\"outlinewidth\":0,\"ticks\":\"\"}},\"type\":\"scatterpolargl\"}],\"scatterternary\":[{\"marker\":{\"colorbar\":{\"outlinewidth\":0,\"ticks\":\"\"}},\"type\":\"scatterternary\"}],\"surface\":[{\"colorbar\":{\"outlinewidth\":0,\"ticks\":\"\"},\"colorscale\":[[0.0,\"#0d0887\"],[0.1111111111111111,\"#46039f\"],[0.2222222222222222,\"#7201a8\"],[0.3333333333333333,\"#9c179e\"],[0.4444444444444444,\"#bd3786\"],[0.5555555555555556,\"#d8576b\"],[0.6666666666666666,\"#ed7953\"],[0.7777777777777778,\"#fb9f3a\"],[0.8888888888888888,\"#fdca26\"],[1.0,\"#f0f921\"]],\"type\":\"surface\"}],\"table\":[{\"cells\":{\"fill\":{\"color\":\"#EBF0F8\"},\"line\":{\"color\":\"white\"}},\"header\":{\"fill\":{\"color\":\"#C8D4E3\"},\"line\":{\"color\":\"white\"}},\"type\":\"table\"}]},\"layout\":{\"annotationdefaults\":{\"arrowcolor\":\"#2a3f5f\",\"arrowhead\":0,\"arrowwidth\":1},\"autotypenumbers\":\"strict\",\"coloraxis\":{\"colorbar\":{\"outlinewidth\":0,\"ticks\":\"\"}},\"colorscale\":{\"diverging\":[[0,\"#8e0152\"],[0.1,\"#c51b7d\"],[0.2,\"#de77ae\"],[0.3,\"#f1b6da\"],[0.4,\"#fde0ef\"],[0.5,\"#f7f7f7\"],[0.6,\"#e6f5d0\"],[0.7,\"#b8e186\"],[0.8,\"#7fbc41\"],[0.9,\"#4d9221\"],[1,\"#276419\"]],\"sequential\":[[0.0,\"#0d0887\"],[0.1111111111111111,\"#46039f\"],[0.2222222222222222,\"#7201a8\"],[0.3333333333333333,\"#9c179e\"],[0.4444444444444444,\"#bd3786\"],[0.5555555555555556,\"#d8576b\"],[0.6666666666666666,\"#ed7953\"],[0.7777777777777778,\"#fb9f3a\"],[0.8888888888888888,\"#fdca26\"],[1.0,\"#f0f921\"]],\"sequentialminus\":[[0.0,\"#0d0887\"],[0.1111111111111111,\"#46039f\"],[0.2222222222222222,\"#7201a8\"],[0.3333333333333333,\"#9c179e\"],[0.4444444444444444,\"#bd3786\"],[0.5555555555555556,\"#d8576b\"],[0.6666666666666666,\"#ed7953\"],[0.7777777777777778,\"#fb9f3a\"],[0.8888888888888888,\"#fdca26\"],[1.0,\"#f0f921\"]]},\"colorway\":[\"#636efa\",\"#EF553B\",\"#00cc96\",\"#ab63fa\",\"#FFA15A\",\"#19d3f3\",\"#FF6692\",\"#B6E880\",\"#FF97FF\",\"#FECB52\"],\"font\":{\"color\":\"#2a3f5f\"},\"geo\":{\"bgcolor\":\"white\",\"lakecolor\":\"white\",\"landcolor\":\"#E5ECF6\",\"showlakes\":true,\"showland\":true,\"subunitcolor\":\"white\"},\"hoverlabel\":{\"align\":\"left\"},\"hovermode\":\"closest\",\"mapbox\":{\"style\":\"light\"},\"paper_bgcolor\":\"white\",\"plot_bgcolor\":\"#E5ECF6\",\"polar\":{\"angularaxis\":{\"gridcolor\":\"white\",\"linecolor\":\"white\",\"ticks\":\"\"},\"bgcolor\":\"#E5ECF6\",\"radialaxis\":{\"gridcolor\":\"white\",\"linecolor\":\"white\",\"ticks\":\"\"}},\"scene\":{\"xaxis\":{\"backgroundcolor\":\"#E5ECF6\",\"gridcolor\":\"white\",\"gridwidth\":2,\"linecolor\":\"white\",\"showbackground\":true,\"ticks\":\"\",\"zerolinecolor\":\"white\"},\"yaxis\":{\"backgroundcolor\":\"#E5ECF6\",\"gridcolor\":\"white\",\"gridwidth\":2,\"linecolor\":\"white\",\"showbackground\":true,\"ticks\":\"\",\"zerolinecolor\":\"white\"},\"zaxis\":{\"backgroundcolor\":\"#E5ECF6\",\"gridcolor\":\"white\",\"gridwidth\":2,\"linecolor\":\"white\",\"showbackground\":true,\"ticks\":\"\",\"zerolinecolor\":\"white\"}},\"shapedefaults\":{\"line\":{\"color\":\"#2a3f5f\"}},\"ternary\":{\"aaxis\":{\"gridcolor\":\"white\",\"linecolor\":\"white\",\"ticks\":\"\"},\"baxis\":{\"gridcolor\":\"white\",\"linecolor\":\"white\",\"ticks\":\"\"},\"bgcolor\":\"#E5ECF6\",\"caxis\":{\"gridcolor\":\"white\",\"linecolor\":\"white\",\"ticks\":\"\"}},\"title\":{\"x\":0.05},\"xaxis\":{\"automargin\":true,\"gridcolor\":\"white\",\"linecolor\":\"white\",\"ticks\":\"\",\"title\":{\"standoff\":15},\"zerolinecolor\":\"white\",\"zerolinewidth\":2},\"yaxis\":{\"automargin\":true,\"gridcolor\":\"white\",\"linecolor\":\"white\",\"ticks\":\"\",\"title\":{\"standoff\":15},\"zerolinecolor\":\"white\",\"zerolinewidth\":2}}},\"xaxis\":{\"anchor\":\"y\",\"domain\":[0.0,1.0],\"title\":{\"text\":\"index\"}},\"yaxis\":{\"anchor\":\"x\",\"domain\":[0.0,1.0],\"title\":{\"text\":\"Term Frequencies\"}},\"legend\":{\"tracegroupgap\":0},\"title\":{\"text\":\"Top 30 frequent words from COMBINATION OF TRAINING AND TESTING datasets\"},\"barmode\":\"relative\"},                        {\"responsive\": true}                    ).then(function(){\n",
              "                            \n",
              "var gd = document.getElementById('42f4632d-2c34-45f3-899d-078f903e0896');\n",
              "var x = new MutationObserver(function (mutations, observer) {{\n",
              "        var display = window.getComputedStyle(gd).display;\n",
              "        if (!display || display === 'none') {{\n",
              "            console.log([gd, 'removed!']);\n",
              "            Plotly.purge(gd);\n",
              "            observer.disconnect();\n",
              "        }}\n",
              "}});\n",
              "\n",
              "// Listen for the removal of the full notebook cells\n",
              "var notebookContainer = gd.closest('#notebook-container');\n",
              "if (notebookContainer) {{\n",
              "    x.observe(notebookContainer, {childList: true});\n",
              "}}\n",
              "\n",
              "// Listen for the clearing of the current output cell\n",
              "var outputEl = gd.closest('.output');\n",
              "if (outputEl) {{\n",
              "    x.observe(outputEl, {childList: true});\n",
              "}}\n",
              "\n",
              "                        })                };                            </script>        </div>\n",
              "</body>\n",
              "</html>"
            ]
          },
          "metadata": {}
        }
      ],
      "source": [
        "#@title Answer here\n",
        "def get_frequencies(df, col):\n",
        "  ''' This function returns a pandas.Series object containing the unique words\n",
        "  in the text column along with their frequency in the column.\n",
        "  '''\n",
        "\n",
        "  words = ' '.join(df[col]) # merge all text contents of a datafram column\n",
        "  words = words.split() # tokenize words\n",
        "  words = pd.Series(words) # list --> pandas series for easier counting \n",
        "  return words.value_counts() # return the frequency of word in descending order\n",
        "\n",
        "# \n",
        "train_freq = get_frequencies(train_df, 'text')[:30] # frequency of words in train_df.text\n",
        "test_freq = get_frequencies(test_df, 'text')[:30] # frequency of words in test_df.text\n",
        "\n",
        "# plotly.express is used to plot the frequencies since it allows the exact values \n",
        "# with no further explicit coding requirement\n",
        "fig1 = px.bar(train_freq, x=train_freq.index, y=train_freq.values, \n",
        "              title=\"Top 30 frequent words from the TRAINING dataset\",\n",
        "             labels=dict(x=\"Words\", y=\"Frequencies\"))\n",
        "fig2 = px.bar(test_freq, x=test_freq.index, y=test_freq.values, \n",
        "              title=\"Top 30 frequent words from the TESTING dataset\",\n",
        "              labels=dict(x=\"Words\", y=\"Frequencies\"))\n",
        "fig1.show(), fig2.show()\n",
        "\n",
        "# If we want to see the term frequency from the combination of the text from \n",
        "# training and testing sets, the following approach can be used.\n",
        "\n",
        "# procedure is: first combine the dataframes and then use the text column\n",
        "all_texts = pd.concat([train_df, test_df], ignore_index=True)\n",
        "word_freq = get_frequencies(all_texts, 'text')[:30] # frequency of words in both train_df.text\n",
        "fig = px.bar(word_freq, x=word_freq.index, y=word_freq.values, \n",
        "              title=\"Top 30 frequent words from COMBINATION OF TRAINING AND TESTING datasets\",\n",
        "              labels=dict(x=\"Words\", y=\"Term Frequencies\")) \n",
        "fig.show() "
      ]
    },
    {
      "cell_type": "markdown",
      "metadata": {
        "id": "_hr8aKhlYTpo"
      },
      "source": [
        "---\n",
        "### 1.2 Save data"
      ]
    },
    {
      "cell_type": "markdown",
      "metadata": {
        "id": "Zm6GF2VvYTpo"
      },
      "source": [
        "We will save our data in Pickle format. The pickle module implements binary protocols for serializing and de-serializing a Python object structure.   \n",
        "  \n",
        "Some advantages for using pickle structure:  \n",
        "* Because it stores the attribute type, it's more convenient for cross-platform use.  \n",
        "* When your data is huge, it could use less space to store also consume less loading time.   "
      ]
    },
    {
      "cell_type": "code",
      "execution_count": null,
      "metadata": {
        "id": "dZzepBdpYTpo",
        "vscode": {
          "languageId": "python"
        }
      },
      "outputs": [],
      "source": [
        "## save to pickle file\n",
        "train_df.to_pickle(os.path.join(data_folder, \"train_df.pkl\")) \n",
        "test_df.to_pickle(os.path.join(data_folder, \"test_df.pkl\"))"
      ]
    },
    {
      "cell_type": "code",
      "execution_count": 6,
      "metadata": {
        "id": "H5uO-kOUYTpo",
        "vscode": {
          "languageId": "python"
        }
      },
      "outputs": [],
      "source": [
        "## load a pickle file\n",
        "train_df = pd.read_pickle(os.path.join(data_folder, \"train_df.pkl\"))\n",
        "test_df = pd.read_pickle(os.path.join(data_folder, \"test_df.pkl\"))"
      ]
    },
    {
      "cell_type": "markdown",
      "metadata": {
        "id": "_sLDcQzeYTpo"
      },
      "source": [
        "For more information: https://reurl.cc/0Dzqx"
      ]
    },
    {
      "cell_type": "markdown",
      "metadata": {
        "id": "dKHpxTzLYTpo"
      },
      "source": [
        "---\n",
        "### 1.3 Exploratory data analysis (EDA)\n",
        "\n",
        "Again, before getting our hands dirty, we need to explore a little bit and understand the data we're dealing with."
      ]
    },
    {
      "cell_type": "code",
      "execution_count": null,
      "metadata": {
        "colab": {
          "base_uri": "https://localhost:8080/"
        },
        "id": "mLnEEliCYTpo",
        "outputId": "fa2aed24-a1f8-49aa-d550-9cbb4501344b",
        "vscode": {
          "languageId": "python"
        }
      },
      "outputs": [
        {
          "output_type": "execute_result",
          "data": {
            "text/plain": [
              "emotion\n",
              "anger       857\n",
              "fear       1147\n",
              "joy         823\n",
              "sadness     786\n",
              "Name: intensity, dtype: int64"
            ]
          },
          "metadata": {},
          "execution_count": 32
        }
      ],
      "source": [
        "# group to find distribution \n",
        "train_df.groupby(['emotion']).count()['intensity'] "
      ]
    },
    {
      "cell_type": "code",
      "execution_count": null,
      "metadata": {
        "colab": {
          "base_uri": "https://localhost:8080/"
        },
        "id": "X3mIGpAS9pGe",
        "outputId": "0ac0e221-b9c8-4ce7-e6c7-1358ca218195",
        "vscode": {
          "languageId": "python"
        }
      },
      "outputs": [
        {
          "output_type": "execute_result",
          "data": {
            "text/plain": [
              "fear       1147\n",
              "anger       857\n",
              "joy         823\n",
              "sadness     786\n",
              "Name: emotion, dtype: int64"
            ]
          },
          "metadata": {},
          "execution_count": 33
        }
      ],
      "source": [
        "train_df['emotion'].value_counts() "
      ]
    },
    {
      "cell_type": "code",
      "source": [
        "df1 = train_df.groupby(['emotion']).count()['text'] \n",
        "df1"
      ],
      "metadata": {
        "colab": {
          "base_uri": "https://localhost:8080/"
        },
        "id": "JffYO7nskLDl",
        "outputId": "1fb6e04b-2eb7-48d8-feeb-760a8d330f94"
      },
      "execution_count": null,
      "outputs": [
        {
          "output_type": "execute_result",
          "data": {
            "text/plain": [
              "emotion\n",
              "anger       857\n",
              "fear       1147\n",
              "joy         823\n",
              "sadness     786\n",
              "Name: text, dtype: int64"
            ]
          },
          "metadata": {},
          "execution_count": 12
        }
      ]
    },
    {
      "cell_type": "code",
      "execution_count": 10,
      "metadata": {
        "colab": {
          "base_uri": "https://localhost:8080/",
          "height": 241
        },
        "id": "pcVOe8nYYTpo",
        "outputId": "047200c8-966d-4953-c3dd-0d2bcffc5b57",
        "vscode": {
          "languageId": "python"
        }
      },
      "outputs": [
        {
          "output_type": "display_data",
          "data": {
            "text/plain": [
              "<Figure size 360x216 with 1 Axes>"
            ],
            "image/png": "[encoded data removed]"
          },
          "metadata": {
            "needs_background": "light"
          }
        }
      ],
      "source": [
        "# the histogram of the data\n",
        "labels = train_df['emotion'].unique()\n",
        "post_total = len(train_df)\n",
        "df1 = train_df.groupby(['emotion']).count()['text'] \n",
        "df1 = df1.apply(lambda x: round(x*100/post_total,3)) # y value\n",
        "\n",
        "# plot \n",
        "fig, ax = plt.subplots(figsize=(5,3))\n",
        "plt.bar(df1.index,df1.values) # ( x value, y value)\n",
        "\n",
        "# arrange \n",
        "plt.ylabel('% of instances')\n",
        "plt.xlabel('Emotion')\n",
        "plt.title('Emotion distribution')\n",
        "plt.grid(True)\n",
        "plt.show() "
      ]
    },
    {
      "cell_type": "markdown",
      "source": [
        "10 mins break to 10:28"
      ],
      "metadata": {
        "id": "TBLSLsZrk6Sk"
      }
    },
    {
      "cell_type": "markdown",
      "metadata": {
        "id": "B_jGcireYTpo"
      },
      "source": [
        "---"
      ]
    },
    {
      "cell_type": "markdown",
      "metadata": {
        "id": "hgHvhTJuYTpo"
      },
      "source": [
        "## 2. Feature engineering\n",
        "### Using Bag of Words\n",
        "Using scikit-learn ```CountVectorizer``` perform word frequency and use these as features to train a model.  \n",
        "http://scikit-learn.org/stable/modules/generated/sklearn.feature_extraction.text.CountVectorizer.html"
      ]
    },
    {
      "cell_type": "code",
      "execution_count": 5,
      "metadata": {
        "id": "Bo8_GP6qYTpo",
        "vscode": {
          "languageId": "python"
        }
      },
      "outputs": [],
      "source": [
        "# build analyzers (bag-of-words)\n",
        "BOW_vectorizer = CountVectorizer() "
      ]
    },
    {
      "cell_type": "code",
      "execution_count": null,
      "metadata": {
        "id": "Bz_m0xn7YTpo",
        "vscode": {
          "languageId": "python"
        }
      },
      "outputs": [],
      "source": [
        "# 1. Learn a vocabulary dictionary of all tokens in the raw documents.\n",
        "BOW_vectorizer.fit(train_df['text'])\n",
        "\n",
        "# 2. Transform documents to document-term matrix.\n",
        "train_data_BOW_features = BOW_vectorizer.transform(train_df['text'])\n",
        "test_data_BOW_features = BOW_vectorizer.transform(test_df['text'])"
      ]
    },
    {
      "cell_type": "code",
      "execution_count": null,
      "metadata": {
        "colab": {
          "base_uri": "https://localhost:8080/"
        },
        "id": "5cpCUVN8YTpo",
        "outputId": "09edab84-618e-44d3-e386-b6a62b129adb",
        "vscode": {
          "languageId": "python"
        }
      },
      "outputs": [
        {
          "output_type": "execute_result",
          "data": {
            "text/plain": [
              "<3613x10115 sparse matrix of type '<class 'numpy.int64'>'\n",
              "\twith 51467 stored elements in Compressed Sparse Row format>"
            ]
          },
          "metadata": {},
          "execution_count": 17
        }
      ],
      "source": [
        "# check the result\n",
        "train_data_BOW_features "
      ]
    },
    {
      "cell_type": "code",
      "source": [
        "type(train_data_BOW_features) "
      ],
      "metadata": {
        "id": "dpj-LlaNGDCX",
        "outputId": "0298af18-98a8-463e-a405-a4791c00a5bf",
        "colab": {
          "base_uri": "https://localhost:8080/"
        }
      },
      "execution_count": null,
      "outputs": [
        {
          "output_type": "execute_result",
          "data": {
            "text/plain": [
              "scipy.sparse.csr.csr_matrix"
            ]
          },
          "metadata": {},
          "execution_count": 29
        }
      ]
    },
    {
      "cell_type": "code",
      "execution_count": null,
      "metadata": {
        "colab": {
          "base_uri": "https://localhost:8080/"
        },
        "id": "WqbR8KWNYTpo",
        "outputId": "678fb734-5745-4f39-ebf0-5efb908e00f5",
        "scrolled": true,
        "vscode": {
          "languageId": "python"
        }
      },
      "outputs": [
        {
          "output_type": "execute_result",
          "data": {
            "text/plain": [
              "array([[0, 0, 0, ..., 0, 0, 0],\n",
              "       [0, 0, 0, ..., 0, 0, 0],\n",
              "       [0, 0, 1, ..., 0, 0, 0],\n",
              "       ...,\n",
              "       [0, 0, 0, ..., 0, 0, 0],\n",
              "       [0, 0, 0, ..., 0, 0, 0],\n",
              "       [0, 0, 0, ..., 0, 0, 0]])"
            ]
          },
          "metadata": {},
          "execution_count": 18
        }
      ],
      "source": [
        "# add .toarray() to show\n",
        "train_data_BOW_features.toarray()"
      ]
    },
    {
      "cell_type": "code",
      "execution_count": null,
      "metadata": {
        "colab": {
          "base_uri": "https://localhost:8080/"
        },
        "id": "mL0xkGyGYTpo",
        "outputId": "8891f56d-90e0-4fd4-80d1-ca19ca7d05f8",
        "scrolled": false,
        "vscode": {
          "languageId": "python"
        }
      },
      "outputs": [
        {
          "output_type": "execute_result",
          "data": {
            "text/plain": [
              "(3613, 10115)"
            ]
          },
          "metadata": {},
          "execution_count": 19
        }
      ],
      "source": [
        "# check the dimension\n",
        "train_data_BOW_features.shape"
      ]
    },
    {
      "cell_type": "code",
      "execution_count": null,
      "metadata": {
        "colab": {
          "base_uri": "https://localhost:8080/"
        },
        "id": "iyRaxyBZYTpo",
        "outputId": "4d5a3322-3070-443c-d399-0d23551742f4",
        "vscode": {
          "languageId": "python"
        }
      },
      "outputs": [
        {
          "output_type": "execute_result",
          "data": {
            "text/plain": [
              "array(['2k17', '2much', '2nd', '30', '300', '301', '30am', '30pm', '30s',\n",
              "       '31'], dtype=object)"
            ]
          },
          "metadata": {},
          "execution_count": 20
        }
      ],
      "source": [
        "# observe some feature names\n",
        "feature_names = BOW_vectorizer.get_feature_names_out() \n",
        "feature_names[100:110] "
      ]
    },
    {
      "cell_type": "code",
      "source": [
        "sum(train_data_BOW_features.toarray()[0])"
      ],
      "metadata": {
        "colab": {
          "base_uri": "https://localhost:8080/"
        },
        "id": "U8JwQGr3pTbM",
        "outputId": "b15b5ce0-04e1-4fb2-a51c-6786d43c216a"
      },
      "execution_count": null,
      "outputs": [
        {
          "output_type": "execute_result",
          "data": {
            "text/plain": [
              "3"
            ]
          },
          "metadata": {},
          "execution_count": 21
        }
      ]
    },
    {
      "cell_type": "markdown",
      "metadata": {
        "id": "roSfgQKaYTpo"
      },
      "source": [
        "The embedding is done. We can technically feed this into our model. However, depending on the embedding technique you use and your model, your accuracy might not be as high, because:\n",
        "\n",
        "* curse of dimensionality  (we have 10,115 dimension now)\n",
        "* some important features are ignored (for example, some models using emoticons yeld better performance than counterparts)"
      ]
    },
    {
      "cell_type": "code",
      "execution_count": null,
      "metadata": {
        "colab": {
          "base_uri": "https://localhost:8080/"
        },
        "id": "kx4YPbrdYTpo",
        "outputId": "01fd7d26-6d01-44e1-8560-36422e5fe1b2",
        "vscode": {
          "languageId": "python"
        }
      },
      "outputs": [
        {
          "output_type": "execute_result",
          "data": {
            "text/plain": [
              "False"
            ]
          },
          "metadata": {},
          "execution_count": 22
        }
      ],
      "source": [
        "\"😂\" in feature_names"
      ]
    },
    {
      "cell_type": "markdown",
      "metadata": {
        "id": "0MFzyA95YTpo"
      },
      "source": [
        "Let's try using another tokenizer below."
      ]
    },
    {
      "cell_type": "code",
      "execution_count": 16,
      "metadata": {
        "colab": {
          "base_uri": "https://localhost:8080/"
        },
        "id": "SttodxACYTpo",
        "outputId": "b651aa63-bb95-49c0-a188-986184e2fc58",
        "vscode": {
          "languageId": "python"
        }
      },
      "outputs": [
        {
          "output_type": "execute_result",
          "data": {
            "text/plain": [
              "(3613, 500)"
            ]
          },
          "metadata": {},
          "execution_count": 16
        }
      ],
      "source": [
        "\n",
        "# build analyzers (bag-of-words)\n",
        "BOW_500 = CountVectorizer(max_features=500, tokenizer=nltk.word_tokenize) \n",
        "\n",
        "# apply analyzer to training data\n",
        "BOW_500.fit(train_df['text'])\n",
        "\n",
        "train_data_BOW_features_500 = BOW_500.transform(train_df['text'])\n",
        "\n",
        "## check dimension\n",
        "train_data_BOW_features_500.shape"
      ]
    },
    {
      "cell_type": "code",
      "execution_count": null,
      "metadata": {
        "colab": {
          "base_uri": "https://localhost:8080/"
        },
        "id": "sPi42W0pYTpo",
        "outputId": "0ad7d255-ff54-40df-d7b4-bad81d25709c",
        "vscode": {
          "languageId": "python"
        }
      },
      "outputs": [
        {
          "output_type": "execute_result",
          "data": {
            "text/plain": [
              "array([[0, 0, 0, ..., 0, 0, 0],\n",
              "       [0, 2, 0, ..., 0, 0, 0],\n",
              "       [0, 3, 0, ..., 0, 0, 0],\n",
              "       ...,\n",
              "       [0, 2, 0, ..., 0, 0, 0],\n",
              "       [0, 0, 0, ..., 0, 0, 0],\n",
              "       [1, 0, 0, ..., 0, 0, 0]])"
            ]
          },
          "metadata": {},
          "execution_count": 25
        }
      ],
      "source": [
        "train_data_BOW_features_500.toarray()"
      ]
    },
    {
      "cell_type": "code",
      "execution_count": null,
      "metadata": {
        "colab": {
          "base_uri": "https://localhost:8080/"
        },
        "id": "JCgAnTOfYTpo",
        "outputId": "8c52b118-b447-4516-d493-930e7306277e",
        "vscode": {
          "languageId": "python"
        }
      },
      "outputs": [
        {
          "output_type": "execute_result",
          "data": {
            "text/plain": [
              "array(['change', 'cheer', 'cheerful', 'cheerfully', 'cheering', 'cheery',\n",
              "       'come', 'comes', 'could', 'country'], dtype=object)"
            ]
          },
          "metadata": {},
          "execution_count": 26
        }
      ],
      "source": [
        "# observe some feature names\n",
        "feature_names_500 = BOW_500.get_feature_names_out()\n",
        "feature_names_500[100:110]"
      ]
    },
    {
      "cell_type": "code",
      "execution_count": null,
      "metadata": {
        "colab": {
          "base_uri": "https://localhost:8080/"
        },
        "id": "ubgedNi4YTpo",
        "outputId": "ae16dab5-d131-4099-92c1-86eeef8c38cd",
        "vscode": {
          "languageId": "python"
        }
      },
      "outputs": [
        {
          "output_type": "execute_result",
          "data": {
            "text/plain": [
              "True"
            ]
          },
          "metadata": {},
          "execution_count": 27
        }
      ],
      "source": [
        "\"😂\" in feature_names_500"
      ]
    },
    {
      "cell_type": "markdown",
      "metadata": {
        "id": "fj6TV4ngYTpo"
      },
      "source": [
        "---\n",
        "### ** >>> Exercise 2 (Take home): **  \n",
        "Generate an embedding using the TF-IDF vectorizer instead of th BOW one with 1000 features and show the feature names for features [100:110]."
      ]
    },
    {
      "cell_type": "code",
      "execution_count": 7,
      "metadata": {
        "id": "BOjVbgmxYTpo",
        "vscode": {
          "languageId": "python"
        },
        "colab": {
          "base_uri": "https://localhost:8080/"
        },
        "cellView": "form",
        "outputId": "6a7ab3d9-8830-4274-f42e-d621d4ec7af8"
      },
      "outputs": [
        {
          "output_type": "execute_result",
          "data": {
            "text/plain": [
              "array(['awful', 'b', 'baby', 'back', 'bad', 'ball', 'balls', 'bb18', 'bc',\n",
              "       'bday'], dtype=object)"
            ]
          },
          "metadata": {},
          "execution_count": 7
        }
      ],
      "source": [
        "#@title Answer here \n",
        "\n",
        "# build analyzers (tf-idf)\n",
        "tfidf_1000 = TfidfVectorizer(max_features=1000, tokenizer=nltk.word_tokenize) \n",
        "\n",
        "# apply analyzer to training data\n",
        "tfidf_1000.fit(train_df['text'])\n",
        "\n",
        "train_data_tfidf_features_1000 = tfidf_1000.transform(train_df['text'])\n",
        "\n",
        "# observe some feature names\n",
        "feature_names_1000 = tfidf_1000.get_feature_names_out()\n",
        "feature_names_1000[100:110] "
      ]
    },
    {
      "cell_type": "markdown",
      "metadata": {
        "id": "e0BvbNAVYTpo"
      },
      "source": [
        "---\n",
        "## 3. Model\n",
        "### 3.1 Decision Trees\n",
        "Using scikit-learn ```DecisionTreeClassifier``` performs word frequency and uses these as features to train a model.  \n",
        "http://scikit-learn.org/stable/modules/generated/sklearn.tree.DecisionTreeClassifier.html#sklearn.tree.DecisionTreeClassifier"
      ]
    },
    {
      "cell_type": "code",
      "execution_count": 17,
      "metadata": {
        "colab": {
          "base_uri": "https://localhost:8080/"
        },
        "id": "SD0rMWKgYTpo",
        "outputId": "200a50e5-9c14-407a-8b41-2d32a871c1f4",
        "vscode": {
          "languageId": "python"
        }
      },
      "outputs": [
        {
          "output_type": "stream",
          "name": "stdout",
          "text": [
            "X_train.shape:  (3613, 500)\n",
            "y_train.shape:  (3613,)\n",
            "X_test.shape:  (347, 500)\n",
            "y_test.shape:  (347,)\n"
          ]
        }
      ],
      "source": [
        "# for a classificaiton problem, you need to provide both training & testing data\n",
        "X_train = BOW_500.transform(train_df['text'])\n",
        "y_train = train_df['emotion']\n",
        "\n",
        "X_test = BOW_500.transform(test_df['text'])\n",
        "y_test = test_df['emotion']\n",
        "\n",
        "## take a look at data dimension is a good habit  :)\n",
        "print('X_train.shape: ', X_train.shape)\n",
        "print('y_train.shape: ', y_train.shape)\n",
        "print('X_test.shape: ', X_test.shape)\n",
        "print('y_test.shape: ', y_test.shape)"
      ]
    },
    {
      "cell_type": "code",
      "execution_count": 13,
      "metadata": {
        "colab": {
          "base_uri": "https://localhost:8080/"
        },
        "id": "iDuvLf7TYTpo",
        "outputId": "c4ce6bba-d72c-4e72-e575-e409f9862df5",
        "vscode": {
          "languageId": "python"
        }
      },
      "outputs": [
        {
          "output_type": "execute_result",
          "data": {
            "text/plain": [
              "array(['joy', 'sadness', 'fear', 'fear', 'joy', 'fear', 'joy', 'fear',\n",
              "       'sadness', 'anger'], dtype=object)"
            ]
          },
          "metadata": {},
          "execution_count": 13
        }
      ],
      "source": [
        "## build DecisionTree model \n",
        "DT_model = DecisionTreeClassifier(random_state=1) \n",
        "\n",
        "## training! \n",
        "DT_model = DT_model.fit(X_train, y_train) \n",
        "# finish training! \n",
        "\n",
        "## predict! \n",
        "y_train_pred = DT_model.predict(X_train) \n",
        "y_test_pred = DT_model.predict(X_test) \n",
        "\n",
        "## so we get the pred result \n",
        "y_test_pred[:10] "
      ]
    },
    {
      "cell_type": "code",
      "source": [
        "y_train_pred[:5]"
      ],
      "metadata": {
        "colab": {
          "base_uri": "https://localhost:8080/"
        },
        "id": "PMFMuts1sSk9",
        "outputId": "ad0d1538-141f-461c-e554-9e54b6203962"
      },
      "execution_count": null,
      "outputs": [
        {
          "output_type": "execute_result",
          "data": {
            "text/plain": [
              "array(['fear', 'joy', 'anger', 'joy', 'fear'], dtype=object)"
            ]
          },
          "metadata": {},
          "execution_count": 54
        }
      ]
    },
    {
      "cell_type": "markdown",
      "metadata": {
        "id": "iBNmBT50YTpo"
      },
      "source": [
        "---\n",
        "## 4. Results Evaluation"
      ]
    },
    {
      "cell_type": "markdown",
      "metadata": {
        "id": "-gQU_PbhYTpo"
      },
      "source": [
        "Now we will check the results of our model's performance"
      ]
    },
    {
      "cell_type": "code",
      "execution_count": 14,
      "metadata": {
        "colab": {
          "base_uri": "https://localhost:8080/"
        },
        "id": "A9yx3tv-YTpo",
        "outputId": "f93112f6-53b2-4570-ef4b-a5db5c3e49cd",
        "vscode": {
          "languageId": "python"
        }
      },
      "outputs": [
        {
          "output_type": "stream",
          "name": "stdout",
          "text": [
            "training accuracy: 0.99\n",
            "testing accuracy: 0.68\n"
          ]
        }
      ],
      "source": [
        "## accuracy\n",
        "acc_train = accuracy_score(y_true=y_train, y_pred=y_train_pred)\n",
        "acc_test = accuracy_score(y_true=y_test, y_pred=y_test_pred)\n",
        "\n",
        "print('training accuracy: {}'.format(round(acc_train, 2)))\n",
        "print('testing accuracy: {}'.format(round(acc_test, 2)))"
      ]
    },
    {
      "cell_type": "code",
      "source": [
        "1/(4.0) # random guess"
      ],
      "metadata": {
        "colab": {
          "base_uri": "https://localhost:8080/"
        },
        "id": "aHQxI_aAtee9",
        "outputId": "fd83946a-b66b-43fe-dc03-4990034b2a21"
      },
      "execution_count": null,
      "outputs": [
        {
          "output_type": "execute_result",
          "data": {
            "text/plain": [
              "0.25"
            ]
          },
          "metadata": {},
          "execution_count": 56
        }
      ]
    },
    {
      "cell_type": "code",
      "execution_count": 15,
      "metadata": {
        "colab": {
          "base_uri": "https://localhost:8080/"
        },
        "id": "-wkOqjqiYTpo",
        "outputId": "66c126f7-d45c-4f3a-e4b1-3db678e986d9",
        "vscode": {
          "languageId": "python"
        }
      },
      "outputs": [
        {
          "output_type": "stream",
          "name": "stdout",
          "text": [
            "              precision    recall  f1-score   support\n",
            "\n",
            "       anger       0.66      0.68      0.67        84\n",
            "        fear       0.66      0.69      0.67       110\n",
            "         joy       0.72      0.71      0.71        79\n",
            "     sadness       0.70      0.64      0.67        74\n",
            "\n",
            "    accuracy                           0.68       347\n",
            "   macro avg       0.68      0.68      0.68       347\n",
            "weighted avg       0.68      0.68      0.68       347\n",
            "\n"
          ]
        }
      ],
      "source": [
        "## precision, recall, f1-score,\n",
        "print(classification_report(y_true=y_test, y_pred=y_test_pred))"
      ]
    },
    {
      "cell_type": "code",
      "execution_count": 16,
      "metadata": {
        "colab": {
          "base_uri": "https://localhost:8080/"
        },
        "id": "N6mhrmKHYTpo",
        "outputId": "e4b1e0f3-124f-46b8-90bf-0e61538796da",
        "vscode": {
          "languageId": "python"
        }
      },
      "outputs": [
        {
          "output_type": "stream",
          "name": "stdout",
          "text": [
            "[[57 18  6  3]\n",
            " [16 76  9  9]\n",
            " [ 6  9 56  8]\n",
            " [ 7 13  7 47]]\n"
          ]
        }
      ],
      "source": [
        "## check by confusion matrix\n",
        "cm = confusion_matrix(y_true=y_test, y_pred=y_test_pred) \n",
        "print(cm)"
      ]
    },
    {
      "cell_type": "code",
      "execution_count": 9,
      "metadata": {
        "id": "-TcX8NA5YTpo",
        "vscode": {
          "languageId": "python"
        }
      },
      "outputs": [],
      "source": [
        "# Funciton for visualizing confusion_matrix\n",
        "def plot_confusion_matrix(cm, classes, title='Confusion matrix',\n",
        "                          cmap=sns.cubehelix_palette(as_cmap=True)):\n",
        "    \"\"\"\n",
        "    This function is modified from: \n",
        "    http://scikit-learn.org/stable/auto_examples/model_selection/plot_confusion_matrix.html\n",
        "    \"\"\"\n",
        "    classes.sort()\n",
        "    tick_marks = np.arange(len(classes))    \n",
        "    \n",
        "    fig, ax = plt.subplots(figsize=(5,5))\n",
        "    im = ax.imshow(cm, interpolation='nearest', cmap=cmap)\n",
        "    ax.figure.colorbar(im, ax=ax)\n",
        "    ax.set(xticks=np.arange(cm.shape[1]),\n",
        "           yticks=np.arange(cm.shape[0]),\n",
        "           xticklabels = classes,\n",
        "           yticklabels = classes,\n",
        "           title = title,\n",
        "           xlabel = 'True label',\n",
        "           ylabel = 'Predicted label')\n",
        "\n",
        "    fmt = 'd'\n",
        "    thresh = cm.max() / 2.\n",
        "    for i, j in itertools.product(range(cm.shape[0]), range(cm.shape[1])):\n",
        "        plt.text(j, i, format(cm[i, j], fmt), horizontalalignment=\"center\", color=\"white\" if cm[i, j] > thresh else \"black\")\n",
        "    ylim_top = len(classes) - 0.5\n",
        "    plt.ylim([ylim_top, -.5])\n",
        "    plt.tight_layout()\n",
        "    plt.show()"
      ]
    },
    {
      "cell_type": "code",
      "execution_count": 17,
      "metadata": {
        "colab": {
          "base_uri": "https://localhost:8080/",
          "height": 363
        },
        "id": "1nBVOUpDYTpo",
        "outputId": "351e1532-07df-4743-d041-71adc73aa01c",
        "vscode": {
          "languageId": "python"
        }
      },
      "outputs": [
        {
          "output_type": "display_data",
          "data": {
            "text/plain": [
              "<Figure size 360x360 with 2 Axes>"
            ],
            "image/png": "[encoded data removed]"
          },
          "metadata": {
            "needs_background": "light"
          }
        }
      ],
      "source": [
        "# plot your confusion matrix\n",
        "my_tags = ['anger', 'fear', 'joy', 'sadness']\n",
        "plot_confusion_matrix(cm, classes=my_tags, title='Confusion matrix')"
      ]
    },
    {
      "cell_type": "markdown",
      "metadata": {
        "id": "l743vmwgYTpo"
      },
      "source": [
        "---\n",
        "### ** >>> Exercise 3 (Take home): **  \n",
        "Can you interpret the results above? What do they mean?"
      ]
    },
    {
      "cell_type": "code",
      "execution_count": null,
      "metadata": {
        "id": "8pYICOxsYTpo",
        "vscode": {
          "languageId": "python"
        },
        "cellView": "form"
      },
      "outputs": [],
      "source": [
        "#@title Answer here\n",
        "'''\n",
        "From the results/values in the confusion matrix we can identify the number of \n",
        "instances:\n",
        "    + truely classified to their category (TP), \n",
        "    + truely classified to other categories (TN),\n",
        "    + falsely classified to other categories (FN),\n",
        "    + falsely classified from other categories (FP)\n",
        "\n",
        "The following rectangular circles are just showcases for 'anger' category.\n",
        "  i. The values in the diagonals represent the corresponding number of instances\n",
        "      correctly classified in each category.\n",
        "  ii. The values in each row excluding  the corresponding diagonal value represent the FPs\n",
        "  iii. The values in each column excluding the corresponding diagonal value represent the FNs\n",
        "  iv. All other remaining values represent the TNs\n",
        "\n",
        "We can also learn from the color gradient. The darker a cell is the more values\n",
        "are there and the TP cells are more darker than other cells.\n",
        "\n",
        "Using this sum of instances we can determine how much our model learns to differentiate\n",
        "among the categories. The evaluation metrics like precision, recall and f1-score\n",
        "are calculated from these values to express the overall performace of the model.\n",
        "We may also determine the evaluation metrics for each category.\n",
        "\n",
        "'''"
      ]
    },
    {
      "cell_type": "markdown",
      "source": [
        "![image.png](data:image/png;base64,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)"
      ],
      "metadata": {
        "id": "kWQ-0pubh6Zb"
      }
    },
    {
      "cell_type": "markdown",
      "metadata": {
        "id": "GaHpgl87YTpo"
      },
      "source": [
        "---\n",
        "### ** >>> Exercise 4 (Take home): **  \n",
        "Build a model using a ```Naive Bayes``` model and train it. What are the testing results? \n",
        "\n",
        "*Reference*: https://scikit-learn.org/stable/modules/generated/sklearn.naive_bayes.MultinomialNB.html"
      ]
    },
    {
      "cell_type": "code",
      "execution_count": 18,
      "metadata": {
        "id": "ZPvaHzpXYTpo",
        "vscode": {
          "languageId": "python"
        },
        "colab": {
          "base_uri": "https://localhost:8080/",
          "height": 554
        },
        "cellView": "form",
        "outputId": "ed8b6055-53be-4968-fa4f-396aab5b51e7"
      },
      "outputs": [
        {
          "output_type": "stream",
          "name": "stdout",
          "text": [
            "              precision    recall  f1-score   support\n",
            "\n",
            "       anger       0.63      0.65      0.64        84\n",
            "        fear       0.73      0.77      0.75       110\n",
            "         joy       0.78      0.71      0.74        79\n",
            "     sadness       0.64      0.62      0.63        74\n",
            "\n",
            "    accuracy                           0.70       347\n",
            "   macro avg       0.70      0.69      0.69       347\n",
            "weighted avg       0.70      0.70      0.70       347\n",
            "\n"
          ]
        },
        {
          "output_type": "display_data",
          "data": {
            "text/plain": [
              "<Figure size 360x360 with 2 Axes>"
            ],
            "image/png": "[encoded data removed]"
          },
          "metadata": {
            "needs_background": "light"
          }
        }
      ],
      "source": [
        "#@title Answer here\n",
        "\n",
        "# for a classificaiton problem, you need to provide both training & testing data\n",
        "X_train = BOW_500.transform(train_df['text'])\n",
        "y_train = train_df['emotion']\n",
        "\n",
        "X_test = BOW_500.transform(test_df['text'])\n",
        "y_test = test_df['emotion']\n",
        "\n",
        "## build Naive Bayes model\n",
        "NB_model = MultinomialNB()\n",
        "\n",
        "## training!\n",
        "NB_model = NB_model.fit(X_train, y_train)\n",
        "\n",
        "## predict!\n",
        "y_train_pred_nb = NB_model.predict(X_train)\n",
        "y_test_pred_nb = NB_model.predict(X_test)\n",
        "\n",
        "acc_train_nb = accuracy_score(y_true=y_train, y_pred=y_train_pred_nb)\n",
        "acc_test_nb = accuracy_score(y_true=y_test, y_pred=y_test_pred_nb)\n",
        "\n",
        "## precision, recall, f1-score\n",
        "print(classification_report(y_true=y_test, y_pred=y_test_pred_nb))\n",
        "\n",
        "## check by confusion matrix\n",
        "cm_nb = confusion_matrix(y_true=y_test, y_pred=y_test_pred_nb) \n",
        "\n",
        "plot_confusion_matrix(cm_nb, classes=my_tags, title='Confusion matrix')"
      ]
    },
    {
      "cell_type": "markdown",
      "metadata": {
        "id": "Xv2DqWQSYTpo"
      },
      "source": [
        "---\n",
        "### ** >>> Exercise 5 (Take home): **  \n",
        "\n",
        "How do the results from the Naive Bayes model and the Decision Tree model compare? How do you interpret these differences? Use the theoretical background covered in class to try and explain these differences."
      ]
    },
    {
      "cell_type": "code",
      "execution_count": null,
      "metadata": {
        "id": "ALN_jHdlYTpo",
        "vscode": {
          "languageId": "python"
        },
        "cellView": "form"
      },
      "outputs": [],
      "source": [
        "#@title Answer here\n",
        "''' \n",
        "The results shown in the Naive Bayes(NB) shown an overall impovement than the \n",
        "Decision Tree (DT). All the overall evaluation metrics in the DT are similar (68)\n",
        "while those in NB show a little difference one another(69, 70).\n",
        "\n",
        "The following literature also states that NB outperforms DT bu DT is faster.\n",
        "https://thesai.org/Downloads/Volume4No11/Paper_5-Performance_Comparison_between_Naïve_Bayes.pdf\n",
        "\n",
        "'''"
      ]
    },
    {
      "cell_type": "markdown",
      "metadata": {
        "id": "ehlJ60lhYTpo"
      },
      "source": [
        "---"
      ]
    },
    {
      "cell_type": "markdown",
      "metadata": {
        "id": "79F_DaW-YTpo"
      },
      "source": [
        "## 5. Other things you can try"
      ]
    },
    {
      "cell_type": "markdown",
      "metadata": {
        "id": "_oeqpRu6YTpo"
      },
      "source": [
        "Thus, there are several things you can try that will affect your results. In order to yield better results, you can experiment by: \n",
        "- Trying different features (Feature engineering)e.g Word2Vec, PCA, LDA, FastText, Clustering\n",
        "- Trying different models\n",
        "- Analyzing your results and interpret them to improve your feature engineering/model building process\n",
        "- Iterate through the steps above until finding a satisfying result\n",
        "\n",
        "Remember that you should also consider the task at hand and the model you'll feed the data to. "
      ]
    },
    {
      "cell_type": "markdown",
      "source": [
        "we have finished the traditional classifier and features\n",
        "\n",
        "\n",
        "10 mins break and back on 11:18."
      ],
      "metadata": {
        "id": "hiGZry0NwQZB"
      }
    },
    {
      "cell_type": "markdown",
      "metadata": {
        "id": "fiGUSmPLYTpo"
      },
      "source": [
        "---\n",
        "## 6. Deep Learning\n",
        "\n",
        "We use [Keras](https://keras.io/) to be our deep learning framwork, and follow the [Model (functional API)](https://keras.io/models/model/) to build a Deep Neural Network (DNN) model. Keras runs with Tensorflow in the backend. It's a nice abstraction to start working with NN models. \n",
        "\n",
        "Because Deep Learning is a 1-semester course, we can't talk about each detail about it in the lab session. Here, we only provide a simple template about how to build & run a DL model successfully. You can follow this template to design your model.\n",
        "\n",
        "We will begin by building a fully connected network, which looks like this:"
      ]
    },
    {
      "cell_type": "markdown",
      "metadata": {
        "id": "1nB0BTq2YTpo"
      },
      "source": [
        "![Fully Connected Network](https://drive.google.com/uc?id=1W7WqyYIfMq4CU5iWPAw5JOdEs_FfYyx7)\n",
        "\n",
        "(source: https://github.com/drewnoff/spark-notebook-ml-labs/tree/master/labs/DLFramework)\n"
      ]
    },
    {
      "cell_type": "markdown",
      "metadata": {
        "id": "-EtVRGhNYTpo"
      },
      "source": [
        "### 6.1 Prepare data (X, y)"
      ]
    },
    {
      "cell_type": "code",
      "execution_count": 18,
      "metadata": {
        "colab": {
          "base_uri": "https://localhost:8080/"
        },
        "id": "4mIdg2D6YTpo",
        "outputId": "77367227-fde4-4785-9175-de120de61477",
        "vscode": {
          "languageId": "python"
        }
      },
      "outputs": [
        {
          "output_type": "stream",
          "name": "stdout",
          "text": [
            "X_train.shape:  (3613, 500)\n",
            "y_train.shape:  (3613,)\n",
            "X_test.shape:  (347, 500)\n",
            "y_test.shape:  (347,)\n"
          ]
        }
      ],
      "source": [
        "# import keras\n",
        "\n",
        "# standardize name (X, y) \n",
        "X_train = BOW_500.transform(train_df['text'])\n",
        "y_train = train_df['emotion']\n",
        "\n",
        "X_test = BOW_500.transform(test_df['text'])\n",
        "y_test = test_df['emotion']\n",
        "\n",
        "## check dimension is a good habbit \n",
        "print('X_train.shape: ', X_train.shape)\n",
        "print('y_train.shape: ', y_train.shape)\n",
        "print('X_test.shape: ', X_test.shape)\n",
        "print('y_test.shape: ', y_test.shape)"
      ]
    },
    {
      "cell_type": "code",
      "source": [
        "train_df['text'][0]"
      ],
      "metadata": {
        "colab": {
          "base_uri": "https://localhost:8080/",
          "height": 53
        },
        "id": "JDpEgcogXbVL",
        "outputId": "779d36a1-0772-4bd6-9885-58d28f51f2fd"
      },
      "execution_count": 22,
      "outputs": [
        {
          "output_type": "execute_result",
          "data": {
            "text/plain": [
              "'How the fu*k! Who the heck! moved my fridge!... should I knock the landlord door. #angry #mad ##'"
            ],
            "application/vnd.google.colaboratory.intrinsic+json": {
              "type": "string"
            }
          },
          "metadata": {},
          "execution_count": 22
        }
      ]
    },
    {
      "cell_type": "markdown",
      "metadata": {
        "id": "iBZZedZ2YTpo"
      },
      "source": [
        "### 6.2 Deal with categorical label (y)\n",
        "\n",
        "Rather than put your label `train_df['emotion']` directly into a model, we have to process these categorical (or say nominal) label by ourselves. \n",
        "\n",
        "Here, we use the basic method [one-hot encoding](https://en.wikipedia.org/wiki/One-hot) to transform our categorical  labels to numerical ones.\n"
      ]
    },
    {
      "cell_type": "code",
      "execution_count": 33,
      "metadata": {
        "colab": {
          "base_uri": "https://localhost:8080/"
        },
        "id": "SU95MCsSYTpo",
        "outputId": "17e550bc-3ad8-4ab7-a0de-30eb08bf5e57",
        "vscode": {
          "languageId": "python"
        }
      },
      "outputs": [
        {
          "output_type": "stream",
          "name": "stdout",
          "text": [
            "check label:  ['anger' 'fear' 'joy' 'sadness']\n",
            "\n",
            "## Before convert\n",
            "y_train[0:4]:\n",
            " 1939     fear\n",
            "2239      joy\n",
            "758     anger\n",
            "2406      joy\n",
            "Name: emotion, dtype: object\n",
            "\n",
            "y_train.shape:  (3613,)\n",
            "y_test.shape:  (347,)\n"
          ]
        }
      ],
      "source": [
        "## deal with label (string -> one-hot)\n",
        "label_encoder = LabelEncoder()\n",
        "y_train = train_df['emotion']\n",
        "y_test = test_df['emotion']\n",
        "label_encoder.fit(y_train)\n",
        "print('check label: ', label_encoder.classes_)\n",
        "print('\\n## Before convert')\n",
        "print('y_train[0:4]:\\n', y_train[0:4])\n",
        "print('\\ny_train.shape: ', y_train.shape)\n",
        "print('y_test.shape: ', y_test.shape)\n"
      ]
    },
    {
      "cell_type": "code",
      "execution_count": null,
      "metadata": {
        "colab": {
          "base_uri": "https://localhost:8080/",
          "height": 35
        },
        "id": "XhCcUcEvIe0A",
        "outputId": "d50afc54-b2d1-41ab-8b6a-cd6f2bd0fcc0",
        "vscode": {
          "languageId": "python"
        }
      },
      "outputs": [
        {
          "output_type": "execute_result",
          "data": {
            "text/plain": [
              "'2.9.2'"
            ],
            "application/vnd.google.colaboratory.intrinsic+json": {
              "type": "string"
            }
          },
          "metadata": {},
          "execution_count": 66
        }
      ],
      "source": [
        "tf.__version__"
      ]
    },
    {
      "cell_type": "code",
      "execution_count": 34,
      "metadata": {
        "colab": {
          "base_uri": "https://localhost:8080/"
        },
        "id": "yR3giI2oIcUw",
        "outputId": "97fd33c0-aa07-41a2-a839-42597780e5b9",
        "vscode": {
          "languageId": "python"
        }
      },
      "outputs": [
        {
          "output_type": "stream",
          "name": "stdout",
          "text": [
            "\n",
            "\n",
            "## After convert\n",
            "y_train[0:4]:\n",
            " [[0. 1. 0. 0.]\n",
            " [0. 0. 1. 0.]\n",
            " [1. 0. 0. 0.]\n",
            " [0. 0. 1. 0.]]\n",
            "\n",
            "y_train.shape:  (3613, 4)\n",
            "y_test.shape:  (347, 4)\n"
          ]
        }
      ],
      "source": [
        "\n",
        "def label_encode(le, labels):\n",
        "    enc = le.transform(labels)\n",
        "    return tf.keras.utils.to_categorical(enc)\n",
        "\n",
        "def label_decode(le, one_hot_label):\n",
        "    dec = np.argmax(one_hot_label, axis=1)\n",
        "    return le.inverse_transform(dec)\n",
        "\n",
        "label_encoder = LabelEncoder()\n",
        "y_train = train_df['emotion']\n",
        "y_test = test_df['emotion']\n",
        "label_encoder.fit(y_train)\n",
        "\n",
        "y_train = label_encode(label_encoder, y_train)\n",
        "y_test = label_encode(label_encoder, y_test)\n",
        "\n",
        "print('\\n\\n## After convert')\n",
        "print('y_train[0:4]:\\n', y_train[0:4])\n",
        "print('\\ny_train.shape: ', y_train.shape)\n",
        "print('y_test.shape: ', y_test.shape)"
      ]
    },
    {
      "cell_type": "markdown",
      "metadata": {
        "id": "W4bqEcMbYTpo"
      },
      "source": [
        "### 6.3 Build model"
      ]
    },
    {
      "cell_type": "code",
      "source": [
        "# from above cells for faster use cases \n",
        "# build analyzers (bag-of-words)\n",
        "BOW_500 = CountVectorizer(max_features=500, tokenizer=nltk.word_tokenize) \n",
        "\n",
        "# apply analyzer to training data\n",
        "BOW_500.fit(train_df['text'])\n",
        "X_train = BOW_500.transform(train_df['text'])\n",
        "X_test = BOW_500.transform(test_df['text'])"
      ],
      "metadata": {
        "id": "c95hiTUHO_hI"
      },
      "execution_count": null,
      "outputs": []
    },
    {
      "cell_type": "code",
      "execution_count": 24,
      "metadata": {
        "colab": {
          "base_uri": "https://localhost:8080/"
        },
        "id": "6sA7cx-oYTpo",
        "outputId": "6f9682b4-b531-4d88-fbb0-046061a032f7",
        "vscode": {
          "languageId": "python"
        }
      },
      "outputs": [
        {
          "output_type": "stream",
          "name": "stdout",
          "text": [
            "input_shape:  500\n",
            "output_shape:  4\n"
          ]
        }
      ],
      "source": [
        "# I/O check\n",
        "input_shape = X_train.shape[1] \n",
        "print('input_shape: ', input_shape) \n",
        "\n",
        "output_shape = len(label_encoder.classes_) \n",
        "print('output_shape: ', output_shape) "
      ]
    },
    {
      "cell_type": "markdown",
      "metadata": {
        "id": "8c-uWuloYTpo"
      },
      "source": [
        "![Imgur](https://drive.google.com/uc?id=1W4mPnKGWF8VXZ2pmiefNAYfIK0dncO00)"
      ]
    },
    {
      "cell_type": "code",
      "execution_count": 25,
      "metadata": {
        "colab": {
          "base_uri": "https://localhost:8080/"
        },
        "id": "jTeBWTvgYTpo",
        "outputId": "e227bec5-5adb-4b30-d68d-7863c6d9087a",
        "vscode": {
          "languageId": "python"
        }
      },
      "outputs": [
        {
          "output_type": "stream",
          "name": "stdout",
          "text": [
            "Model: \"model\"\n",
            "_________________________________________________________________\n",
            " Layer (type)                Output Shape              Param #   \n",
            "=================================================================\n",
            " input_1 (InputLayer)        [(None, 500)]             0         \n",
            "                                                                 \n",
            " dense (Dense)               (None, 64)                32064     \n",
            "                                                                 \n",
            " dense_1 (Dense)             (None, 64)                4160      \n",
            "                                                                 \n",
            " dense_2 (Dense)             (None, 4)                 260       \n",
            "                                                                 \n",
            "=================================================================\n",
            "Total params: 36,484\n",
            "Trainable params: 36,484\n",
            "Non-trainable params: 0\n",
            "_________________________________________________________________\n"
          ]
        }
      ],
      "source": [
        "# from tf.keras import Model\n",
        "# from tf.keras.layers import Input, Dense\n",
        "# from tf.keras.layers import ReLU, Softmax\n",
        "\n",
        "# input layer\n",
        "model_input = tf.keras.Input(shape=(input_shape, ))  # 500\n",
        "X = model_input\n",
        "\n",
        "# 1st hidden layer\n",
        "H1 = tf.keras.layers.Dense(units=64, activation=tf.nn.relu)(X)  # 64\n",
        "\n",
        "# 2nd hidden layer\n",
        "H2 = tf.keras.layers.Dense(units=64, activation=tf.nn.relu)(H1)  # 64\n",
        "\n",
        "# output layer\n",
        "H3 = tf.keras.layers.Dense(units=output_shape, activation=tf.nn.softmax)(H2)  # 4\n",
        "\n",
        "model_output = H3\n",
        "\n",
        "# create model\n",
        "model = tf.keras.Model(inputs=[model_input], outputs=[model_output])\n",
        "\n",
        "# loss function & optimizer\n",
        "model.compile(optimizer='adam',\n",
        "              loss='categorical_crossentropy',\n",
        "              metrics=['accuracy'])\n",
        "\n",
        "# show model construction\n",
        "model.summary()"
      ]
    },
    {
      "cell_type": "markdown",
      "metadata": {
        "id": "nmTSDO2pYTpo"
      },
      "source": [
        "### 6.4 Train"
      ]
    },
    {
      "cell_type": "code",
      "execution_count": 26,
      "metadata": {
        "colab": {
          "base_uri": "https://localhost:8080/"
        },
        "id": "Kl374LYqYTpo",
        "outputId": "5b97fb86-f78a-4f74-9a98-5e8c93b61efe",
        "vscode": {
          "languageId": "python"
        }
      },
      "outputs": [
        {
          "output_type": "stream",
          "name": "stdout",
          "text": [
            "Epoch 1/25\n",
            "113/113 [==============================] - 2s 5ms/step - loss: 1.3276 - accuracy: 0.3714 - val_loss: 1.2570 - val_accuracy: 0.4784\n",
            "Epoch 2/25\n",
            "113/113 [==============================] - 0s 3ms/step - loss: 1.0062 - accuracy: 0.6430 - val_loss: 0.9232 - val_accuracy: 0.6772\n",
            "Epoch 3/25\n",
            "113/113 [==============================] - 0s 3ms/step - loss: 0.5903 - accuracy: 0.7991 - val_loss: 0.7701 - val_accuracy: 0.6772\n",
            "Epoch 4/25\n",
            "113/113 [==============================] - 0s 3ms/step - loss: 0.4227 - accuracy: 0.8400 - val_loss: 0.7979 - val_accuracy: 0.6830\n",
            "Epoch 5/25\n",
            "113/113 [==============================] - 0s 3ms/step - loss: 0.3348 - accuracy: 0.8738 - val_loss: 0.8282 - val_accuracy: 0.6888\n",
            "Epoch 6/25\n",
            "113/113 [==============================] - 0s 3ms/step - loss: 0.2674 - accuracy: 0.9092 - val_loss: 0.8929 - val_accuracy: 0.7032\n",
            "Epoch 7/25\n",
            "113/113 [==============================] - 0s 3ms/step - loss: 0.2297 - accuracy: 0.9200 - val_loss: 0.9527 - val_accuracy: 0.6859\n",
            "Epoch 8/25\n",
            "113/113 [==============================] - 0s 3ms/step - loss: 0.1887 - accuracy: 0.9386 - val_loss: 0.9932 - val_accuracy: 0.6916\n",
            "Epoch 9/25\n",
            "113/113 [==============================] - 0s 3ms/step - loss: 0.1651 - accuracy: 0.9491 - val_loss: 1.0585 - val_accuracy: 0.6945\n",
            "Epoch 10/25\n",
            "113/113 [==============================] - 0s 2ms/step - loss: 0.1345 - accuracy: 0.9618 - val_loss: 1.1262 - val_accuracy: 0.6945\n",
            "Epoch 11/25\n",
            "113/113 [==============================] - 0s 2ms/step - loss: 0.1200 - accuracy: 0.9646 - val_loss: 1.1972 - val_accuracy: 0.6715\n",
            "Epoch 12/25\n",
            "113/113 [==============================] - 0s 3ms/step - loss: 0.1078 - accuracy: 0.9709 - val_loss: 1.2118 - val_accuracy: 0.6888\n",
            "Epoch 13/25\n",
            "113/113 [==============================] - 0s 3ms/step - loss: 0.0974 - accuracy: 0.9693 - val_loss: 1.3036 - val_accuracy: 0.6686\n",
            "Epoch 14/25\n",
            "113/113 [==============================] - 0s 3ms/step - loss: 0.0974 - accuracy: 0.9707 - val_loss: 1.3749 - val_accuracy: 0.6657\n",
            "Epoch 15/25\n",
            "113/113 [==============================] - 0s 3ms/step - loss: 0.0856 - accuracy: 0.9745 - val_loss: 1.3264 - val_accuracy: 0.6801\n",
            "Epoch 16/25\n",
            "113/113 [==============================] - 0s 3ms/step - loss: 0.0834 - accuracy: 0.9740 - val_loss: 1.3755 - val_accuracy: 0.6801\n",
            "Epoch 17/25\n",
            "113/113 [==============================] - 0s 3ms/step - loss: 0.0691 - accuracy: 0.9770 - val_loss: 1.4519 - val_accuracy: 0.6628\n",
            "Epoch 18/25\n",
            "113/113 [==============================] - 0s 3ms/step - loss: 0.0746 - accuracy: 0.9756 - val_loss: 1.4353 - val_accuracy: 0.6715\n",
            "Epoch 19/25\n",
            "113/113 [==============================] - 0s 3ms/step - loss: 0.0674 - accuracy: 0.9787 - val_loss: 1.4782 - val_accuracy: 0.6599\n",
            "Epoch 20/25\n",
            "113/113 [==============================] - 0s 3ms/step - loss: 0.0702 - accuracy: 0.9751 - val_loss: 1.5140 - val_accuracy: 0.6513\n",
            "Epoch 21/25\n",
            "113/113 [==============================] - 0s 3ms/step - loss: 0.0622 - accuracy: 0.9762 - val_loss: 1.5822 - val_accuracy: 0.6628\n",
            "Epoch 22/25\n",
            "113/113 [==============================] - 0s 3ms/step - loss: 0.0632 - accuracy: 0.9770 - val_loss: 1.5900 - val_accuracy: 0.6657\n",
            "Epoch 23/25\n",
            "113/113 [==============================] - 0s 3ms/step - loss: 0.0643 - accuracy: 0.9779 - val_loss: 1.5865 - val_accuracy: 0.6657\n",
            "Epoch 24/25\n",
            "113/113 [==============================] - 0s 2ms/step - loss: 0.0607 - accuracy: 0.9765 - val_loss: 1.6095 - val_accuracy: 0.6571\n",
            "Epoch 25/25\n",
            "113/113 [==============================] - 0s 3ms/step - loss: 0.0585 - accuracy: 0.9795 - val_loss: 1.6052 - val_accuracy: 0.6542\n",
            "training finish\n"
          ]
        }
      ],
      "source": [
        "# from keras.callbacks import CSVLogger\n",
        "\n",
        "csv_logger = tf.keras.callbacks.CSVLogger(os.path.join(data_folder,'logs/training_log.csv'))\n",
        "\n",
        "# training setting\n",
        "epochs = 25\n",
        "batch_size = 32\n",
        "\n",
        "# training!\n",
        "history = model.fit(X_train, y_train, \n",
        "                    epochs=epochs, \n",
        "                    batch_size=batch_size, \n",
        "                    callbacks=[csv_logger],\n",
        "                    validation_data = (X_test, y_test))\n",
        "\n",
        "print('training finish')"
      ]
    },
    {
      "cell_type": "markdown",
      "metadata": {
        "id": "ip8RYsvSYTpo"
      },
      "source": [
        "### 6.5 Predict on testing data"
      ]
    },
    {
      "cell_type": "code",
      "execution_count": 27,
      "metadata": {
        "colab": {
          "base_uri": "https://localhost:8080/"
        },
        "id": "xdnLuBYBYTpo",
        "outputId": "7777402c-bb27-4224-ec07-cfa957ee51c9",
        "vscode": {
          "languageId": "python"
        }
      },
      "outputs": [
        {
          "output_type": "stream",
          "name": "stdout",
          "text": [
            "3/3 [==============================] - 0s 4ms/step\n"
          ]
        },
        {
          "output_type": "execute_result",
          "data": {
            "text/plain": [
              "array([[3.34598020e-08, 1.50570904e-05, 9.99984801e-01, 4.65553640e-08],\n",
              "       [2.39244346e-05, 1.01925544e-02, 1.97715987e-03, 9.87806320e-01],\n",
              "       [2.59673470e-07, 7.61076063e-03, 1.17529335e-05, 9.92377222e-01],\n",
              "       [1.01981521e-01, 1.60815626e-01, 1.80013434e-04, 7.37022877e-01],\n",
              "       [5.62480729e-10, 8.54271709e-10, 9.99999821e-01, 1.33853987e-07]],\n",
              "      dtype=float32)"
            ]
          },
          "metadata": {},
          "execution_count": 27
        }
      ],
      "source": [
        "## predict\n",
        "pred_result = model.predict(X_test, batch_size=128)\n",
        "pred_result[:5]"
      ]
    },
    {
      "cell_type": "code",
      "execution_count": 28,
      "metadata": {
        "colab": {
          "base_uri": "https://localhost:8080/"
        },
        "id": "hSaXGEX-YTpo",
        "outputId": "86f135d9-2029-4722-aa15-8b2c9fd8cea4",
        "vscode": {
          "languageId": "python"
        }
      },
      "outputs": [
        {
          "output_type": "execute_result",
          "data": {
            "text/plain": [
              "array(['joy', 'sadness', 'sadness', 'sadness', 'joy'], dtype=object)"
            ]
          },
          "metadata": {},
          "execution_count": 28
        }
      ],
      "source": [
        "pred_result = label_decode(label_encoder, pred_result)\n",
        "pred_result[:5]"
      ]
    },
    {
      "cell_type": "code",
      "execution_count": 29,
      "metadata": {
        "colab": {
          "base_uri": "https://localhost:8080/"
        },
        "id": "bRRHye9KYTp5",
        "outputId": "6933f88a-0dc4-4067-abe2-20e209cb797e",
        "vscode": {
          "languageId": "python"
        }
      },
      "outputs": [
        {
          "output_type": "stream",
          "name": "stdout",
          "text": [
            "testing accuracy: 0.65\n"
          ]
        }
      ],
      "source": [
        "print('testing accuracy: {}'.format(round(accuracy_score(label_decode(label_encoder, y_test), pred_result), 2)))"
      ]
    },
    {
      "cell_type": "code",
      "execution_count": 30,
      "metadata": {
        "colab": {
          "base_uri": "https://localhost:8080/",
          "height": 833
        },
        "id": "ks2Q0aMsYTp5",
        "outputId": "85fafb4d-7cc5-466f-df3e-1ce37b18dca4",
        "vscode": {
          "languageId": "python"
        }
      },
      "outputs": [
        {
          "output_type": "execute_result",
          "data": {
            "text/plain": [
              "    epoch  accuracy      loss  val_accuracy  val_loss\n",
              "0       0  0.371436  1.327589      0.478386  1.257017\n",
              "1       1  0.642956  1.006244      0.677233  0.923199\n",
              "2       2  0.799059  0.590340      0.677233  0.770066\n",
              "3       3  0.840022  0.422722      0.682997  0.797912\n",
              "4       4  0.873789  0.334828      0.688761  0.828181\n",
              "5       5  0.909217  0.267410      0.703170  0.892890\n",
              "6       6  0.920011  0.229671      0.685879  0.952655\n",
              "7       7  0.938555  0.188650      0.691643  0.993239\n",
              "8       8  0.949073  0.165113      0.694524  1.058456\n",
              "9       9  0.961805  0.134477      0.694524  1.126195\n",
              "10     10  0.964572  0.119969      0.671470  1.197225\n",
              "11     11  0.970938  0.107775      0.688761  1.211795\n",
              "12     12  0.969278  0.097374      0.668588  1.303606\n",
              "13     13  0.970662  0.097373      0.665706  1.374938\n",
              "14     14  0.974536  0.085573      0.680115  1.326419\n",
              "15     15  0.973983  0.083378      0.680115  1.375526\n",
              "16     16  0.977027  0.069134      0.662824  1.451919\n",
              "17     17  0.975644  0.074607      0.671470  1.435275\n",
              "18     18  0.978688  0.067378      0.659942  1.478241\n",
              "19     19  0.975090  0.070216      0.651297  1.514024\n",
              "20     20  0.976197  0.062243      0.662824  1.582213\n",
              "21     21  0.977027  0.063230      0.665706  1.589972\n",
              "22     22  0.977858  0.064267      0.665706  1.586486\n",
              "23     23  0.976474  0.060717      0.657061  1.609494\n",
              "24     24  0.979518  0.058537      0.654179  1.605246"
            ],
            "text/html": [
              "\n",
              "  <div id=\"df-751caa09-f184-4cff-9410-22e026854d3d\">\n",
              "    <div class=\"colab-df-container\">\n",
              "      <div>\n",
              "<style scoped>\n",
              "    .dataframe tbody tr th:only-of-type {\n",
              "        vertical-align: middle;\n",
              "    }\n",
              "\n",
              "    .dataframe tbody tr th {\n",
              "        vertical-align: top;\n",
              "    }\n",
              "\n",
              "    .dataframe thead th {\n",
              "        text-align: right;\n",
              "    }\n",
              "</style>\n",
              "<table border=\"1\" class=\"dataframe\">\n",
              "  <thead>\n",
              "    <tr style=\"text-align: right;\">\n",
              "      <th></th>\n",
              "      <th>epoch</th>\n",
              "      <th>accuracy</th>\n",
              "      <th>loss</th>\n",
              "      <th>val_accuracy</th>\n",
              "      <th>val_loss</th>\n",
              "    </tr>\n",
              "  </thead>\n",
              "  <tbody>\n",
              "    <tr>\n",
              "      <th>0</th>\n",
              "      <td>0</td>\n",
              "      <td>0.371436</td>\n",
              "      <td>1.327589</td>\n",
              "      <td>0.478386</td>\n",
              "      <td>1.257017</td>\n",
              "    </tr>\n",
              "    <tr>\n",
              "      <th>1</th>\n",
              "      <td>1</td>\n",
              "      <td>0.642956</td>\n",
              "      <td>1.006244</td>\n",
              "      <td>0.677233</td>\n",
              "      <td>0.923199</td>\n",
              "    </tr>\n",
              "    <tr>\n",
              "      <th>2</th>\n",
              "      <td>2</td>\n",
              "      <td>0.799059</td>\n",
              "      <td>0.590340</td>\n",
              "      <td>0.677233</td>\n",
              "      <td>0.770066</td>\n",
              "    </tr>\n",
              "    <tr>\n",
              "      <th>3</th>\n",
              "      <td>3</td>\n",
              "      <td>0.840022</td>\n",
              "      <td>0.422722</td>\n",
              "      <td>0.682997</td>\n",
              "      <td>0.797912</td>\n",
              "    </tr>\n",
              "    <tr>\n",
              "      <th>4</th>\n",
              "      <td>4</td>\n",
              "      <td>0.873789</td>\n",
              "      <td>0.334828</td>\n",
              "      <td>0.688761</td>\n",
              "      <td>0.828181</td>\n",
              "    </tr>\n",
              "    <tr>\n",
              "      <th>5</th>\n",
              "      <td>5</td>\n",
              "      <td>0.909217</td>\n",
              "      <td>0.267410</td>\n",
              "      <td>0.703170</td>\n",
              "      <td>0.892890</td>\n",
              "    </tr>\n",
              "    <tr>\n",
              "      <th>6</th>\n",
              "      <td>6</td>\n",
              "      <td>0.920011</td>\n",
              "      <td>0.229671</td>\n",
              "      <td>0.685879</td>\n",
              "      <td>0.952655</td>\n",
              "    </tr>\n",
              "    <tr>\n",
              "      <th>7</th>\n",
              "      <td>7</td>\n",
              "      <td>0.938555</td>\n",
              "      <td>0.188650</td>\n",
              "      <td>0.691643</td>\n",
              "      <td>0.993239</td>\n",
              "    </tr>\n",
              "    <tr>\n",
              "      <th>8</th>\n",
              "      <td>8</td>\n",
              "      <td>0.949073</td>\n",
              "      <td>0.165113</td>\n",
              "      <td>0.694524</td>\n",
              "      <td>1.058456</td>\n",
              "    </tr>\n",
              "    <tr>\n",
              "      <th>9</th>\n",
              "      <td>9</td>\n",
              "      <td>0.961805</td>\n",
              "      <td>0.134477</td>\n",
              "      <td>0.694524</td>\n",
              "      <td>1.126195</td>\n",
              "    </tr>\n",
              "    <tr>\n",
              "      <th>10</th>\n",
              "      <td>10</td>\n",
              "      <td>0.964572</td>\n",
              "      <td>0.119969</td>\n",
              "      <td>0.671470</td>\n",
              "      <td>1.197225</td>\n",
              "    </tr>\n",
              "    <tr>\n",
              "      <th>11</th>\n",
              "      <td>11</td>\n",
              "      <td>0.970938</td>\n",
              "      <td>0.107775</td>\n",
              "      <td>0.688761</td>\n",
              "      <td>1.211795</td>\n",
              "    </tr>\n",
              "    <tr>\n",
              "      <th>12</th>\n",
              "      <td>12</td>\n",
              "      <td>0.969278</td>\n",
              "      <td>0.097374</td>\n",
              "      <td>0.668588</td>\n",
              "      <td>1.303606</td>\n",
              "    </tr>\n",
              "    <tr>\n",
              "      <th>13</th>\n",
              "      <td>13</td>\n",
              "      <td>0.970662</td>\n",
              "      <td>0.097373</td>\n",
              "      <td>0.665706</td>\n",
              "      <td>1.374938</td>\n",
              "    </tr>\n",
              "    <tr>\n",
              "      <th>14</th>\n",
              "      <td>14</td>\n",
              "      <td>0.974536</td>\n",
              "      <td>0.085573</td>\n",
              "      <td>0.680115</td>\n",
              "      <td>1.326419</td>\n",
              "    </tr>\n",
              "    <tr>\n",
              "      <th>15</th>\n",
              "      <td>15</td>\n",
              "      <td>0.973983</td>\n",
              "      <td>0.083378</td>\n",
              "      <td>0.680115</td>\n",
              "      <td>1.375526</td>\n",
              "    </tr>\n",
              "    <tr>\n",
              "      <th>16</th>\n",
              "      <td>16</td>\n",
              "      <td>0.977027</td>\n",
              "      <td>0.069134</td>\n",
              "      <td>0.662824</td>\n",
              "      <td>1.451919</td>\n",
              "    </tr>\n",
              "    <tr>\n",
              "      <th>17</th>\n",
              "      <td>17</td>\n",
              "      <td>0.975644</td>\n",
              "      <td>0.074607</td>\n",
              "      <td>0.671470</td>\n",
              "      <td>1.435275</td>\n",
              "    </tr>\n",
              "    <tr>\n",
              "      <th>18</th>\n",
              "      <td>18</td>\n",
              "      <td>0.978688</td>\n",
              "      <td>0.067378</td>\n",
              "      <td>0.659942</td>\n",
              "      <td>1.478241</td>\n",
              "    </tr>\n",
              "    <tr>\n",
              "      <th>19</th>\n",
              "      <td>19</td>\n",
              "      <td>0.975090</td>\n",
              "      <td>0.070216</td>\n",
              "      <td>0.651297</td>\n",
              "      <td>1.514024</td>\n",
              "    </tr>\n",
              "    <tr>\n",
              "      <th>20</th>\n",
              "      <td>20</td>\n",
              "      <td>0.976197</td>\n",
              "      <td>0.062243</td>\n",
              "      <td>0.662824</td>\n",
              "      <td>1.582213</td>\n",
              "    </tr>\n",
              "    <tr>\n",
              "      <th>21</th>\n",
              "      <td>21</td>\n",
              "      <td>0.977027</td>\n",
              "      <td>0.063230</td>\n",
              "      <td>0.665706</td>\n",
              "      <td>1.589972</td>\n",
              "    </tr>\n",
              "    <tr>\n",
              "      <th>22</th>\n",
              "      <td>22</td>\n",
              "      <td>0.977858</td>\n",
              "      <td>0.064267</td>\n",
              "      <td>0.665706</td>\n",
              "      <td>1.586486</td>\n",
              "    </tr>\n",
              "    <tr>\n",
              "      <th>23</th>\n",
              "      <td>23</td>\n",
              "      <td>0.976474</td>\n",
              "      <td>0.060717</td>\n",
              "      <td>0.657061</td>\n",
              "      <td>1.609494</td>\n",
              "    </tr>\n",
              "    <tr>\n",
              "      <th>24</th>\n",
              "      <td>24</td>\n",
              "      <td>0.979518</td>\n",
              "      <td>0.058537</td>\n",
              "      <td>0.654179</td>\n",
              "      <td>1.605246</td>\n",
              "    </tr>\n",
              "  </tbody>\n",
              "</table>\n",
              "</div>\n",
              "      <button class=\"colab-df-convert\" onclick=\"convertToInteractive('df-751caa09-f184-4cff-9410-22e026854d3d')\"\n",
              "              title=\"Convert this dataframe to an interactive table.\"\n",
              "              style=\"display:none;\">\n",
              "        \n",
              "  <svg xmlns=\"http://www.w3.org/2000/svg\" height=\"24px\"viewBox=\"0 0 24 24\"\n",
              "       width=\"24px\">\n",
              "    <path d=\"M0 0h24v24H0V0z\" fill=\"none\"/>\n",
              "    <path d=\"M18.56 5.44l.94 2.06.94-2.06 2.06-.94-2.06-.94-.94-2.06-.94 2.06-2.06.94zm-11 1L8.5 8.5l.94-2.06 2.06-.94-2.06-.94L8.5 2.5l-.94 2.06-2.06.94zm10 10l.94 2.06.94-2.06 2.06-.94-2.06-.94-.94-2.06-.94 2.06-2.06.94z\"/><path d=\"M17.41 7.96l-1.37-1.37c-.4-.4-.92-.59-1.43-.59-.52 0-1.04.2-1.43.59L10.3 9.45l-7.72 7.72c-.78.78-.78 2.05 0 2.83L4 21.41c.39.39.9.59 1.41.59.51 0 1.02-.2 1.41-.59l7.78-7.78 2.81-2.81c.8-.78.8-2.07 0-2.86zM5.41 20L4 18.59l7.72-7.72 1.47 1.35L5.41 20z\"/>\n",
              "  </svg>\n",
              "      </button>\n",
              "      \n",
              "  <style>\n",
              "    .colab-df-container {\n",
              "      display:flex;\n",
              "      flex-wrap:wrap;\n",
              "      gap: 12px;\n",
              "    }\n",
              "\n",
              "    .colab-df-convert {\n",
              "      background-color: #E8F0FE;\n",
              "      border: none;\n",
              "      border-radius: 50%;\n",
              "      cursor: pointer;\n",
              "      display: none;\n",
              "      fill: #1967D2;\n",
              "      height: 32px;\n",
              "      padding: 0 0 0 0;\n",
              "      width: 32px;\n",
              "    }\n",
              "\n",
              "    .colab-df-convert:hover {\n",
              "      background-color: #E2EBFA;\n",
              "      box-shadow: 0px 1px 2px rgba(60, 64, 67, 0.3), 0px 1px 3px 1px rgba(60, 64, 67, 0.15);\n",
              "      fill: #174EA6;\n",
              "    }\n",
              "\n",
              "    [theme=dark] .colab-df-convert {\n",
              "      background-color: #3B4455;\n",
              "      fill: #D2E3FC;\n",
              "    }\n",
              "\n",
              "    [theme=dark] .colab-df-convert:hover {\n",
              "      background-color: #434B5C;\n",
              "      box-shadow: 0px 1px 3px 1px rgba(0, 0, 0, 0.15);\n",
              "      filter: drop-shadow(0px 1px 2px rgba(0, 0, 0, 0.3));\n",
              "      fill: #FFFFFF;\n",
              "    }\n",
              "  </style>\n",
              "\n",
              "      <script>\n",
              "        const buttonEl =\n",
              "          document.querySelector('#df-751caa09-f184-4cff-9410-22e026854d3d button.colab-df-convert');\n",
              "        buttonEl.style.display =\n",
              "          google.colab.kernel.accessAllowed ? 'block' : 'none';\n",
              "\n",
              "        async function convertToInteractive(key) {\n",
              "          const element = document.querySelector('#df-751caa09-f184-4cff-9410-22e026854d3d');\n",
              "          const dataTable =\n",
              "            await google.colab.kernel.invokeFunction('convertToInteractive',\n",
              "                                                     [key], {});\n",
              "          if (!dataTable) return;\n",
              "\n",
              "          const docLinkHtml = 'Like what you see? Visit the ' +\n",
              "            '<a target=\"_blank\" href=https://colab.research.google.com/notebooks/data_table.ipynb>data table notebook</a>'\n",
              "            + ' to learn more about interactive tables.';\n",
              "          element.innerHTML = '';\n",
              "          dataTable['output_type'] = 'display_data';\n",
              "          await google.colab.output.renderOutput(dataTable, element);\n",
              "          const docLink = document.createElement('div');\n",
              "          docLink.innerHTML = docLinkHtml;\n",
              "          element.appendChild(docLink);\n",
              "        }\n",
              "      </script>\n",
              "    </div>\n",
              "  </div>\n",
              "  "
            ]
          },
          "metadata": {},
          "execution_count": 30
        }
      ],
      "source": [
        "#Let's take a look at the training log\n",
        "training_log = pd.DataFrame()\n",
        "training_log = pd.read_csv(os.path.join(data_folder,\"logs/training_log.csv\"))\n",
        "training_log"
      ]
    },
    {
      "cell_type": "markdown",
      "metadata": {
        "id": "NoYqY0-tYTp5"
      },
      "source": [
        "---\n",
        "### ** >>> Exercise 6 (Take home): **  \n",
        "\n",
        "Plot the Training and Validation Accuracy and Loss (different plots), just like the images below.(Note: the pictures below are an example from a different model). How to interpret the graphs you got? How are they related to the concept of overfitting/underfitting covered in class?\n",
        "<table><tr>\n",
        "    <td><img src=\"https://drive.google.com/uc?id=1W0KWZWP6vNW5ogZpzdb0EWo_4pOsENjA\" style=\"width: 300px;\"/> </td>\n",
        "    <td><img src=\"https://drive.google.com/uc?id=1VxoCrhIXOOlJhk6QmHLMQ5bUVEZ9NC1i\" style=\"width: 300px;\"/> </td>\n",
        "</tr></table>"
      ]
    },
    {
      "cell_type": "code",
      "source": [
        "# Answer here\n",
        "plt.figure(figsize=(6,4))\n",
        "_, ax = plt.subplots(ncols=2, figsize=(10, 4))\n",
        "\n",
        "'''I tried to avoid most of the repetitions by using the columns of the \n",
        "dataframe as their corresponding labels with the help of python dictionaries\n",
        "\n",
        "i    j          metrics[j] \n",
        "---------------------------\n",
        "0    accuracy   val_accuracy\n",
        "1    loss       val_loss\n",
        "\n",
        "i is to loop through the subplot axes \n",
        "j is to loop through the concerned metric whether loss or accuracy\n",
        "metrics[j] is the corresponding validation metric for j\n",
        "'''\n",
        "\n",
        "metrics = {'accuracy':'val_accuracy', 'loss': 'val_loss'}\n",
        "\n",
        "for i, j in enumerate(metrics):\n",
        "  ax[i].plot(training_log.epoch, training_log[j], color='b', label=f'Train {j}')\n",
        "  ax[i].plot(training_log.epoch, training_log[metrics[j]], color='r', label=f'Val {j}')\n",
        "  ax[i].set_title(f'Training {j.capitalize()} per Epoch') \n",
        "  ax[i].set_xlabel('Epoch')\n",
        "  ax[i].set_ylabel(j.capitalize())  # j [accuracy, loss] --> [Accuracy, Loss]\n",
        "  ax[i].legend(loc='upper right')\n",
        "\n",
        "plt.show()"
      ],
      "metadata": {
        "colab": {
          "base_uri": "https://localhost:8080/",
          "height": 312
        },
        "id": "mUbmipUS6E8V",
        "outputId": "eebe2758-c9c9-43e0-ad70-bdc90ce69f03"
      },
      "execution_count": 94,
      "outputs": [
        {
          "output_type": "display_data",
          "data": {
            "text/plain": [
              "<Figure size 432x288 with 0 Axes>"
            ]
          },
          "metadata": {}
        },
        {
          "output_type": "display_data",
          "data": {
            "text/plain": [
              "<Figure size 720x288 with 2 Axes>"
            ],
            "image/png": "[encoded data removed]"
          },
          "metadata": {
            "needs_background": "light"
          }
        }
      ]
    },
    {
      "cell_type": "code",
      "source": [
        "'''\n",
        "How to interpret the graphs you got? How are they related to the concept \n",
        "of overfitting/underfitting covered in class?\n",
        "'''\n",
        "'''\n",
        "The graphs can be interpreted as how the training and validation accuracy \n",
        "and loss of the model change over epochs whether they are closer each other \n",
        "or far apart.\n",
        "\n",
        "The above graphs show that the model is overfitting since the model performs \n",
        "less on decriminating the validation data even if it learns good in training data.\n",
        "E.g. The accuracy of the training increases well while for validation decreases\n",
        "      which is the typical sign for overfitting.\n",
        "'''"
      ],
      "metadata": {
        "id": "Dbny5Oyh-2od"
      },
      "execution_count": null,
      "outputs": []
    },
    {
      "cell_type": "code",
      "source": [
        "# second longer option (The above is optimized from this)\n",
        "plt.figure(figsize=(6,4))\n",
        "fig, (ax0, ax1) = plt.subplots(ncols=2, figsize=(10, 4), sharex=False)\n",
        "\n",
        "ax0.plot(training_log.epoch, training_log.accuracy, color='b', label='Train accuracy')\n",
        "ax0.plot(training_log.epoch, training_log.val_accuracy, color='r', label='Val accuracy')\n",
        "ax0.set_title('Training Accuracy per Epoch')\n",
        "ax0.set_xlabel('Epoch')\n",
        "ax0.set_ylabel('Accuracy')\n",
        "ax0.legend(loc='upper right')\n",
        "\n",
        "ax1.plot(training_log.epoch, training_log.loss, color='b', label='Train loss')\n",
        "ax1.plot(training_log.epoch, training_log.val_loss, color='r', label='Val loss')\n",
        "ax1.set_title('Training Loss per Epoch')\n",
        "ax1.set_xlabel('Epoch')\n",
        "ax1.set_ylabel('Accuracy')\n",
        "ax1.legend(loc='upper right')\n",
        "plt.show()"
      ],
      "metadata": {
        "colab": {
          "base_uri": "https://localhost:8080/",
          "height": 312
        },
        "id": "ci3QNWcgu-Fy",
        "outputId": "0de47883-a2fb-4a8c-c2e2-87ce90c3576e"
      },
      "execution_count": 59,
      "outputs": [
        {
          "output_type": "display_data",
          "data": {
            "text/plain": [
              "<Figure size 432x288 with 0 Axes>"
            ]
          },
          "metadata": {}
        },
        {
          "output_type": "display_data",
          "data": {
            "text/plain": [
              "<Figure size 720x288 with 2 Axes>"
            ],
            "image/png": "[encoded data removed]"
          },
          "metadata": {
            "needs_background": "light"
          }
        }
      ]
    },
    {
      "cell_type": "markdown",
      "metadata": {
        "id": "UYabzgSGYTp5"
      },
      "source": [
        "---"
      ]
    },
    {
      "cell_type": "markdown",
      "metadata": {
        "id": "4e5eiVLOYTp5"
      },
      "source": [
        "### Note\n",
        "\n",
        "We recommend you to use the GPU in colab to do deep learning model training. They have already installed all the librarys and provided free GPU for you to use.\n",
        "\n",
        "Note however that you will only be able to run a kernel for 12 hours. After 12 hours of training/connection, your kernel will shut down (meaning if your model takes more than 12 hours to train, you can't train it at once).\n",
        "\n",
        "\n",
        "### More Information for your reference\n",
        "\n",
        "* TF keras document: https://www.tensorflow.org/api_docs/python/tf/keras\n",
        "* CS229: Machine Learning: http://cs229.stanford.edu/syllabus.html\n",
        "* Deep Learning cheatsheet: https://stanford.edu/~shervine/teaching/cs-229/cheatsheet-deep-learning\n",
        "* If you want to try TensorFlow or PyTorch: https://pytorch.org/tutorials/\n",
        "https://www.tensorflow.org/tutorials/quickstart/beginner"
      ]
    },
    {
      "cell_type": "markdown",
      "metadata": {
        "id": "IESBq48MYTp5"
      },
      "source": [
        "---\n",
        "## 7. Word2Vector\n",
        "\n",
        "We will introduce how to use `gensim` to train your word2vec model and how to load a pre-trained model.\n",
        "\n",
        "https://radimrehurek.com/gensim/index.html"
      ]
    },
    {
      "cell_type": "markdown",
      "metadata": {
        "id": "KRSDMhQ5YTp5"
      },
      "source": [
        "### 7.1 Prepare training corpus"
      ]
    },
    {
      "cell_type": "code",
      "source": [
        "## check library\n",
        "gensim.__version__ # this is the currect version (4.3.0), otherwise do upgrade\n",
        "# !pip install -q gensim numpy --upgrade # do this upgrade first, You must restart the runtime in order to use newly installed versions. (restart this notebook)"
      ],
      "metadata": {
        "colab": {
          "base_uri": "https://localhost:8080/",
          "height": 36
        },
        "id": "RuRsArI-djQx",
        "outputId": "0fe64051-c147-4460-d969-fbaf2f22b48f"
      },
      "execution_count": 95,
      "outputs": [
        {
          "output_type": "execute_result",
          "data": {
            "text/plain": [
              "'3.6.0'"
            ],
            "application/vnd.google.colaboratory.intrinsic+json": {
              "type": "string"
            }
          },
          "metadata": {},
          "execution_count": 95
        }
      ]
    },
    {
      "cell_type": "code",
      "execution_count": 96,
      "metadata": {
        "colab": {
          "base_uri": "https://localhost:8080/",
          "height": 285
        },
        "id": "6aBYrovJYTp5",
        "outputId": "f1c71f67-e75c-4657-9d16-b34c4387726d",
        "vscode": {
          "languageId": "python"
        }
      },
      "outputs": [
        {
          "output_type": "execute_result",
          "data": {
            "text/plain": [
              "         id                                               text  \\\n",
              "1939  21082  I like the commercial where @kohara19, on a ch...   \n",
              "2239  30235  @saraandgreg @Airbnb Another happy customer.  ...   \n",
              "758   10758  @The_Boxing_Hub #klitschko @Klitschko over fur...   \n",
              "2406  30402  @TiburonChamber plus a hearty pour of #yachtro...   \n",
              "1169  20312  I feel ghastly and I'm really hoping it's just...   \n",
              "\n",
              "                                         text_tokenized  \n",
              "1939  [I, like, the, commercial, where, @, kohara19,...  \n",
              "2239  [@, saraandgreg, @, Airbnb, Another, happy, cu...  \n",
              "758   [@, The_Boxing_Hub, #, klitschko, @, Klitschko...  \n",
              "2406  [@, TiburonChamber, plus, a, hearty, pour, of,...  \n",
              "1169  [I, feel, ghastly, and, I, 'm, really, hoping,...  "
            ],
            "text/html": [
              "\n",
              "  <div id=\"df-fd73595d-aa45-4cdd-8a02-40593c5a33c4\">\n",
              "    <div class=\"colab-df-container\">\n",
              "      <div>\n",
              "<style scoped>\n",
              "    .dataframe tbody tr th:only-of-type {\n",
              "        vertical-align: middle;\n",
              "    }\n",
              "\n",
              "    .dataframe tbody tr th {\n",
              "        vertical-align: top;\n",
              "    }\n",
              "\n",
              "    .dataframe thead th {\n",
              "        text-align: right;\n",
              "    }\n",
              "</style>\n",
              "<table border=\"1\" class=\"dataframe\">\n",
              "  <thead>\n",
              "    <tr style=\"text-align: right;\">\n",
              "      <th></th>\n",
              "      <th>id</th>\n",
              "      <th>text</th>\n",
              "      <th>text_tokenized</th>\n",
              "    </tr>\n",
              "  </thead>\n",
              "  <tbody>\n",
              "    <tr>\n",
              "      <th>1939</th>\n",
              "      <td>21082</td>\n",
              "      <td>I like the commercial where @kohara19, on a ch...</td>\n",
              "      <td>[I, like, the, commercial, where, @, kohara19,...</td>\n",
              "    </tr>\n",
              "    <tr>\n",
              "      <th>2239</th>\n",
              "      <td>30235</td>\n",
              "      <td>@saraandgreg @Airbnb Another happy customer.  ...</td>\n",
              "      <td>[@, saraandgreg, @, Airbnb, Another, happy, cu...</td>\n",
              "    </tr>\n",
              "    <tr>\n",
              "      <th>758</th>\n",
              "      <td>10758</td>\n",
              "      <td>@The_Boxing_Hub #klitschko @Klitschko over fur...</td>\n",
              "      <td>[@, The_Boxing_Hub, #, klitschko, @, Klitschko...</td>\n",
              "    </tr>\n",
              "    <tr>\n",
              "      <th>2406</th>\n",
              "      <td>30402</td>\n",
              "      <td>@TiburonChamber plus a hearty pour of #yachtro...</td>\n",
              "      <td>[@, TiburonChamber, plus, a, hearty, pour, of,...</td>\n",
              "    </tr>\n",
              "    <tr>\n",
              "      <th>1169</th>\n",
              "      <td>20312</td>\n",
              "      <td>I feel ghastly and I'm really hoping it's just...</td>\n",
              "      <td>[I, feel, ghastly, and, I, 'm, really, hoping,...</td>\n",
              "    </tr>\n",
              "  </tbody>\n",
              "</table>\n",
              "</div>\n",
              "      <button class=\"colab-df-convert\" onclick=\"convertToInteractive('df-fd73595d-aa45-4cdd-8a02-40593c5a33c4')\"\n",
              "              title=\"Convert this dataframe to an interactive table.\"\n",
              "              style=\"display:none;\">\n",
              "        \n",
              "  <svg xmlns=\"http://www.w3.org/2000/svg\" height=\"24px\"viewBox=\"0 0 24 24\"\n",
              "       width=\"24px\">\n",
              "    <path d=\"M0 0h24v24H0V0z\" fill=\"none\"/>\n",
              "    <path d=\"M18.56 5.44l.94 2.06.94-2.06 2.06-.94-2.06-.94-.94-2.06-.94 2.06-2.06.94zm-11 1L8.5 8.5l.94-2.06 2.06-.94-2.06-.94L8.5 2.5l-.94 2.06-2.06.94zm10 10l.94 2.06.94-2.06 2.06-.94-2.06-.94-.94-2.06-.94 2.06-2.06.94z\"/><path d=\"M17.41 7.96l-1.37-1.37c-.4-.4-.92-.59-1.43-.59-.52 0-1.04.2-1.43.59L10.3 9.45l-7.72 7.72c-.78.78-.78 2.05 0 2.83L4 21.41c.39.39.9.59 1.41.59.51 0 1.02-.2 1.41-.59l7.78-7.78 2.81-2.81c.8-.78.8-2.07 0-2.86zM5.41 20L4 18.59l7.72-7.72 1.47 1.35L5.41 20z\"/>\n",
              "  </svg>\n",
              "      </button>\n",
              "      \n",
              "  <style>\n",
              "    .colab-df-container {\n",
              "      display:flex;\n",
              "      flex-wrap:wrap;\n",
              "      gap: 12px;\n",
              "    }\n",
              "\n",
              "    .colab-df-convert {\n",
              "      background-color: #E8F0FE;\n",
              "      border: none;\n",
              "      border-radius: 50%;\n",
              "      cursor: pointer;\n",
              "      display: none;\n",
              "      fill: #1967D2;\n",
              "      height: 32px;\n",
              "      padding: 0 0 0 0;\n",
              "      width: 32px;\n",
              "    }\n",
              "\n",
              "    .colab-df-convert:hover {\n",
              "      background-color: #E2EBFA;\n",
              "      box-shadow: 0px 1px 2px rgba(60, 64, 67, 0.3), 0px 1px 3px 1px rgba(60, 64, 67, 0.15);\n",
              "      fill: #174EA6;\n",
              "    }\n",
              "\n",
              "    [theme=dark] .colab-df-convert {\n",
              "      background-color: #3B4455;\n",
              "      fill: #D2E3FC;\n",
              "    }\n",
              "\n",
              "    [theme=dark] .colab-df-convert:hover {\n",
              "      background-color: #434B5C;\n",
              "      box-shadow: 0px 1px 3px 1px rgba(0, 0, 0, 0.15);\n",
              "      filter: drop-shadow(0px 1px 2px rgba(0, 0, 0, 0.3));\n",
              "      fill: #FFFFFF;\n",
              "    }\n",
              "  </style>\n",
              "\n",
              "      <script>\n",
              "        const buttonEl =\n",
              "          document.querySelector('#df-fd73595d-aa45-4cdd-8a02-40593c5a33c4 button.colab-df-convert');\n",
              "        buttonEl.style.display =\n",
              "          google.colab.kernel.accessAllowed ? 'block' : 'none';\n",
              "\n",
              "        async function convertToInteractive(key) {\n",
              "          const element = document.querySelector('#df-fd73595d-aa45-4cdd-8a02-40593c5a33c4');\n",
              "          const dataTable =\n",
              "            await google.colab.kernel.invokeFunction('convertToInteractive',\n",
              "                                                     [key], {});\n",
              "          if (!dataTable) return;\n",
              "\n",
              "          const docLinkHtml = 'Like what you see? Visit the ' +\n",
              "            '<a target=\"_blank\" href=https://colab.research.google.com/notebooks/data_table.ipynb>data table notebook</a>'\n",
              "            + ' to learn more about interactive tables.';\n",
              "          element.innerHTML = '';\n",
              "          dataTable['output_type'] = 'display_data';\n",
              "          await google.colab.output.renderOutput(dataTable, element);\n",
              "          const docLink = document.createElement('div');\n",
              "          docLink.innerHTML = docLinkHtml;\n",
              "          element.appendChild(docLink);\n",
              "        }\n",
              "      </script>\n",
              "    </div>\n",
              "  </div>\n",
              "  "
            ]
          },
          "metadata": {},
          "execution_count": 96
        }
      ],
      "source": [
        "## the input type\n",
        "train_df['text_tokenized'] = train_df['text'].apply(lambda x: nltk.word_tokenize(x))\n",
        "train_df[['id', 'text', 'text_tokenized']].head()"
      ]
    },
    {
      "cell_type": "code",
      "execution_count": 97,
      "metadata": {
        "colab": {
          "base_uri": "https://localhost:8080/"
        },
        "id": "okFIEcmnYTp5",
        "outputId": "abd8d826-5194-40c2-d4fb-118a91e3a5a6",
        "vscode": {
          "languageId": "python"
        }
      },
      "outputs": [
        {
          "output_type": "execute_result",
          "data": {
            "text/plain": [
              "array([list(['I', 'like', 'the', 'commercial', 'where', '@', 'kohara19', ',', 'on', 'a', 'chocolate', 'milk', 'bender', ',', 'steals', 'a', 'soccer', 'ball', 'from', 'some', 'guys', 'and', 'refuses', 'to', 'give', 'it', 'back', '.']),\n",
              "       list(['@', 'saraandgreg', '@', 'Airbnb', 'Another', 'happy', 'customer', '.', '#', 'secreteyes']),\n",
              "       list(['@', 'The_Boxing_Hub', '#', 'klitschko', '@', 'Klitschko', 'over', 'fury', 'any', 'day', '#', 'boxing'])],\n",
              "      dtype=object)"
            ]
          },
          "metadata": {},
          "execution_count": 97
        }
      ],
      "source": [
        "## create the training corpus\n",
        "training_corpus = train_df['text_tokenized'].values\n",
        "training_corpus[:3]"
      ]
    },
    {
      "cell_type": "markdown",
      "metadata": {
        "id": "dOgAriPRYTp5"
      },
      "source": [
        "### 7.2 Training our model\n",
        "\n",
        "You can try to train your own model. More details: https://radimrehurek.com/gensim/models/word2vec.html"
      ]
    },
    {
      "cell_type": "code",
      "execution_count": 98,
      "metadata": {
        "id": "72ZA54IDYTp5",
        "scrolled": true,
        "vscode": {
          "languageId": "python"
        }
      },
      "outputs": [],
      "source": [
        "## setting\n",
        "vector_dim = 100\n",
        "window_size = 5\n",
        "min_count = 1\n",
        "training_epochs = 20"
      ]
    },
    {
      "cell_type": "code",
      "execution_count": 100,
      "metadata": {
        "id": "SJsHUKk6POSx",
        "vscode": {
          "languageId": "python"
        }
      },
      "outputs": [],
      "source": [
        "\n",
        "## if you want to see the training messages, you can use it\n",
        "# import logging\n",
        "# logging.basicConfig(format='%(asctime)s : %(levelname)s : %(message)s', level=logging.INFO)\n",
        "## model\n",
        "word2vec_model = Word2Vec(sentences=training_corpus, \n",
        "                          size=vector_dim, window=window_size, \n",
        "                          min_count=min_count, iter=training_epochs)  # in some version size<-> vector_size, iter<->epochs"
      ]
    },
    {
      "cell_type": "markdown",
      "metadata": {
        "id": "ob0Molb3YTp5"
      },
      "source": [
        "![Imgur](https://i.imgur.com/Fca3MCs.png)"
      ]
    },
    {
      "cell_type": "markdown",
      "metadata": {
        "id": "E0jjvjN5YTp5"
      },
      "source": [
        "### 7.3 Generating word vector (embeddings)"
      ]
    },
    {
      "cell_type": "code",
      "execution_count": 101,
      "metadata": {
        "colab": {
          "base_uri": "https://localhost:8080/"
        },
        "id": "4ejofZfCYTp5",
        "outputId": "79db720a-6290-4827-dbc0-97d95a50bce8",
        "vscode": {
          "languageId": "python"
        }
      },
      "outputs": [
        {
          "output_type": "execute_result",
          "data": {
            "text/plain": [
              "array([ 0.27533054,  0.3837599 ,  0.9307763 , -0.2883628 , -0.68908775,\n",
              "        0.14073914,  0.31094518,  0.25837317,  0.15368927, -0.05970602,\n",
              "        0.3647737 ,  0.37685448, -0.8406085 ,  0.127043  ,  0.15423615,\n",
              "        0.6498312 , -0.47349498, -0.42554602,  0.86661655,  0.6704643 ,\n",
              "        0.1679327 ,  0.1296629 , -0.05558724,  0.10334152,  0.8922992 ,\n",
              "       -0.3390156 , -0.540525  ,  0.03185657,  0.22388946, -1.0272361 ,\n",
              "        0.10844588,  0.08567359,  0.20314743, -0.48902705, -0.6360755 ,\n",
              "       -0.6207684 , -0.14714757, -0.46945992,  0.16579838,  0.19962902,\n",
              "       -0.36165825,  0.22046126, -0.3965029 , -0.40468955, -0.47397017,\n",
              "        0.04501668, -0.21380234,  0.10580667, -0.25467092, -0.26249704,\n",
              "       -0.12952922, -0.619748  ,  0.18771096, -0.48565277,  0.50827354,\n",
              "        0.8396057 , -0.05919949,  0.41945288, -0.00598229, -0.04321158,\n",
              "        0.54302734,  0.05488387, -0.8049018 ,  0.64509606,  0.31172478,\n",
              "        0.7271181 ,  0.6449724 , -0.84665143,  0.24343558, -0.67946106,\n",
              "        0.8667889 ,  0.22064887, -0.6508216 , -0.4445115 , -0.3671021 ,\n",
              "       -0.5543362 ,  0.02747017,  0.06350127,  0.06678116, -0.554405  ,\n",
              "       -0.9384221 , -0.54229575,  1.2118603 , -0.2021284 ,  0.48675334,\n",
              "       -0.27339786, -1.1521484 ,  0.09186881, -0.49464217,  0.40316758,\n",
              "       -0.449241  , -0.4220438 ,  0.9452101 ,  0.30741844,  0.16198319,\n",
              "       -0.5196762 , -0.89424723, -0.54251105,  0.5996722 , -0.07439934],\n",
              "      dtype=float32)"
            ]
          },
          "metadata": {},
          "execution_count": 101
        }
      ],
      "source": [
        "# get the corresponding vector of a word\n",
        "word_vec = word2vec_model.wv['happy']\n",
        "word_vec"
      ]
    },
    {
      "cell_type": "code",
      "execution_count": 102,
      "metadata": {
        "colab": {
          "base_uri": "https://localhost:8080/"
        },
        "id": "9dUSkCscYTp5",
        "outputId": "53040ebe-3b29-4811-f3b0-73466b027abe",
        "vscode": {
          "languageId": "python"
        }
      },
      "outputs": [
        {
          "output_type": "execute_result",
          "data": {
            "text/plain": [
              "[('A4', 0.9426147937774658),\n",
              " ('help', 0.9399852752685547),\n",
              " (\"'you\", 0.9377036094665527),\n",
              " ('CFL', 0.9323478937149048),\n",
              " ('cats', 0.9311000108718872),\n",
              " ('memories😊', 0.9264225363731384),\n",
              " ('Be', 0.9247814416885376),\n",
              " ('blessing', 0.9246106147766113),\n",
              " ('kinda', 0.9235661625862122),\n",
              " ('Kittens', 0.9225702881813049)]"
            ]
          },
          "metadata": {},
          "execution_count": 102
        }
      ],
      "source": [
        "# Get the most similar words\n",
        "word = 'happy'\n",
        "topn = 10\n",
        "word2vec_model.wv.most_similar(word, topn=topn)"
      ]
    },
    {
      "cell_type": "markdown",
      "metadata": {
        "id": "zuQvZVJvYTp5"
      },
      "source": [
        "### 7.4 Using a pre-trained w2v model\n",
        "\n",
        "Instead of training your own model ,you can use a model that has already been trained. Here, we see 2 ways of doing that:\n",
        "\n",
        "\n",
        "#### (1) Download model by yourself\n",
        "\n",
        "source: [GoogleNews-vectors-negative300](https://code.google.com/archive/p/word2vec/)\n",
        "\n",
        "more details: https://radimrehurek.com/gensim/models/keyedvectors.html"
      ]
    },
    {
      "cell_type": "code",
      "source": [
        "#@title Collecting Word2Vec\n",
        "## the input type\n",
        "train_df['text_tokenized'] = train_df['text'].apply(lambda x: nltk.word_tokenize(x))\n",
        "train_df[['id', 'text', 'text_tokenized']].head()\n",
        "## create the training corpus\n",
        "training_corpus = train_df['text_tokenized'].values\n",
        "training_corpus[:3]\n",
        "## setting\n",
        "vector_dim = 100\n",
        "window_size = 5\n",
        "min_count = 1\n",
        "training_epochs = 20\n",
        "\n",
        "\n",
        "## if you want to see the training messages, you can use it\n",
        "# import logging\n",
        "# logging.basicConfig(format='%(asctime)s : %(levelname)s : %(message)s', level=logging.INFO)\n",
        "## model\n",
        "word2vec_model = Word2Vec(sentences=training_corpus, \n",
        "                          size=vector_dim, window=window_size, \n",
        "                          min_count=min_count, iter=training_epochs)  # in some version size<-> vector_size, iter<->epochs\n",
        "# get the corresponding vector of a word\n",
        "word_vec = word2vec_model.wv['happy']\n",
        "word_vec\n",
        "\n",
        "# Get the most similar words\n",
        "word = 'happy'\n",
        "topn = 10\n",
        "word2vec_model.wv.most_similar(word, topn=topn)"
      ],
      "metadata": {
        "cellView": "form",
        "id": "803vTOK3Cl4G"
      },
      "execution_count": null,
      "outputs": []
    },
    {
      "cell_type": "markdown",
      "metadata": {
        "id": "NdQ9ul0eYTp5"
      },
      "source": [
        "#### (2) Using gensim api\n",
        "\n",
        "Other pretrained models are available here: https://github.com/RaRe-Technologies/gensim-data"
      ]
    },
    {
      "cell_type": "code",
      "execution_count": 12,
      "metadata": {
        "colab": {
          "base_uri": "https://localhost:8080/"
        },
        "id": "oIxHpNB6YTp5",
        "outputId": "f26952de-47b3-44fc-f5f9-347dfd7e5aae",
        "vscode": {
          "languageId": "python"
        }
      },
      "outputs": [
        {
          "output_type": "stream",
          "name": "stdout",
          "text": [
            "[==================================================] 100.0% 104.8/104.8MB downloaded\n",
            "load ok\n"
          ]
        },
        {
          "output_type": "execute_result",
          "data": {
            "text/plain": [
              "[('birthday', 0.9577817916870117),\n",
              " ('thank', 0.9376667141914368),\n",
              " ('welcome', 0.9336150288581848),\n",
              " ('love', 0.9176183938980103),\n",
              " ('miss', 0.916450023651123),\n",
              " ('hello', 0.9158351421356201),\n",
              " ('thanks', 0.9150084257125854),\n",
              " ('merry', 0.9053248763084412),\n",
              " ('bless', 0.9027323126792908),\n",
              " ('wish', 0.9013165831565857)]"
            ]
          },
          "metadata": {},
          "execution_count": 12
        }
      ],
      "source": [
        "## If you see `SSL: CERTIFICATE_VERIFY_FAILED` error, use this:\n",
        "# import ssl\n",
        "# import urllib.request\n",
        "# ssl._create_default_https_context = ssl._create_unverified_context\n",
        "\n",
        "glove_twitter_25_model = api.load(\"glove-twitter-25\")\n",
        "print('load ok')\n",
        "\n",
        "glove_twitter_25_model.most_similar('happy', topn=10)"
      ]
    },
    {
      "cell_type": "code",
      "source": [
        "glove_twitter_25_model.wv['happy']"
      ],
      "metadata": {
        "id": "_HYr_Se9MOzk"
      },
      "execution_count": null,
      "outputs": []
    },
    {
      "cell_type": "code",
      "execution_count": 107,
      "metadata": {
        "id": "otXEa7wJUha9",
        "vscode": {
          "languageId": "python"
        },
        "colab": {
          "base_uri": "https://localhost:8080/"
        },
        "outputId": "0436128e-4ba5-42d2-b936-c3e16b87dbe3"
      },
      "outputs": [
        {
          "output_type": "stream",
          "name": "stdout",
          "text": [
            "[=================================================-] 99.9% 1661.1/1662.8MB downloaded\n"
          ]
        }
      ],
      "source": [
        "w2v_google_model = api.load('word2vec-google-news-300') # maybe too big for colab"
      ]
    },
    {
      "cell_type": "code",
      "execution_count": null,
      "metadata": {
        "id": "oe8hgWNuU14S",
        "vscode": {
          "languageId": "python"
        }
      },
      "outputs": [],
      "source": [
        "w2v_google_model.most_similar('happy', topn=10) "
      ]
    },
    {
      "cell_type": "markdown",
      "metadata": {
        "id": "GCNDNqeXYTp5"
      },
      "source": [
        "### 7.5 king + woman - man = ?"
      ]
    },
    {
      "cell_type": "markdown",
      "metadata": {
        "id": "_GtCRr_7YTp5"
      },
      "source": [
        "Let's run one of the most famous examples for Word2Vec and compute the similarity between these 3 words:"
      ]
    },
    {
      "cell_type": "code",
      "execution_count": null,
      "metadata": {
        "colab": {
          "base_uri": "https://localhost:8080/"
        },
        "id": "TMf17NHbjETv",
        "outputId": "c184f092-b421-4ccd-d8cd-52ba29535404",
        "vscode": {
          "languageId": "python"
        }
      },
      "outputs": [
        {
          "output_type": "execute_result",
          "data": {
            "text/plain": [
              "[('queen', 0.7118193507194519),\n",
              " ('monarch', 0.6189674139022827),\n",
              " ('princess', 0.5902431011199951),\n",
              " ('crown_prince', 0.5499460697174072),\n",
              " ('prince', 0.5377321839332581),\n",
              " ('kings', 0.5236844420433044),\n",
              " ('Queen_Consort', 0.5235945582389832),\n",
              " ('queens', 0.5181134343147278),\n",
              " ('sultan', 0.5098593831062317),\n",
              " ('monarchy', 0.5087411999702454)]"
            ]
          },
          "metadata": {},
          "execution_count": 88
        }
      ],
      "source": [
        "w2v_google_model.most_similar(positive=['king', 'woman'], negative=['man'])"
      ]
    },
    {
      "cell_type": "code",
      "execution_count": 5,
      "metadata": {
        "colab": {
          "base_uri": "https://localhost:8080/"
        },
        "id": "Zew7m_kIYTp5",
        "outputId": "e940884e-fbc1-4bba-8d7f-6f12ee6d2e85",
        "vscode": {
          "languageId": "python"
        }
      },
      "outputs": [
        {
          "output_type": "execute_result",
          "data": {
            "text/plain": [
              "[('meets', 0.8841923475265503),\n",
              " ('prince', 0.832163393497467),\n",
              " ('queen', 0.8257461190223694),\n",
              " ('’s', 0.8174097537994385),\n",
              " ('crow', 0.8134994506835938),\n",
              " ('hunter', 0.8131038546562195),\n",
              " ('father', 0.811583399772644),\n",
              " ('soldier', 0.8111359477043152),\n",
              " ('mercy', 0.8082392811775208),\n",
              " ('hero', 0.8082262873649597)]"
            ]
          },
          "metadata": {},
          "execution_count": 5
        }
      ],
      "source": [
        "\n",
        "glove_twitter_25_model.most_similar(positive=['king', 'woman'], negative=['man'])"
      ]
    },
    {
      "cell_type": "markdown",
      "metadata": {
        "id": "y3RQVnBOYTp5"
      },
      "source": [
        "---\n",
        "### ** >>> Exercise 7 (Take home): **  \n",
        "\n",
        "Now, we have the word vectors, but our input data is a sequence of words (or say sentence). \n",
        "How can we utilize these \"word\" vectors to represent the sentence data and train our model?\n"
      ]
    },
    {
      "cell_type": "code",
      "execution_count": null,
      "metadata": {
        "id": "TBwRT93DYTp5",
        "vscode": {
          "languageId": "python"
        }
      },
      "outputs": [],
      "source": [
        "# Answer here\n",
        "# try to build classifier with word embedding features"
      ]
    },
    {
      "cell_type": "code",
      "source": [
        "X_train = train_df['text'].apply(lambda x: nltk.word_tokenize(x))\n",
        "X_test = test_df['text'].apply(lambda x: nltk.word_tokenize(x))"
      ],
      "metadata": {
        "id": "xGUK4qNsw5eQ"
      },
      "execution_count": 9,
      "outputs": []
    },
    {
      "cell_type": "code",
      "source": [
        "def sent2vec(sentence):\n",
        "  '''This function helps to retrieve vectors of words in a given sentence.\n",
        "  A word in a sentence but not in the vocabulary of the pre-trained word2vec\n",
        "  model will be excluded since we cannot retrieve anything.\n",
        "  '''\n",
        "  vecs = []\n",
        "  for i in sentence:\n",
        "    i = i.lower() # because vocabulary words are all in lower cases\n",
        "    if i in glove_twitter_25_model.vocab:\n",
        "      vecs.append(glove_twitter_25_model.wv[i])\n",
        "  return np.array(vecs) # 2d array as vector for a given sentence \n",
        "\n",
        "def data2vec(data):\n",
        "  ''' This functions takes all sentences in the text column and return a list \n",
        "      of their corresponding vectors.\n",
        "  '''\n",
        "  # a list to store different length sentence vectors \n",
        "  all_data_vectors = []\n",
        "\n",
        "  for message in data: \n",
        "    message_as_vector_seq = sent2vec(message) \n",
        "    # check if the sentence vector becomes empty incase the words are not \n",
        "    # in the word2vec's vocabolary \n",
        "    if message_as_vector_seq.shape[0] == 0: \n",
        "      message_as_vector_seq = np.zeros(shape=(1, 50)) \n",
        "    all_data_vectors.append(message_as_vector_seq) \n",
        "  \n",
        "  return all_data_vectors\n",
        "\n",
        "# a function to pad zeros on smaller length senntences \n",
        "def pad(data, max_sentence_len=46):\n",
        "  temp_data = data.copy() # save the copy while using the data\n",
        "\n",
        "  for i, x in enumerate(data):\n",
        "    pad_requirement = max_sentence_len - x.shape[0] # no of words left\n",
        "    pad = np.zeros(shape=(pad_requirement, 25)) # 25 zeros of for each empty word\n",
        "    # 25 is used because glove_twitter_25_model has 25 vector for each word\n",
        "    temp_data[i] = np.concatenate([x, pad])\n",
        "  \n",
        "  return np.array(temp_data).astype(float)"
      ],
      "metadata": {
        "id": "B8BhKFctzaYh"
      },
      "execution_count": 26,
      "outputs": []
    },
    {
      "cell_type": "code",
      "source": [
        "# Retrieve the vectors for words in sentences -> vectorize sentences\n",
        "# and pad for smaller word sentences\n",
        "\n",
        "X_train = pad(data2vec(X_train))\n",
        "X_test = pad(data2vec(X_test))\n",
        "print('Training shape: ', X_train.shape)\n",
        "print('Testing Shape: ', X_test.shape)\n",
        "\n",
        "# check the maximum and minimum length of senteces to get info for padding\n",
        "words_per_sentence_train = [X_train[i].shape[0] for i in range(len(X_train))]\n",
        "words_per_sentence_test = [X_train[i].shape[0] for i in range(len(X_test))]\n",
        "\n",
        "# see in order of min(train), max(train), min(test), max(test)\n",
        "print(min(words_per_sentence_train), max(words_per_sentence_train), \n",
        "      min(words_per_sentence_test), max(words_per_sentence_test))\n",
        "# max sentence length observed is 46 and other sentences below this dimensions\n",
        "# will get padding of zeros."
      ],
      "metadata": {
        "colab": {
          "base_uri": "https://localhost:8080/"
        },
        "id": "n0RbfgGKCsB0",
        "outputId": "69409723-b847-4c02-8e1d-63bf195ac147"
      },
      "execution_count": 56,
      "outputs": [
        {
          "output_type": "stream",
          "name": "stdout",
          "text": [
            "1 46 2 40\n"
          ]
        }
      ]
    },
    {
      "cell_type": "markdown",
      "source": [
        "The following cells are customized from part 6 above just to examine the retrieved word vectors from pre-trained word2vec model."
      ],
      "metadata": {
        "id": "xNPT7adzX6Nd"
      }
    },
    {
      "cell_type": "code",
      "source": [
        "from keras import Model\n",
        "from keras.layers import Input, Dense, Flatten, Softmax"
      ],
      "metadata": {
        "id": "MDW-fWmkNh1u"
      },
      "execution_count": 74,
      "outputs": []
    },
    {
      "cell_type": "code",
      "source": [
        "# I/O shapes\n",
        "input_shape = xx_train.shape[1:] \n",
        "print('input_shape: ', input_shape) \n",
        "\n",
        "output_shape = len(label_encoder.classes_) \n",
        "print('output_shape: ', output_shape) "
      ],
      "metadata": {
        "colab": {
          "base_uri": "https://localhost:8080/"
        },
        "id": "fEBSq5wCPmTA",
        "outputId": "bd13f15a-a1c6-479b-b355-b1d68312447a"
      },
      "execution_count": 68,
      "outputs": [
        {
          "output_type": "stream",
          "name": "stdout",
          "text": [
            "input_shape:  (46, 25)\n",
            "output_shape:  4\n"
          ]
        }
      ]
    },
    {
      "cell_type": "code",
      "source": [
        "# Classifying model taken from above, part 6.3\n",
        "# input layer\n",
        "X = Input(shape=(input_shape))  # (46, 25)\n",
        "\n",
        "# 1st hidden layer\n",
        "H1 = Dense(units=64, activation='relu')(X)  # 64\n",
        "\n",
        "# 2nd hidden layer\n",
        "H2 = Dense(units=64, activation='relu')(H1)  # 64\n",
        "Flaten = Flatten()(H2)\n",
        "\n",
        "# output layer\n",
        "Y = Dense(units=output_shape, activation='softmax')(Flaten)  # 4\n",
        "\n",
        "# create model\n",
        "model2 = Model(inputs=[X], outputs=[Y])\n",
        "\n",
        "# loss function & optimizer\n",
        "model2.compile(optimizer='adam', loss='categorical_crossentropy', metrics=['accuracy'])\n",
        "\n",
        "# show model construction\n",
        "model2.summary()"
      ],
      "metadata": {
        "colab": {
          "base_uri": "https://localhost:8080/"
        },
        "id": "qZUIVwCwNLjM",
        "outputId": "b6ccc31d-2f9e-4605-95fd-9b5a26cf3830"
      },
      "execution_count": 75,
      "outputs": [
        {
          "output_type": "stream",
          "name": "stdout",
          "text": [
            "Model: \"model_2\"\n",
            "_________________________________________________________________\n",
            " Layer (type)                Output Shape              Param #   \n",
            "=================================================================\n",
            " input_3 (InputLayer)        [(None, 46, 25)]          0         \n",
            "                                                                 \n",
            " dense_6 (Dense)             (None, 46, 64)            1664      \n",
            "                                                                 \n",
            " dense_7 (Dense)             (None, 46, 64)            4160      \n",
            "                                                                 \n",
            " flatten (Flatten)           (None, 2944)              0         \n",
            "                                                                 \n",
            " dense_8 (Dense)             (None, 4)                 11780     \n",
            "                                                                 \n",
            "=================================================================\n",
            "Total params: 17,604\n",
            "Trainable params: 17,604\n",
            "Non-trainable params: 0\n",
            "_________________________________________________________________\n"
          ]
        }
      ]
    },
    {
      "cell_type": "code",
      "source": [
        "from keras.callbacks import CSVLogger\n",
        "\n",
        "csv_logger = CSVLogger(f'{data_folder}/logs/training_log2.csv')\n",
        "\n",
        "# training setting\n",
        "epochs = 25\n",
        "batch_size = 32\n",
        "\n",
        "# training!\n",
        "history = model2.fit(X_train, y_train, epochs=epochs, batch_size=batch_size, \n",
        "                    callbacks=[csv_logger], validation_data = (X_test, y_test))\n",
        "\n",
        "print('training finish')"
      ],
      "metadata": {
        "colab": {
          "base_uri": "https://localhost:8080/"
        },
        "id": "I6iYd90XUPG5",
        "outputId": "c5c2c4e4-b2a9-4893-9bd7-2eb652a97f32"
      },
      "execution_count": 76,
      "outputs": [
        {
          "output_type": "stream",
          "name": "stdout",
          "text": [
            "Epoch 1/25\n",
            "113/113 [==============================] - 2s 10ms/step - loss: 1.3727 - accuracy: 0.3164 - val_loss: 1.3478 - val_accuracy: 0.3660\n",
            "Epoch 2/25\n",
            "113/113 [==============================] - 1s 7ms/step - loss: 1.2338 - accuracy: 0.4387 - val_loss: 1.2938 - val_accuracy: 0.4294\n",
            "Epoch 3/25\n",
            "113/113 [==============================] - 1s 8ms/step - loss: 1.1135 - accuracy: 0.5143 - val_loss: 1.2959 - val_accuracy: 0.4265\n",
            "Epoch 4/25\n",
            "113/113 [==============================] - 1s 8ms/step - loss: 1.0227 - accuracy: 0.5779 - val_loss: 1.3073 - val_accuracy: 0.4236\n",
            "Epoch 5/25\n",
            "113/113 [==============================] - 1s 8ms/step - loss: 0.9399 - accuracy: 0.6277 - val_loss: 1.3660 - val_accuracy: 0.3948\n",
            "Epoch 6/25\n",
            "113/113 [==============================] - 1s 8ms/step - loss: 0.8688 - accuracy: 0.6601 - val_loss: 1.3701 - val_accuracy: 0.4092\n",
            "Epoch 7/25\n",
            "113/113 [==============================] - 1s 8ms/step - loss: 0.8023 - accuracy: 0.6964 - val_loss: 1.4017 - val_accuracy: 0.4092\n",
            "Epoch 8/25\n",
            "113/113 [==============================] - 1s 7ms/step - loss: 0.7426 - accuracy: 0.7265 - val_loss: 1.4334 - val_accuracy: 0.4265\n",
            "Epoch 9/25\n",
            "113/113 [==============================] - 1s 8ms/step - loss: 0.6928 - accuracy: 0.7465 - val_loss: 1.4894 - val_accuracy: 0.3804\n",
            "Epoch 10/25\n",
            "113/113 [==============================] - 1s 7ms/step - loss: 0.6449 - accuracy: 0.7672 - val_loss: 1.5134 - val_accuracy: 0.4265\n",
            "Epoch 11/25\n",
            "113/113 [==============================] - 1s 8ms/step - loss: 0.5905 - accuracy: 0.7899 - val_loss: 1.5346 - val_accuracy: 0.4438\n",
            "Epoch 12/25\n",
            "113/113 [==============================] - 1s 8ms/step - loss: 0.5486 - accuracy: 0.8118 - val_loss: 1.5717 - val_accuracy: 0.4496\n",
            "Epoch 13/25\n",
            "113/113 [==============================] - 1s 8ms/step - loss: 0.5119 - accuracy: 0.8242 - val_loss: 1.6221 - val_accuracy: 0.4467\n",
            "Epoch 14/25\n",
            "113/113 [==============================] - 1s 8ms/step - loss: 0.4737 - accuracy: 0.8392 - val_loss: 1.6193 - val_accuracy: 0.4524\n",
            "Epoch 15/25\n",
            "113/113 [==============================] - 1s 7ms/step - loss: 0.4376 - accuracy: 0.8558 - val_loss: 1.6954 - val_accuracy: 0.4496\n",
            "Epoch 16/25\n",
            "113/113 [==============================] - 1s 8ms/step - loss: 0.4088 - accuracy: 0.8677 - val_loss: 1.7113 - val_accuracy: 0.4553\n",
            "Epoch 17/25\n",
            "113/113 [==============================] - 1s 8ms/step - loss: 0.3819 - accuracy: 0.8766 - val_loss: 1.7677 - val_accuracy: 0.4207\n",
            "Epoch 18/25\n",
            "113/113 [==============================] - 1s 8ms/step - loss: 0.3582 - accuracy: 0.8898 - val_loss: 1.8075 - val_accuracy: 0.4380\n",
            "Epoch 19/25\n",
            "113/113 [==============================] - 1s 8ms/step - loss: 0.3279 - accuracy: 0.8959 - val_loss: 1.8462 - val_accuracy: 0.4150\n",
            "Epoch 20/25\n",
            "113/113 [==============================] - 1s 8ms/step - loss: 0.3096 - accuracy: 0.9051 - val_loss: 1.8745 - val_accuracy: 0.4352\n",
            "Epoch 21/25\n",
            "113/113 [==============================] - 1s 8ms/step - loss: 0.2835 - accuracy: 0.9161 - val_loss: 1.8866 - val_accuracy: 0.4294\n",
            "Epoch 22/25\n",
            "113/113 [==============================] - 1s 7ms/step - loss: 0.2651 - accuracy: 0.9222 - val_loss: 1.9383 - val_accuracy: 0.4323\n",
            "Epoch 23/25\n",
            "113/113 [==============================] - 1s 7ms/step - loss: 0.2423 - accuracy: 0.9289 - val_loss: 2.0135 - val_accuracy: 0.4496\n",
            "Epoch 24/25\n",
            "113/113 [==============================] - 1s 8ms/step - loss: 0.2370 - accuracy: 0.9352 - val_loss: 2.0714 - val_accuracy: 0.4438\n",
            "Epoch 25/25\n",
            "113/113 [==============================] - 1s 8ms/step - loss: 0.2176 - accuracy: 0.9424 - val_loss: 2.1274 - val_accuracy: 0.4611\n",
            "training finish\n"
          ]
        }
      ]
    },
    {
      "cell_type": "code",
      "source": [
        "## predict\n",
        "pred_result = model2.predict(X_test, batch_size=128)\n",
        "pred_result = label_decode(label_encoder, pred_result)\n",
        "print('testing accuracy: {}'.format(round(accuracy_score(\n",
        "    label_decode(label_encoder, y_test), pred_result), 2)))"
      ],
      "metadata": {
        "colab": {
          "base_uri": "https://localhost:8080/"
        },
        "id": "eEdywPOUV3i7",
        "outputId": "81145ed5-1d37-4ce0-9ffa-e1be25ab14bc"
      },
      "execution_count": 78,
      "outputs": [
        {
          "output_type": "stream",
          "name": "stdout",
          "text": [
            "3/3 [==============================] - 0s 11ms/step\n",
            "testing accuracy: 0.46\n"
          ]
        }
      ]
    },
    {
      "cell_type": "code",
      "source": [
        "# plot\n",
        "training_log2 = pd.DataFrame()\n",
        "training_log2 = pd.read_csv(os.path.join(data_folder,\"logs/training_log2.csv\"))\n",
        "pred_result[:5]\n",
        "\n",
        "plt.figure(figsize=(6,4))\n",
        "_, ax = plt.subplots(ncols=2, figsize=(10, 4))\n",
        "\n",
        "'''plot the log, taken from ex. 6 above\n",
        "'''\n",
        "\n",
        "metrics = {'accuracy':'val_accuracy', 'loss': 'val_loss'}\n",
        "\n",
        "for i, j in enumerate(metrics):\n",
        "  ax[i].plot(training_log2.epoch, training_log2[j], color='b', label=f'Train {j}')\n",
        "  ax[i].plot(training_log2.epoch, training_log2[metrics[j]], color='r', label=f'Val {j}')\n",
        "  ax[i].set_title(f'Training {j.capitalize()} per Epoch') \n",
        "  ax[i].set_xlabel('Epoch')\n",
        "  ax[i].set_ylabel(j.capitalize())  # j [accuracy, loss] --> [Accuracy, Loss]\n",
        "  ax[i].legend(loc='upper right')\n",
        "\n",
        "plt.show()"
      ],
      "metadata": {
        "colab": {
          "base_uri": "https://localhost:8080/",
          "height": 312
        },
        "id": "y6i0WmwLTf5M",
        "outputId": "9e7de181-f700-49c3-8cf1-b0688d2545e1"
      },
      "execution_count": 79,
      "outputs": [
        {
          "output_type": "display_data",
          "data": {
            "text/plain": [
              "<Figure size 432x288 with 0 Axes>"
            ]
          },
          "metadata": {}
        },
        {
          "output_type": "display_data",
          "data": {
            "text/plain": [
              "<Figure size 720x288 with 2 Axes>"
            ],
            "image/png": "[encoded data removed]"
          },
          "metadata": {
            "needs_background": "light"
          }
        }
      ]
    },
    {
      "cell_type": "markdown",
      "metadata": {
        "id": "LrK7O1KDYTp5"
      },
      "source": [
        "### 8. Clustering: k-means\n",
        "\n",
        "Here we introduce how to use `sklearn` to do the basic **unsupervised learning** approach, k-means.    \n",
        "\n",
        "more details: http://scikit-learn.org/stable/modules/generated/sklearn.cluster.KMeans.html\n"
      ]
    },
    {
      "cell_type": "markdown",
      "metadata": {
        "id": "Hr8_IxwBYTp5"
      },
      "source": [
        "#### Basic concept\n",
        "\n",
        "![Image](https://i.imgur.com/PEdUf54.png)\n",
        "\n",
        "(img source: https://towardsdatascience.com/k-means-clustering-identifying-f-r-i-e-n-d-s-in-the-world-of-strangers-695537505d)"
      ]
    },
    {
      "cell_type": "code",
      "execution_count": null,
      "metadata": {
        "colab": {
          "base_uri": "https://localhost:8080/"
        },
        "id": "6heUPVwWYTp5",
        "outputId": "beef8508-8c62-4603-cacb-267840d4f450",
        "vscode": {
          "languageId": "python"
        }
      },
      "outputs": [
        {
          "output_type": "stream",
          "name": "stdout",
          "text": [
            "target words:  ['happy', 'fear', 'angry', 'car', 'teacher', 'computer']\n"
          ]
        }
      ],
      "source": [
        "# clustering target\n",
        "target_list = ['happy', 'fear', 'angry', 'car', 'teacher', 'computer']\n",
        "print('target words: ', target_list)\n",
        "\n",
        "# convert to word vector\n",
        "X = [word2vec_model.wv[word] for word in target_list]"
      ]
    },
    {
      "cell_type": "code",
      "execution_count": null,
      "metadata": {
        "colab": {
          "base_uri": "https://localhost:8080/"
        },
        "id": "E9t_sJrvYTp5",
        "outputId": "95050058-5879-4cd9-af8c-2a01d1ff038b",
        "vscode": {
          "languageId": "python"
        }
      },
      "outputs": [
        {
          "output_type": "stream",
          "name": "stdout",
          "text": [
            "word: happy \t cluster: 1\n",
            "word: fear \t cluster: 1\n",
            "word: angry \t cluster: 1\n",
            "word: car \t cluster: 0\n",
            "word: teacher \t cluster: 0\n",
            "word: computer \t cluster: 0\n"
          ]
        }
      ],
      "source": [
        "# we have to decide how many cluster (k) we want\n",
        "k = 2\n",
        "\n",
        "# k-means model\n",
        "kmeans_model = KMeans(n_clusters=k)\n",
        "kmeans_model.fit(X)\n",
        "\n",
        "# cluster result\n",
        "cluster_result = kmeans_model.labels_\n",
        "\n",
        "# show\n",
        "for i in range(len(target_list)):\n",
        "    print('word: {} \\t cluster: {}'.format(target_list[i], cluster_result[i]))"
      ]
    },
    {
      "cell_type": "markdown",
      "metadata": {
        "id": "QcDTL7kRYTp5"
      },
      "source": [
        "![Imgur](https://drive.google.com/uc?id=1Vm0-_k8xh9pDiruqy0uOKkxtpa4pnJq3)"
      ]
    },
    {
      "cell_type": "code",
      "execution_count": null,
      "metadata": {
        "colab": {
          "base_uri": "https://localhost:8080/"
        },
        "id": "NIMFax_uYTp5",
        "outputId": "3e8a1a39-f63b-40ae-a9d0-0f37456c2628",
        "vscode": {
          "languageId": "python"
        }
      },
      "outputs": [
        {
          "output_type": "execute_result",
          "data": {
            "text/plain": [
              "array([0], dtype=int32)"
            ]
          },
          "metadata": {},
          "execution_count": 92
        }
      ],
      "source": [
        "#check cluster membership\n",
        "word = 'student'\n",
        "word_vec = word2vec_model.wv[word]\n",
        "kmeans_model.predict([word_vec])"
      ]
    },
    {
      "cell_type": "code",
      "execution_count": null,
      "metadata": {
        "colab": {
          "base_uri": "https://localhost:8080/"
        },
        "id": "vIDuLDOlYTp5",
        "outputId": "1be59bab-93e1-4830-b9b4-26ab804c7f7c",
        "vscode": {
          "languageId": "python"
        }
      },
      "outputs": [
        {
          "output_type": "execute_result",
          "data": {
            "text/plain": [
              "array([1], dtype=int32)"
            ]
          },
          "metadata": {},
          "execution_count": 93
        }
      ],
      "source": [
        "#check cluster membership\n",
        "word = 'sad'\n",
        "word_vec = word2vec_model.wv[word]\n",
        "kmeans_model.predict([word_vec])"
      ]
    },
    {
      "cell_type": "markdown",
      "metadata": {
        "id": "cZOEGH3GYTp5"
      },
      "source": [
        "\n",
        "## 9. High-dimension Visualization: t-SNE\n",
        "\n",
        "No matter if you use the Bag-of-words, TF-IDF, or Word2Vec, it's very hard to see the embedding result, because the dimension is larger than 3.  \n",
        "\n",
        "In Lab 1, we already talked about PCA. We can use PCA to reduce the dimension of our data, then visualize it. However, if you dig deeper into the result, you'd find it is insufficient.\n",
        "\n",
        "Our aim will be to create a visualization similar to the one below:"
      ]
    },
    {
      "cell_type": "markdown",
      "metadata": {
        "id": "3-JR-rqyYTp5"
      },
      "source": [
        "![Image](https://drive.google.com/uc?id=1Vl5huV8wa5I6GXcgqz2YLHdeXS4WMR01)\n",
        "source: https://www.fabian-keller.de/research/high-dimensional-data-visualization "
      ]
    },
    {
      "cell_type": "markdown",
      "metadata": {
        "id": "tmdbJbjxYTp5"
      },
      "source": [
        "Here we would like to introduce another visualization method called t-SNE.  \n",
        "http://scikit-learn.org/stable/modules/generated/sklearn.manifold.TSNE.html "
      ]
    },
    {
      "cell_type": "markdown",
      "metadata": {
        "id": "MU8eeDnGYTp5"
      },
      "source": [
        "### 9.1 Prepare visualizing target"
      ]
    },
    {
      "cell_type": "markdown",
      "metadata": {
        "id": "T9IHcP3VYTp5"
      },
      "source": [
        "Let's prepare data lists like:\n",
        "- happy words\n",
        "- angry words\n",
        "- data words\n",
        "- mining words"
      ]
    },
    {
      "cell_type": "code",
      "execution_count": 80,
      "metadata": {
        "colab": {
          "base_uri": "https://localhost:8080/"
        },
        "id": "L9il5L7pYTp5",
        "outputId": "682c16fd-a01e-44a2-f11d-d080629427bb",
        "vscode": {
          "languageId": "python"
        }
      },
      "outputs": [
        {
          "output_type": "stream",
          "name": "stdout",
          "text": [
            "happy_words:  ['happy', 'birthday', 'thank', 'welcome', 'love', 'miss']\n",
            "angry_words:  ['angry', 'stupid', 'hate', 'annoying', 'weird', 'like']\n",
            "data_words:  ['data', 'mobile', 'software', 'search', 'survey', 'web']\n",
            "mining_words:  ['mining', 'offshore', 'manufacturing', 'pharma', 'agricultural', 'agriculture']\n",
            "\n",
            "target words: \n",
            "['happy', 'birthday', 'thank', 'welcome', 'love', 'miss', 'angry', 'stupid', 'hate', 'annoying', 'weird', 'like', 'data', 'mobile', 'software', 'search', 'survey', 'web', 'mining', 'offshore', 'manufacturing', 'pharma', 'agricultural', 'agriculture']\n",
            "\n",
            "color list:\n",
            "['b', 'b', 'b', 'b', 'b', 'b', 'g', 'g', 'g', 'g', 'g', 'g', 'r', 'r', 'r', 'r', 'r', 'r', 'y', 'y', 'y', 'y', 'y', 'y']\n"
          ]
        }
      ],
      "source": [
        "word_list = ['happy', 'angry', 'data', 'mining']\n",
        "\n",
        "topn = 5\n",
        "happy_words = ['happy'] + [word_ for word_, sim_ in glove_twitter_25_model.most_similar('happy', topn=topn)]\n",
        "angry_words = ['angry'] + [word_ for word_, sim_ in glove_twitter_25_model.most_similar('angry', topn=topn)]        \n",
        "data_words = ['data'] + [word_ for word_, sim_ in glove_twitter_25_model.most_similar('data', topn=topn)]        \n",
        "mining_words = ['mining'] + [word_ for word_, sim_ in glove_twitter_25_model.most_similar('mining', topn=topn)]        \n",
        "\n",
        "print('happy_words: ', happy_words)\n",
        "print('angry_words: ', angry_words)\n",
        "print('data_words: ', data_words)\n",
        "print('mining_words: ', mining_words)\n",
        "\n",
        "target_words = happy_words + angry_words + data_words + mining_words\n",
        "print('\\ntarget words: ')\n",
        "print(target_words)\n",
        "\n",
        "print('\\ncolor list:')\n",
        "cn = topn + 1\n",
        "color = ['b'] * cn + ['g'] * cn + ['r'] * cn + ['y'] * cn\n",
        "print(color)"
      ]
    },
    {
      "cell_type": "markdown",
      "metadata": {
        "id": "zKa5LRxbYTp5"
      },
      "source": [
        "### 9.2 Plot using t-SNE (2-dimension)"
      ]
    },
    {
      "cell_type": "code",
      "execution_count": null,
      "metadata": {
        "colab": {
          "base_uri": "https://localhost:8080/",
          "height": 717
        },
        "id": "CJlljN2gYTp5",
        "outputId": "4089a4ec-0e7b-4287-b525-c1d996569d97",
        "vscode": {
          "languageId": "python"
        }
      },
      "outputs": [
        {
          "output_type": "display_data",
          "data": {
            "text/plain": [
              "<Figure size 862.5x862.5 with 1 Axes>"
            ],
            "image/png": "[encoded data removed]"
          },
          "metadata": {
            "needs_background": "light"
          }
        }
      ],
      "source": [
        "## w2v model\n",
        "model = w2v_google_model\n",
        "# model = glove_twitter_25_model\n",
        "\n",
        "## prepare training word vectors\n",
        "size = 200\n",
        "target_size = len(target_words)\n",
        "all_word = list(model.index_to_key)\n",
        "word_train = target_words + all_word[:size]\n",
        "X_train = model[word_train]\n",
        "\n",
        "## t-SNE model\n",
        "tsne = TSNE(n_components=2, metric='cosine', random_state=28)\n",
        "\n",
        "## training\n",
        "X_tsne = tsne.fit_transform(X_train)\n",
        "\n",
        "## plot the result\n",
        "plt.figure(figsize=(7.5, 7.5), dpi=115)\n",
        "plt.scatter(X_tsne[:target_size, 0], X_tsne[:target_size, 1], c=color)\n",
        "for label, x, y in zip(target_words, X_tsne[:target_size, 0], X_tsne[:target_size, 1]):\n",
        "    plt.annotate(label, xy=(x,y), xytext=(0,0),  textcoords='offset points')\n",
        "plt.show()"
      ]
    },
    {
      "cell_type": "code",
      "source": [
        "# %matplotlib inline\n",
        "# import matplotlib.pyplot as plt\n",
        "# from sklearn.manifold import TSNE\n",
        "\n",
        "## w2v model\n",
        "# model = w2v_google_model\n",
        "model = glove_twitter_25_model\n",
        "\n",
        "## prepare training word vectors\n",
        "size = 200\n",
        "target_size = len(target_words)\n",
        "all_word = list(model.index_to_key)\n",
        "word_train = target_words + all_word[:size]\n",
        "X_train = model[word_train]\n",
        "\n",
        "## t-SNE model\n",
        "tsne = TSNE(n_components=2, metric='cosine', random_state=28)\n",
        "\n",
        "## training\n",
        "X_tsne = tsne.fit_transform(X_train)\n",
        "\n",
        "## plot the result\n",
        "plt.figure(figsize=(7.5, 7.5), dpi=115)\n",
        "plt.scatter(X_tsne[:target_size, 0], X_tsne[:target_size, 1], c=color)\n",
        "for label, x, y in zip(target_words, X_tsne[:target_size, 0], X_tsne[:target_size, 1]):\n",
        "    plt.annotate(label, xy=(x,y), xytext=(0,0),  textcoords='offset points')\n",
        "plt.show()"
      ],
      "metadata": {
        "colab": {
          "base_uri": "https://localhost:8080/",
          "height": 717
        },
        "id": "-aXu8l6NjHV1",
        "outputId": "78c4fd64-a682-4d45-a111-dfa16033b5bf"
      },
      "execution_count": null,
      "outputs": [
        {
          "output_type": "display_data",
          "data": {
            "text/plain": [
              "<Figure size 862.5x862.5 with 1 Axes>"
            ],
            "image/png": "[encoded data removed]"
          },
          "metadata": {
            "needs_background": "light"
          }
        }
      ]
    },
    {
      "cell_type": "markdown",
      "metadata": {
        "id": "2PL61rqYYTp5"
      },
      "source": [
        "---\n",
        "### ** >>> Exercise 8 (Take home): **  \n",
        "\n",
        "Generate a t-SNE visualization to show the 15 words most related to the words \"angry\", \"happy\", \"sad\", \"fear\" (60 words total)."
      ]
    },
    {
      "cell_type": "code",
      "source": [
        "#@title Answer here\n",
        "\n",
        "word_list = ['happy', 'angry', 'sad', 'fear']\n",
        "\n",
        "topn = 15 # 15 words most related to the words in word_list\n",
        "angry_words = ['angry'] + [word_ for word_, sim_ in glove_twitter_25_model.most_similar('angry', topn=topn)]        \n",
        "happy_words = ['happy'] + [word_ for word_, sim_ in glove_twitter_25_model.most_similar('happy', topn=topn)]\n",
        "sad_words = ['sad'] + [word_ for word_, sim_ in glove_twitter_25_model.most_similar('sad', topn=topn)]        \n",
        "fear_words = ['fear'] + [word_ for word_, sim_ in glove_twitter_25_model.most_similar('fear', topn=topn)]        \n",
        "\n",
        "print('angry_words: ', angry_words)\n",
        "print('happy_words: ', happy_words)\n",
        "print('sad_words: ', sad_words)\n",
        "print('fear_words: ', fear_words)\n",
        "\n",
        "target_words = happy_words + angry_words + sad_words + fear_words\n",
        "print('\\ntarget words: ')\n",
        "print(target_words)\n",
        "\n",
        "print('\\ncolor list:')\n",
        "cn = topn + 1\n",
        "color = ['g'] * cn + ['b'] * cn + ['r'] * cn + ['y'] * cn\n",
        "\n",
        "# from sklearn.manifold import TSNE\n",
        "\n",
        "## w2v model\n",
        "# model = w2v_google_model\n",
        "model = glove_twitter_25_model\n",
        "\n",
        "## prepare training word vectors\n",
        "size = 200\n",
        "target_size = len(target_words)\n",
        "all_word = list(model.wv.index_to_key)\n",
        "word_train = target_words + all_word[:size]\n",
        "X_train = model[word_train]\n",
        "\n",
        "## t-SNE model\n",
        "tsne = TSNE(n_components=2, metric='cosine', random_state=28)\n",
        "\n",
        "## training\n",
        "X_tsne = tsne.fit_transform(X_train)\n",
        "\n",
        "## plot the result\n",
        "plt.figure(figsize=(7.5, 7.5), dpi=115)\n",
        "plt.scatter(X_tsne[:target_size, 0], X_tsne[:target_size, 1], c=color)\n",
        "for label, x, y in zip(target_words, X_tsne[:target_size, 0], X_tsne[:target_size, 1]):\n",
        "    plt.annotate(label, xy=(x,y), xytext=(0,0),  textcoords='offset points')\n",
        "plt.show()"
      ],
      "metadata": {
        "colab": {
          "base_uri": "https://localhost:8080/",
          "height": 411
        },
        "id": "BV0gBAueyXXf",
        "outputId": "b272b147-c44c-41f7-9ac2-e5ec69f0ca1b"
      },
      "execution_count": 82,
      "outputs": [
        {
          "output_type": "stream",
          "name": "stdout",
          "text": [
            "angry_words:  ['angry', 'stupid', 'hate', 'annoying', 'weird', 'like', 'confused', 'fucking', 'people', 'dislike', 'awkward', 'reason', 'because', 'scary', 'seriously', 'retarded']\n",
            "happy_words:  ['happy', 'birthday', 'thank', 'welcome', 'love', 'miss', 'hello', 'thanks', 'merry', 'bless', 'wish', 'day', 'dear', 'morning', 'good', 'dream']\n",
            "sad_words:  ['sad', 'swear', 'feel', 'same', 'wrong', 'meant', 'true', 'reason', 'remember', 'i', 'know', 'bad', 'thought', 'think', 'but', 'shame']\n",
            "fear_words:  ['fear', 'anger', 'enemy', 'afraid', 'destroy', 'fears', 'lies', 'faith', 'hatred', 'overcome', 'truth', 'promises', 'enemies', 'minds', 'suffer', 'thoughts']\n",
            "\n",
            "target words: \n",
            "['happy', 'birthday', 'thank', 'welcome', 'love', 'miss', 'hello', 'thanks', 'merry', 'bless', 'wish', 'day', 'dear', 'morning', 'good', 'dream', 'angry', 'stupid', 'hate', 'annoying', 'weird', 'like', 'confused', 'fucking', 'people', 'dislike', 'awkward', 'reason', 'because', 'scary', 'seriously', 'retarded', 'sad', 'swear', 'feel', 'same', 'wrong', 'meant', 'true', 'reason', 'remember', 'i', 'know', 'bad', 'thought', 'think', 'but', 'shame', 'fear', 'anger', 'enemy', 'afraid', 'destroy', 'fears', 'lies', 'faith', 'hatred', 'overcome', 'truth', 'promises', 'enemies', 'minds', 'suffer', 'thoughts']\n",
            "\n",
            "color list:\n"
          ]
        },
        {
          "output_type": "error",
          "ename": "AttributeError",
          "evalue": "ignored",
          "traceback": [
            "\u001b[0;31m---------------------------------------------------------------------------\u001b[0m",
            "\u001b[0;31mAttributeError\u001b[0m                            Traceback (most recent call last)",
            "\u001b[0;32m<ipython-input-82-445c26d73953>\u001b[0m in \u001b[0;36m<module>\u001b[0;34m\u001b[0m\n\u001b[1;32m     31\u001b[0m \u001b[0msize\u001b[0m \u001b[0;34m=\u001b[0m \u001b[0;36m200\u001b[0m\u001b[0;34m\u001b[0m\u001b[0;34m\u001b[0m\u001b[0m\n\u001b[1;32m     32\u001b[0m \u001b[0mtarget_size\u001b[0m \u001b[0;34m=\u001b[0m \u001b[0mlen\u001b[0m\u001b[0;34m(\u001b[0m\u001b[0mtarget_words\u001b[0m\u001b[0;34m)\u001b[0m\u001b[0;34m\u001b[0m\u001b[0;34m\u001b[0m\u001b[0m\n\u001b[0;32m---> 33\u001b[0;31m \u001b[0mall_word\u001b[0m \u001b[0;34m=\u001b[0m \u001b[0mlist\u001b[0m\u001b[0;34m(\u001b[0m\u001b[0mmodel\u001b[0m\u001b[0;34m.\u001b[0m\u001b[0mindex_to_key\u001b[0m\u001b[0;34m)\u001b[0m\u001b[0;34m\u001b[0m\u001b[0;34m\u001b[0m\u001b[0m\n\u001b[0m\u001b[1;32m     34\u001b[0m \u001b[0mword_train\u001b[0m \u001b[0;34m=\u001b[0m \u001b[0mtarget_words\u001b[0m \u001b[0;34m+\u001b[0m \u001b[0mall_word\u001b[0m\u001b[0;34m[\u001b[0m\u001b[0;34m:\u001b[0m\u001b[0msize\u001b[0m\u001b[0;34m]\u001b[0m\u001b[0;34m\u001b[0m\u001b[0;34m\u001b[0m\u001b[0m\n\u001b[1;32m     35\u001b[0m \u001b[0mX_train\u001b[0m \u001b[0;34m=\u001b[0m \u001b[0mmodel\u001b[0m\u001b[0;34m[\u001b[0m\u001b[0mword_train\u001b[0m\u001b[0;34m]\u001b[0m\u001b[0;34m\u001b[0m\u001b[0;34m\u001b[0m\u001b[0m\n",
            "\u001b[0;31mAttributeError\u001b[0m: 'Word2VecKeyedVectors' object has no attribute 'index_to_key'"
          ]
        }
      ]
    },
    {
      "cell_type": "markdown",
      "metadata": {
        "id": "_fF1woa8YTp5"
      },
      "source": [
        "---"
      ]
    }
  ],
  "metadata": {
    "colab": {
      "collapsed_sections": [
        "4e5eiVLOYTp5"
      ],
      "provenance": [],
      "toc_visible": true
    },
    "kernelspec": {
      "display_name": "Python 3 (ipykernel)",
      "language": "python",
      "name": "python3"
    },
    "varInspector": {
      "cols": {
        "lenName": 16,
        "lenType": 16,
        "lenVar": 40
      },
      "kernels_config": {
        "python": {
          "delete_cmd_postfix": "",
          "delete_cmd_prefix": "del ",
          "library": "var_list.py",
          "varRefreshCmd": "print(var_dic_list())"
        },
        "r": {
          "delete_cmd_postfix": ") ",
          "delete_cmd_prefix": "rm(",
          "library": "var_list.r",
          "varRefreshCmd": "cat(var_dic_list()) "
        }
      },
      "oldHeight": 594.85,
      "position": {
        "height": "40px",
        "left": "723px",
        "right": "20px",
        "top": "80px",
        "width": "250px"
      },
      "types_to_exclude": [
        "module",
        "function",
        "builtin_function_or_method",
        "instance",
        "_Feature"
      ],
      "varInspector_section_display": "none",
      "window_display": true
    },
    "gpuClass": "standard"
  },
  "nbformat": 4,
  "nbformat_minor": 0
}