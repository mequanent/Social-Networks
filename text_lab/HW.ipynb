{
  "cells": [
    {
      "cell_type": "markdown",
      "metadata": {
        "id": "oAvdIrj88TgC"
      },
      "source": [
        "### Student Information\n",
        "Name:\n",
        "\n",
        "Student ID:\n"
      ]
    },
    {
      "cell_type": "markdown",
      "metadata": {
        "id": "m6TSVJ0t8TgI"
      },
      "source": [
        "---"
      ]
    },
    {
      "cell_type": "markdown",
      "metadata": {
        "id": "slA_r1OM8TgJ"
      },
      "source": [
        "### Instructions"
      ]
    },
    {
      "cell_type": "markdown",
      "metadata": {
        "id": "x3x0v2UU8TgJ"
      },
      "source": [
        "1. __This part is worth 30% of your grade.__ \n",
        "\n",
        "Do the **take home** exercises in the [Lab](Text_Classification_Lab.ipynb). You may need to copy some cells from the Lab notebook to this notebook. \n",
        "\n",
        "\n",
        "2. __This part is worth 50% of your grade.__ \n",
        "\n",
        "In this lab, we have introduced the basic steps of text classification, including data processing, featrue engineering and model building.\n",
        "The basic deep learning are introduced in our lab using Keras.\n",
        "In the class by professor Chen, we have also introduced the more advanced technique of text classification, including RNN, pretrained language model, etc.\n",
        "\n",
        "In this homework, you are required to build a text classification model using a very popular sequential modeling tecnhique for our SemEval dataset: BERT.\n",
        "The necessary materials for using BERT are at the official tutorial in the tensorflow [here](https://www.tensorflow.org/text/tutorials/classify_text_with_bert), respectively.\n",
        "\n",
        "* You need to learn how to adopt the pretrained BERT model and fine-tune on emotion dataset (20%)\n",
        "* Adopt a DIFFERENT pretrained BERT model and fine-tune TWICE for our task (i.e, transfer learning).  (30%)\n",
        "Specifically, the first time is to fine-tune the BERT model with **a related dataset** (e.g., the IMDB dataset in the tutorial, since the sentiment classification is similar to emotion classification), and the second time is to fine-tune the BERT model for our SemEval emotion dataset with the fine-tuned model from the first time.\n",
        "\n",
        "Note that we are encouraging you to try to survey different online resources/tutorials.\n",
        "The HW is not difficult, try to run these models by yourself on our dataset. \n",
        "It is not allowed to just copy the code from your classmates' codes.\n",
        "\n",
        "3. __This part is worth 20% of your grade.__ \n",
        "\n",
        "A report of your work developping the model for HW (You can use code and comment it). This report should include what your preprocessing steps, the feature engineering steps and an explanation of your model in the second part. \n",
        "You can also mention different things you additional tried and insights you gained. (e.g., the effect of different hyperparameters, the effect of different pretrained language models, etc.) \n",
        "\n",
        "Last, it's hard for us to follow if your code is messy :'(, so please **tidy up your notebook** and **add detailed comments and idea for your code**.\n",
        "\n",
        "\n",
        "\n",
        "Zip two notebook files in a zip file (your_name.zip) and email to TA's at yenhao0218@gapp.nthu.edu.tw  __BEFORE the deadline (Jan 6th)__. "
      ]
    },
    {
      "cell_type": "code",
      "execution_count": null,
      "metadata": {
        "vscode": {
          "languageId": "python"
        },
        "id": "NkmL2_Go8TgM"
      },
      "outputs": [],
      "source": [
        "### Begin Assignment Here"
      ]
    }
  ],
  "metadata": {
    "kernelspec": {
      "display_name": "Python 3 (ipykernel)",
      "language": "python",
      "name": "python3"
    },
    "varInspector": {
      "cols": {
        "lenName": 16,
        "lenType": 16,
        "lenVar": 40
      },
      "kernels_config": {
        "python": {
          "delete_cmd_postfix": "",
          "delete_cmd_prefix": "del ",
          "library": "var_list.py",
          "varRefreshCmd": "print(var_dic_list())"
        },
        "r": {
          "delete_cmd_postfix": ") ",
          "delete_cmd_prefix": "rm(",
          "library": "var_list.r",
          "varRefreshCmd": "cat(var_dic_list()) "
        }
      },
      "types_to_exclude": [
        "module",
        "function",
        "builtin_function_or_method",
        "instance",
        "_Feature"
      ],
      "window_display": false
    },
    "colab": {
      "provenance": []
    }
  },
  "nbformat": 4,
  "nbformat_minor": 0
}