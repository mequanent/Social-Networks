{
  "nbformat": 4,
  "nbformat_minor": 0,
  "metadata": {
    "colab": {
      "provenance": [],
      "toc_visible": true
    },
    "kernelspec": {
      "name": "python3",
      "display_name": "Python 3"
    },
    "language_info": {
      "name": "python"
    },
    "gpuClass": "standard",
    "widgets": {
      "application/vnd.jupyter.widget-state+json": {
        "50e6931c667b4c1f80cca64bcfdfcb21": {
          "model_module": "@jupyter-widgets/controls",
          "model_name": "HBoxModel",
          "model_module_version": "1.5.0",
          "state": {
            "_dom_classes": [],
            "_model_module": "@jupyter-widgets/controls",
            "_model_module_version": "1.5.0",
            "_model_name": "HBoxModel",
            "_view_count": null,
            "_view_module": "@jupyter-widgets/controls",
            "_view_module_version": "1.5.0",
            "_view_name": "HBoxView",
            "box_style": "",
            "children": [
              "IPY_MODEL_a4e8119e893348fbbba2cc3d1f3694d9",
              "IPY_MODEL_db6bcc3301694b629ac99cd365f2b388",
              "IPY_MODEL_6d67ee7447454a44a8daf08b2476e6d5"
            ],
            "layout": "IPY_MODEL_37bcb2f2834b42b18e8d0c5386b90b3f"
          }
        },
        "a4e8119e893348fbbba2cc3d1f3694d9": {
          "model_module": "@jupyter-widgets/controls",
          "model_name": "HTMLModel",
          "model_module_version": "1.5.0",
          "state": {
            "_dom_classes": [],
            "_model_module": "@jupyter-widgets/controls",
            "_model_module_version": "1.5.0",
            "_model_name": "HTMLModel",
            "_view_count": null,
            "_view_module": "@jupyter-widgets/controls",
            "_view_module_version": "1.5.0",
            "_view_name": "HTMLView",
            "description": "",
            "description_tooltip": null,
            "layout": "IPY_MODEL_4f07c849a5ad430f8ed7d585c180a6e1",
            "placeholder": "​",
            "style": "IPY_MODEL_2f8c75a867c34e15874f325819b163b4",
            "value": "Downloading: 100%"
          }
        },
        "db6bcc3301694b629ac99cd365f2b388": {
          "model_module": "@jupyter-widgets/controls",
          "model_name": "FloatProgressModel",
          "model_module_version": "1.5.0",
          "state": {
            "_dom_classes": [],
            "_model_module": "@jupyter-widgets/controls",
            "_model_module_version": "1.5.0",
            "_model_name": "FloatProgressModel",
            "_view_count": null,
            "_view_module": "@jupyter-widgets/controls",
            "_view_module_version": "1.5.0",
            "_view_name": "ProgressView",
            "bar_style": "success",
            "description": "",
            "description_tooltip": null,
            "layout": "IPY_MODEL_76cd6ed449ac4194861f9dce07833947",
            "max": 213450,
            "min": 0,
            "orientation": "horizontal",
            "style": "IPY_MODEL_348bb18899f947dfa8ef7d1c17fe8c5a",
            "value": 213450
          }
        },
        "6d67ee7447454a44a8daf08b2476e6d5": {
          "model_module": "@jupyter-widgets/controls",
          "model_name": "HTMLModel",
          "model_module_version": "1.5.0",
          "state": {
            "_dom_classes": [],
            "_model_module": "@jupyter-widgets/controls",
            "_model_module_version": "1.5.0",
            "_model_name": "HTMLModel",
            "_view_count": null,
            "_view_module": "@jupyter-widgets/controls",
            "_view_module_version": "1.5.0",
            "_view_name": "HTMLView",
            "description": "",
            "description_tooltip": null,
            "layout": "IPY_MODEL_6bcde75d803f44fc9a194939bc64909e",
            "placeholder": "​",
            "style": "IPY_MODEL_12d0731a87074c70847488e09c5e7c65",
            "value": " 213k/213k [00:00&lt;00:00, 572kB/s]"
          }
        },
        "37bcb2f2834b42b18e8d0c5386b90b3f": {
          "model_module": "@jupyter-widgets/base",
          "model_name": "LayoutModel",
          "model_module_version": "1.2.0",
          "state": {
            "_model_module": "@jupyter-widgets/base",
            "_model_module_version": "1.2.0",
            "_model_name": "LayoutModel",
            "_view_count": null,
            "_view_module": "@jupyter-widgets/base",
            "_view_module_version": "1.2.0",
            "_view_name": "LayoutView",
            "align_content": null,
            "align_items": null,
            "align_self": null,
            "border": null,
            "bottom": null,
            "display": null,
            "flex": null,
            "flex_flow": null,
            "grid_area": null,
            "grid_auto_columns": null,
            "grid_auto_flow": null,
            "grid_auto_rows": null,
            "grid_column": null,
            "grid_gap": null,
            "grid_row": null,
            "grid_template_areas": null,
            "grid_template_columns": null,
            "grid_template_rows": null,
            "height": null,
            "justify_content": null,
            "justify_items": null,
            "left": null,
            "margin": null,
            "max_height": null,
            "max_width": null,
            "min_height": null,
            "min_width": null,
            "object_fit": null,
            "object_position": null,
            "order": null,
            "overflow": null,
            "overflow_x": null,
            "overflow_y": null,
            "padding": null,
            "right": null,
            "top": null,
            "visibility": null,
            "width": null
          }
        },
        "4f07c849a5ad430f8ed7d585c180a6e1": {
          "model_module": "@jupyter-widgets/base",
          "model_name": "LayoutModel",
          "model_module_version": "1.2.0",
          "state": {
            "_model_module": "@jupyter-widgets/base",
            "_model_module_version": "1.2.0",
            "_model_name": "LayoutModel",
            "_view_count": null,
            "_view_module": "@jupyter-widgets/base",
            "_view_module_version": "1.2.0",
            "_view_name": "LayoutView",
            "align_content": null,
            "align_items": null,
            "align_self": null,
            "border": null,
            "bottom": null,
            "display": null,
            "flex": null,
            "flex_flow": null,
            "grid_area": null,
            "grid_auto_columns": null,
            "grid_auto_flow": null,
            "grid_auto_rows": null,
            "grid_column": null,
            "grid_gap": null,
            "grid_row": null,
            "grid_template_areas": null,
            "grid_template_columns": null,
            "grid_template_rows": null,
            "height": null,
            "justify_content": null,
            "justify_items": null,
            "left": null,
            "margin": null,
            "max_height": null,
            "max_width": null,
            "min_height": null,
            "min_width": null,
            "object_fit": null,
            "object_position": null,
            "order": null,
            "overflow": null,
            "overflow_x": null,
            "overflow_y": null,
            "padding": null,
            "right": null,
            "top": null,
            "visibility": null,
            "width": null
          }
        },
        "2f8c75a867c34e15874f325819b163b4": {
          "model_module": "@jupyter-widgets/controls",
          "model_name": "DescriptionStyleModel",
          "model_module_version": "1.5.0",
          "state": {
            "_model_module": "@jupyter-widgets/controls",
            "_model_module_version": "1.5.0",
            "_model_name": "DescriptionStyleModel",
            "_view_count": null,
            "_view_module": "@jupyter-widgets/base",
            "_view_module_version": "1.2.0",
            "_view_name": "StyleView",
            "description_width": ""
          }
        },
        "76cd6ed449ac4194861f9dce07833947": {
          "model_module": "@jupyter-widgets/base",
          "model_name": "LayoutModel",
          "model_module_version": "1.2.0",
          "state": {
            "_model_module": "@jupyter-widgets/base",
            "_model_module_version": "1.2.0",
            "_model_name": "LayoutModel",
            "_view_count": null,
            "_view_module": "@jupyter-widgets/base",
            "_view_module_version": "1.2.0",
            "_view_name": "LayoutView",
            "align_content": null,
            "align_items": null,
            "align_self": null,
            "border": null,
            "bottom": null,
            "display": null,
            "flex": null,
            "flex_flow": null,
            "grid_area": null,
            "grid_auto_columns": null,
            "grid_auto_flow": null,
            "grid_auto_rows": null,
            "grid_column": null,
            "grid_gap": null,
            "grid_row": null,
            "grid_template_areas": null,
            "grid_template_columns": null,
            "grid_template_rows": null,
            "height": null,
            "justify_content": null,
            "justify_items": null,
            "left": null,
            "margin": null,
            "max_height": null,
            "max_width": null,
            "min_height": null,
            "min_width": null,
            "object_fit": null,
            "object_position": null,
            "order": null,
            "overflow": null,
            "overflow_x": null,
            "overflow_y": null,
            "padding": null,
            "right": null,
            "top": null,
            "visibility": null,
            "width": null
          }
        },
        "348bb18899f947dfa8ef7d1c17fe8c5a": {
          "model_module": "@jupyter-widgets/controls",
          "model_name": "ProgressStyleModel",
          "model_module_version": "1.5.0",
          "state": {
            "_model_module": "@jupyter-widgets/controls",
            "_model_module_version": "1.5.0",
            "_model_name": "ProgressStyleModel",
            "_view_count": null,
            "_view_module": "@jupyter-widgets/base",
            "_view_module_version": "1.2.0",
            "_view_name": "StyleView",
            "bar_color": null,
            "description_width": ""
          }
        },
        "6bcde75d803f44fc9a194939bc64909e": {
          "model_module": "@jupyter-widgets/base",
          "model_name": "LayoutModel",
          "model_module_version": "1.2.0",
          "state": {
            "_model_module": "@jupyter-widgets/base",
            "_model_module_version": "1.2.0",
            "_model_name": "LayoutModel",
            "_view_count": null,
            "_view_module": "@jupyter-widgets/base",
            "_view_module_version": "1.2.0",
            "_view_name": "LayoutView",
            "align_content": null,
            "align_items": null,
            "align_self": null,
            "border": null,
            "bottom": null,
            "display": null,
            "flex": null,
            "flex_flow": null,
            "grid_area": null,
            "grid_auto_columns": null,
            "grid_auto_flow": null,
            "grid_auto_rows": null,
            "grid_column": null,
            "grid_gap": null,
            "grid_row": null,
            "grid_template_areas": null,
            "grid_template_columns": null,
            "grid_template_rows": null,
            "height": null,
            "justify_content": null,
            "justify_items": null,
            "left": null,
            "margin": null,
            "max_height": null,
            "max_width": null,
            "min_height": null,
            "min_width": null,
            "object_fit": null,
            "object_position": null,
            "order": null,
            "overflow": null,
            "overflow_x": null,
            "overflow_y": null,
            "padding": null,
            "right": null,
            "top": null,
            "visibility": null,
            "width": null
          }
        },
        "12d0731a87074c70847488e09c5e7c65": {
          "model_module": "@jupyter-widgets/controls",
          "model_name": "DescriptionStyleModel",
          "model_module_version": "1.5.0",
          "state": {
            "_model_module": "@jupyter-widgets/controls",
            "_model_module_version": "1.5.0",
            "_model_name": "DescriptionStyleModel",
            "_view_count": null,
            "_view_module": "@jupyter-widgets/base",
            "_view_module_version": "1.2.0",
            "_view_name": "StyleView",
            "description_width": ""
          }
        },
        "c5a7374332404dc4bdd3696379801751": {
          "model_module": "@jupyter-widgets/controls",
          "model_name": "HBoxModel",
          "model_module_version": "1.5.0",
          "state": {
            "_dom_classes": [],
            "_model_module": "@jupyter-widgets/controls",
            "_model_module_version": "1.5.0",
            "_model_name": "HBoxModel",
            "_view_count": null,
            "_view_module": "@jupyter-widgets/controls",
            "_view_module_version": "1.5.0",
            "_view_name": "HBoxView",
            "box_style": "",
            "children": [
              "IPY_MODEL_ecf26066e0d5448e9075d8a3aaf3274e",
              "IPY_MODEL_1b67dc3c2081458da972e244defef7d1",
              "IPY_MODEL_95a4e4410b90414dac5efdc358d764a8"
            ],
            "layout": "IPY_MODEL_fdd4040b8e154910af1f7c192b86553b"
          }
        },
        "ecf26066e0d5448e9075d8a3aaf3274e": {
          "model_module": "@jupyter-widgets/controls",
          "model_name": "HTMLModel",
          "model_module_version": "1.5.0",
          "state": {
            "_dom_classes": [],
            "_model_module": "@jupyter-widgets/controls",
            "_model_module_version": "1.5.0",
            "_model_name": "HTMLModel",
            "_view_count": null,
            "_view_module": "@jupyter-widgets/controls",
            "_view_module_version": "1.5.0",
            "_view_name": "HTMLView",
            "description": "",
            "description_tooltip": null,
            "layout": "IPY_MODEL_1fc4f0b8b156416eaf335ed76f96fc4d",
            "placeholder": "​",
            "style": "IPY_MODEL_6abd71f612604d0fa12c03a356bb92f4",
            "value": "Downloading: 100%"
          }
        },
        "1b67dc3c2081458da972e244defef7d1": {
          "model_module": "@jupyter-widgets/controls",
          "model_name": "FloatProgressModel",
          "model_module_version": "1.5.0",
          "state": {
            "_dom_classes": [],
            "_model_module": "@jupyter-widgets/controls",
            "_model_module_version": "1.5.0",
            "_model_name": "FloatProgressModel",
            "_view_count": null,
            "_view_module": "@jupyter-widgets/controls",
            "_view_module_version": "1.5.0",
            "_view_name": "ProgressView",
            "bar_style": "success",
            "description": "",
            "description_tooltip": null,
            "layout": "IPY_MODEL_0f13e1a6bb284029bba34b33e0db9448",
            "max": 29,
            "min": 0,
            "orientation": "horizontal",
            "style": "IPY_MODEL_72e8d727725045e6b0904511f1da35a7",
            "value": 29
          }
        },
        "95a4e4410b90414dac5efdc358d764a8": {
          "model_module": "@jupyter-widgets/controls",
          "model_name": "HTMLModel",
          "model_module_version": "1.5.0",
          "state": {
            "_dom_classes": [],
            "_model_module": "@jupyter-widgets/controls",
            "_model_module_version": "1.5.0",
            "_model_name": "HTMLModel",
            "_view_count": null,
            "_view_module": "@jupyter-widgets/controls",
            "_view_module_version": "1.5.0",
            "_view_name": "HTMLView",
            "description": "",
            "description_tooltip": null,
            "layout": "IPY_MODEL_00af7a192518461a8a27c8092282e6be",
            "placeholder": "​",
            "style": "IPY_MODEL_6bd7ede6fd0e4850ad16bf0fb6207c35",
            "value": " 29.0/29.0 [00:00&lt;00:00, 1.62kB/s]"
          }
        },
        "fdd4040b8e154910af1f7c192b86553b": {
          "model_module": "@jupyter-widgets/base",
          "model_name": "LayoutModel",
          "model_module_version": "1.2.0",
          "state": {
            "_model_module": "@jupyter-widgets/base",
            "_model_module_version": "1.2.0",
            "_model_name": "LayoutModel",
            "_view_count": null,
            "_view_module": "@jupyter-widgets/base",
            "_view_module_version": "1.2.0",
            "_view_name": "LayoutView",
            "align_content": null,
            "align_items": null,
            "align_self": null,
            "border": null,
            "bottom": null,
            "display": null,
            "flex": null,
            "flex_flow": null,
            "grid_area": null,
            "grid_auto_columns": null,
            "grid_auto_flow": null,
            "grid_auto_rows": null,
            "grid_column": null,
            "grid_gap": null,
            "grid_row": null,
            "grid_template_areas": null,
            "grid_template_columns": null,
            "grid_template_rows": null,
            "height": null,
            "justify_content": null,
            "justify_items": null,
            "left": null,
            "margin": null,
            "max_height": null,
            "max_width": null,
            "min_height": null,
            "min_width": null,
            "object_fit": null,
            "object_position": null,
            "order": null,
            "overflow": null,
            "overflow_x": null,
            "overflow_y": null,
            "padding": null,
            "right": null,
            "top": null,
            "visibility": null,
            "width": null
          }
        },
        "1fc4f0b8b156416eaf335ed76f96fc4d": {
          "model_module": "@jupyter-widgets/base",
          "model_name": "LayoutModel",
          "model_module_version": "1.2.0",
          "state": {
            "_model_module": "@jupyter-widgets/base",
            "_model_module_version": "1.2.0",
            "_model_name": "LayoutModel",
            "_view_count": null,
            "_view_module": "@jupyter-widgets/base",
            "_view_module_version": "1.2.0",
            "_view_name": "LayoutView",
            "align_content": null,
            "align_items": null,
            "align_self": null,
            "border": null,
            "bottom": null,
            "display": null,
            "flex": null,
            "flex_flow": null,
            "grid_area": null,
            "grid_auto_columns": null,
            "grid_auto_flow": null,
            "grid_auto_rows": null,
            "grid_column": null,
            "grid_gap": null,
            "grid_row": null,
            "grid_template_areas": null,
            "grid_template_columns": null,
            "grid_template_rows": null,
            "height": null,
            "justify_content": null,
            "justify_items": null,
            "left": null,
            "margin": null,
            "max_height": null,
            "max_width": null,
            "min_height": null,
            "min_width": null,
            "object_fit": null,
            "object_position": null,
            "order": null,
            "overflow": null,
            "overflow_x": null,
            "overflow_y": null,
            "padding": null,
            "right": null,
            "top": null,
            "visibility": null,
            "width": null
          }
        },
        "6abd71f612604d0fa12c03a356bb92f4": {
          "model_module": "@jupyter-widgets/controls",
          "model_name": "DescriptionStyleModel",
          "model_module_version": "1.5.0",
          "state": {
            "_model_module": "@jupyter-widgets/controls",
            "_model_module_version": "1.5.0",
            "_model_name": "DescriptionStyleModel",
            "_view_count": null,
            "_view_module": "@jupyter-widgets/base",
            "_view_module_version": "1.2.0",
            "_view_name": "StyleView",
            "description_width": ""
          }
        },
        "0f13e1a6bb284029bba34b33e0db9448": {
          "model_module": "@jupyter-widgets/base",
          "model_name": "LayoutModel",
          "model_module_version": "1.2.0",
          "state": {
            "_model_module": "@jupyter-widgets/base",
            "_model_module_version": "1.2.0",
            "_model_name": "LayoutModel",
            "_view_count": null,
            "_view_module": "@jupyter-widgets/base",
            "_view_module_version": "1.2.0",
            "_view_name": "LayoutView",
            "align_content": null,
            "align_items": null,
            "align_self": null,
            "border": null,
            "bottom": null,
            "display": null,
            "flex": null,
            "flex_flow": null,
            "grid_area": null,
            "grid_auto_columns": null,
            "grid_auto_flow": null,
            "grid_auto_rows": null,
            "grid_column": null,
            "grid_gap": null,
            "grid_row": null,
            "grid_template_areas": null,
            "grid_template_columns": null,
            "grid_template_rows": null,
            "height": null,
            "justify_content": null,
            "justify_items": null,
            "left": null,
            "margin": null,
            "max_height": null,
            "max_width": null,
            "min_height": null,
            "min_width": null,
            "object_fit": null,
            "object_position": null,
            "order": null,
            "overflow": null,
            "overflow_x": null,
            "overflow_y": null,
            "padding": null,
            "right": null,
            "top": null,
            "visibility": null,
            "width": null
          }
        },
        "72e8d727725045e6b0904511f1da35a7": {
          "model_module": "@jupyter-widgets/controls",
          "model_name": "ProgressStyleModel",
          "model_module_version": "1.5.0",
          "state": {
            "_model_module": "@jupyter-widgets/controls",
            "_model_module_version": "1.5.0",
            "_model_name": "ProgressStyleModel",
            "_view_count": null,
            "_view_module": "@jupyter-widgets/base",
            "_view_module_version": "1.2.0",
            "_view_name": "StyleView",
            "bar_color": null,
            "description_width": ""
          }
        },
        "00af7a192518461a8a27c8092282e6be": {
          "model_module": "@jupyter-widgets/base",
          "model_name": "LayoutModel",
          "model_module_version": "1.2.0",
          "state": {
            "_model_module": "@jupyter-widgets/base",
            "_model_module_version": "1.2.0",
            "_model_name": "LayoutModel",
            "_view_count": null,
            "_view_module": "@jupyter-widgets/base",
            "_view_module_version": "1.2.0",
            "_view_name": "LayoutView",
            "align_content": null,
            "align_items": null,
            "align_self": null,
            "border": null,
            "bottom": null,
            "display": null,
            "flex": null,
            "flex_flow": null,
            "grid_area": null,
            "grid_auto_columns": null,
            "grid_auto_flow": null,
            "grid_auto_rows": null,
            "grid_column": null,
            "grid_gap": null,
            "grid_row": null,
            "grid_template_areas": null,
            "grid_template_columns": null,
            "grid_template_rows": null,
            "height": null,
            "justify_content": null,
            "justify_items": null,
            "left": null,
            "margin": null,
            "max_height": null,
            "max_width": null,
            "min_height": null,
            "min_width": null,
            "object_fit": null,
            "object_position": null,
            "order": null,
            "overflow": null,
            "overflow_x": null,
            "overflow_y": null,
            "padding": null,
            "right": null,
            "top": null,
            "visibility": null,
            "width": null
          }
        },
        "6bd7ede6fd0e4850ad16bf0fb6207c35": {
          "model_module": "@jupyter-widgets/controls",
          "model_name": "DescriptionStyleModel",
          "model_module_version": "1.5.0",
          "state": {
            "_model_module": "@jupyter-widgets/controls",
            "_model_module_version": "1.5.0",
            "_model_name": "DescriptionStyleModel",
            "_view_count": null,
            "_view_module": "@jupyter-widgets/base",
            "_view_module_version": "1.2.0",
            "_view_name": "StyleView",
            "description_width": ""
          }
        },
        "cb4cca972058492ead20e8e9fb934cc7": {
          "model_module": "@jupyter-widgets/controls",
          "model_name": "HBoxModel",
          "model_module_version": "1.5.0",
          "state": {
            "_dom_classes": [],
            "_model_module": "@jupyter-widgets/controls",
            "_model_module_version": "1.5.0",
            "_model_name": "HBoxModel",
            "_view_count": null,
            "_view_module": "@jupyter-widgets/controls",
            "_view_module_version": "1.5.0",
            "_view_name": "HBoxView",
            "box_style": "",
            "children": [
              "IPY_MODEL_e17ab85f07e2419dbd405e957cce476d",
              "IPY_MODEL_3566e8d267294333826bd66c1b809f3b",
              "IPY_MODEL_4a958889b6b049279ced661cc3174d62"
            ],
            "layout": "IPY_MODEL_dfd9214b0e6f4bf5b1d1d6eb29e8cb01"
          }
        },
        "e17ab85f07e2419dbd405e957cce476d": {
          "model_module": "@jupyter-widgets/controls",
          "model_name": "HTMLModel",
          "model_module_version": "1.5.0",
          "state": {
            "_dom_classes": [],
            "_model_module": "@jupyter-widgets/controls",
            "_model_module_version": "1.5.0",
            "_model_name": "HTMLModel",
            "_view_count": null,
            "_view_module": "@jupyter-widgets/controls",
            "_view_module_version": "1.5.0",
            "_view_name": "HTMLView",
            "description": "",
            "description_tooltip": null,
            "layout": "IPY_MODEL_666cc648f1a946cb9d60a88728def77d",
            "placeholder": "​",
            "style": "IPY_MODEL_14a5fdddc1e2462fb0da8d90d73d9584",
            "value": "Downloading: 100%"
          }
        },
        "3566e8d267294333826bd66c1b809f3b": {
          "model_module": "@jupyter-widgets/controls",
          "model_name": "FloatProgressModel",
          "model_module_version": "1.5.0",
          "state": {
            "_dom_classes": [],
            "_model_module": "@jupyter-widgets/controls",
            "_model_module_version": "1.5.0",
            "_model_name": "FloatProgressModel",
            "_view_count": null,
            "_view_module": "@jupyter-widgets/controls",
            "_view_module_version": "1.5.0",
            "_view_name": "ProgressView",
            "bar_style": "success",
            "description": "",
            "description_tooltip": null,
            "layout": "IPY_MODEL_ef72dfd016624c2f853b4da861102406",
            "max": 570,
            "min": 0,
            "orientation": "horizontal",
            "style": "IPY_MODEL_4199eb7d672c4cdd8323c16c5ccdf9ac",
            "value": 570
          }
        },
        "4a958889b6b049279ced661cc3174d62": {
          "model_module": "@jupyter-widgets/controls",
          "model_name": "HTMLModel",
          "model_module_version": "1.5.0",
          "state": {
            "_dom_classes": [],
            "_model_module": "@jupyter-widgets/controls",
            "_model_module_version": "1.5.0",
            "_model_name": "HTMLModel",
            "_view_count": null,
            "_view_module": "@jupyter-widgets/controls",
            "_view_module_version": "1.5.0",
            "_view_name": "HTMLView",
            "description": "",
            "description_tooltip": null,
            "layout": "IPY_MODEL_b563da44ac5944f492e8ac5e8511105b",
            "placeholder": "​",
            "style": "IPY_MODEL_af33e9a10f0f404b9782f6f4baf85988",
            "value": " 570/570 [00:00&lt;00:00, 28.0kB/s]"
          }
        },
        "dfd9214b0e6f4bf5b1d1d6eb29e8cb01": {
          "model_module": "@jupyter-widgets/base",
          "model_name": "LayoutModel",
          "model_module_version": "1.2.0",
          "state": {
            "_model_module": "@jupyter-widgets/base",
            "_model_module_version": "1.2.0",
            "_model_name": "LayoutModel",
            "_view_count": null,
            "_view_module": "@jupyter-widgets/base",
            "_view_module_version": "1.2.0",
            "_view_name": "LayoutView",
            "align_content": null,
            "align_items": null,
            "align_self": null,
            "border": null,
            "bottom": null,
            "display": null,
            "flex": null,
            "flex_flow": null,
            "grid_area": null,
            "grid_auto_columns": null,
            "grid_auto_flow": null,
            "grid_auto_rows": null,
            "grid_column": null,
            "grid_gap": null,
            "grid_row": null,
            "grid_template_areas": null,
            "grid_template_columns": null,
            "grid_template_rows": null,
            "height": null,
            "justify_content": null,
            "justify_items": null,
            "left": null,
            "margin": null,
            "max_height": null,
            "max_width": null,
            "min_height": null,
            "min_width": null,
            "object_fit": null,
            "object_position": null,
            "order": null,
            "overflow": null,
            "overflow_x": null,
            "overflow_y": null,
            "padding": null,
            "right": null,
            "top": null,
            "visibility": null,
            "width": null
          }
        },
        "666cc648f1a946cb9d60a88728def77d": {
          "model_module": "@jupyter-widgets/base",
          "model_name": "LayoutModel",
          "model_module_version": "1.2.0",
          "state": {
            "_model_module": "@jupyter-widgets/base",
            "_model_module_version": "1.2.0",
            "_model_name": "LayoutModel",
            "_view_count": null,
            "_view_module": "@jupyter-widgets/base",
            "_view_module_version": "1.2.0",
            "_view_name": "LayoutView",
            "align_content": null,
            "align_items": null,
            "align_self": null,
            "border": null,
            "bottom": null,
            "display": null,
            "flex": null,
            "flex_flow": null,
            "grid_area": null,
            "grid_auto_columns": null,
            "grid_auto_flow": null,
            "grid_auto_rows": null,
            "grid_column": null,
            "grid_gap": null,
            "grid_row": null,
            "grid_template_areas": null,
            "grid_template_columns": null,
            "grid_template_rows": null,
            "height": null,
            "justify_content": null,
            "justify_items": null,
            "left": null,
            "margin": null,
            "max_height": null,
            "max_width": null,
            "min_height": null,
            "min_width": null,
            "object_fit": null,
            "object_position": null,
            "order": null,
            "overflow": null,
            "overflow_x": null,
            "overflow_y": null,
            "padding": null,
            "right": null,
            "top": null,
            "visibility": null,
            "width": null
          }
        },
        "14a5fdddc1e2462fb0da8d90d73d9584": {
          "model_module": "@jupyter-widgets/controls",
          "model_name": "DescriptionStyleModel",
          "model_module_version": "1.5.0",
          "state": {
            "_model_module": "@jupyter-widgets/controls",
            "_model_module_version": "1.5.0",
            "_model_name": "DescriptionStyleModel",
            "_view_count": null,
            "_view_module": "@jupyter-widgets/base",
            "_view_module_version": "1.2.0",
            "_view_name": "StyleView",
            "description_width": ""
          }
        },
        "ef72dfd016624c2f853b4da861102406": {
          "model_module": "@jupyter-widgets/base",
          "model_name": "LayoutModel",
          "model_module_version": "1.2.0",
          "state": {
            "_model_module": "@jupyter-widgets/base",
            "_model_module_version": "1.2.0",
            "_model_name": "LayoutModel",
            "_view_count": null,
            "_view_module": "@jupyter-widgets/base",
            "_view_module_version": "1.2.0",
            "_view_name": "LayoutView",
            "align_content": null,
            "align_items": null,
            "align_self": null,
            "border": null,
            "bottom": null,
            "display": null,
            "flex": null,
            "flex_flow": null,
            "grid_area": null,
            "grid_auto_columns": null,
            "grid_auto_flow": null,
            "grid_auto_rows": null,
            "grid_column": null,
            "grid_gap": null,
            "grid_row": null,
            "grid_template_areas": null,
            "grid_template_columns": null,
            "grid_template_rows": null,
            "height": null,
            "justify_content": null,
            "justify_items": null,
            "left": null,
            "margin": null,
            "max_height": null,
            "max_width": null,
            "min_height": null,
            "min_width": null,
            "object_fit": null,
            "object_position": null,
            "order": null,
            "overflow": null,
            "overflow_x": null,
            "overflow_y": null,
            "padding": null,
            "right": null,
            "top": null,
            "visibility": null,
            "width": null
          }
        },
        "4199eb7d672c4cdd8323c16c5ccdf9ac": {
          "model_module": "@jupyter-widgets/controls",
          "model_name": "ProgressStyleModel",
          "model_module_version": "1.5.0",
          "state": {
            "_model_module": "@jupyter-widgets/controls",
            "_model_module_version": "1.5.0",
            "_model_name": "ProgressStyleModel",
            "_view_count": null,
            "_view_module": "@jupyter-widgets/base",
            "_view_module_version": "1.2.0",
            "_view_name": "StyleView",
            "bar_color": null,
            "description_width": ""
          }
        },
        "b563da44ac5944f492e8ac5e8511105b": {
          "model_module": "@jupyter-widgets/base",
          "model_name": "LayoutModel",
          "model_module_version": "1.2.0",
          "state": {
            "_model_module": "@jupyter-widgets/base",
            "_model_module_version": "1.2.0",
            "_model_name": "LayoutModel",
            "_view_count": null,
            "_view_module": "@jupyter-widgets/base",
            "_view_module_version": "1.2.0",
            "_view_name": "LayoutView",
            "align_content": null,
            "align_items": null,
            "align_self": null,
            "border": null,
            "bottom": null,
            "display": null,
            "flex": null,
            "flex_flow": null,
            "grid_area": null,
            "grid_auto_columns": null,
            "grid_auto_flow": null,
            "grid_auto_rows": null,
            "grid_column": null,
            "grid_gap": null,
            "grid_row": null,
            "grid_template_areas": null,
            "grid_template_columns": null,
            "grid_template_rows": null,
            "height": null,
            "justify_content": null,
            "justify_items": null,
            "left": null,
            "margin": null,
            "max_height": null,
            "max_width": null,
            "min_height": null,
            "min_width": null,
            "object_fit": null,
            "object_position": null,
            "order": null,
            "overflow": null,
            "overflow_x": null,
            "overflow_y": null,
            "padding": null,
            "right": null,
            "top": null,
            "visibility": null,
            "width": null
          }
        },
        "af33e9a10f0f404b9782f6f4baf85988": {
          "model_module": "@jupyter-widgets/controls",
          "model_name": "DescriptionStyleModel",
          "model_module_version": "1.5.0",
          "state": {
            "_model_module": "@jupyter-widgets/controls",
            "_model_module_version": "1.5.0",
            "_model_name": "DescriptionStyleModel",
            "_view_count": null,
            "_view_module": "@jupyter-widgets/base",
            "_view_module_version": "1.2.0",
            "_view_name": "StyleView",
            "description_width": ""
          }
        },
        "06e507893368488e980069266faacd8a": {
          "model_module": "@jupyter-widgets/controls",
          "model_name": "HBoxModel",
          "model_module_version": "1.5.0",
          "state": {
            "_dom_classes": [],
            "_model_module": "@jupyter-widgets/controls",
            "_model_module_version": "1.5.0",
            "_model_name": "HBoxModel",
            "_view_count": null,
            "_view_module": "@jupyter-widgets/controls",
            "_view_module_version": "1.5.0",
            "_view_name": "HBoxView",
            "box_style": "",
            "children": [
              "IPY_MODEL_e8d17a5ac0e3408bb75d4d52259db7a7",
              "IPY_MODEL_43de8bccf07449eb961a616d00abcf73",
              "IPY_MODEL_0025ca84280243df8fef01d73a65ddf0"
            ],
            "layout": "IPY_MODEL_b9e13ec8a2954d9595fcdb3062f6114e"
          }
        },
        "e8d17a5ac0e3408bb75d4d52259db7a7": {
          "model_module": "@jupyter-widgets/controls",
          "model_name": "HTMLModel",
          "model_module_version": "1.5.0",
          "state": {
            "_dom_classes": [],
            "_model_module": "@jupyter-widgets/controls",
            "_model_module_version": "1.5.0",
            "_model_name": "HTMLModel",
            "_view_count": null,
            "_view_module": "@jupyter-widgets/controls",
            "_view_module_version": "1.5.0",
            "_view_name": "HTMLView",
            "description": "",
            "description_tooltip": null,
            "layout": "IPY_MODEL_bfe1e7392e6f4cea926f08be66568757",
            "placeholder": "​",
            "style": "IPY_MODEL_51c12ca85d104175bc45544404c5fca4",
            "value": "Downloading: 100%"
          }
        },
        "43de8bccf07449eb961a616d00abcf73": {
          "model_module": "@jupyter-widgets/controls",
          "model_name": "FloatProgressModel",
          "model_module_version": "1.5.0",
          "state": {
            "_dom_classes": [],
            "_model_module": "@jupyter-widgets/controls",
            "_model_module_version": "1.5.0",
            "_model_name": "FloatProgressModel",
            "_view_count": null,
            "_view_module": "@jupyter-widgets/controls",
            "_view_module_version": "1.5.0",
            "_view_name": "ProgressView",
            "bar_style": "success",
            "description": "",
            "description_tooltip": null,
            "layout": "IPY_MODEL_0949cb1a843a48b9855846908de7e357",
            "max": 231508,
            "min": 0,
            "orientation": "horizontal",
            "style": "IPY_MODEL_b188aaea25ec46bf85117f98b53da6a3",
            "value": 231508
          }
        },
        "0025ca84280243df8fef01d73a65ddf0": {
          "model_module": "@jupyter-widgets/controls",
          "model_name": "HTMLModel",
          "model_module_version": "1.5.0",
          "state": {
            "_dom_classes": [],
            "_model_module": "@jupyter-widgets/controls",
            "_model_module_version": "1.5.0",
            "_model_name": "HTMLModel",
            "_view_count": null,
            "_view_module": "@jupyter-widgets/controls",
            "_view_module_version": "1.5.0",
            "_view_name": "HTMLView",
            "description": "",
            "description_tooltip": null,
            "layout": "IPY_MODEL_291530e1edf840e79fd6c82ffcb591fd",
            "placeholder": "​",
            "style": "IPY_MODEL_d57680cb67c34776b4bef5be9729e62b",
            "value": " 232k/232k [00:00&lt;00:00, 309kB/s]"
          }
        },
        "b9e13ec8a2954d9595fcdb3062f6114e": {
          "model_module": "@jupyter-widgets/base",
          "model_name": "LayoutModel",
          "model_module_version": "1.2.0",
          "state": {
            "_model_module": "@jupyter-widgets/base",
            "_model_module_version": "1.2.0",
            "_model_name": "LayoutModel",
            "_view_count": null,
            "_view_module": "@jupyter-widgets/base",
            "_view_module_version": "1.2.0",
            "_view_name": "LayoutView",
            "align_content": null,
            "align_items": null,
            "align_self": null,
            "border": null,
            "bottom": null,
            "display": null,
            "flex": null,
            "flex_flow": null,
            "grid_area": null,
            "grid_auto_columns": null,
            "grid_auto_flow": null,
            "grid_auto_rows": null,
            "grid_column": null,
            "grid_gap": null,
            "grid_row": null,
            "grid_template_areas": null,
            "grid_template_columns": null,
            "grid_template_rows": null,
            "height": null,
            "justify_content": null,
            "justify_items": null,
            "left": null,
            "margin": null,
            "max_height": null,
            "max_width": null,
            "min_height": null,
            "min_width": null,
            "object_fit": null,
            "object_position": null,
            "order": null,
            "overflow": null,
            "overflow_x": null,
            "overflow_y": null,
            "padding": null,
            "right": null,
            "top": null,
            "visibility": null,
            "width": null
          }
        },
        "bfe1e7392e6f4cea926f08be66568757": {
          "model_module": "@jupyter-widgets/base",
          "model_name": "LayoutModel",
          "model_module_version": "1.2.0",
          "state": {
            "_model_module": "@jupyter-widgets/base",
            "_model_module_version": "1.2.0",
            "_model_name": "LayoutModel",
            "_view_count": null,
            "_view_module": "@jupyter-widgets/base",
            "_view_module_version": "1.2.0",
            "_view_name": "LayoutView",
            "align_content": null,
            "align_items": null,
            "align_self": null,
            "border": null,
            "bottom": null,
            "display": null,
            "flex": null,
            "flex_flow": null,
            "grid_area": null,
            "grid_auto_columns": null,
            "grid_auto_flow": null,
            "grid_auto_rows": null,
            "grid_column": null,
            "grid_gap": null,
            "grid_row": null,
            "grid_template_areas": null,
            "grid_template_columns": null,
            "grid_template_rows": null,
            "height": null,
            "justify_content": null,
            "justify_items": null,
            "left": null,
            "margin": null,
            "max_height": null,
            "max_width": null,
            "min_height": null,
            "min_width": null,
            "object_fit": null,
            "object_position": null,
            "order": null,
            "overflow": null,
            "overflow_x": null,
            "overflow_y": null,
            "padding": null,
            "right": null,
            "top": null,
            "visibility": null,
            "width": null
          }
        },
        "51c12ca85d104175bc45544404c5fca4": {
          "model_module": "@jupyter-widgets/controls",
          "model_name": "DescriptionStyleModel",
          "model_module_version": "1.5.0",
          "state": {
            "_model_module": "@jupyter-widgets/controls",
            "_model_module_version": "1.5.0",
            "_model_name": "DescriptionStyleModel",
            "_view_count": null,
            "_view_module": "@jupyter-widgets/base",
            "_view_module_version": "1.2.0",
            "_view_name": "StyleView",
            "description_width": ""
          }
        },
        "0949cb1a843a48b9855846908de7e357": {
          "model_module": "@jupyter-widgets/base",
          "model_name": "LayoutModel",
          "model_module_version": "1.2.0",
          "state": {
            "_model_module": "@jupyter-widgets/base",
            "_model_module_version": "1.2.0",
            "_model_name": "LayoutModel",
            "_view_count": null,
            "_view_module": "@jupyter-widgets/base",
            "_view_module_version": "1.2.0",
            "_view_name": "LayoutView",
            "align_content": null,
            "align_items": null,
            "align_self": null,
            "border": null,
            "bottom": null,
            "display": null,
            "flex": null,
            "flex_flow": null,
            "grid_area": null,
            "grid_auto_columns": null,
            "grid_auto_flow": null,
            "grid_auto_rows": null,
            "grid_column": null,
            "grid_gap": null,
            "grid_row": null,
            "grid_template_areas": null,
            "grid_template_columns": null,
            "grid_template_rows": null,
            "height": null,
            "justify_content": null,
            "justify_items": null,
            "left": null,
            "margin": null,
            "max_height": null,
            "max_width": null,
            "min_height": null,
            "min_width": null,
            "object_fit": null,
            "object_position": null,
            "order": null,
            "overflow": null,
            "overflow_x": null,
            "overflow_y": null,
            "padding": null,
            "right": null,
            "top": null,
            "visibility": null,
            "width": null
          }
        },
        "b188aaea25ec46bf85117f98b53da6a3": {
          "model_module": "@jupyter-widgets/controls",
          "model_name": "ProgressStyleModel",
          "model_module_version": "1.5.0",
          "state": {
            "_model_module": "@jupyter-widgets/controls",
            "_model_module_version": "1.5.0",
            "_model_name": "ProgressStyleModel",
            "_view_count": null,
            "_view_module": "@jupyter-widgets/base",
            "_view_module_version": "1.2.0",
            "_view_name": "StyleView",
            "bar_color": null,
            "description_width": ""
          }
        },
        "291530e1edf840e79fd6c82ffcb591fd": {
          "model_module": "@jupyter-widgets/base",
          "model_name": "LayoutModel",
          "model_module_version": "1.2.0",
          "state": {
            "_model_module": "@jupyter-widgets/base",
            "_model_module_version": "1.2.0",
            "_model_name": "LayoutModel",
            "_view_count": null,
            "_view_module": "@jupyter-widgets/base",
            "_view_module_version": "1.2.0",
            "_view_name": "LayoutView",
            "align_content": null,
            "align_items": null,
            "align_self": null,
            "border": null,
            "bottom": null,
            "display": null,
            "flex": null,
            "flex_flow": null,
            "grid_area": null,
            "grid_auto_columns": null,
            "grid_auto_flow": null,
            "grid_auto_rows": null,
            "grid_column": null,
            "grid_gap": null,
            "grid_row": null,
            "grid_template_areas": null,
            "grid_template_columns": null,
            "grid_template_rows": null,
            "height": null,
            "justify_content": null,
            "justify_items": null,
            "left": null,
            "margin": null,
            "max_height": null,
            "max_width": null,
            "min_height": null,
            "min_width": null,
            "object_fit": null,
            "object_position": null,
            "order": null,
            "overflow": null,
            "overflow_x": null,
            "overflow_y": null,
            "padding": null,
            "right": null,
            "top": null,
            "visibility": null,
            "width": null
          }
        },
        "d57680cb67c34776b4bef5be9729e62b": {
          "model_module": "@jupyter-widgets/controls",
          "model_name": "DescriptionStyleModel",
          "model_module_version": "1.5.0",
          "state": {
            "_model_module": "@jupyter-widgets/controls",
            "_model_module_version": "1.5.0",
            "_model_name": "DescriptionStyleModel",
            "_view_count": null,
            "_view_module": "@jupyter-widgets/base",
            "_view_module_version": "1.2.0",
            "_view_name": "StyleView",
            "description_width": ""
          }
        },
        "5f437c7d27f548c49f44586dd72fcbf1": {
          "model_module": "@jupyter-widgets/controls",
          "model_name": "HBoxModel",
          "model_module_version": "1.5.0",
          "state": {
            "_dom_classes": [],
            "_model_module": "@jupyter-widgets/controls",
            "_model_module_version": "1.5.0",
            "_model_name": "HBoxModel",
            "_view_count": null,
            "_view_module": "@jupyter-widgets/controls",
            "_view_module_version": "1.5.0",
            "_view_name": "HBoxView",
            "box_style": "",
            "children": [
              "IPY_MODEL_b2160c0f64f04f9fab2d66d17b06ee3c",
              "IPY_MODEL_9457b5926bb442eb8e9d1a70cdb0260b",
              "IPY_MODEL_9dcf6a478b644d119d0d1e6501b3eb19"
            ],
            "layout": "IPY_MODEL_52b491576fcc4470b8f59823e710e979"
          }
        },
        "b2160c0f64f04f9fab2d66d17b06ee3c": {
          "model_module": "@jupyter-widgets/controls",
          "model_name": "HTMLModel",
          "model_module_version": "1.5.0",
          "state": {
            "_dom_classes": [],
            "_model_module": "@jupyter-widgets/controls",
            "_model_module_version": "1.5.0",
            "_model_name": "HTMLModel",
            "_view_count": null,
            "_view_module": "@jupyter-widgets/controls",
            "_view_module_version": "1.5.0",
            "_view_name": "HTMLView",
            "description": "",
            "description_tooltip": null,
            "layout": "IPY_MODEL_393934a427ff4fb1bc933ff2884d0ac3",
            "placeholder": "​",
            "style": "IPY_MODEL_ad40505624d44e82b4df41ab31666511",
            "value": "Downloading: 100%"
          }
        },
        "9457b5926bb442eb8e9d1a70cdb0260b": {
          "model_module": "@jupyter-widgets/controls",
          "model_name": "FloatProgressModel",
          "model_module_version": "1.5.0",
          "state": {
            "_dom_classes": [],
            "_model_module": "@jupyter-widgets/controls",
            "_model_module_version": "1.5.0",
            "_model_name": "FloatProgressModel",
            "_view_count": null,
            "_view_module": "@jupyter-widgets/controls",
            "_view_module_version": "1.5.0",
            "_view_name": "ProgressView",
            "bar_style": "success",
            "description": "",
            "description_tooltip": null,
            "layout": "IPY_MODEL_0e8bf26c01e54ee682d6760a1a50f304",
            "max": 28,
            "min": 0,
            "orientation": "horizontal",
            "style": "IPY_MODEL_0aa361cdff7c4c0687e23b2a929419c8",
            "value": 28
          }
        },
        "9dcf6a478b644d119d0d1e6501b3eb19": {
          "model_module": "@jupyter-widgets/controls",
          "model_name": "HTMLModel",
          "model_module_version": "1.5.0",
          "state": {
            "_dom_classes": [],
            "_model_module": "@jupyter-widgets/controls",
            "_model_module_version": "1.5.0",
            "_model_name": "HTMLModel",
            "_view_count": null,
            "_view_module": "@jupyter-widgets/controls",
            "_view_module_version": "1.5.0",
            "_view_name": "HTMLView",
            "description": "",
            "description_tooltip": null,
            "layout": "IPY_MODEL_a2642c345e1345bdb7cafece8ba92cf6",
            "placeholder": "​",
            "style": "IPY_MODEL_8cb83ce4025d4aaf9837ba7fd81607e1",
            "value": " 28.0/28.0 [00:00&lt;00:00, 1.81kB/s]"
          }
        },
        "52b491576fcc4470b8f59823e710e979": {
          "model_module": "@jupyter-widgets/base",
          "model_name": "LayoutModel",
          "model_module_version": "1.2.0",
          "state": {
            "_model_module": "@jupyter-widgets/base",
            "_model_module_version": "1.2.0",
            "_model_name": "LayoutModel",
            "_view_count": null,
            "_view_module": "@jupyter-widgets/base",
            "_view_module_version": "1.2.0",
            "_view_name": "LayoutView",
            "align_content": null,
            "align_items": null,
            "align_self": null,
            "border": null,
            "bottom": null,
            "display": null,
            "flex": null,
            "flex_flow": null,
            "grid_area": null,
            "grid_auto_columns": null,
            "grid_auto_flow": null,
            "grid_auto_rows": null,
            "grid_column": null,
            "grid_gap": null,
            "grid_row": null,
            "grid_template_areas": null,
            "grid_template_columns": null,
            "grid_template_rows": null,
            "height": null,
            "justify_content": null,
            "justify_items": null,
            "left": null,
            "margin": null,
            "max_height": null,
            "max_width": null,
            "min_height": null,
            "min_width": null,
            "object_fit": null,
            "object_position": null,
            "order": null,
            "overflow": null,
            "overflow_x": null,
            "overflow_y": null,
            "padding": null,
            "right": null,
            "top": null,
            "visibility": null,
            "width": null
          }
        },
        "393934a427ff4fb1bc933ff2884d0ac3": {
          "model_module": "@jupyter-widgets/base",
          "model_name": "LayoutModel",
          "model_module_version": "1.2.0",
          "state": {
            "_model_module": "@jupyter-widgets/base",
            "_model_module_version": "1.2.0",
            "_model_name": "LayoutModel",
            "_view_count": null,
            "_view_module": "@jupyter-widgets/base",
            "_view_module_version": "1.2.0",
            "_view_name": "LayoutView",
            "align_content": null,
            "align_items": null,
            "align_self": null,
            "border": null,
            "bottom": null,
            "display": null,
            "flex": null,
            "flex_flow": null,
            "grid_area": null,
            "grid_auto_columns": null,
            "grid_auto_flow": null,
            "grid_auto_rows": null,
            "grid_column": null,
            "grid_gap": null,
            "grid_row": null,
            "grid_template_areas": null,
            "grid_template_columns": null,
            "grid_template_rows": null,
            "height": null,
            "justify_content": null,
            "justify_items": null,
            "left": null,
            "margin": null,
            "max_height": null,
            "max_width": null,
            "min_height": null,
            "min_width": null,
            "object_fit": null,
            "object_position": null,
            "order": null,
            "overflow": null,
            "overflow_x": null,
            "overflow_y": null,
            "padding": null,
            "right": null,
            "top": null,
            "visibility": null,
            "width": null
          }
        },
        "ad40505624d44e82b4df41ab31666511": {
          "model_module": "@jupyter-widgets/controls",
          "model_name": "DescriptionStyleModel",
          "model_module_version": "1.5.0",
          "state": {
            "_model_module": "@jupyter-widgets/controls",
            "_model_module_version": "1.5.0",
            "_model_name": "DescriptionStyleModel",
            "_view_count": null,
            "_view_module": "@jupyter-widgets/base",
            "_view_module_version": "1.2.0",
            "_view_name": "StyleView",
            "description_width": ""
          }
        },
        "0e8bf26c01e54ee682d6760a1a50f304": {
          "model_module": "@jupyter-widgets/base",
          "model_name": "LayoutModel",
          "model_module_version": "1.2.0",
          "state": {
            "_model_module": "@jupyter-widgets/base",
            "_model_module_version": "1.2.0",
            "_model_name": "LayoutModel",
            "_view_count": null,
            "_view_module": "@jupyter-widgets/base",
            "_view_module_version": "1.2.0",
            "_view_name": "LayoutView",
            "align_content": null,
            "align_items": null,
            "align_self": null,
            "border": null,
            "bottom": null,
            "display": null,
            "flex": null,
            "flex_flow": null,
            "grid_area": null,
            "grid_auto_columns": null,
            "grid_auto_flow": null,
            "grid_auto_rows": null,
            "grid_column": null,
            "grid_gap": null,
            "grid_row": null,
            "grid_template_areas": null,
            "grid_template_columns": null,
            "grid_template_rows": null,
            "height": null,
            "justify_content": null,
            "justify_items": null,
            "left": null,
            "margin": null,
            "max_height": null,
            "max_width": null,
            "min_height": null,
            "min_width": null,
            "object_fit": null,
            "object_position": null,
            "order": null,
            "overflow": null,
            "overflow_x": null,
            "overflow_y": null,
            "padding": null,
            "right": null,
            "top": null,
            "visibility": null,
            "width": null
          }
        },
        "0aa361cdff7c4c0687e23b2a929419c8": {
          "model_module": "@jupyter-widgets/controls",
          "model_name": "ProgressStyleModel",
          "model_module_version": "1.5.0",
          "state": {
            "_model_module": "@jupyter-widgets/controls",
            "_model_module_version": "1.5.0",
            "_model_name": "ProgressStyleModel",
            "_view_count": null,
            "_view_module": "@jupyter-widgets/base",
            "_view_module_version": "1.2.0",
            "_view_name": "StyleView",
            "bar_color": null,
            "description_width": ""
          }
        },
        "a2642c345e1345bdb7cafece8ba92cf6": {
          "model_module": "@jupyter-widgets/base",
          "model_name": "LayoutModel",
          "model_module_version": "1.2.0",
          "state": {
            "_model_module": "@jupyter-widgets/base",
            "_model_module_version": "1.2.0",
            "_model_name": "LayoutModel",
            "_view_count": null,
            "_view_module": "@jupyter-widgets/base",
            "_view_module_version": "1.2.0",
            "_view_name": "LayoutView",
            "align_content": null,
            "align_items": null,
            "align_self": null,
            "border": null,
            "bottom": null,
            "display": null,
            "flex": null,
            "flex_flow": null,
            "grid_area": null,
            "grid_auto_columns": null,
            "grid_auto_flow": null,
            "grid_auto_rows": null,
            "grid_column": null,
            "grid_gap": null,
            "grid_row": null,
            "grid_template_areas": null,
            "grid_template_columns": null,
            "grid_template_rows": null,
            "height": null,
            "justify_content": null,
            "justify_items": null,
            "left": null,
            "margin": null,
            "max_height": null,
            "max_width": null,
            "min_height": null,
            "min_width": null,
            "object_fit": null,
            "object_position": null,
            "order": null,
            "overflow": null,
            "overflow_x": null,
            "overflow_y": null,
            "padding": null,
            "right": null,
            "top": null,
            "visibility": null,
            "width": null
          }
        },
        "8cb83ce4025d4aaf9837ba7fd81607e1": {
          "model_module": "@jupyter-widgets/controls",
          "model_name": "DescriptionStyleModel",
          "model_module_version": "1.5.0",
          "state": {
            "_model_module": "@jupyter-widgets/controls",
            "_model_module_version": "1.5.0",
            "_model_name": "DescriptionStyleModel",
            "_view_count": null,
            "_view_module": "@jupyter-widgets/base",
            "_view_module_version": "1.2.0",
            "_view_name": "StyleView",
            "description_width": ""
          }
        },
        "95c1899f63fb43b5a0e9a1edef90b00a": {
          "model_module": "@jupyter-widgets/controls",
          "model_name": "HBoxModel",
          "model_module_version": "1.5.0",
          "state": {
            "_dom_classes": [],
            "_model_module": "@jupyter-widgets/controls",
            "_model_module_version": "1.5.0",
            "_model_name": "HBoxModel",
            "_view_count": null,
            "_view_module": "@jupyter-widgets/controls",
            "_view_module_version": "1.5.0",
            "_view_name": "HBoxView",
            "box_style": "",
            "children": [
              "IPY_MODEL_39cc1741bfac4864a5983bd824e1496a",
              "IPY_MODEL_ed3548a0fb224730b166813b43f076e0",
              "IPY_MODEL_f8f5297b5ab54ce1a1d7fed0baf018d0"
            ],
            "layout": "IPY_MODEL_b586e7b374564b478e3401137a34f355"
          }
        },
        "39cc1741bfac4864a5983bd824e1496a": {
          "model_module": "@jupyter-widgets/controls",
          "model_name": "HTMLModel",
          "model_module_version": "1.5.0",
          "state": {
            "_dom_classes": [],
            "_model_module": "@jupyter-widgets/controls",
            "_model_module_version": "1.5.0",
            "_model_name": "HTMLModel",
            "_view_count": null,
            "_view_module": "@jupyter-widgets/controls",
            "_view_module_version": "1.5.0",
            "_view_name": "HTMLView",
            "description": "",
            "description_tooltip": null,
            "layout": "IPY_MODEL_683655b1d0b146df9b058e3d9726328e",
            "placeholder": "​",
            "style": "IPY_MODEL_3c508a794ffd46d2a036f57222dd8597",
            "value": "Downloading: 100%"
          }
        },
        "ed3548a0fb224730b166813b43f076e0": {
          "model_module": "@jupyter-widgets/controls",
          "model_name": "FloatProgressModel",
          "model_module_version": "1.5.0",
          "state": {
            "_dom_classes": [],
            "_model_module": "@jupyter-widgets/controls",
            "_model_module_version": "1.5.0",
            "_model_name": "FloatProgressModel",
            "_view_count": null,
            "_view_module": "@jupyter-widgets/controls",
            "_view_module_version": "1.5.0",
            "_view_name": "ProgressView",
            "bar_style": "success",
            "description": "",
            "description_tooltip": null,
            "layout": "IPY_MODEL_6af48a5ea5ef404281c0177cb4cd2791",
            "max": 483,
            "min": 0,
            "orientation": "horizontal",
            "style": "IPY_MODEL_a456dfc09b2a423681dc562cb243ff47",
            "value": 483
          }
        },
        "f8f5297b5ab54ce1a1d7fed0baf018d0": {
          "model_module": "@jupyter-widgets/controls",
          "model_name": "HTMLModel",
          "model_module_version": "1.5.0",
          "state": {
            "_dom_classes": [],
            "_model_module": "@jupyter-widgets/controls",
            "_model_module_version": "1.5.0",
            "_model_name": "HTMLModel",
            "_view_count": null,
            "_view_module": "@jupyter-widgets/controls",
            "_view_module_version": "1.5.0",
            "_view_name": "HTMLView",
            "description": "",
            "description_tooltip": null,
            "layout": "IPY_MODEL_c6c04188ad514f84a1fc2ebaeb419e75",
            "placeholder": "​",
            "style": "IPY_MODEL_96e81925ecaa4cda915ccafc70476dc6",
            "value": " 483/483 [00:00&lt;00:00, 24.0kB/s]"
          }
        },
        "b586e7b374564b478e3401137a34f355": {
          "model_module": "@jupyter-widgets/base",
          "model_name": "LayoutModel",
          "model_module_version": "1.2.0",
          "state": {
            "_model_module": "@jupyter-widgets/base",
            "_model_module_version": "1.2.0",
            "_model_name": "LayoutModel",
            "_view_count": null,
            "_view_module": "@jupyter-widgets/base",
            "_view_module_version": "1.2.0",
            "_view_name": "LayoutView",
            "align_content": null,
            "align_items": null,
            "align_self": null,
            "border": null,
            "bottom": null,
            "display": null,
            "flex": null,
            "flex_flow": null,
            "grid_area": null,
            "grid_auto_columns": null,
            "grid_auto_flow": null,
            "grid_auto_rows": null,
            "grid_column": null,
            "grid_gap": null,
            "grid_row": null,
            "grid_template_areas": null,
            "grid_template_columns": null,
            "grid_template_rows": null,
            "height": null,
            "justify_content": null,
            "justify_items": null,
            "left": null,
            "margin": null,
            "max_height": null,
            "max_width": null,
            "min_height": null,
            "min_width": null,
            "object_fit": null,
            "object_position": null,
            "order": null,
            "overflow": null,
            "overflow_x": null,
            "overflow_y": null,
            "padding": null,
            "right": null,
            "top": null,
            "visibility": null,
            "width": null
          }
        },
        "683655b1d0b146df9b058e3d9726328e": {
          "model_module": "@jupyter-widgets/base",
          "model_name": "LayoutModel",
          "model_module_version": "1.2.0",
          "state": {
            "_model_module": "@jupyter-widgets/base",
            "_model_module_version": "1.2.0",
            "_model_name": "LayoutModel",
            "_view_count": null,
            "_view_module": "@jupyter-widgets/base",
            "_view_module_version": "1.2.0",
            "_view_name": "LayoutView",
            "align_content": null,
            "align_items": null,
            "align_self": null,
            "border": null,
            "bottom": null,
            "display": null,
            "flex": null,
            "flex_flow": null,
            "grid_area": null,
            "grid_auto_columns": null,
            "grid_auto_flow": null,
            "grid_auto_rows": null,
            "grid_column": null,
            "grid_gap": null,
            "grid_row": null,
            "grid_template_areas": null,
            "grid_template_columns": null,
            "grid_template_rows": null,
            "height": null,
            "justify_content": null,
            "justify_items": null,
            "left": null,
            "margin": null,
            "max_height": null,
            "max_width": null,
            "min_height": null,
            "min_width": null,
            "object_fit": null,
            "object_position": null,
            "order": null,
            "overflow": null,
            "overflow_x": null,
            "overflow_y": null,
            "padding": null,
            "right": null,
            "top": null,
            "visibility": null,
            "width": null
          }
        },
        "3c508a794ffd46d2a036f57222dd8597": {
          "model_module": "@jupyter-widgets/controls",
          "model_name": "DescriptionStyleModel",
          "model_module_version": "1.5.0",
          "state": {
            "_model_module": "@jupyter-widgets/controls",
            "_model_module_version": "1.5.0",
            "_model_name": "DescriptionStyleModel",
            "_view_count": null,
            "_view_module": "@jupyter-widgets/base",
            "_view_module_version": "1.2.0",
            "_view_name": "StyleView",
            "description_width": ""
          }
        },
        "6af48a5ea5ef404281c0177cb4cd2791": {
          "model_module": "@jupyter-widgets/base",
          "model_name": "LayoutModel",
          "model_module_version": "1.2.0",
          "state": {
            "_model_module": "@jupyter-widgets/base",
            "_model_module_version": "1.2.0",
            "_model_name": "LayoutModel",
            "_view_count": null,
            "_view_module": "@jupyter-widgets/base",
            "_view_module_version": "1.2.0",
            "_view_name": "LayoutView",
            "align_content": null,
            "align_items": null,
            "align_self": null,
            "border": null,
            "bottom": null,
            "display": null,
            "flex": null,
            "flex_flow": null,
            "grid_area": null,
            "grid_auto_columns": null,
            "grid_auto_flow": null,
            "grid_auto_rows": null,
            "grid_column": null,
            "grid_gap": null,
            "grid_row": null,
            "grid_template_areas": null,
            "grid_template_columns": null,
            "grid_template_rows": null,
            "height": null,
            "justify_content": null,
            "justify_items": null,
            "left": null,
            "margin": null,
            "max_height": null,
            "max_width": null,
            "min_height": null,
            "min_width": null,
            "object_fit": null,
            "object_position": null,
            "order": null,
            "overflow": null,
            "overflow_x": null,
            "overflow_y": null,
            "padding": null,
            "right": null,
            "top": null,
            "visibility": null,
            "width": null
          }
        },
        "a456dfc09b2a423681dc562cb243ff47": {
          "model_module": "@jupyter-widgets/controls",
          "model_name": "ProgressStyleModel",
          "model_module_version": "1.5.0",
          "state": {
            "_model_module": "@jupyter-widgets/controls",
            "_model_module_version": "1.5.0",
            "_model_name": "ProgressStyleModel",
            "_view_count": null,
            "_view_module": "@jupyter-widgets/base",
            "_view_module_version": "1.2.0",
            "_view_name": "StyleView",
            "bar_color": null,
            "description_width": ""
          }
        },
        "c6c04188ad514f84a1fc2ebaeb419e75": {
          "model_module": "@jupyter-widgets/base",
          "model_name": "LayoutModel",
          "model_module_version": "1.2.0",
          "state": {
            "_model_module": "@jupyter-widgets/base",
            "_model_module_version": "1.2.0",
            "_model_name": "LayoutModel",
            "_view_count": null,
            "_view_module": "@jupyter-widgets/base",
            "_view_module_version": "1.2.0",
            "_view_name": "LayoutView",
            "align_content": null,
            "align_items": null,
            "align_self": null,
            "border": null,
            "bottom": null,
            "display": null,
            "flex": null,
            "flex_flow": null,
            "grid_area": null,
            "grid_auto_columns": null,
            "grid_auto_flow": null,
            "grid_auto_rows": null,
            "grid_column": null,
            "grid_gap": null,
            "grid_row": null,
            "grid_template_areas": null,
            "grid_template_columns": null,
            "grid_template_rows": null,
            "height": null,
            "justify_content": null,
            "justify_items": null,
            "left": null,
            "margin": null,
            "max_height": null,
            "max_width": null,
            "min_height": null,
            "min_width": null,
            "object_fit": null,
            "object_position": null,
            "order": null,
            "overflow": null,
            "overflow_x": null,
            "overflow_y": null,
            "padding": null,
            "right": null,
            "top": null,
            "visibility": null,
            "width": null
          }
        },
        "96e81925ecaa4cda915ccafc70476dc6": {
          "model_module": "@jupyter-widgets/controls",
          "model_name": "DescriptionStyleModel",
          "model_module_version": "1.5.0",
          "state": {
            "_model_module": "@jupyter-widgets/controls",
            "_model_module_version": "1.5.0",
            "_model_name": "DescriptionStyleModel",
            "_view_count": null,
            "_view_module": "@jupyter-widgets/base",
            "_view_module_version": "1.2.0",
            "_view_name": "StyleView",
            "description_width": ""
          }
        }
      }
    },
    "accelerator": "GPU"
  },
  "cells": [
    {
      "cell_type": "markdown",
      "source": [
        "### Student Information\n",
        "Name: Mequanent Argaw Muluneh - (倫 莫)\n",
        "\n",
        "Student ID: 110761504"
      ],
      "metadata": {
        "id": "f94aX0d2wrxI"
      }
    },
    {
      "cell_type": "markdown",
      "source": [
        "### Instructions"
      ],
      "metadata": {
        "id": "xRqFMOX8w_Wl"
      }
    },
    {
      "cell_type": "markdown",
      "source": [
        "1. __This part is worth 30% of your grade.__ \n",
        "\n",
        "Do the **take home** exercises in the [Lab](Text_Classification_Lab.ipynb). You may need to copy some cells from the Lab notebook to this notebook. \n",
        "\n",
        "\n",
        "2. __This part is worth 50% of your grade.__ \n",
        "\n",
        "In this lab, we have introduced the basic steps of text classification, including data processing, featrue engineering and model building.\n",
        "The basic deep learning are introduced in our lab using Keras.\n",
        "In the class by professor Chen, we have also introduced the more advanced technique of text classification, including RNN, pretrained language model, etc.\n",
        "\n",
        "In this homework, you are required to build a text classification model using a very popular sequential modeling tecnhique for our SemEval dataset: BERT.\n",
        "The necessary materials for using BERT are at the official tutorial in the tensorflow [here](https://www.tensorflow.org/text/tutorials/classify_text_with_bert), respectively.\n",
        "\n",
        "* You need to learn how to adopt the pretrained BERT model and fine-tune on emotion dataset (20%)\n",
        "* Adopt a DIFFERENT pretrained BERT model and fine-tune TWICE for our task (i.e, transfer learning).  (30%)\n",
        "Specifically, the first time is to fine-tune the BERT model with **a related dataset** (e.g., the IMDB dataset in the tutorial, since the sentiment classification is similar to emotion classification), and the second time is to fine-tune the BERT model for our SemEval emotion dataset with the fine-tuned model from the first time.\n",
        "\n",
        "Note that we are encouraging you to try to survey different online resources/tutorials.\n",
        "The HW is not difficult, try to run these models by yourself on our dataset. \n",
        "It is not allowed to just copy the code from your classmates' codes.\n",
        "\n",
        "3. __This part is worth 20% of your grade.__ \n",
        "\n",
        "A report of your work developping the model for HW (You can use code and comment it). This report should include what your preprocessing steps, the feature engineering steps and an explanation of your model in the second part. \n",
        "You can also mention different things you additional tried and insights you gained. (e.g., the effect of different hyperparameters, the effect of different pretrained language models, etc.) \n",
        "\n",
        "Last, it's hard for us to follow if your code is messy :'(, so please **tidy up your notebook** and **add detailed comments and idea for your code**.\n",
        "\n",
        "\n",
        "\n",
        "Zip two notebook files in a zip file (your_name.zip) and email to TA's at yenhao0218@gapp.nthu.edu.tw  __BEFORE the deadline (Jan 6th)__. "
      ],
      "metadata": {
        "id": "s2C5NtZqxH09"
      }
    },
    {
      "cell_type": "code",
      "source": [
        "### Begin Assignment Here"
      ],
      "metadata": {
        "id": "gBeDs2GpxO1D"
      },
      "execution_count": null,
      "outputs": []
    },
    {
      "cell_type": "markdown",
      "source": [
        "# Install some libraries"
      ],
      "metadata": {
        "id": "-xwSJM8txVm7"
      }
    },
    {
      "cell_type": "code",
      "execution_count": 1,
      "metadata": {
        "colab": {
          "base_uri": "https://localhost:8080/"
        },
        "id": "Oirbz2tFeA8R",
        "outputId": "e780acf7-6500-48eb-e710-31b96b12f512"
      },
      "outputs": [
        {
          "output_type": "stream",
          "name": "stdout",
          "text": [
            "\u001b[2K     \u001b[90m━━━━━━━━━━━━━━━━━━━━━━━━━━━━━━━━━━━━━━━━\u001b[0m \u001b[32m5.8/5.8 MB\u001b[0m \u001b[31m82.7 MB/s\u001b[0m eta \u001b[36m0:00:00\u001b[0m\n",
            "\u001b[2K     \u001b[90m━━━━━━━━━━━━━━━━━━━━━━━━━━━━━━━━━━━━━━━━\u001b[0m \u001b[32m7.6/7.6 MB\u001b[0m \u001b[31m102.6 MB/s\u001b[0m eta \u001b[36m0:00:00\u001b[0m\n",
            "\u001b[2K     \u001b[90m━━━━━━━━━━━━━━━━━━━━━━━━━━━━━━━━━━━━━━\u001b[0m \u001b[32m182.4/182.4 KB\u001b[0m \u001b[31m22.8 MB/s\u001b[0m eta \u001b[36m0:00:00\u001b[0m\n",
            "\u001b[?25h"
          ]
        }
      ],
      "source": [
        "# Install transformers from hugging face for better use of BERT Modules\n",
        "!pip install -q transformers "
      ]
    },
    {
      "cell_type": "markdown",
      "source": [
        "# Impoort Dependencies"
      ],
      "metadata": {
        "id": "y2AVXEglxfj9"
      }
    },
    {
      "cell_type": "code",
      "source": [
        "#@title Import Libraries \n",
        "%matplotlib inline\n",
        "import os\n",
        "import time\n",
        "import pandas as pd\n",
        "import numpy as np\n",
        "\n",
        "#import transformers \n",
        "#from transformers import BertModel, BertTokenizer\n",
        "from transformers import DistilBertModel, DistilBertTokenizer\n",
        "import torch \n",
        "from torch import nn \n",
        "from torch.utils.data import Dataset, DataLoader\n",
        "\n",
        "from sklearn.model_selection import train_test_split\n",
        "\n",
        "from tqdm import tqdm \n",
        "import warnings\n",
        "warnings.filterwarnings('ignore') \n",
        "\n",
        "device = torch.device(\"cuda\" if torch.cuda.is_available() else \"cpu\") "
      ],
      "metadata": {
        "id": "daOMb2Pu-vVz",
        "cellView": "form"
      },
      "execution_count": 2,
      "outputs": []
    },
    {
      "cell_type": "code",
      "source": [
        "# cloning to access the dataset from github\n",
        "#!npx degit https://github.com/mequanent/Social-Networks -f"
      ],
      "metadata": {
        "id": "cUtgMTxQ3GYI",
        "colab": {
          "base_uri": "https://localhost:8080/"
        },
        "outputId": "dd2c171e-5834-433a-cf72-941768c30c51"
      },
      "execution_count": 3,
      "outputs": [
        {
          "output_type": "stream",
          "name": "stdout",
          "text": [
            "\u001b[K\u001b[?25hnpx: installed 1 in 2.426s\n",
            "\u001b[36m> destination directory is not empty. Using --force, continuing\u001b[39m\n",
            "\u001b[36m> cloned \u001b[1mmequanent/Social-Networks\u001b[22m#\u001b[1mHEAD\u001b[22m\u001b[39m\n"
          ]
        }
      ]
    },
    {
      "cell_type": "markdown",
      "source": [
        "# SemEval Dataset"
      ],
      "metadata": {
        "id": "NbSeboYbq0uh"
      }
    },
    {
      "cell_type": "code",
      "source": [
        "#@title Dataset Folder\n",
        "# show the folder \n",
        "#data_folder = \"/content/drive/MyDrive/text_lab\" # when running with drive data\n",
        "data_folder = \"/content/text_lab\" # when running with github data\n",
        "#os.listdir(data_folder) "
      ],
      "metadata": {
        "id": "cnExFz8de3Xk",
        "cellView": "form"
      },
      "execution_count": 4,
      "outputs": []
    },
    {
      "cell_type": "code",
      "source": [
        "#@title Read training data\n",
        "columns = [\"id\", \"text\", \"emotion\", \"intensity\"]\n",
        "anger_train = pd.read_csv(f\"{data_folder}/data/semeval/train/anger-ratings-0to1.train.txt\", \n",
        "                          sep=\"\\t\", header=None, names=columns)\n",
        "sadness_train = pd.read_csv(f\"{data_folder}/data/semeval/train/sadness-ratings-0to1.train.txt\",\n",
        "                         sep=\"\\t\", header=None, names=columns)\n",
        "fear_train = pd.read_csv(f\"{data_folder}/data/semeval/train/fear-ratings-0to1.train.txt\",\n",
        "                         sep=\"\\t\", header=None, names=columns)\n",
        "joy_train = pd.read_csv(f\"{data_folder}/data/semeval/train/joy-ratings-0to1.train.txt\",\n",
        "                         sep=\"\\t\", header=None, names=columns)\n",
        "\n",
        "# combine 4 sub-dataset, 'se_' prefix to identify from imdb\n",
        "se_train_df = pd.concat([anger_train, fear_train, joy_train, sadness_train], ignore_index=True)"
      ],
      "metadata": {
        "cellView": "form",
        "id": "9u9yU1pt-i12"
      },
      "execution_count": null,
      "outputs": []
    },
    {
      "cell_type": "code",
      "source": [
        "#@title Read testing data\n",
        "anger_test = pd.read_csv(f\"{data_folder}/data/semeval/dev/anger-ratings-0to1.dev.gold.txt\",\n",
        "                         sep=\"\\t\", header=None, names=columns)\n",
        "sadness_test = pd.read_csv(f\"{data_folder}/data/semeval/dev/sadness-ratings-0to1.dev.gold.txt\",\n",
        "                         sep=\"\\t\", header=None, names=columns)\n",
        "fear_test = pd.read_csv(f\"{data_folder}/data/semeval/dev/fear-ratings-0to1.dev.gold.txt\",\n",
        "                         sep=\"\\t\", header=None, names=columns)\n",
        "joy_test = pd.read_csv(f\"{data_folder}/data/semeval/dev/joy-ratings-0to1.dev.gold.txt\",\n",
        "                         sep=\"\\t\", header=None, names=columns)\n",
        "\n",
        "# combine 4 sub-dataset\n",
        "se_test_df = pd.concat([anger_test, fear_test, joy_test, sadness_test], ignore_index=True)\n",
        "se_test_df.head(2)"
      ],
      "metadata": {
        "colab": {
          "base_uri": "https://localhost:8080/",
          "height": 112
        },
        "cellView": "form",
        "id": "yNsHMT_y-65U",
        "outputId": "7fbef08b-d8eb-45ff-a1d1-7aa6f5b6089c"
      },
      "execution_count": null,
      "outputs": [
        {
          "output_type": "execute_result",
          "data": {
            "text/plain": [
              "      id                                               text emotion  intensity\n",
              "0  10857  @ZubairSabirPTI  pls dont insult the word 'Molna'   anger      0.479\n",
              "1  10858  @ArcticFantasy I would have almost took offens...   anger      0.458"
            ],
            "text/html": [
              "\n",
              "  <div id=\"df-eb6796ed-a1bf-4656-afad-53ce5264096f\">\n",
              "    <div class=\"colab-df-container\">\n",
              "      <div>\n",
              "<style scoped>\n",
              "    .dataframe tbody tr th:only-of-type {\n",
              "        vertical-align: middle;\n",
              "    }\n",
              "\n",
              "    .dataframe tbody tr th {\n",
              "        vertical-align: top;\n",
              "    }\n",
              "\n",
              "    .dataframe thead th {\n",
              "        text-align: right;\n",
              "    }\n",
              "</style>\n",
              "<table border=\"1\" class=\"dataframe\">\n",
              "  <thead>\n",
              "    <tr style=\"text-align: right;\">\n",
              "      <th></th>\n",
              "      <th>id</th>\n",
              "      <th>text</th>\n",
              "      <th>emotion</th>\n",
              "      <th>intensity</th>\n",
              "    </tr>\n",
              "  </thead>\n",
              "  <tbody>\n",
              "    <tr>\n",
              "      <th>0</th>\n",
              "      <td>10857</td>\n",
              "      <td>@ZubairSabirPTI  pls dont insult the word 'Molna'</td>\n",
              "      <td>anger</td>\n",
              "      <td>0.479</td>\n",
              "    </tr>\n",
              "    <tr>\n",
              "      <th>1</th>\n",
              "      <td>10858</td>\n",
              "      <td>@ArcticFantasy I would have almost took offens...</td>\n",
              "      <td>anger</td>\n",
              "      <td>0.458</td>\n",
              "    </tr>\n",
              "  </tbody>\n",
              "</table>\n",
              "</div>\n",
              "      <button class=\"colab-df-convert\" onclick=\"convertToInteractive('df-eb6796ed-a1bf-4656-afad-53ce5264096f')\"\n",
              "              title=\"Convert this dataframe to an interactive table.\"\n",
              "              style=\"display:none;\">\n",
              "        \n",
              "  <svg xmlns=\"http://www.w3.org/2000/svg\" height=\"24px\"viewBox=\"0 0 24 24\"\n",
              "       width=\"24px\">\n",
              "    <path d=\"M0 0h24v24H0V0z\" fill=\"none\"/>\n",
              "    <path d=\"M18.56 5.44l.94 2.06.94-2.06 2.06-.94-2.06-.94-.94-2.06-.94 2.06-2.06.94zm-11 1L8.5 8.5l.94-2.06 2.06-.94-2.06-.94L8.5 2.5l-.94 2.06-2.06.94zm10 10l.94 2.06.94-2.06 2.06-.94-2.06-.94-.94-2.06-.94 2.06-2.06.94z\"/><path d=\"M17.41 7.96l-1.37-1.37c-.4-.4-.92-.59-1.43-.59-.52 0-1.04.2-1.43.59L10.3 9.45l-7.72 7.72c-.78.78-.78 2.05 0 2.83L4 21.41c.39.39.9.59 1.41.59.51 0 1.02-.2 1.41-.59l7.78-7.78 2.81-2.81c.8-.78.8-2.07 0-2.86zM5.41 20L4 18.59l7.72-7.72 1.47 1.35L5.41 20z\"/>\n",
              "  </svg>\n",
              "      </button>\n",
              "      \n",
              "  <style>\n",
              "    .colab-df-container {\n",
              "      display:flex;\n",
              "      flex-wrap:wrap;\n",
              "      gap: 12px;\n",
              "    }\n",
              "\n",
              "    .colab-df-convert {\n",
              "      background-color: #E8F0FE;\n",
              "      border: none;\n",
              "      border-radius: 50%;\n",
              "      cursor: pointer;\n",
              "      display: none;\n",
              "      fill: #1967D2;\n",
              "      height: 32px;\n",
              "      padding: 0 0 0 0;\n",
              "      width: 32px;\n",
              "    }\n",
              "\n",
              "    .colab-df-convert:hover {\n",
              "      background-color: #E2EBFA;\n",
              "      box-shadow: 0px 1px 2px rgba(60, 64, 67, 0.3), 0px 1px 3px 1px rgba(60, 64, 67, 0.15);\n",
              "      fill: #174EA6;\n",
              "    }\n",
              "\n",
              "    [theme=dark] .colab-df-convert {\n",
              "      background-color: #3B4455;\n",
              "      fill: #D2E3FC;\n",
              "    }\n",
              "\n",
              "    [theme=dark] .colab-df-convert:hover {\n",
              "      background-color: #434B5C;\n",
              "      box-shadow: 0px 1px 3px 1px rgba(0, 0, 0, 0.15);\n",
              "      filter: drop-shadow(0px 1px 2px rgba(0, 0, 0, 0.3));\n",
              "      fill: #FFFFFF;\n",
              "    }\n",
              "  </style>\n",
              "\n",
              "      <script>\n",
              "        const buttonEl =\n",
              "          document.querySelector('#df-eb6796ed-a1bf-4656-afad-53ce5264096f button.colab-df-convert');\n",
              "        buttonEl.style.display =\n",
              "          google.colab.kernel.accessAllowed ? 'block' : 'none';\n",
              "\n",
              "        async function convertToInteractive(key) {\n",
              "          const element = document.querySelector('#df-eb6796ed-a1bf-4656-afad-53ce5264096f');\n",
              "          const dataTable =\n",
              "            await google.colab.kernel.invokeFunction('convertToInteractive',\n",
              "                                                     [key], {});\n",
              "          if (!dataTable) return;\n",
              "\n",
              "          const docLinkHtml = 'Like what you see? Visit the ' +\n",
              "            '<a target=\"_blank\" href=https://colab.research.google.com/notebooks/data_table.ipynb>data table notebook</a>'\n",
              "            + ' to learn more about interactive tables.';\n",
              "          element.innerHTML = '';\n",
              "          dataTable['output_type'] = 'display_data';\n",
              "          await google.colab.output.renderOutput(dataTable, element);\n",
              "          const docLink = document.createElement('div');\n",
              "          docLink.innerHTML = docLinkHtml;\n",
              "          element.appendChild(docLink);\n",
              "        }\n",
              "      </script>\n",
              "    </div>\n",
              "  </div>\n",
              "  "
            ]
          },
          "metadata": {},
          "execution_count": 29
        }
      ]
    },
    {
      "cell_type": "code",
      "source": [
        "# shuffle dataset\n",
        "se_train_df = se_train_df.sample(frac=1)\n",
        "se_test_df = se_test_df.sample(frac=1)"
      ],
      "metadata": {
        "id": "H0phjOC3_KDe"
      },
      "execution_count": null,
      "outputs": []
    },
    {
      "cell_type": "code",
      "source": [
        "## save to pickle file\n",
        "se_train_df.to_pickle(os.path.join(data_folder, \"se_train_df.pkl\")) \n",
        "se_test_df.to_pickle(os.path.join(data_folder, \"se_test_df.pkl\"))"
      ],
      "metadata": {
        "id": "wc_jjRZC-L_y"
      },
      "execution_count": null,
      "outputs": []
    },
    {
      "cell_type": "code",
      "source": [
        "#@title Load a pickle file\n",
        "se_train_df = pd.read_pickle(os.path.join(data_folder, \"se_train_df.pkl\"))\n",
        "se_test_df = pd.read_pickle(os.path.join(data_folder, \"se_test_df.pkl\"))"
      ],
      "metadata": {
        "id": "Unns7iWU_eGP"
      },
      "execution_count": 5,
      "outputs": []
    },
    {
      "cell_type": "code",
      "source": [
        "# get some validation data from the training set\n",
        "se_train_df, se_val_df = train_test_split(se_train_df, test_size=0.15, random_state=42)\n",
        "print(\"Shape of Training df: \", se_train_df.shape)\n",
        "print(\"Shape of Validating df: \", se_val_df.shape)\n",
        "print(\"Shape of Testing df: \", se_test_df.shape)"
      ],
      "metadata": {
        "colab": {
          "base_uri": "https://localhost:8080/"
        },
        "id": "BefyoZ4WkYDc",
        "outputId": "cbbd30bc-001d-47ee-fd0c-bb0c41b2ad97"
      },
      "execution_count": 14,
      "outputs": [
        {
          "output_type": "stream",
          "name": "stdout",
          "text": [
            "Shape of Training df:  (3071, 4)\n",
            "Shape of Validating df:  (542, 4)\n",
            "Shape of Testing df:  (347, 4)\n"
          ]
        }
      ]
    },
    {
      "cell_type": "markdown",
      "source": [
        "## Learning/practicing subsection"
      ],
      "metadata": {
        "id": "PQNwFL9t9eO3"
      }
    },
    {
      "cell_type": "markdown",
      "source": [
        "For multi-label text classification learned from [this kaggle notebook](https://www.kaggle.com/sainijagjit/bbc-dataset) on bbc news classification."
      ],
      "metadata": {
        "id": "pd-lTl7rqGA0"
      }
    },
    {
      "cell_type": "code",
      "source": [
        "tokenizer = BertTokenizer.from_pretrained(\"bert-base-cased\")"
      ],
      "metadata": {
        "colab": {
          "base_uri": "https://localhost:8080/",
          "height": 113,
          "referenced_widgets": [
            "50e6931c667b4c1f80cca64bcfdfcb21",
            "a4e8119e893348fbbba2cc3d1f3694d9",
            "db6bcc3301694b629ac99cd365f2b388",
            "6d67ee7447454a44a8daf08b2476e6d5",
            "37bcb2f2834b42b18e8d0c5386b90b3f",
            "4f07c849a5ad430f8ed7d585c180a6e1",
            "2f8c75a867c34e15874f325819b163b4",
            "76cd6ed449ac4194861f9dce07833947",
            "348bb18899f947dfa8ef7d1c17fe8c5a",
            "6bcde75d803f44fc9a194939bc64909e",
            "12d0731a87074c70847488e09c5e7c65",
            "c5a7374332404dc4bdd3696379801751",
            "ecf26066e0d5448e9075d8a3aaf3274e",
            "1b67dc3c2081458da972e244defef7d1",
            "95a4e4410b90414dac5efdc358d764a8",
            "fdd4040b8e154910af1f7c192b86553b",
            "1fc4f0b8b156416eaf335ed76f96fc4d",
            "6abd71f612604d0fa12c03a356bb92f4",
            "0f13e1a6bb284029bba34b33e0db9448",
            "72e8d727725045e6b0904511f1da35a7",
            "00af7a192518461a8a27c8092282e6be",
            "6bd7ede6fd0e4850ad16bf0fb6207c35",
            "cb4cca972058492ead20e8e9fb934cc7",
            "e17ab85f07e2419dbd405e957cce476d",
            "3566e8d267294333826bd66c1b809f3b",
            "4a958889b6b049279ced661cc3174d62",
            "dfd9214b0e6f4bf5b1d1d6eb29e8cb01",
            "666cc648f1a946cb9d60a88728def77d",
            "14a5fdddc1e2462fb0da8d90d73d9584",
            "ef72dfd016624c2f853b4da861102406",
            "4199eb7d672c4cdd8323c16c5ccdf9ac",
            "b563da44ac5944f492e8ac5e8511105b",
            "af33e9a10f0f404b9782f6f4baf85988"
          ]
        },
        "id": "NYyJ_434P_Tf",
        "outputId": "30d11f65-1fd4-4ec8-d699-8a12c1acca8e"
      },
      "execution_count": null,
      "outputs": [
        {
          "output_type": "display_data",
          "data": {
            "text/plain": [
              "Downloading:   0%|          | 0.00/213k [00:00<?, ?B/s]"
            ],
            "application/vnd.jupyter.widget-view+json": {
              "version_major": 2,
              "version_minor": 0,
              "model_id": "50e6931c667b4c1f80cca64bcfdfcb21"
            }
          },
          "metadata": {}
        },
        {
          "output_type": "display_data",
          "data": {
            "text/plain": [
              "Downloading:   0%|          | 0.00/29.0 [00:00<?, ?B/s]"
            ],
            "application/vnd.jupyter.widget-view+json": {
              "version_major": 2,
              "version_minor": 0,
              "model_id": "c5a7374332404dc4bdd3696379801751"
            }
          },
          "metadata": {}
        },
        {
          "output_type": "display_data",
          "data": {
            "text/plain": [
              "Downloading:   0%|          | 0.00/570 [00:00<?, ?B/s]"
            ],
            "application/vnd.jupyter.widget-view+json": {
              "version_major": 2,
              "version_minor": 0,
              "model_id": "cb4cca972058492ead20e8e9fb934cc7"
            }
          },
          "metadata": {}
        }
      ]
    },
    {
      "cell_type": "code",
      "source": [
        "sample = 'Hi, this is a sample sentence to learn from BERT.'\n",
        "# truncation : if it is True then we allow bert to truncated every sequence it's length is higher then max_length\n",
        "# return_tensors : the type of tensors that will be returned (as we are using pytorch then we set \"pt\")\n",
        "bert_input  = tokenizer(sample,padding=\"max_length\",max_length=15,truncation=True,return_tensors=\"pt\")"
      ],
      "metadata": {
        "id": "gr8CXNjJRBH2"
      },
      "execution_count": null,
      "outputs": []
    },
    {
      "cell_type": "code",
      "source": [
        "bert_input"
      ],
      "metadata": {
        "colab": {
          "base_uri": "https://localhost:8080/"
        },
        "id": "Gvj2LwSxRKEG",
        "outputId": "77d7b95c-0bc3-4c9b-aa61-112569e15b3f"
      },
      "execution_count": null,
      "outputs": [
        {
          "output_type": "execute_result",
          "data": {
            "text/plain": [
              "{'input_ids': tensor([[ 101, 8790,  117, 1142, 1110,  170, 6876, 5650, 1106, 3858, 1121,  139,\n",
              "         9637, 1942,  102]]), 'token_type_ids': tensor([[0, 0, 0, 0, 0, 0, 0, 0, 0, 0, 0, 0, 0, 0, 0]]), 'attention_mask': tensor([[1, 1, 1, 1, 1, 1, 1, 1, 1, 1, 1, 1, 1, 1, 1]])}"
            ]
          },
          "metadata": {},
          "execution_count": 13
        }
      ]
    },
    {
      "cell_type": "code",
      "source": [
        "print(bert_input[\"input_ids\"])\n",
        "# input_ids are the id representation of each token \n",
        "# we can decode these inputs to get the original sequence \n",
        "print(tokenizer.decode(bert_input[\"input_ids\"][0] ))\n",
        "# the code 102 is for the [SEP] token and the 0 is for [PAD] token "
      ],
      "metadata": {
        "colab": {
          "base_uri": "https://localhost:8080/"
        },
        "id": "YcOf-6YtRRcV",
        "outputId": "6d836086-a138-4b88-b3bf-4a4d517704f1"
      },
      "execution_count": null,
      "outputs": [
        {
          "output_type": "stream",
          "name": "stdout",
          "text": [
            "tensor([[ 101, 8790,  117, 1142, 1110,  170, 6876, 5650, 1106, 3858, 1121,  139,\n",
            "         9637, 1942,  102]])\n",
            "[CLS] Hi, this is a sample sentence to learn from BERT [SEP]\n"
          ]
        }
      ]
    },
    {
      "cell_type": "code",
      "source": [
        "print(bert_input[\"token_type_ids\"])\n",
        "# the token_type_ids identified to which sequence a token belongs, when having just one sequence so it's always 0 "
      ],
      "metadata": {
        "colab": {
          "base_uri": "https://localhost:8080/"
        },
        "id": "T5oEoWlSRUSm",
        "outputId": "57fb165c-371d-4daf-fc87-11c3f70e5abd"
      },
      "execution_count": null,
      "outputs": [
        {
          "output_type": "stream",
          "name": "stdout",
          "text": [
            "tensor([[0, 0, 0, 0, 0, 0, 0, 0, 0, 0, 0, 0, 0, 0, 0]])\n"
          ]
        }
      ]
    },
    {
      "cell_type": "code",
      "source": [
        "print(bert_input[\"attention_mask\"]) \n",
        "# the attention_mask identified whether the token is a real word or just a token padding\n",
        "# it's 1 for the real words, the CLS and the SEP tokens, and for the pad token is 0"
      ],
      "metadata": {
        "colab": {
          "base_uri": "https://localhost:8080/"
        },
        "id": "-83T_-wDRTy9",
        "outputId": "993ba242-2303-4afb-e4a5-dd87b9e7542b"
      },
      "execution_count": null,
      "outputs": [
        {
          "output_type": "stream",
          "name": "stdout",
          "text": [
            "tensor([[1, 1, 1, 1, 1, 1, 1, 1, 1, 1, 1, 1, 1, 1, 1]])\n"
          ]
        }
      ]
    },
    {
      "cell_type": "markdown",
      "source": [
        "# **Common Classes and Helper Functions**\n",
        "This section contains `classes` and `helper functions` that can be applied for both the SemEval and IMDB Datasets"
      ],
      "metadata": {
        "id": "iBTSqRV1P2b1"
      }
    },
    {
      "cell_type": "markdown",
      "source": [
        "## **Label encoder decoder function**"
      ],
      "metadata": {
        "id": "boLci5_I51LR"
      }
    },
    {
      "cell_type": "code",
      "source": [
        "# how to get the labels from a df, example\n",
        "labels = list(se_train_df.emotion.unique())\n",
        "labels"
      ],
      "metadata": {
        "colab": {
          "base_uri": "https://localhost:8080/"
        },
        "id": "YUV4k36DtgNE",
        "outputId": "54fa7433-1466-4368-94d7-d3572416a084"
      },
      "execution_count": null,
      "outputs": [
        {
          "output_type": "execute_result",
          "data": {
            "text/plain": [
              "['joy', 'fear', 'sadness', 'anger']"
            ]
          },
          "metadata": {},
          "execution_count": 16
        }
      ]
    },
    {
      "cell_type": "code",
      "source": [
        "#@title Label encoder decoder function for both imdb and semeval\n",
        "def encode_decode_labels(df): \n",
        "  '''\n",
        "  +) for SemEval: encoded_labels = {'fear':0, 'sadness':1, 'anger':2, 'joy':3}\n",
        "  +) for   IMDB:  encoded_labels = {'pos':0, 'neg':1}\n",
        "\n",
        "  +) for SemEval: decoded_labels = {0:'fear', 1:'sadness', 2:'anger', 3:'joy'}\n",
        "  +) for   IMDB:  decoded_labels = {0:'pos', 1:'neg'}\n",
        "  '''\n",
        "  labels = df.emotion.unique() \n",
        "  encoded_labels = {labels[i]: i for i in range(len(labels))}  \n",
        "  decoded_labels = {v:k for k,v in encoded_labels.items()} # decode the labels \n",
        "  return encoded_labels, decoded_labels   "
      ],
      "metadata": {
        "cellView": "form",
        "id": "wkN7dFS5tWv-"
      },
      "execution_count": 6,
      "outputs": []
    },
    {
      "cell_type": "code",
      "source": [
        "# showcase example for encode_decode_labels(df)\n",
        "se_labels, se_decoded_labels = encode_decode_labels(se_test_df)\n",
        "print('encoded labels: ', se_labels)\n",
        "print('decoded labels: ', se_decoded_labels) "
      ],
      "metadata": {
        "colab": {
          "base_uri": "https://localhost:8080/"
        },
        "id": "jMEQb7-Kta6l",
        "outputId": "044aa99d-5f24-4188-e107-c8457089da79"
      },
      "execution_count": null,
      "outputs": [
        {
          "output_type": "stream",
          "name": "stdout",
          "text": [
            "encoded labels:  {'joy': 0, 'anger': 1, 'fear': 2, 'sadness': 3}\n",
            "decoded labels:  {0: 'joy', 1: 'anger', 2: 'fear', 3: 'sadness'}\n"
          ]
        }
      ]
    },
    {
      "cell_type": "markdown",
      "source": [
        "The encoded labels are used in the training phase and the decoded labels are used to display what the model will predict on the given sentences."
      ],
      "metadata": {
        "id": "xQXB5W3BP_86"
      }
    },
    {
      "cell_type": "markdown",
      "source": [
        "## Dataset Class\n",
        "**Dataset Class** \\\n",
        "After knowing the outputs of the bert tokenizer, it is possible to build a COMMON Dataset Class for BOTH our SemEval emotion dataset and the IMDB movie review dataset."
      ],
      "metadata": {
        "id": "LCif45YeRorh"
      }
    },
    {
      "cell_type": "code",
      "source": [
        "#@title Dataset Class\n",
        "#tokenizer= BertTokenizer.from_pretrained(\"bert-base-cased\")\n",
        "tokenizer = DistilBertTokenizer.from_pretrained('distilbert-base-uncased', \n",
        "                                                truncation=True, \n",
        "                                                do_lower_case=True)\n",
        "class Dataset(Dataset): \n",
        "    def __init__(self, df): \n",
        "        '''get the encoded labels from the dataframe \n",
        "            +) for SemEval: labels = {'fear':0, 'sadness':1, 'anger':2, 'joy':3}\n",
        "            +) for   IMDB:  labels = {'pos':0, 'neg':1} \n",
        "         +) encode_decode_labels() is a custom function defined above.\n",
        "         '''\n",
        "        encoded_labels, _ = encode_decode_labels(df) \n",
        "        #extract our labels from the df \n",
        "        self.labels = [encoded_labels[label] for label in df[\"emotion\"]]\n",
        "        \n",
        "        #extract our labels from the df \n",
        "        #self.labels = [sem_eval_labels[label] for label in df[\"emotion\"]]\n",
        "        #tokenize our texts to the format that BERT expects to get as input \n",
        "        self.texts = [tokenizer(text, padding='max_length', max_length=512, \n",
        "                                truncation=True, return_tensors=\"pt\")  \n",
        "                     for text in df[\"text\"]] \n",
        "    def classes(self):\n",
        "        return self.labels\n",
        "    \n",
        "    def __len__(self): \n",
        "        return len(self.labels)\n",
        "    \n",
        "    #fetch a batch of labels\n",
        "    def get_batch_labels(self,indx): \n",
        "        return np.array(self.labels[indx])\n",
        "    # fetch a batch of texts \n",
        "    def get_batch_texts(self,indx): \n",
        "        return self.texts[indx]\n",
        "\n",
        "    #get an item with the texts and the label\n",
        "    def __getitem__(self, indx): \n",
        "        batch_texts = self.get_batch_texts(indx)\n",
        "        batch_y = self.get_batch_labels(indx)\n",
        "        \n",
        "        return batch_texts, batch_y"
      ],
      "metadata": {
        "id": "RZC64RAdRTpG",
        "cellView": "form",
        "outputId": "d934f3fb-d74f-41ca-a694-cfacb54eb499",
        "colab": {
          "base_uri": "https://localhost:8080/",
          "height": 113,
          "referenced_widgets": [
            "06e507893368488e980069266faacd8a",
            "e8d17a5ac0e3408bb75d4d52259db7a7",
            "43de8bccf07449eb961a616d00abcf73",
            "0025ca84280243df8fef01d73a65ddf0",
            "b9e13ec8a2954d9595fcdb3062f6114e",
            "bfe1e7392e6f4cea926f08be66568757",
            "51c12ca85d104175bc45544404c5fca4",
            "0949cb1a843a48b9855846908de7e357",
            "b188aaea25ec46bf85117f98b53da6a3",
            "291530e1edf840e79fd6c82ffcb591fd",
            "d57680cb67c34776b4bef5be9729e62b",
            "5f437c7d27f548c49f44586dd72fcbf1",
            "b2160c0f64f04f9fab2d66d17b06ee3c",
            "9457b5926bb442eb8e9d1a70cdb0260b",
            "9dcf6a478b644d119d0d1e6501b3eb19",
            "52b491576fcc4470b8f59823e710e979",
            "393934a427ff4fb1bc933ff2884d0ac3",
            "ad40505624d44e82b4df41ab31666511",
            "0e8bf26c01e54ee682d6760a1a50f304",
            "0aa361cdff7c4c0687e23b2a929419c8",
            "a2642c345e1345bdb7cafece8ba92cf6",
            "8cb83ce4025d4aaf9837ba7fd81607e1",
            "95c1899f63fb43b5a0e9a1edef90b00a",
            "39cc1741bfac4864a5983bd824e1496a",
            "ed3548a0fb224730b166813b43f076e0",
            "f8f5297b5ab54ce1a1d7fed0baf018d0",
            "b586e7b374564b478e3401137a34f355",
            "683655b1d0b146df9b058e3d9726328e",
            "3c508a794ffd46d2a036f57222dd8597",
            "6af48a5ea5ef404281c0177cb4cd2791",
            "a456dfc09b2a423681dc562cb243ff47",
            "c6c04188ad514f84a1fc2ebaeb419e75",
            "96e81925ecaa4cda915ccafc70476dc6"
          ]
        }
      },
      "execution_count": 7,
      "outputs": [
        {
          "output_type": "display_data",
          "data": {
            "text/plain": [
              "Downloading:   0%|          | 0.00/232k [00:00<?, ?B/s]"
            ],
            "application/vnd.jupyter.widget-view+json": {
              "version_major": 2,
              "version_minor": 0,
              "model_id": "06e507893368488e980069266faacd8a"
            }
          },
          "metadata": {}
        },
        {
          "output_type": "display_data",
          "data": {
            "text/plain": [
              "Downloading:   0%|          | 0.00/28.0 [00:00<?, ?B/s]"
            ],
            "application/vnd.jupyter.widget-view+json": {
              "version_major": 2,
              "version_minor": 0,
              "model_id": "5f437c7d27f548c49f44586dd72fcbf1"
            }
          },
          "metadata": {}
        },
        {
          "output_type": "display_data",
          "data": {
            "text/plain": [
              "Downloading:   0%|          | 0.00/483 [00:00<?, ?B/s]"
            ],
            "application/vnd.jupyter.widget-view+json": {
              "version_major": 2,
              "version_minor": 0,
              "model_id": "95c1899f63fb43b5a0e9a1edef90b00a"
            }
          },
          "metadata": {}
        }
      ]
    },
    {
      "cell_type": "markdown",
      "source": [
        "## Fine Tune BERT\n",
        "A faster version of BERT, `DistilBertModel`, is prefereed after observing longer training time by using `bert-base-cased` from `BertModel` module in hugging face `transformers`. "
      ],
      "metadata": {
        "id": "qjQXYBlvVFqR"
      }
    },
    {
      "cell_type": "markdown",
      "source": [
        "I first tried with `'bert-base-cased'`. Since its training time is longer and searching for faster pre-trained model, I obtained the above `'distilbert-base-uncased'`."
      ],
      "metadata": {
        "id": "rSqpCp9iQ_Mz"
      }
    },
    {
      "cell_type": "code",
      "source": [
        "# Creating the customized model, by adding a drop out and a dense layer on top of distil bert to get the final output for the model. \n",
        "#@title DistilBertSentimentClassifier Model\n",
        "class DistilBertSentimentClassifier(nn.Module): \n",
        "    def __init__(self, n_classes, dropout=0.5): \n",
        "        super(DistilBertSentimentClassifier, self).__init__()\n",
        "        self.bert = DistilBertModel.from_pretrained(\"distilbert-base-uncased\")\n",
        "        self.pre_classifier = torch.nn.Linear(768, 768)\n",
        "        self.dropout = torch.nn.Dropout(dropout)\n",
        "        self.classifier = torch.nn.Linear(768, n_classes)\n",
        "\n",
        "    def forward(self, input_id, mask):\n",
        "        output_1 = self.bert(input_ids=input_id, attention_mask=mask)\n",
        "        hidden_state = output_1[0]\n",
        "        pooler = hidden_state[:, 0]\n",
        "        pooler = self.pre_classifier(pooler)\n",
        "        pooler = torch.nn.ReLU()(pooler)\n",
        "        pooler = self.dropout(pooler)\n",
        "        output = self.classifier(pooler)\n",
        "        return output"
      ],
      "metadata": {
        "id": "xiNXWsYd07IX",
        "cellView": "form"
      },
      "execution_count": 8,
      "outputs": []
    },
    {
      "cell_type": "markdown",
      "source": [
        "❗❗❗ \n",
        "The following `BertSentimentClassifier` class is updated by the above one. To use it, it may need to uncomment its corresponding dependencies. \\\n",
        "There are some displays down below run from it initially and I opt to keep it from deleting."
      ],
      "metadata": {
        "id": "lXmNuNl-zBYZ"
      }
    },
    {
      "cell_type": "code",
      "source": [
        "#@title BertSentimentClassifier Model\n",
        "class BertSentimentClassifier(nn.Module): \n",
        "    def __init__(self, n_classes, dropout=0.5): \n",
        "        super(BertSentimentClassifier, self).__init__()\n",
        "        \n",
        "        #self.bert = BertModel.from_pretrained(\"bert-base-cased\")\n",
        "        self.bert = DistilBertModel.from_pretrained(\"distilbert-base-uncased\")\n",
        "        self.dropout = nn.Dropout(dropout)\n",
        "        # bert output a vector of size 768 \n",
        "        #self.lin = nn.Linear(768, 4)\n",
        "        self.lin = nn.Linear(self.bert.config.hidden_size, n_classes)\n",
        "        #self.relu = nn.ReLU()\n",
        "        self.softmax = nn.Softmax()\n",
        "    def forward(self, input_id, mask): \n",
        "        # as output, the bert model give us first the embedding vector of all the tokens of the sequence \n",
        "        # second we get the embedding vector of the CLS token.\n",
        "        # fot a classification task it's enough to use this embedding for our classifier\n",
        "\n",
        "        output_1 = self.l1(input_ids=input_ids, attention_mask=attention_mask)\n",
        "        hidden_state = output_1[0]\n",
        "        pooler = hidden_state[:, 0]\n",
        "        pooler = self.pre_classifier(pooler)\n",
        "        pooler = torch.nn.ReLU()(pooler)\n",
        "        pooler = self.dropout(pooler)\n",
        "        output = self.classifier(pooler)\n",
        "        return output\n",
        "        \n",
        "        _, pooled_output = self.bert(input_ids=input_id, \n",
        "                                    attention_mask = mask, return_dict = False)\n",
        "        dropout_output = self.dropout(pooled_output)\n",
        "        linear_output  = self.lin(dropout_output)\n",
        "        final_layer = self.softmax(linear_output)\n",
        "        \n",
        "        return final_layer  "
      ],
      "metadata": {
        "id": "Ot5YAvtIU_uP",
        "cellView": "form"
      },
      "execution_count": null,
      "outputs": []
    },
    {
      "cell_type": "code",
      "source": [
        "#@title Training Function\n",
        "''' This training function can take both the datasets and train the network\n",
        "    since the Dataset function is also common for both\n",
        "''''\n",
        "\n",
        "def train(model, train_data, val_data, learning_rate, epochs=5):\n",
        "  start = time.time()\n",
        "  #creating a custom Dataset objects using the training and validation data\n",
        "  train, val = Dataset(train_data), Dataset(val_data)\n",
        "  #creating dataloaders\n",
        "  train_dataloader = DataLoader(train, batch_size=2, shuffle=True)\n",
        "  val_dataloader = DataLoader(val, batch_size=2)\n",
        "\n",
        "  use_cuda = torch.cuda.is_available()\n",
        "  device = torch.device(\"cuda\" if use_cuda else \"cpu\")\n",
        "\n",
        "  loss = nn.CrossEntropyLoss()\n",
        "  optimizer = torch.optim.Adam(model.parameters(), lr= learning_rate)\n",
        "\n",
        "  if use_cuda:\n",
        "    model = model.cuda()\n",
        "    loss = loss.cuda()\n",
        "\n",
        "  for epoch_num in range(epochs):\n",
        "    total_acc_train = 0\n",
        "    total_loss_train = 0\n",
        "    \n",
        "    for train_input, train_label in tqdm(train_dataloader):\n",
        "      train_label = train_label.to(device)\n",
        "      mask = train_input['attention_mask'].to(device)\n",
        "      input_id = train_input['input_ids'].squeeze(1).to(device)\n",
        "      \n",
        "      # get the predictions\n",
        "      output = model(input_id, mask)\n",
        "      \n",
        "      batch_loss = loss(output, train_label)\n",
        "      total_loss_train += batch_loss.item()\n",
        "      \n",
        "      acc = (output.argmax(dim=1) == train_label).sum().item()\n",
        "      total_acc_train += acc\n",
        "      # updating the Gradient Descent and Backpropagation operation\n",
        "      model.zero_grad()\n",
        "      batch_loss.backward()\n",
        "      optimizer.step()\n",
        "      # now we evaluate on the validation data\n",
        "      total_acc_val = 0\n",
        "      total_loss_val = 0\n",
        "      with torch.no_grad():\n",
        "        for val_input, val_label in val_dataloader:\n",
        "          val_label = val_label.to(device)\n",
        "          mask = val_input['attention_mask'].to(device)\n",
        "          input_id = val_input['input_ids'].squeeze(1).to(device)\n",
        "          \n",
        "          output = model(input_id, mask)\n",
        "          \n",
        "          batch_loss = loss(output, val_label)\n",
        "          total_loss_val += batch_loss.item()\n",
        "          \n",
        "          acc = (output.argmax(dim=1) == val_label).sum().item()\n",
        "          total_acc_val += acc\n",
        "    print(\n",
        "        f'Epochs: {epoch_num + 1} | Train Loss: {total_loss_train / len(train_data): .3f} \\\n",
        "        | Train Accuracy: {total_acc_train / len(train_data): .3f} \\\n",
        "        | Val Loss: {total_loss_val / len(val_data): .3f} \\\n",
        "        | Val Accuracy: {total_acc_val / len(val_data): .3f}')\n",
        "  print(f'\\nTraining time is: {(time.time()-start)/3600: .3f} hrs.')                "
      ],
      "metadata": {
        "id": "Rd2UnZn3VRh_",
        "cellView": "form"
      },
      "execution_count": 9,
      "outputs": []
    },
    {
      "cell_type": "code",
      "source": [
        "#@title Evaluating function\n",
        "\n",
        "def evaluate(model, test_df):\n",
        "  ''' This method will test the performance of the trained model with unseen test dataset.\n",
        "      The unseen dataset will be preprocessed by the above customized\n",
        "      'Dataset' class\n",
        "  '''\n",
        "  test = Dataset(test_df)\n",
        "  test_dl = DataLoader(test, batch_size=2)\n",
        "    \n",
        "  cuda_available = torch.cuda.is_available()\n",
        "    \n",
        "  device = torch.device(\"cuda\" if torch.cuda.is_available() else 'cpu')\n",
        "  if cuda_available:\n",
        "    model = model.cuda()\n",
        "    \n",
        "  total_acc = 0\n",
        "  for test_input, test_label in tqdm(test_dl):\n",
        "    test_label = test_label.to(device)\n",
        "    mask = test_input[\"attention_mask\"].to(device)\n",
        "    input_id = test_input[\"input_ids\"].squeeze(1).to(device) \n",
        "    output = model(input_id, mask)\n",
        "    \n",
        "    acc = (output.argmax(dim=1) == test_label).sum().item()\n",
        "    total_acc +=acc \n",
        "        \n",
        "  print(f\"\\nTest Accuracy : {total_acc / len(test_df): .3f}\")    "
      ],
      "metadata": {
        "id": "IE8fr4H3YA8P",
        "cellView": "form"
      },
      "execution_count": 10,
      "outputs": []
    },
    {
      "cell_type": "code",
      "source": [
        "#@title Prediction Function\n",
        "\n",
        "def predict(device, model, decoded_labels, sentence):\n",
        "  ''' This method takes the model, the decoded labels and a sentence.\n",
        "  The Bert tokenizer will preprocess the input sentence to get the ids of tokens\n",
        "  and the attention masks.\n",
        "  It displays the predicted emotion category.\n",
        "  The method will run on GPU if selected.\n",
        "  '''\n",
        "  sentence_input = tokenizer(sentence, padding='max_length', max_length=512,\n",
        "                             truncation=True,return_tensors=\"pt\").to(device)\n",
        "  input_id = sentence_input[\"input_ids\"]\n",
        "  mask = sentence_input[\"attention_mask\"]\n",
        "  output = model(input_id, mask)\n",
        "  predicted_class_label = output.argmax(dim=1)\n",
        "  predicted_class = decoded_labels[predicted_class_label.item()]\n",
        "  print(f\"The predicted emotion is : {predicted_class}\")"
      ],
      "metadata": {
        "cellView": "form",
        "id": "PhLZr4zBIo9G"
      },
      "execution_count": 11,
      "outputs": []
    },
    {
      "cell_type": "code",
      "source": [
        "#@title Predict on df samples function\n",
        "\n",
        "# This is to test with sample texts from the test set \n",
        "def predict_on_samples_from_df(model, df, n_samples):\n",
        "    # get the labels from the dataframe  \n",
        "  _, decoded_labels = encode_decode_labels(df)\n",
        "  # get n_samples of text from the df/test_df\n",
        "  textset = df.sample(n_samples).reset_index(drop=True)\n",
        "  \n",
        "  for i in range(len(textset)):\n",
        "      text = textset.loc[i, 'text']\n",
        "      emotion = textset.loc[i, 'emotion']\n",
        "      print('Predict the following text:\\n')\n",
        "      print(text)\n",
        "      print('='*50)\n",
        "      predict(device, model, decoded_labels, text)\n",
        "      print('The exact emotion is: ', emotion)\n",
        "      print('+'*50, '\\n')      "
      ],
      "metadata": {
        "cellView": "form",
        "id": "ylAnylg0ItKv"
      },
      "execution_count": 12,
      "outputs": []
    },
    {
      "cell_type": "markdown",
      "source": [
        "# BERT for SemEval Dataset"
      ],
      "metadata": {
        "id": "9wr4t7gcI47q"
      }
    },
    {
      "cell_type": "code",
      "source": [
        "#@title Create and Train Model\n",
        "\n",
        "# sem_eval_model = BertSentimentClassifier(n_classes=4)\n",
        "sem_eval_model = DistilBertSentimentClassifier(n_classes=4)\n",
        "EPOCHS = 10 \n",
        "learning_rate = 1e-6 \n",
        "train(sem_eval_model, se_train_df, se_val_df, learning_rate, EPOCHS)"
      ],
      "metadata": {
        "id": "GzNkOU-7s0Le",
        "outputId": "00be4542-b420-423d-e97a-44afeb518790",
        "colab": {
          "base_uri": "https://localhost:8080/"
        }
      },
      "execution_count": 16,
      "outputs": [
        {
          "output_type": "stream",
          "name": "stderr",
          "text": [
            "Some weights of the model checkpoint at distilbert-base-uncased were not used when initializing DistilBertModel: ['vocab_transform.weight', 'vocab_layer_norm.bias', 'vocab_projector.bias', 'vocab_layer_norm.weight', 'vocab_projector.weight', 'vocab_transform.bias']\n",
            "- This IS expected if you are initializing DistilBertModel from the checkpoint of a model trained on another task or with another architecture (e.g. initializing a BertForSequenceClassification model from a BertForPreTraining model).\n",
            "- This IS NOT expected if you are initializing DistilBertModel from the checkpoint of a model that you expect to be exactly identical (initializing a BertForSequenceClassification model from a BertForSequenceClassification model).\n",
            "100%|██████████| 1536/1536 [02:48<00:00,  9.11it/s]\n"
          ]
        },
        {
          "output_type": "stream",
          "name": "stdout",
          "text": [
            "Epochs: 1 | Train Loss:  0.687                 | Train Accuracy:  0.301                 | Val Loss:  0.714                 | Val Accuracy:  0.212\n"
          ]
        },
        {
          "output_type": "stream",
          "name": "stderr",
          "text": [
            "100%|██████████| 1536/1536 [02:47<00:00,  9.17it/s]\n"
          ]
        },
        {
          "output_type": "stream",
          "name": "stdout",
          "text": [
            "Epochs: 2 | Train Loss:  0.644                 | Train Accuracy:  0.423                 | Val Loss:  0.782                 | Val Accuracy:  0.114\n"
          ]
        },
        {
          "output_type": "stream",
          "name": "stderr",
          "text": [
            "100%|██████████| 1536/1536 [02:47<00:00,  9.18it/s]\n"
          ]
        },
        {
          "output_type": "stream",
          "name": "stdout",
          "text": [
            "Epochs: 3 | Train Loss:  0.512                 | Train Accuracy:  0.630                 | Val Loss:  1.022                 | Val Accuracy:  0.090\n"
          ]
        },
        {
          "output_type": "stream",
          "name": "stderr",
          "text": [
            "100%|██████████| 1536/1536 [02:47<00:00,  9.17it/s]\n"
          ]
        },
        {
          "output_type": "stream",
          "name": "stdout",
          "text": [
            "Epochs: 4 | Train Loss:  0.371                 | Train Accuracy:  0.765                 | Val Loss:  1.256                 | Val Accuracy:  0.076\n"
          ]
        },
        {
          "output_type": "stream",
          "name": "stderr",
          "text": [
            "100%|██████████| 1536/1536 [02:47<00:00,  9.18it/s]\n"
          ]
        },
        {
          "output_type": "stream",
          "name": "stdout",
          "text": [
            "Epochs: 5 | Train Loss:  0.282                 | Train Accuracy:  0.823                 | Val Loss:  1.433                 | Val Accuracy:  0.072\n"
          ]
        },
        {
          "output_type": "stream",
          "name": "stderr",
          "text": [
            "100%|██████████| 1536/1536 [02:47<00:00,  9.18it/s]\n"
          ]
        },
        {
          "output_type": "stream",
          "name": "stdout",
          "text": [
            "Epochs: 6 | Train Loss:  0.223                 | Train Accuracy:  0.863                 | Val Loss:  1.578                 | Val Accuracy:  0.074\n"
          ]
        },
        {
          "output_type": "stream",
          "name": "stderr",
          "text": [
            "100%|██████████| 1536/1536 [02:47<00:00,  9.18it/s]\n"
          ]
        },
        {
          "output_type": "stream",
          "name": "stdout",
          "text": [
            "Epochs: 7 | Train Loss:  0.179                 | Train Accuracy:  0.894                 | Val Loss:  1.719                 | Val Accuracy:  0.074\n"
          ]
        },
        {
          "output_type": "stream",
          "name": "stderr",
          "text": [
            "100%|██████████| 1536/1536 [02:47<00:00,  9.18it/s]\n"
          ]
        },
        {
          "output_type": "stream",
          "name": "stdout",
          "text": [
            "Epochs: 8 | Train Loss:  0.146                 | Train Accuracy:  0.913                 | Val Loss:  1.822                 | Val Accuracy:  0.063\n"
          ]
        },
        {
          "output_type": "stream",
          "name": "stderr",
          "text": [
            "100%|██████████| 1536/1536 [02:47<00:00,  9.18it/s]\n"
          ]
        },
        {
          "output_type": "stream",
          "name": "stdout",
          "text": [
            "Epochs: 9 | Train Loss:  0.118                 | Train Accuracy:  0.930                 | Val Loss:  1.916                 | Val Accuracy:  0.072\n"
          ]
        },
        {
          "output_type": "stream",
          "name": "stderr",
          "text": [
            "100%|██████████| 1536/1536 [02:47<00:00,  9.17it/s]\n"
          ]
        },
        {
          "output_type": "stream",
          "name": "stdout",
          "text": [
            "Epochs: 10 | Train Loss:  0.095                 | Train Accuracy:  0.944                 | Val Loss:  2.038                 | Val Accuracy:  0.068\n",
            "\n",
            "Training time is:  0.491 hrs.\n"
          ]
        }
      ]
    },
    {
      "cell_type": "code",
      "source": [
        "EPOCHS = 20 # 9:54 am - 10:56 am (time measurement added to code after this run)\n",
        "#sem_eval_model = BertSentimentClassifier(n_classes=4)\n",
        "sem_eval_model = DistilBertSentimentClassifier(n_classes=4)\n",
        "\n",
        "learning_rate = 1e-6 \n",
        "train(sem_eval_model, se_train_df, se_val_df, learning_rate, EPOCHS)"
      ],
      "metadata": {
        "colab": {
          "base_uri": "https://localhost:8080/"
        },
        "id": "b695lX9xVRNy",
        "outputId": "7b21672c-e8f8-4868-d511-3fe276f2594a"
      },
      "execution_count": null,
      "outputs": [
        {
          "output_type": "stream",
          "name": "stderr",
          "text": [
            "Some weights of the model checkpoint at distilbert-base-uncased were not used when initializing DistilBertModel: ['vocab_projector.weight', 'vocab_layer_norm.weight', 'vocab_transform.bias', 'vocab_transform.weight', 'vocab_projector.bias', 'vocab_layer_norm.bias']\n",
            "- This IS expected if you are initializing DistilBertModel from the checkpoint of a model trained on another task or with another architecture (e.g. initializing a BertForSequenceClassification model from a BertForPreTraining model).\n",
            "- This IS NOT expected if you are initializing DistilBertModel from the checkpoint of a model that you expect to be exactly identical (initializing a BertForSequenceClassification model from a BertForSequenceClassification model).\n",
            "100%|██████████| 1536/1536 [02:53<00:00,  8.85it/s]\n"
          ]
        },
        {
          "output_type": "stream",
          "name": "stdout",
          "text": [
            "Epochs: 1 | Train Loss:  0.689                 | Train Accuracy:  0.293                 | Val Loss:  0.711                 | Val Accuracy:  0.214\n"
          ]
        },
        {
          "output_type": "stream",
          "name": "stderr",
          "text": [
            "100%|██████████| 1536/1536 [02:52<00:00,  8.88it/s]\n"
          ]
        },
        {
          "output_type": "stream",
          "name": "stdout",
          "text": [
            "Epochs: 2 | Train Loss:  0.682                 | Train Accuracy:  0.322                 | Val Loss:  0.716                 | Val Accuracy:  0.205\n"
          ]
        },
        {
          "output_type": "stream",
          "name": "stderr",
          "text": [
            "100%|██████████| 1536/1536 [02:53<00:00,  8.88it/s]\n"
          ]
        },
        {
          "output_type": "stream",
          "name": "stdout",
          "text": [
            "Epochs: 3 | Train Loss:  0.668                 | Train Accuracy:  0.355                 | Val Loss:  0.752                 | Val Accuracy:  0.199\n"
          ]
        },
        {
          "output_type": "stream",
          "name": "stderr",
          "text": [
            "100%|██████████| 1536/1536 [02:53<00:00,  8.87it/s]\n"
          ]
        },
        {
          "output_type": "stream",
          "name": "stdout",
          "text": [
            "Epochs: 4 | Train Loss:  0.634                 | Train Accuracy:  0.416                 | Val Loss:  0.784                 | Val Accuracy:  0.181\n"
          ]
        },
        {
          "output_type": "stream",
          "name": "stderr",
          "text": [
            "100%|██████████| 1536/1536 [02:52<00:00,  8.88it/s]\n"
          ]
        },
        {
          "output_type": "stream",
          "name": "stdout",
          "text": [
            "Epochs: 5 | Train Loss:  0.589                 | Train Accuracy:  0.495                 | Val Loss:  0.811                 | Val Accuracy:  0.181\n"
          ]
        },
        {
          "output_type": "stream",
          "name": "stderr",
          "text": [
            "100%|██████████| 1536/1536 [02:52<00:00,  8.89it/s]\n"
          ]
        },
        {
          "output_type": "stream",
          "name": "stdout",
          "text": [
            "Epochs: 6 | Train Loss:  0.534                 | Train Accuracy:  0.568                 | Val Loss:  0.890                 | Val Accuracy:  0.166\n"
          ]
        },
        {
          "output_type": "stream",
          "name": "stderr",
          "text": [
            "100%|██████████| 1536/1536 [02:52<00:00,  8.89it/s]\n"
          ]
        },
        {
          "output_type": "stream",
          "name": "stdout",
          "text": [
            "Epochs: 7 | Train Loss:  0.481                 | Train Accuracy:  0.627                 | Val Loss:  0.984                 | Val Accuracy:  0.175\n"
          ]
        },
        {
          "output_type": "stream",
          "name": "stderr",
          "text": [
            "100%|██████████| 1536/1536 [02:52<00:00,  8.89it/s]\n"
          ]
        },
        {
          "output_type": "stream",
          "name": "stdout",
          "text": [
            "Epochs: 8 | Train Loss:  0.425                 | Train Accuracy:  0.677                 | Val Loss:  1.080                 | Val Accuracy:  0.151\n"
          ]
        },
        {
          "output_type": "stream",
          "name": "stderr",
          "text": [
            "100%|██████████| 1536/1536 [02:52<00:00,  8.89it/s]\n"
          ]
        },
        {
          "output_type": "stream",
          "name": "stdout",
          "text": [
            "Epochs: 9 | Train Loss:  0.376                 | Train Accuracy:  0.718                 | Val Loss:  1.168                 | Val Accuracy:  0.148\n"
          ]
        },
        {
          "output_type": "stream",
          "name": "stderr",
          "text": [
            "100%|██████████| 1536/1536 [02:52<00:00,  8.89it/s]\n"
          ]
        },
        {
          "output_type": "stream",
          "name": "stdout",
          "text": [
            "Epochs: 10 | Train Loss:  0.321                 | Train Accuracy:  0.771                 | Val Loss:  1.281                 | Val Accuracy:  0.151\n"
          ]
        },
        {
          "output_type": "stream",
          "name": "stderr",
          "text": [
            "100%|██████████| 1536/1536 [02:52<00:00,  8.89it/s]\n"
          ]
        },
        {
          "output_type": "stream",
          "name": "stdout",
          "text": [
            "Epochs: 11 | Train Loss:  0.277                 | Train Accuracy:  0.806                 | Val Loss:  1.346                 | Val Accuracy:  0.140\n"
          ]
        },
        {
          "output_type": "stream",
          "name": "stderr",
          "text": [
            "100%|██████████| 1536/1536 [02:53<00:00,  8.86it/s]\n"
          ]
        },
        {
          "output_type": "stream",
          "name": "stdout",
          "text": [
            "Epochs: 12 | Train Loss:  0.237                 | Train Accuracy:  0.838                 | Val Loss:  1.427                 | Val Accuracy:  0.133\n"
          ]
        },
        {
          "output_type": "stream",
          "name": "stderr",
          "text": [
            "100%|██████████| 1536/1536 [02:52<00:00,  8.88it/s]\n"
          ]
        },
        {
          "output_type": "stream",
          "name": "stdout",
          "text": [
            "Epochs: 13 | Train Loss:  0.201                 | Train Accuracy:  0.874                 | Val Loss:  1.570                 | Val Accuracy:  0.114\n"
          ]
        },
        {
          "output_type": "stream",
          "name": "stderr",
          "text": [
            "100%|██████████| 1536/1536 [02:52<00:00,  8.88it/s]\n"
          ]
        },
        {
          "output_type": "stream",
          "name": "stdout",
          "text": [
            "Epochs: 14 | Train Loss:  0.170                 | Train Accuracy:  0.891                 | Val Loss:  1.616                 | Val Accuracy:  0.137\n"
          ]
        },
        {
          "output_type": "stream",
          "name": "stderr",
          "text": [
            "100%|██████████| 1536/1536 [02:52<00:00,  8.88it/s]\n"
          ]
        },
        {
          "output_type": "stream",
          "name": "stdout",
          "text": [
            "Epochs: 15 | Train Loss:  0.142                 | Train Accuracy:  0.918                 | Val Loss:  1.731                 | Val Accuracy:  0.124\n"
          ]
        },
        {
          "output_type": "stream",
          "name": "stderr",
          "text": [
            "100%|██████████| 1536/1536 [02:52<00:00,  8.89it/s]\n"
          ]
        },
        {
          "output_type": "stream",
          "name": "stdout",
          "text": [
            "Epochs: 16 | Train Loss:  0.117                 | Train Accuracy:  0.931                 | Val Loss:  1.807                 | Val Accuracy:  0.120\n"
          ]
        },
        {
          "output_type": "stream",
          "name": "stderr",
          "text": [
            "100%|██████████| 1536/1536 [02:52<00:00,  8.89it/s]\n"
          ]
        },
        {
          "output_type": "stream",
          "name": "stdout",
          "text": [
            "Epochs: 17 | Train Loss:  0.098                 | Train Accuracy:  0.944                 | Val Loss:  1.860                 | Val Accuracy:  0.125\n"
          ]
        },
        {
          "output_type": "stream",
          "name": "stderr",
          "text": [
            "100%|██████████| 1536/1536 [02:52<00:00,  8.88it/s]\n"
          ]
        },
        {
          "output_type": "stream",
          "name": "stdout",
          "text": [
            "Epochs: 18 | Train Loss:  0.085                 | Train Accuracy:  0.952                 | Val Loss:  1.983                 | Val Accuracy:  0.105\n"
          ]
        },
        {
          "output_type": "stream",
          "name": "stderr",
          "text": [
            "100%|██████████| 1536/1536 [02:52<00:00,  8.88it/s]\n"
          ]
        },
        {
          "output_type": "stream",
          "name": "stdout",
          "text": [
            "Epochs: 19 | Train Loss:  0.075                 | Train Accuracy:  0.962                 | Val Loss:  1.986                 | Val Accuracy:  0.127\n"
          ]
        },
        {
          "output_type": "stream",
          "name": "stderr",
          "text": [
            "100%|██████████| 1536/1536 [02:52<00:00,  8.89it/s]\n"
          ]
        },
        {
          "output_type": "stream",
          "name": "stdout",
          "text": [
            "Epochs: 20 | Train Loss:  0.064                 | Train Accuracy:  0.968                 | Val Loss:  2.091                 | Val Accuracy:  0.111\n"
          ]
        }
      ]
    },
    {
      "cell_type": "code",
      "source": [
        "# see the model attributes\n",
        "sem_eval_model"
      ],
      "metadata": {
        "colab": {
          "base_uri": "https://localhost:8080/"
        },
        "id": "ooP5lf2vX9FY",
        "outputId": "0e652cd6-1788-4509-af3d-54460bc24789"
      },
      "execution_count": 18,
      "outputs": [
        {
          "output_type": "execute_result",
          "data": {
            "text/plain": [
              "DistilBertSentimentClassifier(\n",
              "  (bert): DistilBertModel(\n",
              "    (embeddings): Embeddings(\n",
              "      (word_embeddings): Embedding(30522, 768, padding_idx=0)\n",
              "      (position_embeddings): Embedding(512, 768)\n",
              "      (LayerNorm): LayerNorm((768,), eps=1e-12, elementwise_affine=True)\n",
              "      (dropout): Dropout(p=0.1, inplace=False)\n",
              "    )\n",
              "    (transformer): Transformer(\n",
              "      (layer): ModuleList(\n",
              "        (0): TransformerBlock(\n",
              "          (attention): MultiHeadSelfAttention(\n",
              "            (dropout): Dropout(p=0.1, inplace=False)\n",
              "            (q_lin): Linear(in_features=768, out_features=768, bias=True)\n",
              "            (k_lin): Linear(in_features=768, out_features=768, bias=True)\n",
              "            (v_lin): Linear(in_features=768, out_features=768, bias=True)\n",
              "            (out_lin): Linear(in_features=768, out_features=768, bias=True)\n",
              "          )\n",
              "          (sa_layer_norm): LayerNorm((768,), eps=1e-12, elementwise_affine=True)\n",
              "          (ffn): FFN(\n",
              "            (dropout): Dropout(p=0.1, inplace=False)\n",
              "            (lin1): Linear(in_features=768, out_features=3072, bias=True)\n",
              "            (lin2): Linear(in_features=3072, out_features=768, bias=True)\n",
              "            (activation): GELUActivation()\n",
              "          )\n",
              "          (output_layer_norm): LayerNorm((768,), eps=1e-12, elementwise_affine=True)\n",
              "        )\n",
              "        (1): TransformerBlock(\n",
              "          (attention): MultiHeadSelfAttention(\n",
              "            (dropout): Dropout(p=0.1, inplace=False)\n",
              "            (q_lin): Linear(in_features=768, out_features=768, bias=True)\n",
              "            (k_lin): Linear(in_features=768, out_features=768, bias=True)\n",
              "            (v_lin): Linear(in_features=768, out_features=768, bias=True)\n",
              "            (out_lin): Linear(in_features=768, out_features=768, bias=True)\n",
              "          )\n",
              "          (sa_layer_norm): LayerNorm((768,), eps=1e-12, elementwise_affine=True)\n",
              "          (ffn): FFN(\n",
              "            (dropout): Dropout(p=0.1, inplace=False)\n",
              "            (lin1): Linear(in_features=768, out_features=3072, bias=True)\n",
              "            (lin2): Linear(in_features=3072, out_features=768, bias=True)\n",
              "            (activation): GELUActivation()\n",
              "          )\n",
              "          (output_layer_norm): LayerNorm((768,), eps=1e-12, elementwise_affine=True)\n",
              "        )\n",
              "        (2): TransformerBlock(\n",
              "          (attention): MultiHeadSelfAttention(\n",
              "            (dropout): Dropout(p=0.1, inplace=False)\n",
              "            (q_lin): Linear(in_features=768, out_features=768, bias=True)\n",
              "            (k_lin): Linear(in_features=768, out_features=768, bias=True)\n",
              "            (v_lin): Linear(in_features=768, out_features=768, bias=True)\n",
              "            (out_lin): Linear(in_features=768, out_features=768, bias=True)\n",
              "          )\n",
              "          (sa_layer_norm): LayerNorm((768,), eps=1e-12, elementwise_affine=True)\n",
              "          (ffn): FFN(\n",
              "            (dropout): Dropout(p=0.1, inplace=False)\n",
              "            (lin1): Linear(in_features=768, out_features=3072, bias=True)\n",
              "            (lin2): Linear(in_features=3072, out_features=768, bias=True)\n",
              "            (activation): GELUActivation()\n",
              "          )\n",
              "          (output_layer_norm): LayerNorm((768,), eps=1e-12, elementwise_affine=True)\n",
              "        )\n",
              "        (3): TransformerBlock(\n",
              "          (attention): MultiHeadSelfAttention(\n",
              "            (dropout): Dropout(p=0.1, inplace=False)\n",
              "            (q_lin): Linear(in_features=768, out_features=768, bias=True)\n",
              "            (k_lin): Linear(in_features=768, out_features=768, bias=True)\n",
              "            (v_lin): Linear(in_features=768, out_features=768, bias=True)\n",
              "            (out_lin): Linear(in_features=768, out_features=768, bias=True)\n",
              "          )\n",
              "          (sa_layer_norm): LayerNorm((768,), eps=1e-12, elementwise_affine=True)\n",
              "          (ffn): FFN(\n",
              "            (dropout): Dropout(p=0.1, inplace=False)\n",
              "            (lin1): Linear(in_features=768, out_features=3072, bias=True)\n",
              "            (lin2): Linear(in_features=3072, out_features=768, bias=True)\n",
              "            (activation): GELUActivation()\n",
              "          )\n",
              "          (output_layer_norm): LayerNorm((768,), eps=1e-12, elementwise_affine=True)\n",
              "        )\n",
              "        (4): TransformerBlock(\n",
              "          (attention): MultiHeadSelfAttention(\n",
              "            (dropout): Dropout(p=0.1, inplace=False)\n",
              "            (q_lin): Linear(in_features=768, out_features=768, bias=True)\n",
              "            (k_lin): Linear(in_features=768, out_features=768, bias=True)\n",
              "            (v_lin): Linear(in_features=768, out_features=768, bias=True)\n",
              "            (out_lin): Linear(in_features=768, out_features=768, bias=True)\n",
              "          )\n",
              "          (sa_layer_norm): LayerNorm((768,), eps=1e-12, elementwise_affine=True)\n",
              "          (ffn): FFN(\n",
              "            (dropout): Dropout(p=0.1, inplace=False)\n",
              "            (lin1): Linear(in_features=768, out_features=3072, bias=True)\n",
              "            (lin2): Linear(in_features=3072, out_features=768, bias=True)\n",
              "            (activation): GELUActivation()\n",
              "          )\n",
              "          (output_layer_norm): LayerNorm((768,), eps=1e-12, elementwise_affine=True)\n",
              "        )\n",
              "        (5): TransformerBlock(\n",
              "          (attention): MultiHeadSelfAttention(\n",
              "            (dropout): Dropout(p=0.1, inplace=False)\n",
              "            (q_lin): Linear(in_features=768, out_features=768, bias=True)\n",
              "            (k_lin): Linear(in_features=768, out_features=768, bias=True)\n",
              "            (v_lin): Linear(in_features=768, out_features=768, bias=True)\n",
              "            (out_lin): Linear(in_features=768, out_features=768, bias=True)\n",
              "          )\n",
              "          (sa_layer_norm): LayerNorm((768,), eps=1e-12, elementwise_affine=True)\n",
              "          (ffn): FFN(\n",
              "            (dropout): Dropout(p=0.1, inplace=False)\n",
              "            (lin1): Linear(in_features=768, out_features=3072, bias=True)\n",
              "            (lin2): Linear(in_features=3072, out_features=768, bias=True)\n",
              "            (activation): GELUActivation()\n",
              "          )\n",
              "          (output_layer_norm): LayerNorm((768,), eps=1e-12, elementwise_affine=True)\n",
              "        )\n",
              "      )\n",
              "    )\n",
              "  )\n",
              "  (pre_classifier): Linear(in_features=768, out_features=768, bias=True)\n",
              "  (dropout): Dropout(p=0.5, inplace=False)\n",
              "  (classifier): Linear(in_features=768, out_features=4, bias=True)\n",
              ")"
            ]
          },
          "metadata": {},
          "execution_count": 18
        }
      ]
    },
    {
      "cell_type": "markdown",
      "source": [
        "## Test the model"
      ],
      "metadata": {
        "id": "7SYKL2XonFvL"
      }
    },
    {
      "cell_type": "code",
      "source": [
        "evaluate(sem_eval_model, se_test_df) # test with unseen dataset"
      ],
      "metadata": {
        "id": "GOZZAoE68TVe",
        "outputId": "0dc3276d-ba0d-4aa9-ea4d-19438ada43fd",
        "colab": {
          "base_uri": "https://localhost:8080/"
        }
      },
      "execution_count": 19,
      "outputs": [
        {
          "output_type": "stream",
          "name": "stderr",
          "text": [
            "100%|██████████| 174/174 [00:05<00:00, 30.69it/s]"
          ]
        },
        {
          "output_type": "stream",
          "name": "stdout",
          "text": [
            "\n",
            "Test Accuracy :  0.256\n"
          ]
        },
        {
          "output_type": "stream",
          "name": "stderr",
          "text": [
            "\n"
          ]
        }
      ]
    },
    {
      "cell_type": "code",
      "source": [
        "evaluate(sem_eval_model, se_test_df) "
      ],
      "metadata": {
        "colab": {
          "base_uri": "https://localhost:8080/"
        },
        "id": "8JytptEAYx8P",
        "outputId": "94fd52e4-0a56-4cbb-c260-fd35aabf0fe5"
      },
      "execution_count": null,
      "outputs": [
        {
          "output_type": "stream",
          "name": "stderr",
          "text": [
            "100%|██████████| 174/174 [00:06<00:00, 28.20it/s]"
          ]
        },
        {
          "output_type": "stream",
          "name": "stdout",
          "text": [
            "\n",
            "Test Accuracy :  0.305\n"
          ]
        },
        {
          "output_type": "stream",
          "name": "stderr",
          "text": [
            "\n"
          ]
        }
      ]
    },
    {
      "cell_type": "markdown",
      "source": [
        "It shows a bit lower accuracy. Let us see it predicting on some sentences as shown below."
      ],
      "metadata": {
        "id": "Nm1-FWPlW73Y"
      }
    },
    {
      "cell_type": "code",
      "source": [
        "# predict for 5 random sentences from test dataset having a clear label \n",
        "predict_on_samples_from_df(sem_eval_model, se_test_df, n_samples=5) "
      ],
      "metadata": {
        "colab": {
          "base_uri": "https://localhost:8080/"
        },
        "id": "HsOPs_Waf25r",
        "outputId": "47965b1e-430d-4f6b-f9a1-52a5a2f56208"
      },
      "execution_count": null,
      "outputs": [
        {
          "output_type": "stream",
          "name": "stdout",
          "text": [
            "Predict the following text:\n",
            "\n",
            "@FluDino Event started! everyone is getting ready to travel to the lake of rage, where everything glows\n",
            "==================================================\n",
            "The predicted emotion is : anger\n",
            "The exact emotion is:  anger\n",
            "++++++++++++++++++++++++++++++++++++++++++++++++++ \n",
            "\n",
            "Predict the following text:\n",
            "\n",
            "@abra @abra @abra what're you doing to my ears? To my soul?! #GoodMusic #melancholy\n",
            "==================================================\n",
            "The predicted emotion is : sadness\n",
            "The exact emotion is:  sadness\n",
            "++++++++++++++++++++++++++++++++++++++++++++++++++ \n",
            "\n",
            "Predict the following text:\n",
            "\n",
            "I feel like an appendix. I don't have a purpose.  #depressed  #alone #lonely #broken  #cry #hurt #crying #life\n",
            "==================================================\n",
            "The predicted emotion is : anger\n",
            "The exact emotion is:  sadness\n",
            "++++++++++++++++++++++++++++++++++++++++++++++++++ \n",
            "\n",
            "Predict the following text:\n",
            "\n",
            "Bout ta get my @dontbreathe on up in here! @WarrenTheaters #nervous #icantholdmybreaththatlong\n",
            "==================================================\n",
            "The predicted emotion is : sadness\n",
            "The exact emotion is:  fear\n",
            "++++++++++++++++++++++++++++++++++++++++++++++++++ \n",
            "\n",
            "Predict the following text:\n",
            "\n",
            "About 7 weeks till I can pick up my camera again. Though I think there is a group cemetery shoot in october I can make! #photography #horror\n",
            "==================================================\n",
            "The predicted emotion is : anger\n",
            "The exact emotion is:  fear\n",
            "++++++++++++++++++++++++++++++++++++++++++++++++++ \n",
            "\n"
          ]
        }
      ]
    },
    {
      "cell_type": "markdown",
      "source": [
        "## Predict on Single inputs\n",
        "We can also test with our own statemnts "
      ],
      "metadata": {
        "id": "MJrRdrVT9qDi"
      }
    },
    {
      "cell_type": "code",
      "source": [
        "# we need to input the decoded labels to predict on single sentence inputs\n",
        "# for the above case, my function handles the decoding from the testing dataframe\n",
        "_, se_decoded_labels = encode_decode_labels(se_train_df)\n",
        "se_decoded_labels "
      ],
      "metadata": {
        "colab": {
          "base_uri": "https://localhost:8080/"
        },
        "id": "n_FQkZcPe9nq",
        "outputId": "6c4826bf-d1ec-4d89-f816-d7078cb156c0"
      },
      "execution_count": null,
      "outputs": [
        {
          "output_type": "execute_result",
          "data": {
            "text/plain": [
              "{0: 'joy', 1: 'fear', 2: 'sadness', 3: 'anger'}"
            ]
          },
          "metadata": {},
          "execution_count": 72
        }
      ]
    },
    {
      "cell_type": "code",
      "source": [
        "# We may not be sure of the labels for our sentences \n",
        "predict(device, sem_eval_model, se_decoded_labels,\n",
        "        \"Your really did great to me. I am proud of you.\")"
      ],
      "metadata": {
        "colab": {
          "base_uri": "https://localhost:8080/"
        },
        "id": "LscjcVM8Zahb",
        "outputId": "9f24d962-8ace-43c5-f28b-b61ce86db837"
      },
      "execution_count": null,
      "outputs": [
        {
          "output_type": "stream",
          "name": "stdout",
          "text": [
            "The predicted emotion is : anger\n"
          ]
        }
      ]
    },
    {
      "cell_type": "code",
      "source": [
        "# \n",
        "predict(device, sem_eval_model, se_decoded_labels,\n",
        "        \"Your really did bad to me. I feel sorry.\")"
      ],
      "metadata": {
        "colab": {
          "base_uri": "https://localhost:8080/"
        },
        "id": "r_PDGAVUls3C",
        "outputId": "ea8a9bc5-8f8e-47d7-80b6-248a6ff98022"
      },
      "execution_count": null,
      "outputs": [
        {
          "output_type": "stream",
          "name": "stdout",
          "text": [
            "The predicted emotion is : anger\n"
          ]
        }
      ]
    },
    {
      "cell_type": "code",
      "source": [
        "# what if a little modification of the above sentence\n",
        "predict(device, sem_eval_model, se_decoded_labels,\n",
        "        \"Your really did bad. I feel sad.\")"
      ],
      "metadata": {
        "colab": {
          "base_uri": "https://localhost:8080/"
        },
        "id": "tBfZbo7kl-bb",
        "outputId": "af070054-6721-4cfe-dae7-6aac84ce3a0a"
      },
      "execution_count": null,
      "outputs": [
        {
          "output_type": "stream",
          "name": "stdout",
          "text": [
            "The predicted emotion is : sadness\n"
          ]
        }
      ]
    },
    {
      "cell_type": "markdown",
      "source": [
        "# **BERT for IMDB Dataset** "
      ],
      "metadata": {
        "id": "WPUJwvml3cxV"
      }
    },
    {
      "cell_type": "markdown",
      "source": [
        "## Download the dataset"
      ],
      "metadata": {
        "id": "p6YV0C1-mIm-"
      }
    },
    {
      "cell_type": "code",
      "source": [
        "# There are many sources of this dataset but this one doesn't require to store\n",
        "# the data and no need to deal with changing data folders manually. \n",
        "!wget http://ai.stanford.edu/~amaas/data/sentiment/aclImdb_v1.tar.gz\n",
        "!tar -xf aclImdb_v1.tar.gz"
      ],
      "metadata": {
        "colab": {
          "base_uri": "https://localhost:8080/"
        },
        "id": "IpcfjxnX3hra",
        "outputId": "dd58772b-b003-4389-edf4-adea04b49081"
      },
      "execution_count": 21,
      "outputs": [
        {
          "output_type": "stream",
          "name": "stdout",
          "text": [
            "--2023-01-09 05:17:32--  http://ai.stanford.edu/~amaas/data/sentiment/aclImdb_v1.tar.gz\n",
            "Resolving ai.stanford.edu (ai.stanford.edu)... 171.64.68.10\n",
            "Connecting to ai.stanford.edu (ai.stanford.edu)|171.64.68.10|:80... connected.\n",
            "HTTP request sent, awaiting response... 200 OK\n",
            "Length: 84125825 (80M) [application/x-gzip]\n",
            "Saving to: ‘aclImdb_v1.tar.gz’\n",
            "\n",
            "aclImdb_v1.tar.gz   100%[===================>]  80.23M  15.3MB/s    in 8.8s    \n",
            "\n",
            "2023-01-09 05:17:41 (9.13 MB/s) - ‘aclImdb_v1.tar.gz’ saved [84125825/84125825]\n",
            "\n"
          ]
        }
      ]
    },
    {
      "cell_type": "markdown",
      "source": [
        "The texts in the IMDB dataset are in separate files with in train/test folders with pos/neg subfolders. The following method will read every line in pos and neg subfolders and assign the subfolder name as a label. "
      ],
      "metadata": {
        "id": "NCp5TN4ymw__"
      }
    },
    {
      "cell_type": "code",
      "source": [
        "#@title IMDB -\\> DF\n",
        "\n",
        "# read the imdb dataset into pandas data frame format \n",
        "from pathlib import Path \n",
        "# \n",
        "def read_imdb_data(split_dir): \n",
        "    df = pd.DataFrame(columns = ['text', 'emotion']) \n",
        "    # while the labels in imdb are called 'label', 'emotion' is used instead \n",
        "    # of 'label' to make more similar with SemEval \n",
        "    split_dir = Path(split_dir) \n",
        "\n",
        "    for label_dir in [\"pos\", \"neg\"]: \n",
        "        for text_file in (split_dir/label_dir).iterdir(): \n",
        "            df = df.append({'text' : text_file.read_text(), \n",
        "                            'emotion' : label_dir}, ignore_index = True) \n",
        "\n",
        "    return df \n",
        "\n",
        "imdb_train_df = read_imdb_data('aclImdb/train') \n",
        "imdb_test_df = read_imdb_data('aclImdb/test') \n",
        "display(imdb_train_df.head(2)) \n",
        "display(imdb_test_df.head(2)) "
      ],
      "metadata": {
        "colab": {
          "base_uri": "https://localhost:8080/",
          "height": 207
        },
        "cellView": "form",
        "id": "akpgLS0V8DJY",
        "outputId": "4769fb24-b498-4943-d186-303975b3a807"
      },
      "execution_count": 22,
      "outputs": [
        {
          "output_type": "display_data",
          "data": {
            "text/plain": [
              "                                                text emotion\n",
              "0  ***SPOILERS*** ***SPOILERS*** Packed with memo...     pos\n",
              "1  \"Heartland\" is a wonderful depiction of what i...     pos"
            ],
            "text/html": [
              "\n",
              "  <div id=\"df-44d757b3-3b97-45a7-bd64-df85f95cd2f4\">\n",
              "    <div class=\"colab-df-container\">\n",
              "      <div>\n",
              "<style scoped>\n",
              "    .dataframe tbody tr th:only-of-type {\n",
              "        vertical-align: middle;\n",
              "    }\n",
              "\n",
              "    .dataframe tbody tr th {\n",
              "        vertical-align: top;\n",
              "    }\n",
              "\n",
              "    .dataframe thead th {\n",
              "        text-align: right;\n",
              "    }\n",
              "</style>\n",
              "<table border=\"1\" class=\"dataframe\">\n",
              "  <thead>\n",
              "    <tr style=\"text-align: right;\">\n",
              "      <th></th>\n",
              "      <th>text</th>\n",
              "      <th>emotion</th>\n",
              "    </tr>\n",
              "  </thead>\n",
              "  <tbody>\n",
              "    <tr>\n",
              "      <th>0</th>\n",
              "      <td>***SPOILERS*** ***SPOILERS*** Packed with memo...</td>\n",
              "      <td>pos</td>\n",
              "    </tr>\n",
              "    <tr>\n",
              "      <th>1</th>\n",
              "      <td>\"Heartland\" is a wonderful depiction of what i...</td>\n",
              "      <td>pos</td>\n",
              "    </tr>\n",
              "  </tbody>\n",
              "</table>\n",
              "</div>\n",
              "      <button class=\"colab-df-convert\" onclick=\"convertToInteractive('df-44d757b3-3b97-45a7-bd64-df85f95cd2f4')\"\n",
              "              title=\"Convert this dataframe to an interactive table.\"\n",
              "              style=\"display:none;\">\n",
              "        \n",
              "  <svg xmlns=\"http://www.w3.org/2000/svg\" height=\"24px\"viewBox=\"0 0 24 24\"\n",
              "       width=\"24px\">\n",
              "    <path d=\"M0 0h24v24H0V0z\" fill=\"none\"/>\n",
              "    <path d=\"M18.56 5.44l.94 2.06.94-2.06 2.06-.94-2.06-.94-.94-2.06-.94 2.06-2.06.94zm-11 1L8.5 8.5l.94-2.06 2.06-.94-2.06-.94L8.5 2.5l-.94 2.06-2.06.94zm10 10l.94 2.06.94-2.06 2.06-.94-2.06-.94-.94-2.06-.94 2.06-2.06.94z\"/><path d=\"M17.41 7.96l-1.37-1.37c-.4-.4-.92-.59-1.43-.59-.52 0-1.04.2-1.43.59L10.3 9.45l-7.72 7.72c-.78.78-.78 2.05 0 2.83L4 21.41c.39.39.9.59 1.41.59.51 0 1.02-.2 1.41-.59l7.78-7.78 2.81-2.81c.8-.78.8-2.07 0-2.86zM5.41 20L4 18.59l7.72-7.72 1.47 1.35L5.41 20z\"/>\n",
              "  </svg>\n",
              "      </button>\n",
              "      \n",
              "  <style>\n",
              "    .colab-df-container {\n",
              "      display:flex;\n",
              "      flex-wrap:wrap;\n",
              "      gap: 12px;\n",
              "    }\n",
              "\n",
              "    .colab-df-convert {\n",
              "      background-color: #E8F0FE;\n",
              "      border: none;\n",
              "      border-radius: 50%;\n",
              "      cursor: pointer;\n",
              "      display: none;\n",
              "      fill: #1967D2;\n",
              "      height: 32px;\n",
              "      padding: 0 0 0 0;\n",
              "      width: 32px;\n",
              "    }\n",
              "\n",
              "    .colab-df-convert:hover {\n",
              "      background-color: #E2EBFA;\n",
              "      box-shadow: 0px 1px 2px rgba(60, 64, 67, 0.3), 0px 1px 3px 1px rgba(60, 64, 67, 0.15);\n",
              "      fill: #174EA6;\n",
              "    }\n",
              "\n",
              "    [theme=dark] .colab-df-convert {\n",
              "      background-color: #3B4455;\n",
              "      fill: #D2E3FC;\n",
              "    }\n",
              "\n",
              "    [theme=dark] .colab-df-convert:hover {\n",
              "      background-color: #434B5C;\n",
              "      box-shadow: 0px 1px 3px 1px rgba(0, 0, 0, 0.15);\n",
              "      filter: drop-shadow(0px 1px 2px rgba(0, 0, 0, 0.3));\n",
              "      fill: #FFFFFF;\n",
              "    }\n",
              "  </style>\n",
              "\n",
              "      <script>\n",
              "        const buttonEl =\n",
              "          document.querySelector('#df-44d757b3-3b97-45a7-bd64-df85f95cd2f4 button.colab-df-convert');\n",
              "        buttonEl.style.display =\n",
              "          google.colab.kernel.accessAllowed ? 'block' : 'none';\n",
              "\n",
              "        async function convertToInteractive(key) {\n",
              "          const element = document.querySelector('#df-44d757b3-3b97-45a7-bd64-df85f95cd2f4');\n",
              "          const dataTable =\n",
              "            await google.colab.kernel.invokeFunction('convertToInteractive',\n",
              "                                                     [key], {});\n",
              "          if (!dataTable) return;\n",
              "\n",
              "          const docLinkHtml = 'Like what you see? Visit the ' +\n",
              "            '<a target=\"_blank\" href=https://colab.research.google.com/notebooks/data_table.ipynb>data table notebook</a>'\n",
              "            + ' to learn more about interactive tables.';\n",
              "          element.innerHTML = '';\n",
              "          dataTable['output_type'] = 'display_data';\n",
              "          await google.colab.output.renderOutput(dataTable, element);\n",
              "          const docLink = document.createElement('div');\n",
              "          docLink.innerHTML = docLinkHtml;\n",
              "          element.appendChild(docLink);\n",
              "        }\n",
              "      </script>\n",
              "    </div>\n",
              "  </div>\n",
              "  "
            ]
          },
          "metadata": {}
        },
        {
          "output_type": "display_data",
          "data": {
            "text/plain": [
              "                                                text emotion\n",
              "0  This has got to be one of the best episodes of...     pos\n",
              "1  A sparkling movie. BB is a marvel. She's sultr...     pos"
            ],
            "text/html": [
              "\n",
              "  <div id=\"df-c2068dd2-e131-410a-bfcc-beb382116458\">\n",
              "    <div class=\"colab-df-container\">\n",
              "      <div>\n",
              "<style scoped>\n",
              "    .dataframe tbody tr th:only-of-type {\n",
              "        vertical-align: middle;\n",
              "    }\n",
              "\n",
              "    .dataframe tbody tr th {\n",
              "        vertical-align: top;\n",
              "    }\n",
              "\n",
              "    .dataframe thead th {\n",
              "        text-align: right;\n",
              "    }\n",
              "</style>\n",
              "<table border=\"1\" class=\"dataframe\">\n",
              "  <thead>\n",
              "    <tr style=\"text-align: right;\">\n",
              "      <th></th>\n",
              "      <th>text</th>\n",
              "      <th>emotion</th>\n",
              "    </tr>\n",
              "  </thead>\n",
              "  <tbody>\n",
              "    <tr>\n",
              "      <th>0</th>\n",
              "      <td>This has got to be one of the best episodes of...</td>\n",
              "      <td>pos</td>\n",
              "    </tr>\n",
              "    <tr>\n",
              "      <th>1</th>\n",
              "      <td>A sparkling movie. BB is a marvel. She's sultr...</td>\n",
              "      <td>pos</td>\n",
              "    </tr>\n",
              "  </tbody>\n",
              "</table>\n",
              "</div>\n",
              "      <button class=\"colab-df-convert\" onclick=\"convertToInteractive('df-c2068dd2-e131-410a-bfcc-beb382116458')\"\n",
              "              title=\"Convert this dataframe to an interactive table.\"\n",
              "              style=\"display:none;\">\n",
              "        \n",
              "  <svg xmlns=\"http://www.w3.org/2000/svg\" height=\"24px\"viewBox=\"0 0 24 24\"\n",
              "       width=\"24px\">\n",
              "    <path d=\"M0 0h24v24H0V0z\" fill=\"none\"/>\n",
              "    <path d=\"M18.56 5.44l.94 2.06.94-2.06 2.06-.94-2.06-.94-.94-2.06-.94 2.06-2.06.94zm-11 1L8.5 8.5l.94-2.06 2.06-.94-2.06-.94L8.5 2.5l-.94 2.06-2.06.94zm10 10l.94 2.06.94-2.06 2.06-.94-2.06-.94-.94-2.06-.94 2.06-2.06.94z\"/><path d=\"M17.41 7.96l-1.37-1.37c-.4-.4-.92-.59-1.43-.59-.52 0-1.04.2-1.43.59L10.3 9.45l-7.72 7.72c-.78.78-.78 2.05 0 2.83L4 21.41c.39.39.9.59 1.41.59.51 0 1.02-.2 1.41-.59l7.78-7.78 2.81-2.81c.8-.78.8-2.07 0-2.86zM5.41 20L4 18.59l7.72-7.72 1.47 1.35L5.41 20z\"/>\n",
              "  </svg>\n",
              "      </button>\n",
              "      \n",
              "  <style>\n",
              "    .colab-df-container {\n",
              "      display:flex;\n",
              "      flex-wrap:wrap;\n",
              "      gap: 12px;\n",
              "    }\n",
              "\n",
              "    .colab-df-convert {\n",
              "      background-color: #E8F0FE;\n",
              "      border: none;\n",
              "      border-radius: 50%;\n",
              "      cursor: pointer;\n",
              "      display: none;\n",
              "      fill: #1967D2;\n",
              "      height: 32px;\n",
              "      padding: 0 0 0 0;\n",
              "      width: 32px;\n",
              "    }\n",
              "\n",
              "    .colab-df-convert:hover {\n",
              "      background-color: #E2EBFA;\n",
              "      box-shadow: 0px 1px 2px rgba(60, 64, 67, 0.3), 0px 1px 3px 1px rgba(60, 64, 67, 0.15);\n",
              "      fill: #174EA6;\n",
              "    }\n",
              "\n",
              "    [theme=dark] .colab-df-convert {\n",
              "      background-color: #3B4455;\n",
              "      fill: #D2E3FC;\n",
              "    }\n",
              "\n",
              "    [theme=dark] .colab-df-convert:hover {\n",
              "      background-color: #434B5C;\n",
              "      box-shadow: 0px 1px 3px 1px rgba(0, 0, 0, 0.15);\n",
              "      filter: drop-shadow(0px 1px 2px rgba(0, 0, 0, 0.3));\n",
              "      fill: #FFFFFF;\n",
              "    }\n",
              "  </style>\n",
              "\n",
              "      <script>\n",
              "        const buttonEl =\n",
              "          document.querySelector('#df-c2068dd2-e131-410a-bfcc-beb382116458 button.colab-df-convert');\n",
              "        buttonEl.style.display =\n",
              "          google.colab.kernel.accessAllowed ? 'block' : 'none';\n",
              "\n",
              "        async function convertToInteractive(key) {\n",
              "          const element = document.querySelector('#df-c2068dd2-e131-410a-bfcc-beb382116458');\n",
              "          const dataTable =\n",
              "            await google.colab.kernel.invokeFunction('convertToInteractive',\n",
              "                                                     [key], {});\n",
              "          if (!dataTable) return;\n",
              "\n",
              "          const docLinkHtml = 'Like what you see? Visit the ' +\n",
              "            '<a target=\"_blank\" href=https://colab.research.google.com/notebooks/data_table.ipynb>data table notebook</a>'\n",
              "            + ' to learn more about interactive tables.';\n",
              "          element.innerHTML = '';\n",
              "          dataTable['output_type'] = 'display_data';\n",
              "          await google.colab.output.renderOutput(dataTable, element);\n",
              "          const docLink = document.createElement('div');\n",
              "          docLink.innerHTML = docLinkHtml;\n",
              "          element.appendChild(docLink);\n",
              "        }\n",
              "      </script>\n",
              "    </div>\n",
              "  </div>\n",
              "  "
            ]
          },
          "metadata": {}
        }
      ]
    },
    {
      "cell_type": "code",
      "source": [
        "# shuffle the datasets \n",
        "imdb_train_df = imdb_train_df.sample(frac=1)\n",
        "imdb_test_df = imdb_test_df.sample(frac=1)"
      ],
      "metadata": {
        "id": "rfAUKzvo8Vwv"
      },
      "execution_count": 23,
      "outputs": []
    },
    {
      "cell_type": "code",
      "source": [
        "#@title Save to pickle file \n",
        "# to reduce downloading every time, saving to drive may be faster \n",
        "imdb_train_df.to_pickle(os.path.join(data_folder, \"imdb_train_df.pkl\")) \n",
        "imdb_test_df.to_pickle(os.path.join(data_folder, \"imdb_test_df.pkl\")) "
      ],
      "metadata": {
        "id": "yTIuQgYrKMIn"
      },
      "execution_count": 24,
      "outputs": []
    },
    {
      "cell_type": "code",
      "source": [
        "#@title Load a pickle file \n",
        "imdb_train_df = pd.read_pickle(os.path.join(data_folder, \"imdb_train_df.pkl\")) \n",
        "imdb_test_df = pd.read_pickle(os.path.join(data_folder, \"imdb_test_df.pkl\")) "
      ],
      "metadata": {
        "id": "JOwes75TJev-"
      },
      "execution_count": 25,
      "outputs": []
    },
    {
      "cell_type": "code",
      "source": [
        "# get some validation data from the testing set which is 25K\n",
        "imdb_test_df, imdb_val_df = train_test_split(imdb_test_df, test_size=0.2,\n",
        "                                              random_state=42)\n",
        "print(\"Shape of Training df: \", imdb_train_df.shape)\n",
        "print(\"Shape of Validating df: \", imdb_val_df.shape)\n",
        "print(\"Shape of Testing df: \", imdb_test_df.shape)"
      ],
      "metadata": {
        "colab": {
          "base_uri": "https://localhost:8080/"
        },
        "id": "mzp9McoW_9zX",
        "outputId": "c99c584f-874c-48a6-894d-ed31e489598b"
      },
      "execution_count": 26,
      "outputs": [
        {
          "output_type": "stream",
          "name": "stdout",
          "text": [
            "Shape of Training df:  (25000, 2)\n",
            "Shape of Validating df:  (5000, 2)\n",
            "Shape of Testing df:  (20000, 2)\n"
          ]
        }
      ]
    },
    {
      "cell_type": "markdown",
      "source": [
        "## Train Model"
      ],
      "metadata": {
        "id": "AFszb0fOaVhk"
      }
    },
    {
      "cell_type": "code",
      "source": [
        "\n",
        "EPOCHS = 2 # The dataset is large and takes long to give more epochs\n",
        "imdb_model = DistilBertSentimentClassifier(n_classes=2)\n",
        "learning_rate = 1e-6\n",
        "train(imdb_model, imdb_train_df, imdb_val_df, learning_rate, EPOCHS) "
      ],
      "metadata": {
        "id": "Nhapb1qrBl-p",
        "colab": {
          "base_uri": "https://localhost:8080/"
        },
        "outputId": "ba82fb17-6ada-4236-b6ab-d0c3fe28f285"
      },
      "execution_count": 28,
      "outputs": [
        {
          "output_type": "stream",
          "name": "stderr",
          "text": [
            "Some weights of the model checkpoint at distilbert-base-uncased were not used when initializing DistilBertModel: ['vocab_transform.weight', 'vocab_layer_norm.bias', 'vocab_projector.bias', 'vocab_layer_norm.weight', 'vocab_projector.weight', 'vocab_transform.bias']\n",
            "- This IS expected if you are initializing DistilBertModel from the checkpoint of a model trained on another task or with another architecture (e.g. initializing a BertForSequenceClassification model from a BertForPreTraining model).\n",
            "- This IS NOT expected if you are initializing DistilBertModel from the checkpoint of a model that you expect to be exactly identical (initializing a BertForSequenceClassification model from a BertForSequenceClassification model).\n",
            "100%|██████████| 12500/12500 [23:23<00:00,  8.91it/s]\n"
          ]
        },
        {
          "output_type": "stream",
          "name": "stdout",
          "text": [
            "Epochs: 1 | Train Loss:  0.149                 | Train Accuracy:  0.875                 | Val Loss:  1.455                 | Val Accuracy:  0.083\n"
          ]
        },
        {
          "output_type": "stream",
          "name": "stderr",
          "text": [
            "100%|██████████| 12500/12500 [23:24<00:00,  8.90it/s]\n"
          ]
        },
        {
          "output_type": "stream",
          "name": "stdout",
          "text": [
            "Epochs: 2 | Train Loss:  0.094                 | Train Accuracy:  0.930                 | Val Loss:  1.731                 | Val Accuracy:  0.076\n",
            "\n",
            "Training time is:  0.869 hrs.\n"
          ]
        }
      ]
    },
    {
      "cell_type": "markdown",
      "source": [
        "## Test model"
      ],
      "metadata": {
        "id": "EaC84iLygiEC"
      }
    },
    {
      "cell_type": "code",
      "source": [
        "evaluate(imdb_model, imdb_test_df)"
      ],
      "metadata": {
        "id": "6KQMIiERM-mQ",
        "outputId": "669c8c23-f8ba-4e14-ddf9-9fe97cfbc5aa",
        "colab": {
          "base_uri": "https://localhost:8080/"
        }
      },
      "execution_count": 29,
      "outputs": [
        {
          "output_type": "stream",
          "name": "stderr",
          "text": [
            "100%|██████████| 10000/10000 [05:32<00:00, 30.05it/s]\n"
          ]
        },
        {
          "output_type": "stream",
          "name": "stdout",
          "text": [
            "\n",
            "Test Accuracy :  0.920\n"
          ]
        }
      ]
    },
    {
      "cell_type": "markdown",
      "source": [
        "This model shows a **better** accuracy than **sem_eval_model**. It may be becuase of the larger training data."
      ],
      "metadata": {
        "id": "fotltvh4ZuId"
      }
    },
    {
      "cell_type": "markdown",
      "source": [
        "#### Test on `imdb_test_df` Sentences"
      ],
      "metadata": {
        "id": "Hry_9CuvamYh"
      }
    },
    {
      "cell_type": "code",
      "source": [
        "# predict for 5 random sentences from test dataset\n",
        "predict_on_samples_from_df(imdb_model, imdb_test_df, n_samples=5)  "
      ],
      "metadata": {
        "id": "WPy6IdW2cHka",
        "colab": {
          "base_uri": "https://localhost:8080/"
        },
        "outputId": "22ba9c9a-3649-404b-847c-eeafd464f1c4"
      },
      "execution_count": 31,
      "outputs": [
        {
          "output_type": "stream",
          "name": "stdout",
          "text": [
            "Predict the following text:\n",
            "\n",
            "The trailer for this film promised a new twist on the zombie genre: setting it in the Old West. Except it's not the real Old West, of course. It's some sort of Future West, in a world where some apocalypse has, as apocalypses are known to do, killed people and subsequently turned them into zombies. It's zombie virus time again, folks, and you know what that means? Get bitten and become one of them.<br /><br />So, into this dusty and dead-filled world comes a hero. He's a bounty-hunter, getting paid for taking care of zombies. It's not exactly clear who is providing the funds, but it seems a little cottage industry of zombie-hunting has emerged. But, as the trailer tells us, there's a problem. They are running out of zombies. The only way to keep on earning is to infect new towns and cities with the virus.<br /><br />I think that's not a bad idea for a film. But unfortunately it takes a lot more than a good idea and a crowd of people pawing at windows to make a good zombie film. What we actually get is a Clint Eastwood clone (the actor's even called Clint, for crying out loud) and his \"hilarious\" sidekick, trying to bag zombies while trailing some still-living bad guys to get some big reward. The whole subplot about infecting other towns is only mentioned in passing, over half-way through the film. Instead, there's a lot of western movie clichés, poor zombie make-up and some world-class bad acting. Really bad. The sort that wouldn't even make it onto Hollyoaks. Both hero and villain chomp on cigars, quips are thrown, people get bitten. As the movie lurches to a conclusion, the only thing worth wondering is whether it's going to end with the cliché of the hero being the only man alive, having killed the one he loves, or the cliché of him turning into a zombie in the final frame. (It's the first one, by the way) This film was written and directed by Gerald Nott. It's the only thing he has done and, hopefully, it will be his last. At the start of the film there is a caption that reads \"Nott Entertainment\". At least they got one thing right.\n",
            "==================================================\n",
            "The predicted emotion is : neg\n",
            "The exact emotion is:  neg\n",
            "++++++++++++++++++++++++++++++++++++++++++++++++++ \n",
            "\n",
            "Predict the following text:\n",
            "\n",
            "...the first? Killjoy 1. But here's the review of Killjoy 2:<br /><br />(contains spoilers, so beware readers)<br /><br />Oh my. Oh, my, my, my. I'll start off with telling you that I had no hopes in the least bit that this movie would be good. Considering that Killjoy (the first movie) is without a doubt the worst movie ever made, the sequel didn't have much promise.<br /><br />As expected, it didn't deliver.<br /><br />The deaths were even lamer than in the first movie. There was absolutely no eye candy whatsoever, and every single prop looked so fake that I wouldn't be surprised if they had a kindergarten class make them.<br /><br />Look, I don't even know where to begin. Hm, for starters, the movie wasn't even feature length. It was only an hour and eight minutes long (68 min.), but then again, ending it early was actually a reprieve. In fact, that's the only reason that this movie wasn't as bad as the first, because the first was longer.<br /><br />Usually, I don't give spoilers in reviews, but since I don't want any of you to go through the torture of watching this waste of film, I'm going to spoil away. Not that there's much to spoil.<br /><br />Let's start with the ending. KILLJOY IS THE PUSSIEST KILLER EVER. It takes explosions, firebombs, guns, etc. to kill all of the normal serial killers in horror movies. Guess what it took to kill Killjoy? A F***ING GLASS OF WATER. No lie. In the end, a girl picked up a cup of water and threw the water on Killjoy's face. Then Killjoy started screaming, and they tried to make it look like his face was melting by putting dried rubber cement on his forehead. Then he laid there, and the people went to sleep.<br /><br />Now let's hit the acting. VERY TERRIBLE. Not even one person was believable in the least bit. I don't even know what to say, other than it looks like they just hired a few hobos living on the streets to act in this film.<br /><br />Seriously, I honestly doubt that they spent any more than 100 dollars total to make this movie. They had nothing. Most of it took place in the woods, which wouldn't have cost them anything to film on. The actors weren't giving in any effort whatsoever, so it's blatant that they were probably \"working\" for free. They didn't have any kind of special effects or nice props, and they probably used ketchup for the blood. Hell, who am I kidding? They probably didn't even spend 100 dollars. They probably spent $3.29 on a bottle of ketchup and that was it. A f**kin' movie made with a budget of $3.29.<br /><br />For Bob's sake, they couldn't even afford to rent a cop uniform. In the end, after Killjoy dies, the girl wakes up and says \"Where is he?\" and the main woman replies, \"He's gone.\" Then, suddenly, some fat goofy guy with scars on his face pops out of nowhere with a cell phone saying \"You have a phone call.\" The girl answers and says \"Oh, hi mom!\" and smiles. Then the fat goofy guy walks along to reveal that it's a police officer. However, he's wearing khaki pants, and a regular button up green shirt, with a lame badge on the front pocket. Hell, it was probably the badge that the director got when he was in safety patrol in 3rd grade. Then they all got into a tan blazer and drove off as the credits rolled. They couldn't even get a police cruiser so they just got a tan blazer. F**kin' lame. Killjoy didn't even have the ice cream van that he had in the first movie.<br /><br />Killjoy is without a doubt the most flamboyantly gay slasher EVER. If there was a slasher that wore hot pink spandex and carried a rainbow flag, he STILL would not be as gay as Killjoy. Killjoy isn't funny either (and believe me, he DID try to be).<br /><br />The only good thing about this movie is an extremely lame threat given by one of the delinquents. Somebody makes a comment to some boy about not passing third grade, to which the boy responds, \"I'll show you third grade!\" in a threatening manner. That has to be the absolute worst threat that I've ever heard. \"I'll show you third grade!\"<br /><br />This movie doesn't even work on a \"so bad, it's good\" level. It's filth. Unless you did something bad, and you are feeling so guilty about it that you want to punish yourself severely, DON'T watch this movie.<br /><br />Just remember; if a flaming homosexual clown with a huge black afro tries to bore you to death with gay jokes (and attempt to kill you at the same time), just throw some water at him. Case closed.<br /><br />FINAL RATING: .1 out of 10\n",
            "==================================================\n",
            "The predicted emotion is : neg\n",
            "The exact emotion is:  neg\n",
            "++++++++++++++++++++++++++++++++++++++++++++++++++ \n",
            "\n",
            "Predict the following text:\n",
            "\n",
            "\"Coconut Fred's Fruit Salad Island!\" is a hilarious show that is on Saturday mornings on WB. It stars Coconut Fred and all of his friends on the island, and every episode is a very funny misadventure of theirs. Most of the time, it is because of Coconut Fred's trouble making antics which makes it funny, and other stuff going on on the island at the same time. The humor is great and nobody on the island is very bright at all, which adds it being as amusing as it is. I don't think this could be funnier. The voice talents of the characters are magnificently superior and are exaggerated, which adds to the show's hilarity. If this is ever on DVD, I'm getting it A.S.A.P!<br /><br />Strongly recommended for a good laugh.\n",
            "==================================================\n",
            "The predicted emotion is : pos\n",
            "The exact emotion is:  pos\n",
            "++++++++++++++++++++++++++++++++++++++++++++++++++ \n",
            "\n",
            "Predict the following text:\n",
            "\n",
            "...but it's still an entertaining TV movie. The transposition to the Civil War makes a nice change of pace, and adds a few subtexts (such as Ariel's servitude to Prosper/Prospero) that you might not otherwise see. Thankfully, they didn't try to make it a mini-series: at 90 minutes, it's just about right.\n",
            "==================================================\n",
            "The predicted emotion is : pos\n",
            "The exact emotion is:  pos\n",
            "++++++++++++++++++++++++++++++++++++++++++++++++++ \n",
            "\n",
            "Predict the following text:\n",
            "\n",
            "I will not say much about this film, because there is not much to say, because there is not much there to talk about. The only good thing about this movie is that our favorite characters from \"Atlantis: The Lost Empire\" are back. Several of the bad things about this movie are that it has horrible characters, it has horrible comedy, horrible animation, and James Arnold Taylor trying to copy the wonderful, one and only Michael J. Fox as Milo James Thatch. The reasons for my criticisms are that all the characters are changed into something that they never were, and never should be, animation that has been downgraded to the lowest extent possible, and finally, why would somebody who did wonderful voice-over work for Obi-Wan Kenobi in \"Clone Wars\" want to copy Michael J. Fox? I happen to have an answer to this. Because they are the same person who thought he had to copy Eddie Murphy from Mulan in Mulan II. Yes, sadly, it is true.<br /><br />.\n",
            "==================================================\n",
            "The predicted emotion is : neg\n",
            "The exact emotion is:  neg\n",
            "++++++++++++++++++++++++++++++++++++++++++++++++++ \n",
            "\n"
          ]
        }
      ]
    },
    {
      "cell_type": "markdown",
      "source": [
        "#### Test on Single Sentences"
      ],
      "metadata": {
        "id": "nO1VVL8rK4U7"
      }
    },
    {
      "cell_type": "code",
      "source": [
        "_, imdb_decoded_labels = encode_decode_labels(imdb_train_df)\n",
        "imdb_decoded_labels "
      ],
      "metadata": {
        "id": "8EZ9JiuKgScp",
        "colab": {
          "base_uri": "https://localhost:8080/"
        },
        "outputId": "21192c3e-4e62-4357-b7d1-c8abe0cea4c7"
      },
      "execution_count": 32,
      "outputs": [
        {
          "output_type": "execute_result",
          "data": {
            "text/plain": [
              "{0: 'neg', 1: 'pos'}"
            ]
          },
          "metadata": {},
          "execution_count": 32
        }
      ]
    },
    {
      "cell_type": "code",
      "source": [
        "predict(device, imdb_model, imdb_decoded_labels, \n",
        "        \"Yesterday's movie was fantastic.\")"
      ],
      "metadata": {
        "id": "DFstvDwX9kma",
        "colab": {
          "base_uri": "https://localhost:8080/"
        },
        "outputId": "1ad1068c-fe8c-4746-b8fe-67aac5b6f3a7"
      },
      "execution_count": null,
      "outputs": [
        {
          "output_type": "stream",
          "name": "stdout",
          "text": [
            "The predicted emotion is : pos\n"
          ]
        }
      ]
    },
    {
      "cell_type": "code",
      "source": [
        "predict(device, imdb_model, imdb_decoded_labels, \n",
        "        \"The sound quality was not good.\")"
      ],
      "metadata": {
        "id": "Yj32bVELKpH8",
        "colab": {
          "base_uri": "https://localhost:8080/"
        },
        "outputId": "6fab57b8-42c9-49e2-bcd3-9c25d6b72277"
      },
      "execution_count": null,
      "outputs": [
        {
          "output_type": "stream",
          "name": "stdout",
          "text": [
            "The predicted emotion is : neg\n"
          ]
        }
      ]
    },
    {
      "cell_type": "markdown",
      "source": [
        "# BERT Transferl Learning:  IMDB -\\> SemEval"
      ],
      "metadata": {
        "id": "8DDuzMGmwxBl"
      }
    },
    {
      "cell_type": "code",
      "source": [
        "imdb_model # See the model structure to fine-tune to other dataset"
      ],
      "metadata": {
        "colab": {
          "base_uri": "https://localhost:8080/"
        },
        "id": "OC4yaCJgu7iX",
        "outputId": "6e2aa28e-36e3-417b-c18c-f72bcb3c9c2f"
      },
      "execution_count": 33,
      "outputs": [
        {
          "output_type": "execute_result",
          "data": {
            "text/plain": [
              "DistilBertSentimentClassifier(\n",
              "  (bert): DistilBertModel(\n",
              "    (embeddings): Embeddings(\n",
              "      (word_embeddings): Embedding(30522, 768, padding_idx=0)\n",
              "      (position_embeddings): Embedding(512, 768)\n",
              "      (LayerNorm): LayerNorm((768,), eps=1e-12, elementwise_affine=True)\n",
              "      (dropout): Dropout(p=0.1, inplace=False)\n",
              "    )\n",
              "    (transformer): Transformer(\n",
              "      (layer): ModuleList(\n",
              "        (0): TransformerBlock(\n",
              "          (attention): MultiHeadSelfAttention(\n",
              "            (dropout): Dropout(p=0.1, inplace=False)\n",
              "            (q_lin): Linear(in_features=768, out_features=768, bias=True)\n",
              "            (k_lin): Linear(in_features=768, out_features=768, bias=True)\n",
              "            (v_lin): Linear(in_features=768, out_features=768, bias=True)\n",
              "            (out_lin): Linear(in_features=768, out_features=768, bias=True)\n",
              "          )\n",
              "          (sa_layer_norm): LayerNorm((768,), eps=1e-12, elementwise_affine=True)\n",
              "          (ffn): FFN(\n",
              "            (dropout): Dropout(p=0.1, inplace=False)\n",
              "            (lin1): Linear(in_features=768, out_features=3072, bias=True)\n",
              "            (lin2): Linear(in_features=3072, out_features=768, bias=True)\n",
              "            (activation): GELUActivation()\n",
              "          )\n",
              "          (output_layer_norm): LayerNorm((768,), eps=1e-12, elementwise_affine=True)\n",
              "        )\n",
              "        (1): TransformerBlock(\n",
              "          (attention): MultiHeadSelfAttention(\n",
              "            (dropout): Dropout(p=0.1, inplace=False)\n",
              "            (q_lin): Linear(in_features=768, out_features=768, bias=True)\n",
              "            (k_lin): Linear(in_features=768, out_features=768, bias=True)\n",
              "            (v_lin): Linear(in_features=768, out_features=768, bias=True)\n",
              "            (out_lin): Linear(in_features=768, out_features=768, bias=True)\n",
              "          )\n",
              "          (sa_layer_norm): LayerNorm((768,), eps=1e-12, elementwise_affine=True)\n",
              "          (ffn): FFN(\n",
              "            (dropout): Dropout(p=0.1, inplace=False)\n",
              "            (lin1): Linear(in_features=768, out_features=3072, bias=True)\n",
              "            (lin2): Linear(in_features=3072, out_features=768, bias=True)\n",
              "            (activation): GELUActivation()\n",
              "          )\n",
              "          (output_layer_norm): LayerNorm((768,), eps=1e-12, elementwise_affine=True)\n",
              "        )\n",
              "        (2): TransformerBlock(\n",
              "          (attention): MultiHeadSelfAttention(\n",
              "            (dropout): Dropout(p=0.1, inplace=False)\n",
              "            (q_lin): Linear(in_features=768, out_features=768, bias=True)\n",
              "            (k_lin): Linear(in_features=768, out_features=768, bias=True)\n",
              "            (v_lin): Linear(in_features=768, out_features=768, bias=True)\n",
              "            (out_lin): Linear(in_features=768, out_features=768, bias=True)\n",
              "          )\n",
              "          (sa_layer_norm): LayerNorm((768,), eps=1e-12, elementwise_affine=True)\n",
              "          (ffn): FFN(\n",
              "            (dropout): Dropout(p=0.1, inplace=False)\n",
              "            (lin1): Linear(in_features=768, out_features=3072, bias=True)\n",
              "            (lin2): Linear(in_features=3072, out_features=768, bias=True)\n",
              "            (activation): GELUActivation()\n",
              "          )\n",
              "          (output_layer_norm): LayerNorm((768,), eps=1e-12, elementwise_affine=True)\n",
              "        )\n",
              "        (3): TransformerBlock(\n",
              "          (attention): MultiHeadSelfAttention(\n",
              "            (dropout): Dropout(p=0.1, inplace=False)\n",
              "            (q_lin): Linear(in_features=768, out_features=768, bias=True)\n",
              "            (k_lin): Linear(in_features=768, out_features=768, bias=True)\n",
              "            (v_lin): Linear(in_features=768, out_features=768, bias=True)\n",
              "            (out_lin): Linear(in_features=768, out_features=768, bias=True)\n",
              "          )\n",
              "          (sa_layer_norm): LayerNorm((768,), eps=1e-12, elementwise_affine=True)\n",
              "          (ffn): FFN(\n",
              "            (dropout): Dropout(p=0.1, inplace=False)\n",
              "            (lin1): Linear(in_features=768, out_features=3072, bias=True)\n",
              "            (lin2): Linear(in_features=3072, out_features=768, bias=True)\n",
              "            (activation): GELUActivation()\n",
              "          )\n",
              "          (output_layer_norm): LayerNorm((768,), eps=1e-12, elementwise_affine=True)\n",
              "        )\n",
              "        (4): TransformerBlock(\n",
              "          (attention): MultiHeadSelfAttention(\n",
              "            (dropout): Dropout(p=0.1, inplace=False)\n",
              "            (q_lin): Linear(in_features=768, out_features=768, bias=True)\n",
              "            (k_lin): Linear(in_features=768, out_features=768, bias=True)\n",
              "            (v_lin): Linear(in_features=768, out_features=768, bias=True)\n",
              "            (out_lin): Linear(in_features=768, out_features=768, bias=True)\n",
              "          )\n",
              "          (sa_layer_norm): LayerNorm((768,), eps=1e-12, elementwise_affine=True)\n",
              "          (ffn): FFN(\n",
              "            (dropout): Dropout(p=0.1, inplace=False)\n",
              "            (lin1): Linear(in_features=768, out_features=3072, bias=True)\n",
              "            (lin2): Linear(in_features=3072, out_features=768, bias=True)\n",
              "            (activation): GELUActivation()\n",
              "          )\n",
              "          (output_layer_norm): LayerNorm((768,), eps=1e-12, elementwise_affine=True)\n",
              "        )\n",
              "        (5): TransformerBlock(\n",
              "          (attention): MultiHeadSelfAttention(\n",
              "            (dropout): Dropout(p=0.1, inplace=False)\n",
              "            (q_lin): Linear(in_features=768, out_features=768, bias=True)\n",
              "            (k_lin): Linear(in_features=768, out_features=768, bias=True)\n",
              "            (v_lin): Linear(in_features=768, out_features=768, bias=True)\n",
              "            (out_lin): Linear(in_features=768, out_features=768, bias=True)\n",
              "          )\n",
              "          (sa_layer_norm): LayerNorm((768,), eps=1e-12, elementwise_affine=True)\n",
              "          (ffn): FFN(\n",
              "            (dropout): Dropout(p=0.1, inplace=False)\n",
              "            (lin1): Linear(in_features=768, out_features=3072, bias=True)\n",
              "            (lin2): Linear(in_features=3072, out_features=768, bias=True)\n",
              "            (activation): GELUActivation()\n",
              "          )\n",
              "          (output_layer_norm): LayerNorm((768,), eps=1e-12, elementwise_affine=True)\n",
              "        )\n",
              "      )\n",
              "    )\n",
              "  )\n",
              "  (pre_classifier): Linear(in_features=768, out_features=768, bias=True)\n",
              "  (dropout): Dropout(p=0.5, inplace=False)\n",
              "  (classifier): Linear(in_features=768, out_features=2, bias=True)\n",
              ")"
            ]
          },
          "metadata": {},
          "execution_count": 33
        }
      ]
    },
    {
      "cell_type": "code",
      "source": [
        "''' We can change the out_features from 2 to 4 to do transfer learning on \n",
        " a bert model first trained by the imdb dataset. After changing the out_features\n",
        " attribute of the model, we re-train, validate and test with the SemEval dataset.\n",
        "'''\n",
        "imdb_model.classifier, nn.Linear(768, 4)"
      ],
      "metadata": {
        "colab": {
          "base_uri": "https://localhost:8080/"
        },
        "id": "Y-ylJcgavvOG",
        "outputId": "5d1e7a1b-8e20-421f-8b62-9927bf869477"
      },
      "execution_count": 34,
      "outputs": [
        {
          "output_type": "execute_result",
          "data": {
            "text/plain": [
              "(Linear(in_features=768, out_features=2, bias=True),\n",
              " Linear(in_features=768, out_features=4, bias=True))"
            ]
          },
          "metadata": {},
          "execution_count": 34
        }
      ]
    },
    {
      "cell_type": "markdown",
      "source": [
        "## Train `imdb_model` with `se_train_df`"
      ],
      "metadata": {
        "id": "_n-lmi4BbB1a"
      }
    },
    {
      "cell_type": "code",
      "source": [
        "# Train for the same number of epochs as sem_eval_model to compare the difference\n",
        "EPOCHS = 10 \n",
        "\n",
        "imdb_model.classifier = nn.Linear(768, 4) # modify the number of output neurons\n",
        "learning_rate = 1e-6 \n",
        "# train the modified imdb_model with the semeval data set\n",
        "train(imdb_model, se_train_df, se_val_df, learning_rate, EPOCHS)"
      ],
      "metadata": {
        "id": "WPtx64YMRGKo",
        "outputId": "41f0bfe2-fa9b-46af-fb05-329a9fef31b7",
        "colab": {
          "base_uri": "https://localhost:8080/"
        }
      },
      "execution_count": 35,
      "outputs": [
        {
          "output_type": "stream",
          "name": "stderr",
          "text": [
            "100%|██████████| 1536/1536 [02:48<00:00,  9.12it/s]\n"
          ]
        },
        {
          "output_type": "stream",
          "name": "stdout",
          "text": [
            "Epochs: 1 | Train Loss:  0.664                 | Train Accuracy:  0.371                 | Val Loss:  0.767                 | Val Accuracy:  0.146\n"
          ]
        },
        {
          "output_type": "stream",
          "name": "stderr",
          "text": [
            "100%|██████████| 1536/1536 [02:47<00:00,  9.15it/s]\n"
          ]
        },
        {
          "output_type": "stream",
          "name": "stdout",
          "text": [
            "Epochs: 2 | Train Loss:  0.561                 | Train Accuracy:  0.543                 | Val Loss:  0.908                 | Val Accuracy:  0.120\n"
          ]
        },
        {
          "output_type": "stream",
          "name": "stderr",
          "text": [
            "100%|██████████| 1536/1536 [02:47<00:00,  9.18it/s]\n"
          ]
        },
        {
          "output_type": "stream",
          "name": "stdout",
          "text": [
            "Epochs: 3 | Train Loss:  0.436                 | Train Accuracy:  0.697                 | Val Loss:  1.085                 | Val Accuracy:  0.090\n"
          ]
        },
        {
          "output_type": "stream",
          "name": "stderr",
          "text": [
            "100%|██████████| 1536/1536 [02:47<00:00,  9.17it/s]\n"
          ]
        },
        {
          "output_type": "stream",
          "name": "stdout",
          "text": [
            "Epochs: 4 | Train Loss:  0.330                 | Train Accuracy:  0.788                 | Val Loss:  1.255                 | Val Accuracy:  0.087\n"
          ]
        },
        {
          "output_type": "stream",
          "name": "stderr",
          "text": [
            "100%|██████████| 1536/1536 [02:47<00:00,  9.18it/s]\n"
          ]
        },
        {
          "output_type": "stream",
          "name": "stdout",
          "text": [
            "Epochs: 5 | Train Loss:  0.257                 | Train Accuracy:  0.839                 | Val Loss:  1.398                 | Val Accuracy:  0.081\n"
          ]
        },
        {
          "output_type": "stream",
          "name": "stderr",
          "text": [
            "100%|██████████| 1536/1536 [02:47<00:00,  9.17it/s]\n"
          ]
        },
        {
          "output_type": "stream",
          "name": "stdout",
          "text": [
            "Epochs: 6 | Train Loss:  0.203                 | Train Accuracy:  0.872                 | Val Loss:  1.518                 | Val Accuracy:  0.081\n"
          ]
        },
        {
          "output_type": "stream",
          "name": "stderr",
          "text": [
            "100%|██████████| 1536/1536 [02:47<00:00,  9.17it/s]\n"
          ]
        },
        {
          "output_type": "stream",
          "name": "stdout",
          "text": [
            "Epochs: 7 | Train Loss:  0.165                 | Train Accuracy:  0.902                 | Val Loss:  1.657                 | Val Accuracy:  0.081\n"
          ]
        },
        {
          "output_type": "stream",
          "name": "stderr",
          "text": [
            "100%|██████████| 1536/1536 [02:47<00:00,  9.18it/s]\n"
          ]
        },
        {
          "output_type": "stream",
          "name": "stdout",
          "text": [
            "Epochs: 8 | Train Loss:  0.135                 | Train Accuracy:  0.919                 | Val Loss:  1.761                 | Val Accuracy:  0.077\n"
          ]
        },
        {
          "output_type": "stream",
          "name": "stderr",
          "text": [
            "100%|██████████| 1536/1536 [02:47<00:00,  9.18it/s]\n"
          ]
        },
        {
          "output_type": "stream",
          "name": "stdout",
          "text": [
            "Epochs: 9 | Train Loss:  0.107                 | Train Accuracy:  0.939                 | Val Loss:  1.868                 | Val Accuracy:  0.077\n"
          ]
        },
        {
          "output_type": "stream",
          "name": "stderr",
          "text": [
            "100%|██████████| 1536/1536 [02:47<00:00,  9.19it/s]\n"
          ]
        },
        {
          "output_type": "stream",
          "name": "stdout",
          "text": [
            "Epochs: 10 | Train Loss:  0.086                 | Train Accuracy:  0.953                 | Val Loss:  1.955                 | Val Accuracy:  0.066\n",
            "\n",
            "Training time is:  0.491 hrs.\n"
          ]
        }
      ]
    },
    {
      "cell_type": "markdown",
      "source": [
        "## Test with the `se_test_df` "
      ],
      "metadata": {
        "id": "Vz6foFuEbhWR"
      }
    },
    {
      "cell_type": "code",
      "source": [
        "#evaluate(sem_eval_model, se_test_df) \n",
        "evaluate(imdb_model, se_test_df) "
      ],
      "metadata": {
        "id": "W2hDFbB4Rs9Y",
        "outputId": "4c4efff7-7a2c-47fe-aa8a-5acd41cdd388",
        "colab": {
          "base_uri": "https://localhost:8080/"
        }
      },
      "execution_count": 37,
      "outputs": [
        {
          "output_type": "stream",
          "name": "stderr",
          "text": [
            "100%|██████████| 174/174 [00:05<00:00, 30.11it/s]"
          ]
        },
        {
          "output_type": "stream",
          "name": "stdout",
          "text": [
            "\n",
            "Test Accuracy :  0.245\n"
          ]
        },
        {
          "output_type": "stream",
          "name": "stderr",
          "text": [
            "\n"
          ]
        }
      ]
    },
    {
      "cell_type": "markdown",
      "source": [
        "The accuracy is still low. Let us train the same model with no changes in its structure for more 10 epochs."
      ],
      "metadata": {
        "id": "ZTa7r1ipcdDg"
      }
    },
    {
      "cell_type": "code",
      "source": [
        "EPOCHS = 10 # Train for more 10 epochs\n",
        "\n",
        "#imdb_model.classifier = nn.Linear(768, 4) # no need to modify here\n",
        "learning_rate = 1e-6 \n",
        "# train the modified imdb_model with the semeval data set\n",
        "train(imdb_model, se_train_df, se_val_df, learning_rate, EPOCHS)"
      ],
      "metadata": {
        "id": "aUZhRrKCcYkv",
        "outputId": "fd763b03-b10a-4d68-9e9e-25abea3bf674",
        "colab": {
          "base_uri": "https://localhost:8080/"
        }
      },
      "execution_count": 42,
      "outputs": [
        {
          "output_type": "stream",
          "name": "stderr",
          "text": [
            "100%|██████████| 1536/1536 [02:48<00:00,  9.12it/s]\n"
          ]
        },
        {
          "output_type": "stream",
          "name": "stdout",
          "text": [
            "Epochs: 1 | Train Loss:  0.068                 | Train Accuracy:  0.960                 | Val Loss:  2.060                 | Val Accuracy:  0.072\n"
          ]
        },
        {
          "output_type": "stream",
          "name": "stderr",
          "text": [
            "100%|██████████| 1536/1536 [02:47<00:00,  9.16it/s]\n"
          ]
        },
        {
          "output_type": "stream",
          "name": "stdout",
          "text": [
            "Epochs: 2 | Train Loss:  0.053                 | Train Accuracy:  0.969                 | Val Loss:  2.158                 | Val Accuracy:  0.068\n"
          ]
        },
        {
          "output_type": "stream",
          "name": "stderr",
          "text": [
            "100%|██████████| 1536/1536 [02:47<00:00,  9.16it/s]\n"
          ]
        },
        {
          "output_type": "stream",
          "name": "stdout",
          "text": [
            "Epochs: 3 | Train Loss:  0.045                 | Train Accuracy:  0.974                 | Val Loss:  2.260                 | Val Accuracy:  0.077\n"
          ]
        },
        {
          "output_type": "stream",
          "name": "stderr",
          "text": [
            "100%|██████████| 1536/1536 [02:47<00:00,  9.17it/s]\n"
          ]
        },
        {
          "output_type": "stream",
          "name": "stdout",
          "text": [
            "Epochs: 4 | Train Loss:  0.038                 | Train Accuracy:  0.976                 | Val Loss:  2.307                 | Val Accuracy:  0.076\n"
          ]
        },
        {
          "output_type": "stream",
          "name": "stderr",
          "text": [
            "100%|██████████| 1536/1536 [02:47<00:00,  9.16it/s]\n"
          ]
        },
        {
          "output_type": "stream",
          "name": "stdout",
          "text": [
            "Epochs: 5 | Train Loss:  0.033                 | Train Accuracy:  0.980                 | Val Loss:  2.399                 | Val Accuracy:  0.081\n"
          ]
        },
        {
          "output_type": "stream",
          "name": "stderr",
          "text": [
            "100%|██████████| 1536/1536 [02:47<00:00,  9.16it/s]\n"
          ]
        },
        {
          "output_type": "stream",
          "name": "stdout",
          "text": [
            "Epochs: 6 | Train Loss:  0.029                 | Train Accuracy:  0.980                 | Val Loss:  2.487                 | Val Accuracy:  0.077\n"
          ]
        },
        {
          "output_type": "stream",
          "name": "stderr",
          "text": [
            "100%|██████████| 1536/1536 [02:47<00:00,  9.17it/s]\n"
          ]
        },
        {
          "output_type": "stream",
          "name": "stdout",
          "text": [
            "Epochs: 7 | Train Loss:  0.028                 | Train Accuracy:  0.980                 | Val Loss:  2.567                 | Val Accuracy:  0.077\n"
          ]
        },
        {
          "output_type": "stream",
          "name": "stderr",
          "text": [
            "100%|██████████| 1536/1536 [02:48<00:00,  9.14it/s]\n"
          ]
        },
        {
          "output_type": "stream",
          "name": "stdout",
          "text": [
            "Epochs: 8 | Train Loss:  0.024                 | Train Accuracy:  0.981                 | Val Loss:  2.612                 | Val Accuracy:  0.074\n"
          ]
        },
        {
          "output_type": "stream",
          "name": "stderr",
          "text": [
            "100%|██████████| 1536/1536 [02:49<00:00,  9.08it/s]\n"
          ]
        },
        {
          "output_type": "stream",
          "name": "stdout",
          "text": [
            "Epochs: 9 | Train Loss:  0.024                 | Train Accuracy:  0.982                 | Val Loss:  2.683                 | Val Accuracy:  0.076\n"
          ]
        },
        {
          "output_type": "stream",
          "name": "stderr",
          "text": [
            "100%|██████████| 1536/1536 [02:49<00:00,  9.09it/s]\n"
          ]
        },
        {
          "output_type": "stream",
          "name": "stdout",
          "text": [
            "Epochs: 10 | Train Loss:  0.023                 | Train Accuracy:  0.980                 | Val Loss:  2.698                 | Val Accuracy:  0.081\n",
            "\n",
            "Training time is:  0.492 hrs.\n"
          ]
        }
      ]
    },
    {
      "cell_type": "code",
      "source": [
        "evaluate(imdb_model, se_test_df) "
      ],
      "metadata": {
        "id": "_NobjE_yciSH",
        "outputId": "4475009b-0d03-415d-b834-2596a5275894",
        "colab": {
          "base_uri": "https://localhost:8080/"
        }
      },
      "execution_count": 43,
      "outputs": [
        {
          "output_type": "stream",
          "name": "stderr",
          "text": [
            "100%|██████████| 174/174 [00:05<00:00, 30.05it/s]"
          ]
        },
        {
          "output_type": "stream",
          "name": "stdout",
          "text": [
            "\n",
            "Test Accuracy :  0.242\n"
          ]
        },
        {
          "output_type": "stream",
          "name": "stderr",
          "text": [
            "\n"
          ]
        }
      ]
    },
    {
      "cell_type": "markdown",
      "source": [
        "It shows a closer accuracy as one with the first ten epochs."
      ],
      "metadata": {
        "id": "DpUF0T0ycXQc"
      }
    },
    {
      "cell_type": "markdown",
      "source": [
        "The following two cells are the performance of the base-cased BertModel with only two epochs. It was a better accuracy but requires longer time to train it."
      ],
      "metadata": {
        "id": "PplOdkwDcvPS"
      }
    },
    {
      "cell_type": "code",
      "source": [
        "EPOCHS = 2\n",
        "\n",
        "imdb_model.lin = nn.Linear(768, 4) # modify the number of output neurons\n",
        "learning_rate = 1e-6 \n",
        "# train the modified imdb_model with the semeval data set\n",
        "train(imdb_model, se_train_df, se_val_df, learning_rate, EPOCHS)"
      ],
      "metadata": {
        "colab": {
          "base_uri": "https://localhost:8080/"
        },
        "id": "pJJbAZKChve-",
        "outputId": "3a6ea81b-6e12-4044-e4bb-264e2d4a2a3b"
      },
      "execution_count": null,
      "outputs": [
        {
          "output_type": "stream",
          "name": "stderr",
          "text": [
            "100%|██████████| 1536/1536 [05:24<00:00,  4.73it/s]\n"
          ]
        },
        {
          "output_type": "stream",
          "name": "stdout",
          "text": [
            "Epochs: 1 | Train Loss:  0.670                 | Train Accuracy:  0.376                 | Val Loss:  0.740                 | Val Accuracy:  0.113\n"
          ]
        },
        {
          "output_type": "stream",
          "name": "stderr",
          "text": [
            "100%|██████████| 1536/1536 [05:27<00:00,  4.69it/s]\n"
          ]
        },
        {
          "output_type": "stream",
          "name": "stdout",
          "text": [
            "Epochs: 2 | Train Loss:  0.593                 | Train Accuracy:  0.595                 | Val Loss:  0.764                 | Val Accuracy:  0.133\n"
          ]
        }
      ]
    },
    {
      "cell_type": "code",
      "source": [
        "#evaluate(sem_eval_model, se_test_df) \n",
        "evaluate(imdb_model, se_test_df) "
      ],
      "metadata": {
        "colab": {
          "base_uri": "https://localhost:8080/"
        },
        "id": "CociTaMuiDP1",
        "outputId": "765870a1-1387-426e-ee65-118e903cd726"
      },
      "execution_count": null,
      "outputs": [
        {
          "output_type": "stream",
          "name": "stderr",
          "text": [
            "100%|██████████| 174/174 [00:10<00:00, 16.06it/s]"
          ]
        },
        {
          "output_type": "stream",
          "name": "stdout",
          "text": [
            "\n",
            "Test Accuracy :  0.280\n"
          ]
        },
        {
          "output_type": "stream",
          "name": "stderr",
          "text": [
            "\n"
          ]
        }
      ]
    },
    {
      "cell_type": "markdown",
      "source": [
        "We can see from the following cells that the `imdb_model` trained with the semeval dataset is now able to predict four categories. "
      ],
      "metadata": {
        "id": "jO9sxJTzdQs5"
      }
    },
    {
      "cell_type": "code",
      "source": [
        "# predict for 5 random sentences from semeval test dataset\n",
        "# The imdb_model is now predicting the emotion of the semeval dataset\n",
        "predict_on_samples_from_df(imdb_model, se_test_df, n_samples=5) "
      ],
      "metadata": {
        "id": "ELqeydbYbSiv",
        "outputId": "a33363af-fbec-405d-cc0f-caed32d8f067",
        "colab": {
          "base_uri": "https://localhost:8080/"
        }
      },
      "execution_count": 38,
      "outputs": [
        {
          "output_type": "stream",
          "name": "stdout",
          "text": [
            "Predict the following text:\n",
            "\n",
            "@LeePorter94 @DomMcGovern_ hi Dom I saw u at Notts county away, looking for 1 mufc away ticket will pay #blues\n",
            "==================================================\n",
            "The predicted emotion is : fear\n",
            "The exact emotion is:  sadness\n",
            "++++++++++++++++++++++++++++++++++++++++++++++++++ \n",
            "\n",
            "Predict the following text:\n",
            "\n",
            "@MacDsmash you should get some @SSB_Swedish delight\n",
            "==================================================\n",
            "The predicted emotion is : joy\n",
            "The exact emotion is:  joy\n",
            "++++++++++++++++++++++++++++++++++++++++++++++++++ \n",
            "\n",
            "Predict the following text:\n",
            "\n",
            "im thoroughly in love w zen and jumin and i dont think id even have the patience for either of them irl im old and weary\n",
            "==================================================\n",
            "The predicted emotion is : fear\n",
            "The exact emotion is:  sadness\n",
            "++++++++++++++++++++++++++++++++++++++++++++++++++ \n",
            "\n",
            "Predict the following text:\n",
            "\n",
            "If Angelina Jolie can't keep a man no one can. Today we mourn because Love is dead\n",
            "==================================================\n",
            "The predicted emotion is : fear\n",
            "The exact emotion is:  sadness\n",
            "++++++++++++++++++++++++++++++++++++++++++++++++++ \n",
            "\n",
            "Predict the following text:\n",
            "\n",
            "It's the most magical time of the year......Xmas party announced and the #outrage commences. Gotta love Silicon Valley millennials.\n",
            "==================================================\n",
            "The predicted emotion is : sadness\n",
            "The exact emotion is:  anger\n",
            "++++++++++++++++++++++++++++++++++++++++++++++++++ \n",
            "\n"
          ]
        }
      ]
    },
    {
      "cell_type": "code",
      "source": [
        "# predict for 5 random sentences from semeval test dataset\n",
        "# The imdb_model is now predicting the emotion of the semeval dataset\n",
        "predict_on_samples_from_df(imdb_model, se_test_df, n_samples=5) "
      ],
      "metadata": {
        "colab": {
          "base_uri": "https://localhost:8080/"
        },
        "id": "nX9Rlx5TiH9l",
        "outputId": "950eebe6-815a-46ea-8b5e-c38ca762e821"
      },
      "execution_count": null,
      "outputs": [
        {
          "output_type": "stream",
          "name": "stdout",
          "text": [
            "Predict the following text:\n",
            "\n",
            "All Brian does is sleep and aggravate me\n",
            "==================================================\n",
            "The predicted emotion is : sadness\n",
            "The exact emotion is:  anger\n",
            "++++++++++++++++++++++++++++++++++++++++++++++++++ \n",
            "\n",
            "Predict the following text:\n",
            "\n",
            "Sorry guys I have absolutely no idea what time i'll be on cam tomorrow but will keep you posted. #fuming\n",
            "==================================================\n",
            "The predicted emotion is : sadness\n",
            "The exact emotion is:  anger\n",
            "++++++++++++++++++++++++++++++++++++++++++++++++++ \n",
            "\n",
            "Predict the following text:\n",
            "\n",
            "Whatt a trailerrrr !!! @karanjohar @AnushkaSharma #RanbirKapoor #AishwaryaRaiBachchan i am COMPLETELY BLOWN !! #awestruck #longingformore\n",
            "==================================================\n",
            "The predicted emotion is : joy\n",
            "The exact emotion is:  fear\n",
            "++++++++++++++++++++++++++++++++++++++++++++++++++ \n",
            "\n",
            "Predict the following text:\n",
            "\n",
            "@CNNPolitics I can't wait to hear what he had to say about the brilliant Dr. Hawking... it should be rich... In the poorest of taste! \n",
            "==================================================\n",
            "The predicted emotion is : sadness\n",
            "The exact emotion is:  fear\n",
            "++++++++++++++++++++++++++++++++++++++++++++++++++ \n",
            "\n",
            "Predict the following text:\n",
            "\n",
            "@PhilGlutting Hey There Phil Glutting thank you for following us, it's appreciated :) #smile\n",
            "==================================================\n",
            "The predicted emotion is : joy\n",
            "The exact emotion is:  joy\n",
            "++++++++++++++++++++++++++++++++++++++++++++++++++ \n",
            "\n"
          ]
        }
      ]
    },
    {
      "cell_type": "markdown",
      "source": [
        "## User Input Sentences"
      ],
      "metadata": {
        "id": "wmOvJPo_dwN6"
      }
    },
    {
      "cell_type": "code",
      "source": [
        "_, se_decoded_labels = encode_decode_labels(se_train_df)\n",
        "se_decoded_labels \n",
        "# We can also test with our own statemnts \n",
        "#predict(device, sem_eval_model, se_decoded_labels,\n",
        "predict(device, imdb_model, se_decoded_labels,\n",
        "        \"Your really did great to me. I am proud of you.\")"
      ],
      "metadata": {
        "colab": {
          "base_uri": "https://localhost:8080/"
        },
        "id": "jM8Qq0uoiODE",
        "outputId": "8c95f1fa-5997-4e67-f824-d352a006cc61"
      },
      "execution_count": null,
      "outputs": [
        {
          "output_type": "stream",
          "name": "stdout",
          "text": [
            "The predicted emotion is : joy\n"
          ]
        }
      ]
    },
    {
      "cell_type": "code",
      "source": [
        "# We can also test with our own statemnts \n",
        "predict(device, imdb_model, se_decoded_labels,\n",
        "        \"Your really did bad to me. I feel sorry.\")"
      ],
      "metadata": {
        "id": "_m-rmgnSbojA",
        "outputId": "34b08a8b-0c51-4c51-9eb4-866ec2c8a8fc",
        "colab": {
          "base_uri": "https://localhost:8080/"
        }
      },
      "execution_count": 41,
      "outputs": [
        {
          "output_type": "stream",
          "name": "stdout",
          "text": [
            "The predicted emotion is : sadness\n"
          ]
        }
      ]
    },
    {
      "cell_type": "code",
      "source": [
        "# what if a little modification of the above sentence\n",
        "predict(device, imdb_model, se_decoded_labels,\n",
        "        \"Your really did bad. I feel sad.\")"
      ],
      "metadata": {
        "id": "QOoAJt9LbjQo",
        "outputId": "3939ff94-a94f-4b8e-a668-34686c012680",
        "colab": {
          "base_uri": "https://localhost:8080/"
        }
      },
      "execution_count": 40,
      "outputs": [
        {
          "output_type": "stream",
          "name": "stdout",
          "text": [
            "The predicted emotion is : sadness\n"
          ]
        }
      ]
    },
    {
      "cell_type": "markdown",
      "source": [
        "# End of Part Two"
      ],
      "metadata": {
        "id": "AtwUrL2Wd44x"
      }
    },
    {
      "cell_type": "markdown",
      "source": [
        "# **Part Three**\n",
        "**Report**"
      ],
      "metadata": {
        "id": "ZcNwYduLeR3C"
      }
    },
    {
      "cell_type": "markdown",
      "source": [
        "I tried to add comments and some text sections along with doing the HW. The ***Table of Contents*** also can help more on how I arranged my codes and texts in the text boxes. \\\n",
        "To add a few things: \n",
        "\n",
        "*   First, I installed the hugging face transformers to access the BERT modules.\n",
        "*   Then imported the dependency libraries.\n",
        "*   After reading the SemEval dataset, I run some exercising cells to see how BERT works and what inputs and outputs it has.\n",
        "*   I defined a label encoder decoder common function. It takes the dataframe and encodes its emotion category. I renamed the 'sentiment' category of the IMDB dataset to 'emotion' so that I will have the same function for both.\n",
        "*   My next task was to customize the Dataset Class from pytorch to handle both the SemEval and the IMDB datasets.\n",
        "*   Then customized the DistilBert and Bert models, also making common to fit with both datasets to reduce code redundancy.\n",
        "*   After customizing the Bert model, I also have the common training, evaluation and prediction helper functions.\n",
        "*   After finishing the common parts, I create a Bert model for the SemEval dataset(`sem_eval_model`), train it, and test it.\n",
        "*   The next task is phase one of part 2 which is fine-tuning Bert for IMDB dataset. For this I downloaded the dataset which is arranged in a different way.\\\n",
        "Its arrangement was like the down below screenshot of the directory. It needs to read every file in each subfolders and make them on row in a dataframe, the subfolders 'pos' and 'neg' being the sentiment category values in the dataframe.\\\n",
        "I prefered this one than the available csv formats so that there will be no need to make datapath changes, download-upload stuffs. \n",
        "\n",
        "*   After reading the IMDB dataset, I created another model named `imdb_model` which predicts to two categories, pos and neg. Trained, evaluated and tested it shows a better accuracy than the `sem_eval_model`. \n",
        "*   The next task is to do the transfer learning/ second time fine-tuning. For this task, I changed the number of output neurons of the `imdb_model` from 2 to 4 so that it will be re-trained and tested with the SemEval dataset. Trained, evaluated, and tested the modified `imdb_model` with the semeval training, validation, and testing datasets. The observed result shows no significant performance improvement than the `sem_eval_model`. \n",
        "\n",
        "\n",
        "I tried to acknowledge some resources I used as refernces by mentioning the links unless there will be forgotten ones. "
      ],
      "metadata": {
        "id": "PyWRDLCUeeew"
      }
    },
    {
      "cell_type": "markdown",
      "source": [
        "**Organization of IMDB Dataset.**"
      ],
      "metadata": {
        "id": "Vq3uQy5zmu8A"
      }
    },
    {
      "cell_type": "markdown",
      "source": [
        "![image.png](data:image/png;base64,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) ![image.png](data:image/png;base64,iVBORw0KGgoAAAANSUhEUgAAAVEAAAFOCAYAAAA/9i4MAAAgAElEQVR4nOzdeXQc12Hn+29V73s3Gt3YGvsOECBAgDshiqRISrK1WZZtxUscJ++c7CeZvHkzJ5m845m8nLycTObNnOQl4/gldsaOndiydlEkxX0HCS4gARAEiH3futH73v3+ECVTFCkCBLiAup9z+A9Rt+pWofHrW/feuiWl0+k0giAIwj2RH3YFBEEQVjLlw67AUqVSKRKJBPF4/K7bKhQKlEolSuWKP+3PkCAeDhGY8RI0ZGAxajFpFEAaYn48vhDBhIzWZMeqk1HK0kOsa4qo300gnCSiMOGwalEpZFKxINGAG3fQgDHDiNGgXvkfVOGxteI/m6FQiMnJSQYHB0mlUp+5rd1ux+VykZWV9YBq9zDMMNp2iDf/9AccfOrf8a3n1vOV1XZIxmBwD//8o/0cHMug8dU/4bc2mMkxKR5SPVOAj+73/4Y9Z6c4a3uFP/+tjZRm6An1H6X97f/Bfzuwnef+8AWefaaKvIdUS0G4mxUdolNTU1y+fJn29nb8fj93697VarXU1NTQ1NSEy+VCkh5mK+x+SRKPBPBOTjI1HyYYS974/zQkAvg8M0zNgiecJJl62N3hKWKBebzuWaakMPFUmjSQioeJeCeZmvTiD8dJPORaCsJnWdEhOjIyQmdnJ11dXQsuE41GSaVSSJKEXq9HoVh4S8xgMDzmXQGCICzWik6E8fFxZmdnF1VmZGSEQCBAOp0mMzMTjUaz4LK5ubnYbLZFh68gCI+vFR2i8XicRGLxN3ter5dDhw6hUCgWdUuv0+nYsGEDW7ZsITMzc9HHFQTh8bOiQzSdTt+1H/R2UqkU4XB40eVCoRD9/f1kZ2ffc4jGfeNMDXbS1naerj43nlASdBkY82pY/8QG6osc5Jpu+bUkgiS9I7QdP0n7tSEGZwNEkmr0uTXUNjezpq6MSrv6nuoDEJq4zPDpH/PahQZqthRTlBdi4EwrXf0efBEJTWYB+XUb2b65hjytH/9QJ20nTnOx34M3KqG05pFV0cjWrc2UOPRYVDfvPUlkbpiJzjMcOtPF4FyIsGzBnF1Kw9ZVpH3Rz6xb0j/OwPlhzrSe4cpgiHBagz6rmKKatWzfXEOOSY1WTNQTHqIVHaIPWjKZxO12Mzk5ufjC6TSxyXbaL5zjzMVrXBsLEIsnSSXjJGanGO7vYXZujvknW9i0ppIC441ykVlmh7poO3qU4+1DTAUTJCUZORVnYmqCmelJJqc3E92+gXKrjO4efqMx3zhTl9/iwN5Brs1WUlmtJzI1hd89j3tymvnubi5cH8cTHKNMchOfGKRjaJq5YJSgd55Qfz9d3UPMBhU8s62GhhIbBgkgRWDsMt1txzl0+DSn+sNIOgMGUwh/yE8kPESqZ5i+eT3Yb61VHBjg6gU10VmJ0PgEbl8Ev8dL4HofV3om8MRldq0roTLbiOZxHCMUVgQRoosUjUbvoRWbJp2O4r78DvvePs3ePhPlLa+we3MeheY40dEOOg/+G2+9NcR8TA3ZJRRUqIAk0ekuuo6/zd/+/RHC1U+yfssmttTmkiVP03X8DQ6f/oAPBqbx2Cr4znob+eZ7PbMEcJWOyzFCimY2bHuB3XkQ7j3P+VMn2dP6Gj+ebCcroSDfUUjulmd4ts6O1tPLYNsJjh85yps/1mLMMJCTb6NEnYKEl5Fz77Hv7f38qFNN0drd7NqymtrsNImJi5zZc4hL18YYUldjKf3UlQaucL4tgj/RzMbNX+bpEhWR/nYunj7LwQt7+aFXh97wPHZbBXlakaLCwyFC9IGIkE6P03VljoCikbVf2Mpvf2cLTo0CrQzpmhJWr3ES/r3/yYnRQU71jPG1ikLAQ8+Zo5zY385QxnP87m9+jSfr8inQKVBICapWVVKU9Q+8v7+Lvd/fx6aSZ7Dcc4jKQB7Nz36dF17ZxRP5GjQKSNc3UF6aS376T/l/266j3PgbND73Mr+6KQeNWkZKraaxNJsqyxR//LOLjIy2MDTXQIkzCrOtnDl5ldOjOTie/TZ/9q0myp1mtApIJ5rY/MQ69v7dP/LOxSgDn6qPArCz6ulXef6Fp3imVIdGKZGuW0t9bRUN+3/In/7sDc5eKKMgv5C8Su29/3oEYQkWFKLpdJpoNEp7eztTU1OLPojBYGDt2rUYDIbP6ai2Gkl2Uv3sN8kIaZCs2RRY9Ki48dytyoRSzsamUsCsB+/4DH4K0AdHGR2aYtivJ2fbk6wuyqHAokcnA2hQqwupXNNCIGYhMJJGCdzDONsNCqCA7KxcigotmD/KJI0GR3Y+VVXVaC4kcblKqajMw2r6aFaDBmVmFoUlRajkVkKRIMEYpBNxgsMdDM4ESdoq2L5lLYVZNix6BR+2GZXodOXk5VpwDEzfJkTVQCWlhYVUl1oxG250fGq0ZBaXU7VhIxt//iOuj0zQPeHhi5U593rigrAkC26JSpKELMvMz88zOjpKMBi86xNCer2e7OxsysvLkSTpMZ3cvhAKJMlETk0jdt8s7qlh2g61MucOEo4nSREmmZikfc6LWxXFEIwQTafRescYd88zIRkpqasiy6S7EaA3SFpsRY3Ua7JRTysosGjRsvgBsxs7AyxoNVr02k/+v0qjw2zLQlYksJgsWC2fnBamVKnRGc3IcoxkKkEyCalknPnxa7iDCVTWLKpLMtGp4JefABkUBrQ6FdrbNiIVQCZWox6L4ZMjR0qjFUt+KRVmmW6Pm+k5D1FyUHPz/gXhwVhQiEqShEajoaGhAbVajdvtZnx8nEgkctsglSQJpVKJxWKhoqKCjRs3olKpPschCpAi5p9g9OolLp07y5HLVxkZ9hCIJEhKH/aZ+qc9BPMgHyCdBu8MM+EAbrWV9XYbmttM9FfZCsmzFZJX89H/eJi4b+egBFleUFKlUgm8nhGiESUqpRmDEaTlGkWXlUgqA0aLjDIaJO4PEQRUiBAVHrxF9YkqlUoqKysxGAy89dZbDA4OEgwGP7WdSqUiJyeH7du3U1NTIwKUFOlUhJFDf8+P3u7i+JSD6mdf5uuvllHmMGPWhknGenn73/8tB28z40eWZXENBeERtagQ/ahFmpuby+7duzlx4gTd3d34fL6Pt9Hr9eTn57Nt2zbKysrQ6/Xijz8VJB28xvnDVxmK5JC39Qv82u4GcjPMmLVq1Ao/iagPm1qN+qMQlSSwZpGlN2GPRLk+NU2kIoMP21u/lAy5CXq9TAdkTLk5WHQP/OxuS5aV2DKK0GhHiSe8BIKQsvLhXfpSpeKkYgH8nhTxPCNqswEjohUqPByLvsGSJAmdTkdlZSVr166luroak8n08bPoxcXFbNiwgdraWqxWK7IsZkKTipKOTDAy5MWdtmMpraapNJccmxGDTo1KBlUsQDidJPZRGUkCi4tcu41s/Fy/eIVJX4jwJ3pP4ngHL9J+dB+v7e1hZD7CZ09df3BkpRpLUR05Fg14J7jcM0U4luCXj0YkITFP0Bsl4LvdHpLAFG5fALf/k11GcZ+b+cFrdAVSaB0OcrPsoj9UeGjuaYqTJEmoVCrq6+tRKpVEIhF6e3vJz8+nublZ9IHeKi0DKhRamXhsHvfUKKNTJjRKCUU6QTwwirfvCoPBEF7ABoAE+lzyi3Mpsvdw8vRhLm1yYNIUUmBUoZQSRAOTdJ75gANHejjA12h6NkH6EbnkklKNobSJ6rwLXB0b5tixkzztWks6x4pBBenYPMHZy/T1zTExAxTfuocY0Mv1vh4ud+aRXW7BoJUhFsHTc5X2U2c5J1toKnZR68p48CcoCDcsaZ7orX2kLS0t1NbWigC9ldKAZK2hvtZMx5FjXPzZMH88vo1VThWm1BRTgz0cO9bBrD9CuACKgA/bVTbK125ms2eWQ3/zLj/+ey/XW7bwRL2LbHmSjsOvcah1hllLM8/83m6qnEbMUojph3u2H5LVYFhD46YqBqffovW9v+ZPJ57hma2N1OWkSYy3ceKtA1zsn2FUX/fpB5ZIArN0vPs9PL2tXNm4gy2Neui/xOVTrXxwcZJQ+ausqa+kLldMdxYeniV9+j7qI83Ly+P555/H4XCg0+lEgN5KUiEpHdS/8G0C1mMYznRx6dQ7jCtU6KxZ2F0VbP2NbSTO/IiLEwHi427mUmCQZXSOWmqeVPEfdTkcO3OV4fNv8a+taUgniems5Gxq4ck1G3hilQmHXn6E3vcigaQma80XeUq2orIc40jXaU69fpHzRgtGSyaulm/zVPH79M3BpxYzlHVg28zWLfkUOeJMXd/DG2d9BHwBIgorWeu/xKvP76alOgebyFDhIVryx++jPtLy8vLlqM9jSkaSdGRWbWGdOgNTVil518YIxxUoLC5ySitpbC6F/AQVAxoimS4M3BiD0WZgK6ynJSMTsy2Hzr4RRt0hwik1+vwqaurqqS8vpMj2UXwasebXsvbVr6GrK6HKeWOkSVKCrYbmljhaj4miIh0G9Ydl1NYCcte+ygvaVVRXOrj1oSeFwYm1ahsvvAyu2jyyb109UGNDl7+e579kwFpXRvFNO9A5KilvMmAxZpKR38OIO0xENmF0lrJq4zqy501MTPnokIvI1KpQAFp7CQXrv87LWWtoWpeNU+dmIKOdnqF5gmk12swC8isb2LK2BKdRjVp8ZwsPkbSS3/b52muvce7cOWZmZh7YMe12O2vWrOHVV199YMcUBOHR9ejc/QmCIKxAIkQXSalUolKp7r6hIAifCys6RDMzM7FarQ/0mGazGYfD8UCPKQjCo2tFj2uWlpYyMzODx+MhFovdvcASqdVqioqKKCoquu/HEgRhZVjRA0vJZBKPx8Pw8DADAwN3XVVqqUpKSsjPz8dut39Ol/QTBOFWKzpEARKJBOFw+OM3eN5PRqMRnU4n+kQFQfjYig9RQRCEh2lFDywJgiA8bCJEBUEQlkCEqCAIwhKIEBUEQVgCEaKCIAhLIEJUEARhCUSICoIgLIEIUUEQhCUQISoIgrAEIkQFQRCWQISoIAjCEogQFQRBWAIRooIgCEsgQlQQBGEJRIgKgiAswYp+PcijKBqNEggEmJ+fv+u2er0es9mMwWB4ADUTBOF+ECG6jCKRCOPj4wwODjIyMnLX7TMyMigvL6ewsBCdTvcAaigIwnITIbqMRkdHOXz4MG1tbQt6VYkkSTQ1NdHS0kJ1dfUDqKEgCMtNhOgySafT9Pf3MzExQTweX3C5q1evEo/HiUajWK1WlMqF/UpkWSYzMxO1Wn0PtY2TiMxy+bW/49BlC6miTbzy25vIA+5lb0sydY5Tp07yoyOjFD/zO3xxTR41zgdeC0G4ZyJEl9H8/DyhUGhRZbxeLz09PaRSKYxG44JDVJIk7HY7paWluFwu9Hr9Io6aIpUMMdPTyqXTDlKBEp4Gkouq+TIJTzPZ387RE9fw1n6TzVU5D6MWgnDPRIguo0QiQTK5+Cjy+/1cvHhx0eXUajVbtmxBo9FQWFi4oDIx3zjz7glGpqYYmosSiAdJeUfovdJBVO+g0GHBbtby0Quhk1E/Id88s24fwViSlKREpTVhtGSQadOhUcqfnOKRihML+/G553AHosQSKdKyCqXGiMmWgc2kRa9Mkox4mRyawT88xMi0n1QiTmDiOv3X4jjSWViz87FrQSEt+rIIwgMl3va5TNLpND/96U+5ePEic3NzD+y4JSUlbNy4kR07dixo+7HDf8Ge13/E/3MwTSoRI5GUQFag0puQVv86f/CdXXztyVLMN7YP9J/gwuH3+Olrhzg/ESKozCCrYgMbd3+Vb36xmqIMHdqbgy4ywciVExx+4+f84tR1Rt1RkrpsbMUbeOLFl3lxczl1Dg++3gP8tz/8J06NzTKWTBBPppGVapSyROXWl/jC7/45X6sAs7izFx5xiu9+97vffdiVeFx0dHQwOTlJOBx+YMfUarU4HA6qqqoWViAlo7W4yC4qxR4eJhSyY8xfz9PfeI4nG1ezvjqPXJsWKepj9OD3+MnP9/BuRxDKtvBEy2bWlFmwxsfpO3uKM5NatFYLuU4TGpIQH6Xt7Z/y1msH2Dugw7V+Oxs3raGpyILV30f7uVN0BzTE9Q5qci1IxjxKCg3olFEGZhNkr3+RnU8+yc6WjdSUF5NnBKWYySw84sTt/AqXSCRIJBIL3l6fVUOpwYm5ZIwzQ0cYmbSRzF7N5md2Uaoykm01oIx5iU1e4si+Q1yayURVuolntq+jOtuIMjLB1LWzXDx6hJ+d3ktrfgauvCwaLDHioxdpO3eW82MJLGu/wlNPVVPuVKAOTDB+tY30L37CldbznDW62LyqktptWVQPQSw6xYGrQexVm1nXUsrGskx0VlCJABVWgBUZoqlU6uNJ7YsZCYcPW24GgwGNRnOfavdoUxptWIx6dCaZPrMKrVJHyuDAVVRAAaADEnPX8XTv44M2P3LLi+x86Ut8ebXlxh6KKXfZqbT5OfOf32Xg2jo6GppoMCZITnQzMOXGbarhmae+QEujhky9hEQpRWWlGAPXUJ9TIwejeFU2SvNtqJNOMq16ZIUCvT2PbFchudnah3iFBGFxVmSIxmIxhoeHOXv2LNPT04sqW1ZWRkNDAwUFBUiSGLW4nYBnnOsXP2AkvJmW0hpWV5k/8XPZYkVfuYoN6r2cmXUzNO1BqrKgM5vRqDXEPAHGR0fw1xZi1alRSUo0hlyaXv1LKl9Kk1Rq0QGqh3N6grCsVmSIqtVqXC4XgUCAUChER0fHgspt2rSJyspKnE6nCNA7ChMO+Bkf9BOPneXwT0e4etSC8ROXK0YyOs/YpBtPQQJXOAFKLRTv5gtPzaI4eI4jP/gT/vgdE1ZnAbll1VTX17GmopAskxqDWkKSQfwGhMfBigxRWZYxGAyUlJQQCAQ+MdfydgwGAxUVFVRXV5OXlycesfxMSZKJOOFQmpTaiNFswWqx8Omn+x1k7CiHimrqsnQgKcFYSPW63Ug6J+ZLQ8xMzeL2jTHQPsd43yU6swspX7OR+tpy6rLF70B4PKzIEP2IzWajrq4OhUKBz+djbm6OaDT6iW0MBgPFxcXs2LGDwsJCsdjHXSmQFQrUGiWSppJVW3awa1s5rjs1G/WZWDM+7C9NJ8FY0Eyzq4412+aY6O7l2kAfXb3ddHde5NSJfVwaDDITN1K4swSjQiwjJqx8KzpE4cMgXb16NUqlkvfff/9TC3+UlZWxfft2KisrUSgUd9iL8Es6NFoDmU4J5QUlJquL/Jpaau70SZEkJCTS6TTxcJh4UkZWqtCZ8nA15ZK3poUnU0FCs9c48t//Iz8+3co5VTZNW0po1n84kCUIK9mKbwhIkoRer6e6upqtW7dSUVHx8c+amprYtGkTxcXFIkBvQyWDfJsWptHipKR2A3pNBxfbL3Hy3DRJWUaSZWRZRpYhnYwxea2f2dl5wkAy4mX88P/F9/7vP+cvv7efM26JSFpGVihRqozojLmUVuZiMUskEhFicUinAUmBJClW/re58Ln1WHx2FQoFFouFVatWkUwmP56+tHbtWsrKyjAajQ+5ho8aBbKsx5ppQmuYY8jTxZm2euQME3kOMwarC+fqL7Kz4fscHzvF8XfT2GNNlOU5sKgTJLxjjF3v4lx7kOwNW2lY30CNUUJvVBEY7+DilXn8ehnvujKKbBo0MQ+ekQ5OXZljUlGEI8uBUwMKGTCYMRvMuGIxZrrauVaUIEvjwmLMIsNwYxtBeIQ9Vk8sGQwGjEYjdrudoqIiKioqsFqtD+z4D+OJJYPBQF5eHjU1NYsoJUNaJh3soW90kP6paYbnZZIRJZYMMxlZmejNOeTJ03gmBui/3kfv6BxuzxyTI730Xj7H2ZMnuDicQJlbRl6Bi2KrCoPVSHB2mumhfjq6+nFHQrgnhxnuvsCls8c52BlDKt7Mui3r2b7Kjk4CSREnND3D/JUerk7OE0vMkVBoUJtLcJjEE0vCo++xaInezOl04nQ6AcQ0ps8gq7TkbvoGO8bi+Kf28t6b/8D1id/BWOCirNSBXmul8At/yK/lH6D2wHu89f57vH40TAg95uwKyhtf4pu/8wwbKp3kmVUfzleyrefpb2VSWnuUPb94h73vfY+j8zHiKiuG7BrW7PomLz/dxIbq7I+fzUdTTFHDZl789gDj/3yQ9rcvMDObRFu6g5oUiGn3wqNOLECyTB7WAiQOh4N169bx8ssvL7JkGlJhvFPjTE/NMhNKgyWfglw72TbdjW/XFLGAG9/cDNOzXrzRJElklGoDBnMmWTmZWPQqNDcvtZQME/Z5mJmaZtYXIhJPkZZUKDRGLJlZZGWaMevVKG8uEvUT9kwwMjaHLwoaq5OsglKcenE7Lzz6HruWqLBQEsh6LDllWHLKKL/tNjJqYyaZxkwyF7bSHih06Gw6Cmy5FCy0iMaEMdtEdfYCCwjCI0R8z69wsiyLbgtBeIhEiK5wSqXyHl8RIgjCchAhuowqKirIyXmwr7fIzs6moGChN86CICw30Se6TCRJori4mHA4jNFoxOPx3PfjZWRkUFtbi8vluq/HEgThzsTo/DILBALMzMwwNjZ2X48jyzIul4vMzMxFvqROEITlJEL0PnhQl1QMKAnCwydu5+8DEW6C8PkhBpYEQRCWQISoIAjCEogQFQRBWAIRooIgCEsgQlQQBGEJRIgKgiAsgQhRQRCEJRAhKgiCsAQiRAVBEJZAhKggCMISiBAVBEFYAhGigiAISyBCVBAEYQlEiAqCICyBWArvc2Ch65uKJfwEYfFEiD7mPB4PU1NTzM7OfuZ2CoWCqqoqzGYzCoXiAdVOEFY+EaKPqVQqxdjYGJ2dnfT19eH3+z9ze6VSyfT0NPX19RQUFIggFYQFEiH6mEomk/T09HDu3DkGBgbuur0sy0xOTpJMJpEkCYfDseBjKRQK1Go1siy62IXPHxGij6lUKsXIyAjz8/ML3t7tdnPy5EncbjebN29e8LH0ej12ux2dTidasMLnjghR4RP8fj8dHR0MDQ0tuIxKpSIjI4Nt27ZRWFiI0Wi8jzUUhEeLCFHhExKJBD6fD5/Pt+AysiwzOzuL1WrFYDAsMkSjeIY66W07xTnW0VxlxM4U/Z1d9I5HiKTVGDMLya9opKk+B5tWifrmSQTpKIHpIUavXuZCzyizwQRJpQWjo4iqNU3U5JmxG275mMcDhN0jdF04T/eQm5lQCvQ2MovqWFOmIjExzED3DOYdX2VVjg6HbhGnI3zuiBAVliyVShGJRBgYGKCurm6RpWN4Ry9z6d3v84PIHJPNGZTqZujp6qJ/LIjbH0EyFpCzykNI/zSbSuzkGpRAClIhZga6uHb+HG2t57k45sYfiZNIa1Eb8+ie8uPd0sSa8lxyzaoPD5fw4R7uprv1OHv3H6NzMoIfDYaMDGz9M8wPJvFevUznpTmqyl4kxyZCVPhsIkSFR0MyDFNHOfgLI9eLKih/4mt8+zmY6TrN6ZNtnNrzPYYN+Vi+tIacSitSKk46fJ2TP/k7Xj/QS5e+iS+8+gpNeTLqyQ66jh3mZ98/TO/0/86XXvoiv9psRwLSvm4uHfg53/vbPXQoSlm9bTfbmgsoN3npPX2A/T/toXdsHn1eOeUP+5oIK4IIUeHRkFSAO4PVr7zC7t3rWeMyYdZCvK6Cwiwbth+9wf6zXQxvKmK20oo17GPiyL9woitGvPx5/rdvf4XtZVbsOgkpVktldR3Zpu/y1rWLXD5RyPXVWylWJpg4v58rF68wYVnLl3/vd9lRl0u5Q4NOkaB+dQvNdf/C23uPsG/hXcLC55wI0SVKJpO43W46OzsX/cRPOp2moKCA/Px8VCrVfarhCqFQQXYlpatqaFhVRIH2xv9b9cRKCqnNT7KvfY6gP0KEELHgMF0fXGYoVYO9bi3bGosp0oNKArBg1MDmdXUc7JthcnSAgfnN5NunGekYZnBMQbp0HVs2VLMqx0CG+sahMrKwesu43HEFhkIP6UIIK40I0SVKpVKEw2HGx8eZnp7G7/cTj8c/s4xCoUCr1ZKVlYXNZiOVSj2g2j7ClErIzScz04Rde/MPdGj1WmyZaeRwlFQ8RSrpJ+Yf4uqlOTzmGPrIJCPnjzEBfPQ1lo76SLg1BCODhINTTHoSpEyTTA0HmInYUZfXUJahxKT+ZDV0BgNavR4QISosjAjRJVKpVLhcLl588UXeeOMNxsfHmZubu+Pz6pIkYTAYKCwsZOvWreTn56NUil/DosRCxOenGI0kCY7u52T3B5z5pzvfBVQWh4hGU6TDfnyROAGNBUWWE7NCwee8/S8sA/HXuwwkSUKr1bJt2zZ0Oh2tra3MzMzcdluz2UxVVRW7du0iOztbTE5fIkPNE1Q0rOapUtsdt7G4yinKklBrVGhlGQ2inSksHxGiy0CSJCRJIisri8bGRiRJ4vTp03i93k/c2lssFurq6mhubiY/Px+FQiFWTroXSjUKvRmbJCObXDgq17J1ayEKfnk7fzOFVo/OJKNQGNAbVOgUUeYCfqKpFElAfI0JSyFCdBkpFAoKCgpQqVSEw2E6OjqYm5sjlUqh0+moqqqiubmZ6upqcQu/FEo9KmM2RTlKWmN+QqEECUs2uQYZ5ceP76cgGSYQViDJSgyaNJBJRq4R25CHwaEBxgP1mHVgvClFo5EQsWjkIZyUsFKJFSOWmUKhIDc3lxdffJHa2lqsVis6nY7CwkJ27txJTU2NGIlfKsmMxlhM7TYLmb5zDJ45xXu9IXyRBIlkkmQySTIeJubv43rvOIMjQVKoABdFNS7yrX4iF09yZiDAhO+jMgkS8ShT42PMzU4/7DMUVhDRHLoPZFlGq9Wyfft2dDodMzMz7N69m6ysLNEHuixkVEYHFc//PltHf8z+8wd566/9+LZvYE15Fk5NgOB4ByfeP8jlaD3lLbv4ZsEWSrTgqN9C7bVZSlrP8Npf/BcGtm9mQ202Rep5+i+3cuzEOdp7psFc9LBPUrvrknQAACAASURBVFghRIjeJ7Is43Q6aWpqIhgM4nK5RB/ospGQlXoMeevZ8lwIla2N011DXD0yyuBZHRq1jESasFxBWUM9a2pzsSo/vO1S2mtYtSXEK0EF+871MHTSzeRlE3azBtQWnIXFlMSTdM497HMUVgoRoveRQqGgsLDwYVfjEadEl+GioL6FzRTisuk+9aFUmXNwVLWw2VtJUbYJHYCkAKWDsvW7MDtd5OSe4fSVHiZ8MaJJI3p7IXUNLbQ0l1ORZ8X40U5VTvJqN7LTbsfo+ICzVycZ9SWJK23kVreww3kdmzpE53GRosLCiBAVHjIdWdVP8XT1Uzx9hy3MRVtoLtpC87du80OVFWfFJrZXbGL7go6XIqW0oM1dy1O/vp6dn/hZmuiVaa6eSiChQJZB3DgIdyMGloTPl/goA71XOXBoiGA0yS+fFUtCysf1rosM9flRqxoozVViEis4CXchWqLC50pyfoSRi228f2CGS+ObaawpoNCmQhGeZqz7NEcPtNOdyqVi+3YaMtVYxUQK4S5EiD6mJEnCaDSi0Wge2PFMJtOjP30rpUYjRdDE+mg7EWFuJJscs4wUnGbk6gUGwxnYV29m6zNrKDMp0Yp7NeEuRIg+pmRZprCwkOHh4c98ln85SJKETqejpKQEq9V6346zHBRZa9n4fCE19RfY+4vX2dvayolxPxHJjKWgnpYXv8bTLQ1sLhavOBEWRkrfz78u4aFJp9OEQiGGhoYYGhpievr+TSA3GAzk5ORQUVGB1WpdAa3ROMloCK/HgzcYJhxLkkKBUq3HZMvAYjJg1IgmqLAwIkQfc6FQCL/fTyAQuG/HUKvVmEwmTCaTeJhA+NwRISoIgrAE4p5FEARhCUSICoIgLIEIUUEQhCUQISoIgrAEIkQFQRCWQISoIAjCEogQFQRBWAIRooIgCEsgQlQQBGEJRIgKgiAsgQhRQRCEJRAhKgiCsARiPVHhgUun0x++Gz6ZJJ1OL2qtU6VSiVKpFG9NFR4ZIkSFB87n8zE4OMj169cJBoMkk8kFl62vr6esrAyLxXIfaygICydCVHiggsEgvb29HD16lLm5OWKx2KJaoh6Ph/n5eZqbmzGZTMiy6JESHi4RosID5fF46Ovro7Ozc8FllEolarUagOvXrxOPx1Gr1dTV1WE0GlEql/9jnE7GiPvGGB6ZYnrOjz+aJCWr0ZsdOHNyyM3JxKyGe+9USEM6hn9qhKnJaSbn/ARiKdJKHTpTBnZHNgX5DgwqCaXouXikiRAVHqjZ2VlmZmYWVUaj0ZCZmYlarWZ6epr+/n68Xi96vZ7S0lIsFsvy9pGm4sR8U4xdeo833j7OiYuDjMzHSKoMOIrXs3HHLp555gka8rRoFdI9jM6mSCUixAMTXDv5FkcOn+RY+yDDviQpnZ3MwgYaNjzJl760neosHTatQowAP8IU3/3ud7/7sCshfH5MTk4yPDzMxMTEgsvodDry8vJ49tlnSSQSuN1u/H4/IyMjGI1GbDYbWq122eoYn7hE37H/xX/6m3e5GMwlZ802nv/iDratMpEc6aDr7FUuXAvhbKrFplOiW2zCpb3MD5/jwF/+GT88OEy/XETVlqd54Qu7WFuqRjvfS3drG/suhXCW5OJwmDGIFH1kiZao8MiTJAmVSkVWVhYbNmxApVLR1tbGzMwMZ86cIR6PL2MfqYfJvk7OHbhET2w1Tz77FDs21VKbpUcTq6PcaeXA3oscv3qcd85tJXtjHhmOxQV4ZLKHwbYPeO3sFKnmL7Nx8wa2rsolx6YjGSijzuXAdewEf3/8PU5erifL6cTpUn/2TqMemDrHP7/fwbyphuq1W9lZrrv37oaEn3Sghw9+doKryhJsqzfwrSbHve7tsSZCVFgRJElCqVRSVlaGJElEo1E6OjoYHBwknU4vXx9pZIrxoX4uXvVhrNvF1ic2sXW1E7MEkE+eXSbqmWNo4DRnW/t4psJKuUOLZsEHSBKY6GOo/QIX5vJ5cf1Wtm5vZK3joxf8ZZNvA31qhr17f8a1vgn66kJsuVuIxgMwc54P3nuPsawQ4dwN7CzT3XunbSpEOtjL+T1vsV+zkXx9lQjROxAhKqwoSqXy437QcDhMX18f/f39+Hw+dDodZWVlmM3me2+Rzk8yPTVDX1xH5YZ6Cp3WGwF6g7WE3GIX9a4oJy8PMOWpwoedhcdLjFAwiG8erNZ11BRl4nJ88g2psi0TS34x6yWJD+b9zARCgPX2u0vFiUYiRNzzJLwR4skUqXiEsN/N3FwSjdGMRgFSMkIgGEPSGNBq1GhVv7w+qUSEeDRCIJJCrdcjJxOk/B4ingDhRJKkHCUe9DI3N4dSZ0KnUaFWiNGuj4gQFVYchUKB3W7npZdeYv/+/bS3tzM3N8ebb77J7t27qa+vv/d5pGEvvmiAaaWCVVlmdBrVLRsYMBp1ODMSSBdniIaixBZ1AA3OuufYlbWB1SEbeSWZn47HVJJUIkEQMGmVGNWf8Rpq/yVO/3wPb/zrUbpjXsZm/MSH9/Du9TOc1sts/e2/YmdJAv31vfzV/zyK8tk/5IWn1vP8qoxf7uL6YVoPvslfvzPB5l//DRzXrzF3aC/HkkHmJj0EpIO4x9v4ldf0VH/1/+SlrQ1sLV6+PuiVToSosOJ8dGvvdDrZuHHjJ/pIh4aGyM3NvecQjfg9hAJe4hKolEok+dYWl4yskFEqkkjReUKROJE4cGvW3pGMxpSJQ59BBjJKpfypkfeEexrP8ADtKTsuVw75DvOdd6eykFFUxaoNQRyeq7x/dhC/LofcytWsc+moyLZgs6vQBIpocL7OvhMHOGcxUZ6/hWoLEOih++xZDh0dYci2kV/JyaFQk2Ym4iYVHuHskQ6GFU7MpTW0VDrIcmWQseiRtMebCFHhkZdIJPD5fPT29mIwGD71M6PRiF6vJxAI4PV68fv993ysWDhEPBrm7p2JScBPKJZYZIiCpFCgUCi4bfsyOsP4tU4uXhxkyLWWXRUuyhy6O+9Mk01B/WaMGTkkBlNcuD5N2lZJ1RMv8pW1VoxOJxajFoW6iS+8sIneH/Yy3H6J41WVlGy04r92nEsX+un2FrDu2y/TXJlDvpSPv9hJnacV3+VB3KpSspuf5ivPlKC05pBhFrFxM3E1hEdeJBJhdHSUPXv2oFB8OnqSySSpVGp5Dpa+8W9BG4aJxpPEE8t04HSSyNQFzp06y3ttQaw7vsS6qmzKPqtRrTBjdZqx6tOQtqPXqNCYMrDnV1BRaeXj6bP2PCq++KtsP/sXvD3YweFDJexa1cC1gx/QPigjlz7Db75YQ74GzDKYzRKpmSHsWjUajQ19dgkVleXLcaKPHRGiwiMvlUoRDAaJRqOfuc1insF/5KQiEBvk0L/+nH2tXkKlO/kPrzZSkWNYnon2sgE0tWx78SnGfnacg0f+gR+pmzn/wQTaymfZ9vJOGjSgFXfqiyZCVHjkfbTSUyy2uCGceyKxwGlBEqBFo5RRLfWvKB0hOHudnn3/xP6zbsI5a9nx/G425BmxquUlPFp6MxlkHbaabaxtnmJmYh+H9x1iztLMs80b2FFvQy8C9J6IyyYIN1FptCjVC5n1qQCM6NRKPjWAvygpInODDF04wptvnGJUV0X55m3s3lyJUy2jXuaZRLKtmLy8LPKtUQb7h4iYinDmuSjMEFFwr8SVE4Sb6CwZGExWlEDixnqnn5QinUqRSilAZcOgVaNbQoimYn4mO07TumcPbw0XUrz7JZ7asZZVZvjUxIBlkI77Cfi8eP1RdAYdKp8b/7yX2egy9Sl/DokQFYSbGe1k6C0UxBOMTcwSCt/aD+sl4A0wPasiVZGD3qzlM8bO78p75Q0+2H+MX/TlsfUP/gOvtFTS4Lh/f5aRrvc5eaabY1MF7HppJ8XuM/ScOcneK/P37ZiPOxGignAzUy7O7CzKLFH6L3QzOucjcHNj1DfCxMgkHRNqTFUFZJr1GO64sztLhObwtP8bP3/9IGdmTeRt/xKvbq2iMtuI/p7WvpNAUqGQ7rCqVCIAvnYO7TnGmWEVytUv8vIrX+XlTTYMMx2c2Xec8x4IJG7an6wC8QaBuxIDS4JwM62TnOISVtdYOXrlKGdbVRjkairtOtQJD5NXjtF6YZzBWBFrmovIzdAv4rn5D6UjbrxDFzn21i/YcyGMXNHAzqZKitQh4r4ws7dsr9Do0Oj06FVpvINtDIwHcaedVDTW4NBKaGRAoQJzBg6FiknPLBMDvQxU5WDSOzDqFMiBCWbPvcXBM+PMZ26icccOmuoKKXCvw/2zNk60HeWt1ka+vi6LEpsGlawCrQWzTonWO01wqJfuMQsmnQmrQYNBI9pfHxEhKgifYCKrdBXrdjRT3fYep971MTG6hidWObEEuzi9/xRXhi2oyp/l5ZZCXLbFRigk53sZa3+f7//0EkO5T7LOYsIRuMaFc7ff3pxbSk5JOSXWOOOnf8C/vjPIuWQLv/vXVWxxKnCoAbUWskupybDS39XHlUNv8b6pioqKnVTmqFFNdHH4xz+h07+Wmh1NfGFLGTqgYMNO1nWNM9Ldzi/+9QCrc54mw5SDQ6UBcx7F+RZyRnoZOPEuP3clqCptZE2Jk1Ln4s/7cSVCVBBuobBVkrPuG/zR/2Hj3cNnOHvu3/j+/gQplQZ7QSNNv7KdJ7dvYa1VjeEzHmu/k3jAh29mgvF0mujoac69c5GrH6ju2LdW8/S32P31coosoFQbUah0Hz4w9YlKm0C/lidf2Y7/nYPsOfs+P/yvp3n+j1ah8c8Qb3+T712I43jhadatb2CV6UY5dRnV6xrZMtnLvtd/yJ6TRViMZp4q1SPLxWz6yvNMSe8ze6SVN/+2m6bv/Bl2p51S5+LP+3ElQlQQbqXQoLW6KFn3DM85V9E45WE+mCSlUGOyu8gtKKDAZcGkAIkZBk+2cu69U1zm09l2q7xNr9BUXELptu/wn7JfIJG8++NR9qIaijIlZElJVtMrvJTpY3MikxqbjOnjEJdB1pPbuIunbZVUbPPgiyspbsgjz2AjafwVfj9jN7aqTZQXZqD9qJykwVK6kfUvO/jPNfPYqsupsKs/3J+kwVz+BFu/mo9r/TTuuIyjtpiKzLssy/c5I0JUEG5DUmrQOsqpdpRT/ZlbJoj455kdHmEUuNsToHJVkHB1FTmlpXx51WJrpcBctI7mojtvoXVWUOmsoHLdLT/ILaRg9e3LKK1FuKxFvFJ/608kZHMBJY0FlDQutq6fHyJEBWFJrOQ2bmWnvZr13P2xe1VmEU67aMk9TkSICsKSaDHas9FaHCxkurqkUKFQiJHtx4kIUUFYEglZqUKtXNKzn8IKJr4SBUEQlkCEqPBAybJ82zVBl4tSqVzai+oEYZFEiAoPVEZGBna7/b7tPzs7G6dTTGIUHhzxlS08UHa7ndraWkKhEGNjY4TD4SWvSq9QKNDpdOTl5VFZWXnvL6kThHsgpT+91pcg3FfBYJCJiQlGR0eJRCJLXpH+oxB1uVxkZ2d/6j1MgnA/iRAVBEFYAtEnKgiCsAQiRAVBEJZAhKggCMISiBAVBEFYAhGigiAISyBCVBAEYQlEiAqCICyBCFFBEIQlECEqCIKwBCJEBUEQlkAsQCI8cNFoFK/Xi8fjIR6PL2oBEqfTic1mQ6MRr+wVHg0iRIUHKplMMjc3x5UrV+jt7SUQCJBI3O31br/U2NhIXV0dubm5Yt1Q4ZEgPoXCA+X3++no6ODdd98lHo+TTqdZzBo4brcbt9vNrl27yMzMvK8LPAvCQogQFR6o6elpxsfHCQaDCy6j0WgwGo0AhEIhOjs7SafTbNu2DafTeX9v7dNJIr4pZoa7uHLhDOnqlykurabmTutKJ+aZ6O2gs+0cl66PMRdKkdRYseSWU9H4BBurM8m1am4ZjEgRD87huXqSExevcXXEzVwI0NrILV1N45pVNNbkY1OBdOvxQmMMdLRzoa2dKyMzBGMKFEYHzuJq6jZvpdllwKa79YsmRcw3jaf7JMcu9HBtzIM7IoM2A1dZA01NtdRX5mFb1tdGJUklAvTv/wHHLo8yoa+i8fnfYFMOWFd4z4wIUeGBCoVCBAKBRZVRq9VkZmZSVFTE9evXGR8f59KlS+h0OtasWYPL5VreIE3GSITnmRsfZGhonOGRQYYGu+lqbyPnyxvR5twuRJOQ9jPSdpjTx89w8vIgU2klGiWQGGdscJDu/incu56ipaGUGqfu45KRuX5GO0+w//0jtI/H8SaUKNQSxAcZGxplfGyGaW8LuzYXYVZIqABSMYjP0HV0P8dPXOBc7xQ+rR69lCQ5PszwYC/XxmcI7NxJc0Uu+ZZfBmlkppfBKx8e78pkCn9aiUIpQWKAscERJiZmmfZu5qlNhZik5QmJVHie8Pg5Du59j3dbB/DnP4mm5TdY8xi8hECEqPDIk2UZi8XCtm3bMJlMxONxJiYmOHz4MJIkoVKplrGPNE7UM8HUtXbazh7geGs33cMzTAcjzAdi7NiduP2rkZMRUuEeTr/xE947O8uQYx1PPreNjYUq1NPX6Dp9jDcO/x0/jaiJKUyUbCtEKwPpKHM9pzjz9g/5m0NpajY9x5ZNDdQXKmDsDEffPcKZg7N0jiZx1X2DOpMSq1IiHfcRnz7Bnh+/xtFBmXTNJp790jZqjX7810/RduII7/34OL50FmgsZNebb4RvhJmrxzj59r/wPw6nWfPkS7RsqqM2N0167AyH3z5C6z431ybSuOrzqdXLmJfaY5KOE50dYOzIz9h32UPPHOTkL24XqXiIqH+GuaAajcmCyaz/8Prdq2SMZNTPpDsIWgtGownLPe5QhKiwIkiShEajYcuWLeh0Ovbv38/c3BwnTpwgHA4vYx/pBNcOv8Gb//UnvI+a7MZtNFdLWLwX+MH7PXcslQp5CV3Yy9G+OTylW3j+V36fbzYbMWkkSDZTvaqWQs0f8P3WNq65iuncWEiDDhSRHvrar3KyVYG89bf41jfW8USVE50SaGxida4Ny88P8Hr3B7x37kWym81YMxREvNOMHP4J56cU2Da9wPO/9gq7izWo5DTphgqqK4vJmv0vvH7qLJcLc2mubyQfINpNz8VuzlzSod75m/z6t5rZUGZHqwASzazOsfD9fzvE3oGDvHfuBXLX6DBbl3hNE+NM9J3n9X9sBXUGeuPi32QQGDnH1Tf/hL/6YBU1r3yd515uYe1S3gLjH2T+ypv8u78+gLLpWzzzxRf5RqPxnnYl5okKK4YkSRiNRmpra9m9ezfZ2dnE43E6OzvZt28f4+PjRKPRJR5Fh7Wsieav/zZ/+Md/wu/9+tf40tZV1ORoUd7xryVFNOJl8Opp5oJZZOauoqnejs2kQ6vRotWbsWcXsH7TZmy6CWan++gbS5BKQ3JykOGpSfoUJjZuWk+xKxurQftxuYyaBqoLcimOejjV2c9sIESKIBH/BNdbh5i3lJFTVUljsRmjToNWo0VnzCE7v5rNW6vRR4eYHh9l1PNhTZPjAwxMTTOittDSspGiXAcW/Y3jGSzYV62hxpVFfsjDic5+3KHI7VveC5ZgqvMk58+c4rB6A5u2NVBdnrnovaQSUWL+aeZm3PiCUeJLfR9HKkEq6mdudoY5b4hQ/N7PUrREhRVFlmUyMzNpaGggHA5z4cIFxsfHaW9vX6Y+UhP2kjqa7LWYcq1oFDKxvkkiV2SkT43qfCRBPBZgYmSMiLYKV3YeRXYZ+ePtJVRaA47yOnKM3fQH3UzMxkiXKIi5p/D44gS02ayqcGIxqD8xeCTbXGRlOyg0dtI6PIE/XEgciIbmGekKESkpwJqTRY7upkEnSY3WmEFxbRna/d14vdNM+wAbxOYm8fiThPU5rK5wYtbfPFglIWcUkJOdSZ5+mLND4/ij+SQwoL6XS5lOkfL0cPXcZS70RNFteZn1TX3MTQ8zPrWQ4gliE+1c7h3nSvtZxnrSBKKzDF05zqHXI0xYC2naXoI+0M90/xBXZ7SUrFtPsdNEhgYgDekg092XGRhwM5rIZfVaE4GBESavXmJk+Dq+UAzF4CUuHVTx2mgG+U3bKcsyYdcu/DRFiAorzs19pOl0+hN9pFqtFqPRSFZW1j3uXYvBosWwqFvFOMl4iPkpiJstaDOMmKVbRtIVKrA6yFapmYjGmAuESad1hANzRMMSKmUeDquE+tYRccmE3qrD5kjC7DyRWIJYKkU8HGJ6LE1slRWN0YD+lmIKpQqT3YlCdZZQzMd8MAXIhAKzRCNK1MocHDZQ3ZoAkgmDTYvVHoeZecLxBDG4hxBNkU4G8XQeoK19lsHkKr745R1UJWc5sdDUScaJ9B/h0JunePPUILFwEl94jFDru4xc6eaY9Sn+aLWD7PEznHvjbf6/oxIt//7P+fLWSppy1SjTCRKBfi7v+1+8s3eIi7ov8kdZ2YztO0zr/rP0xELM+6Nw9SQnBy/S43Sy3bQGo0mEqPA5cKc+0vHxcaanp5cQovciRCLiZuZaiugCRpsDkSizfj9pbMx7hwkEpoCKzy4US8DEPIFonEg0SjQwzziwkM6LSDhOIBAB9Mx7BgkGpxdQKAEzXgLRBBFg0b2FySDJ4DUOvH2Qa4kacrY9y8tVKkx9d2zOf5pChbZkO89+dTUltW30n/xHfnEhj8IndrGpZQOrrFnUOK1Ys7aA203P+Z9y8p1jFGXqKc4uJTMewX32XQ5d6qPbXMFT3/kqzSUBql/Mpbq6numBY/z31y5B2TbWb9jMs7V2HFUZ5Nz6jXQXIkSFR140GmVs7P9n776j40wP+95/3zbv9BnMoPdCEABBkFiSYO9cklu1RdLKkiw79omT2L7OOTk3ic/NvUmUEye5sU987rlOfG1JKbJVdyVt57IsO9hJkAQBguiF6GUwwMxg+vveP8hdkVxyCSxIald6PufgH+J93jLE+5vnfdo7xMGDBz/xmG4YBpOTk8iyjGmapFKpRb+CeeFMDMMgHgFjHpOvIsk0gWgC0wQjEcdMJR9eKJmGiQjJRJqUkbo1DAuYT9NgIpUmFr91YulkbAHHC5NMGiz80zSITg0w0PgTPuzIxL5hNdu3LMFjkZAX0AsjSQqav4IyRzF2OYjeLWHVPPgLllK9aiWrMjQcNgsWuZjSZWt56dV2Ot47zrUrBRQX2Xna083R9y7QlVxC3rq9vLImA7/bQYbVS6bTZMLSjtWiomQVU7xsDatXe9AcVmwLrHaLEBU+9xKJBJOTk1y8eBH5PndhOp0mkUgsaObT42CkYT6nkDJMYinjVgCaxq2fh+7chLkkRvr2DK/5lPmoqGGS+mh9AsOY30mmbx/PMOYV1HcdLzLCWEcTh96/QCj366xaWc/qEjcy8wjvO0kSstWN0wqpDDcZNlAkDavDjSczA7/3ow0duPOrWb7rGbZc+x80dV7l2P45HKUtHLoG+po1bNjSQE2mgoINyWLDnvSSdttRFAnV6sSZ4cfvdy/wSm8RISp87hmGQSwWIxaL/apP5VNJEveZUvRJsgSqLN3eVOJTeqzu3rl2q3Pr1nHm/1gsSSB/tP1HO3hYMkrcPt4CHr8BSDI3dJX2S2d5+6qVTf9iE2vryyhQYZHd/J9KcuTgqNzF87vPMPJOF1ffvkyofIDr2ku83NDArvq8xxZ2YoiTIDwCkgSalXk9rto1hQybeitEVRXkeYzDVGXIdKBaFGRJAWn+kaCpCrrl9vaqOr+TtCiQ5UDVFOY/StQEY5gbZ07TeGaYwMZ/wvZVBVRnP4n1DWRUi4sle19j63IbhZF2zjdbqf/yi2xcVUXpI53CejdRExWERbOi6l785RKWeeSTU7eQ6XQiSRJudwF2xwwEH1LIokK+B4euYdUlYg4POcyv19xq1XA6brUlezxF2O0JmH1IIV2FPA8Oi8K8B4sZaSJtJ7jYep3jHX2Eh3/Md/7vA7xh127X1kyY7aOte4jJ6BgH//JPaHdB3c5XWbt5B+tz53ugB5AkVE3GTKVJRJPEJJgz05iSgbrQCvUCiJqoICyaDdXiJrNYQo/NEZ+JETbveWJOpyE0y1QqRdpqJcvtQpLA5cnF7rCQTk8yG4JPrApoRoiHYoRnVcjz4bBq2BQbFoebghwJPR4hEY0TvadYOp0iPBsgnXLhsLrJcN2qL7k9+dgcKqn01K3j3dtrZEaIzcaJhDTI9+O0aCxgtA9mSsVdUEX1qga2LfXilAyS0TjxaJx4NEY8niSdNjANg2T89r8nUqQW/ahvYKTmGG0+T9d4irC7mMoSjbHWy3T1jzD2GFuCRE1UEBZNQ7O4yC3yYL0wwezwBMNRkzybdHvAvYmRiBIb6ObmnEEi10muz44kgS0jB7cb1GQf3QNhIrkeTIfycdOqGRtlenSakTENx4ZcXLoFCzK6w0NxnRXb1Biz41NMpMoo/vhuThOPhhjq7iGezMXnzCbrdp+JzZeD25lGjvfT2TfHXKaOafvoeCZmdISpkSBjkzquzbm4dG3+Y0QlBb1oPVufXc6yLffp0zdSMLCP7791gjMTPla9+kc8VwxFhQVkeD+5+Sf3/+D2YzM1R3Syi3Pvv0fzVAla3VZ2VnTyi/ePcKkol7ySPJ4utaFw56SEW+3Si62kipqoIDwCus1NRd1OPJ5hJibbaOlMkf64dmUwFwnQfOEws8EsMtylFOff6mCioILS3HyqExGOnm9mNDh7V/9LqredrtGbtFl11i8pxeuwAQ7srjyWravEEexgrKeXzsk7ar5miMh0P1eOtxI2s/BmZZP3UUgVVVKRk0d5LMyhc1eYmI388ngmpLqv0zE+RJfdysbKUty2BdRDJQnNW0xeeTW1dbX3+VlG7ZJ8/B47ut1JTkUtS2trKS/w47c9ZN+yDJrGgyIvOdnFWOP3+MHpAJHCVTz99a/z2qtf4cW8UYabTrP/WCuTBr8criXJSLKKirToEOvskAAAIABJREFUEBQ1UUF4BGSbG1vNHrbVtXP4+ln2/c+/xdi7hrpcFW26n66mU3zw4TTR6ldZtqaWGvvtELWUUL68lo1rb3D65Hf5mbqHkbXLqMyVYaKVSwcPcLRDQ6/cxotr3GS5VUDC4somd9NXWHfydZqu7uPHfxsluGcV5bY55gYv03zmGB+0meQ8u5aVK5aQ+1FSWMqorK9lbX8PjYf/mh+rzzKwporyLBNzvIWLB/ZzvMeBc+lWXlztxOdcYKeQrKDID+iMMgBNQZElJElGVjU0DVQFMMOkwn2c+N7PaUqU4lyxiW8+swQ7oABWq4fsvGWo2hDtLedpPOQhozIbX1UeHka5ef0CP/tZC8OenexdvYptdcV4LVaefXEdPQf66Tz3IW8uL+drtR58NgWsDtSsQmpUjWttzTSdzOSUs4IsXxV5XisuMWNJEJ4w1Ybsr2Xdtp3MmU2c6DjPyX19dLll5LkQwakwM/l72LBzIxtWFuL/6M6TXWRVPsXqXVM8N32S0Y5THB1v47JbhtAwExMKzvLVrN60g9X5Ou7bPSSy1Y2teDM7nu7HOHWDK9ePsj/SRZYWJzEzxtRsGn3Nl9m5o55VFT4cH52n7Caneg0NoWmeDzQycf0Eh0dauOgCMzTExLiOd+k6lm/ZwqpcDeeTelY1U6STUwxcPs6Z0Aw+Rw1fAT6qoGruHLKW7WJd1dtcGbnC2X0GyaXr2J1rJWP8AldOn+dEh4PSr+5kTV0FZT4bajqXik27WN3+Q8abmziy7wx1mVupK3DhsXjQs2vZsq6K6ZZBBs68x1vxKtbuKcBmEyEqCI+UbHFg8xVRUREhP8OJ4753jQKyl4rNr2DJKMJ39BgfXmihvTdF2lpAZsUG9ux+hr1P5VFyz7OrNaeGyk0+/tjh5tDhc5y70crVLgkc2dSu2cnWrevZsLqcbPXO9jwdLEWsef6rOLNP4T16iuPXzjMSV1H9xRTV7eD5vS+ybYmbrHuS0Jq7nOotGfxTl5v9hy5wvrOFq10ykiOH5Q1Ps237WtatLCVLBtIRZgMzzAQjPLRvRpJwZRXidlix3/czkkD3kplbTKmcQaaVO3rNFWTFjb+8jJLZXFw+G7fq3Ld/68rGvXwvX9k9hfXENS4MDnBJqmZ9LETy5gCjYzH0im08t7ee5WX+W51hioZSso71DdcJBy9xqPMaA8G1lOS48Njc6N46tnx1L7P24xy/PETXFYUlmxMkFji7QDJ/1dM8hN8oV65cobGxkaampsey/9WrV7Np0ybq6+sf2T7NdJJ0IkY4lkK1OdAtFrQH1dBMg3QqSTKRIJG8tdydKcnIioam6+iqjCJ/sl3PNA2MZJxEIkkylSZtApKMquloFg2LqnCfYmCmSSUTJBJJEqn0rclIsoKialgsOhZVvm8500hjpOLEE0mSKQPDBCQFVbNgsWhoqoIsmTDdyHvf+zmv/+QkrQ/5nBRNZ8+//A4vb17OmgetIZCOEY0lSBgyFpsTXeHjzjfMFPHIHAlTRdJ07Fb1jvbKW7O0kvHYrXNOy0iyBbtTg1SMVDxF3FCxOmxYVBlF+mW5VHyORDxFwrz1e025/XvTxEjdGjGQSKUxkbHYXbf/jx5ysXcQNVFBeAhJ0VBtGt6HdX4ASDKKpqNo+oKGBkmSjGKxYbPYmM9h7jg5VIsN1WL7xEpOn36aCorFjv1hXe96LqVrtrFHLWP1PPa5pCKT7E+7AMWKzWG9zzVKIGnoTs8DxqVKICloVgfavR+s4sCi84Drl1B1B+r9fi9JyJoNm7bAz/weIkQFQXgACfRciuqcuIvrH74QiSRh92csqD3x14EIUUEQHkxx4cl04Vn4YvS/McQ4UUEQhEUQISoIgrAIIkSFJ8put+NwOB6+4WfkdrtxuVyPbf+CcC/RJio8UT6fj/z8fHw+H7FY7Naiv4scZSdJErIsY7VaKSwsJDNTNOAJT44YJyo8UR+9zuP69eu0tbURCoVIfWLpooVRVRW3201NTQ3Lli0jMzPzMywmLAifjQhR4YlLJBKEw2FmZ2dJpVIYxuLWQZNl+eMgdTqdWCyf6QW/gvCZiBAVBEFYBNGxJAiCsAgiRAVBEBZBhKggCMIiiBAVBEFYBBGigiAIiyBCVBAEYRFEiAqCICyCCFFBEIRFECEqCIKwCCJEBUEQFkGs4iQ8cYFAgO7ubkZGRkgmkwsqW1VVRUlJiVjuTvjcECEqPFGRSITe3l5OnTrFxMQE6fRD39xzl8nJScLhMMuXL8fhcIjVmoRfORGiwhMVCATo7Oykubl53mUURcFisaAoCs3NzczNzWG1WqmsrMRmsyHLj7NVyiSdjJOYm2UmGABXAQ6nC9eDFooyk8TCs8xOTzMTjhJPm5iyhmZz4vJm4nPpWDUZ6Z5jGKkEydAUk8EwoWiCRBqQNWxODx6vB6/LhuV+l5mOEpmdITg9w+xcnJQpISk6usOFx5+J16ZiUT7ti8YgFZ8jGoowPRPDlpOL065je5QfqZEiFZ9jLjTDdNyG0+PE67aiPMJD/CqJEBWeqEAgwNTU1ILKOBwO8vPzcbvd9Pb20t7ezuzsLK+99holJSXY7Qt5WfACGSmigX76Wo5zeN/PMTf/n6xq2MrWwgdsn5ji5pWjHHvnLfZfuMHNYJqUI5fspevY8Ny3eG1LMZW59ntuPINkaJThkz/hRx+corFliJuzgDOfqjV7ePa5nTy7vZZ8HT4Rh+F+2o8f4IN3DvJhSz/BmIqaUUrpU1t5+uvf4sUaL/lu7VOuL8bsUCutZy/w3r5uav74T1i/opzqR/nygfgMs/3NXGk8yDu9NWzcvYFntlfifoSH+FUSISo8UaZpLngle0mScDgcbN++Hb/fT3NzM+Pj47z77rts376dmpqaR9tGmowQmx6kp/kM58630Np9k4GJKSbGR6ivibP8vqefAGOMiz/9Xxw42sz5gI5/w2usyVRQZ0YY7rtB4/e/zdjE7/HizrU8W53xccnZnlNcO/5z/ubNVubc1ZRv2cS2LAUC7dy4foQDPxijs/tZ/vEfbCBflbFKQDoM0U7e/9sfcOj8AD1mPnUv76FYjxId7aR/4BBv/OcWJr75T3l2Qy2r838ZpMZcgOnhTq5fPsPJpk56b44wMZFifDKX3EgaY7GLY5ppEpEA04OtXD5/kqaWfjr7JwgEpxnNyacqYfDrtP6mCFHhC0FVVfLz87FYLMiyzKVLl+jr6+PcuXMkEgmqq6vx+XyP4NF+htHrTTTvP8rJ/k5GwirJRAI5HWY4EKfyAQFgxiMkh85x8sx5mgMufKtf4PmdtSzNUlBnh+lvPov83o+5duoMFzOyWVmRQZ4GUnKModbLnD7SzCVzOS9v2MWWVZWUZMowXc0S5/vsv9DBhUYLy3c+xe5iK7l2meTcNLOt73HibDuDUjlLd+zh2a01FOgxYmMttJ0/zgc//5CLxzaT4/OzJL8ID0BsgK7z5zlz7Dzn+4eZMhyYsTBGbJLxmWyS6cXHW3Kig+6Ws7x95AJ9o1PMIZEw0sR7xgm5k8Q/wxrc8UAfEzc+pLErm6zlK6leVkLBYt5vH5tibuw6757qQc6vZ2lVDSvzPtti3iJEhS+U8vJyVFUllUpx6dIl2tvbiUQipFIp6urq8Hg8qOpi/qxnmezr5MrRy1z3+ClZvY1lvjCWwaO09gYeUMYkFZ1h+uphrgwmSJWvY/dXv8KLS1UsCkA1JcW55M6d4D++2UpvazU39tST7ZNQwl30tHdxqctC5ivf5LnnlrGhzH27vbCGpRlJIuGf03fqIh9enqLem02OXSE+M0bPiYPciBSRt30XL3/tBTZl3X7cX1pEUY4HZ+cZ/mtbM53tSxjZVITHAsSGGGhv4eKlPoYyKli5ZTvF8cNMXP6Q60OL+NjukJzuY7j9EsevjuIpW8mqdUXkRIa5fqWLyc+4z+hkB72H/py/fbeelb9rx1a+yBCdGyPSeZDv/vV7qOv/kFftZSJEhd8chYWF7Nmzh1QqRXNzM11dXUxOTpJOp1m5cuUiX1TnJm/1Xl74tzv4nWUFuKwaRt8xmg+cRHlgJdcgHp2h+8ZZwrEG8vNqWFmponzccyJjc/pYsX4nvuMHGJvuoWcgxRavRmqon4HJCfqdHvZsWEFuhu2uDhe1rJaKwossS13gwPVOJtc6SQPR8DBdF8aZy9pL/tIylmXe0V4quXD5SmnYWY+rZ5Cp0SFuTkF1HqAVsXTPN/n9LVbKS7LRNYWJM60cbl/ER3YP2V/Nsqfz+E97yyjJ0nFYx+g9cYA+fj0HposQFb5wZFnG5XKxc+dOMjMzuXLlCt3d3Rw5cgTDMFi5ciXZ2dmfce8O3Fk6VreJxWlFlSViioz8qSOpUqRTUaYn0ySz/DhyMvArd3cCSZoFKaeQIouFSDzBVCiGiUoiHCQe1VG1XAqzVWz6PQdSMnBnucjOT2FMThNLJEkCyViUsR6DREMWNq8H113FJDSLFV9+IZrlFJH4NNOR27+yZpKdZ5JhKDhsFmQJVFl6yPUtjMWTi9+RhUuyY7PIKLKKIt87IuHhzFScyLU3+Nnhqxw+f4PQSJrxUCdn3/x/6T//IXnedXzrT7fiGzvBjZPn+KDTxZbf+4dsqsqh1AVggDFJ+4FfcKqxj0vxlXz1H+Qw3niB1saLdM2OMDoVQTr9Oq/3nORyYSYN3/xTtlfnUu6Z/3mKEBU+9wzDIJFIEAwG73ozqK7rFBUVMTs7SzAYZHx8nMHBQUpKShYRoiqarqLpCykTI5WYZarfJGHRUW0aunRPT7qkgG7HqSgY8ThT4TCm6SQUGiE6F0GWndit8IkmXcmCpqtYLSkYCzIXTxFPpkhEQoyGIK7pKJrGvf3vkixjsdmR5DhzsSizkSSggWLFqsBinoQfRtZsWDR4JK8LlFWsVjsOu42EdquTUbNYsTkcuBwaqiyh2zWkVIDxi+fZX7gGt7WBrFof9nSCub6znD11nGPXDFIrdqArKlarDavDgSuhIssSKBYsVgdOhxP9oV+YnyRCVPjcS6VSBINBWltbsVo/eftLkoTX6yUQCDA3N8fc3NwTPsM46USI4IBJsuDhW4fjCSbDcximSSQ8Riz6oLbWOyTTMDJ7O0RjpKIhpoD5zPeKxZNE5uLwiaj9fJMUDWvRerY8s4KiklO0H7zMzUAOFav38PRzW1jldZHnc+HMXgUbJnm66QY/PnWcpjIfFUV2KuUJek5+yJmeCIHC9Xztte3UFIYod+RTWVHC5I0PaO0LIFWupWHXHl6r9+HM85BpW9h5ihAVPvei0Sh9fX0MDAzcd4bSR8OmFvvq5cUwTUjGwZjHBKy5pIEcTd3q5U+lID2P806mYSJCKpkmbabBSD28zMdFDWKJ+W//uSHJqBkl5GeY2FI3SV2S0FUXnpwSSmsqqfZKSLKERB5FVWt55be7OPufj9HSVE5ucQbFec3sf+syfc7tLN3yIl9ermOVLEhOP1n2OP5YJrpFQfXlkVdRS02NC0mSWegkOBGiwheCaZoLniL6eWbeNVBqnsOKzDt+FnawLy5JQkJCvqPdVpIkZFm+o+lDQvYU4V35Ml/ecYO3Oq9y5O/6SVVe50igkqpt63lucxlWGT5qmZVk6Y4v5Nv7/4zD434dO8sE4VdCUUGaxx1lUSQcmnLrdpaV+zSE3m/nMrh0ZFVGlqRbbazzPS9FQlN+XSZZ3p+kOdGzq1i7Zwd1GWESrSc5eHIAbeU2Vq+p46l852MLOxGigrBoCrKqYc8AZR7Njg6Lis+uI0mg6Q4UbR6NcJoCOc5bj5+KBUmzYmV+N7BFU7FZv1jtoQsnIatW8uo3UF2okREZpKNXo3DtKpaW55H9GL9DRIgKwqLZUHUfmUtl9HnMPnXqVrJcLiQkvN4SnM6chxeyKJDvwWlVsVnt6E4v+cB8BhFYrRou5+Psj/+8MCEVIzqXJBK91QQUCM8Sjccf61FFiArCoulomousPAnLSIDw8CwTBtzVXZRMwNgIvfE4IZtOltd5a00Atx+bI0Ei2cXImMkn7ndjivDYLBP9GuRm4dAtWNGx2J0U1EhYQ1NEpkME7ymWTMSZGO4nmcjBbcsi89dltY8HSpOKTdP67o8515ciVLKGXescDB1+n7NN7bSFHt+RRYgKwqIpWKwuiiuX4ZJGCYz10T2a5peDBQwS0RA3r19kImTH4sqhMFu7NdA9u4gcv5vcxASXWgcIhKN3ha8x0cfQ6Bi9CQsVpYW4bVYU7FidWSxZlYMt2E9gcJiB0B39R2aMaGiMjqZ25tI5eDKyyVnA4PHPJUkCReFBXefp0CjBtoPsO3KNQUsxVbtf5KVnNlIVbaHj0iVONg8RMu/4YrvdrqwgLToERYgKwiOg2dzkL99FSV6E2EQz50530D08ydR0gMDYTfrar3HkdBNhuYT8ggrKM2/3J2WWU1ZSygqPQcvZI1xr66J/NEAgGCAw1kvn+YtcvTnNiK+Ibcvy8Tl0QMfmymXJ+rUUMMRU+xXOXellcHKG6WCAyeF2OlsvcfzcIPhLKSgqIPdRLm33WKQwUjOMtbdwo62XrpEwSX75xaCoFnSnD0mOMTsTYGI0wGwwQixtkE7PMTt0nWuH3uRgrx1b5Sp2PrebrVuf5YXlCvG+yzSevMiNqQTxjxZYUTRkm5MMWcacDRKYGGNyJkgolia5wEEgYoiTIDwCktWNVr2X3fWnmT5whnf/Jkhg/Dm2V1jQR67RfOIYr5+KkP3ldSzfsJxlttszmtRiKlbWsWnwEm9997/xg8ggPVsaaKhQoP8Y+986xeVQJd71X+KlBic5+q0eEs2dRdbmb7Dl4L/n7Qtv8/3BYSa/8Tz17hlm245x5vgx3u9Q2fm/b2T1U5Xk/ko/nXkwQiRDV9j37/8j++bq8e9+jf/whw14uBVSVlsG+QUr0bQzXL98EpfVin9FGfkblpBt9tBz7Rzff72LQPUf8pWGp9hSnYWetPPMqzto+u4hjp4/wI/rGvgXW7OwuTSwOdByi6lTNQ43X+KcQ6XMVUdp/kaW5DrwO+d/6iJEBeFRkFRQsql7/vdIZZzFf6qZlkPf4/v7TUzJgcVVw8bf/11279rImqXeO6aEStiL17DiWY1/K7/PueZ22vZd5bwpgSTjy9vBsy9uZt3mtRRbZD6eWi/bkKxL2fXbv4+9+AzHL3Zy+u//C2fSJqbFhiN7F6/96U6e3VbDsjx1wfPWnzwJCRXZamDG06SNu0fSqhkFZKx9lW9tD3HgcjtN++YYvb6XP1jqYKLjMOcPX6DDWMmeFzbwVHUeTklC0qxYlj3N1vpOZo500vST1zlZ9NtsXppJvu7DmrmWZ761g/CHV7nU9B4/HGvjmX9Ui9/vwL+AMxchKggPofpKKWz4Mn/ARgpXl1N2304aGSQdb3E9K1Uv7uxSKnqHCEYNDIsXV1YpZbV1LC/24HfePdxItWeSWd7A9uetZJX10DMSZComge4mv7SapVUVLCnx47yz8U1SQHGRW7Oe9dZMMoo7aR+cIpqSUZx+fAXlVC2vpyrHiuveRU3u4SxeR91enT8qy6Oh3E/mx5PeTYj2c+NiC9eu9jH2kM9JVlSWbH2F2pIcCu6qybnwldSz5Y/+kOy8Nayo8H9yVIFkRbEWs/LFb6LH8rCW5mPnl+2Nku7GllfP1hfieJYO0huwIrvLKXA60XJqWLbFztfr8mnYUE5Fpu1WsEkKsruM5Vu/hOLvozJSQLFXxyoDko5mz2fpji/xgq+KyoFp5lQvy/LsuBe0bgJI5kKXGReERbhy5QqNjY00NTU9lv2vXr2aTZs2UV9f/1j2/5vFhJlzHPrRPt59+wKdD9laVjW2/tFf8MzaKlYuZjXCLxhRExUE4QEksJWxbPdX8dbuJfGwrSUZb3k+eQtoT/x1IEJUEIQH0zLILHDiykw9fAq+JKFa7ei/7pOj7iFCVBCEB5Ms6DYL+gKXh/tNIsaJCk+UpmlYLI9kud77slgsj3X/gnAvEaLCE+Xz+fD7FzKAZGH8fj8+n++x7V8Q7iUe54Unyu/3U1tbSygUYnBwkGRyPmuzP5ymaRQWFlJbWytCVHiixBAn4YkLhUKMjIwwNTX1yBZaVlUVv99PXl4eTudvWPew8CslQlQQBGERRJuoIAjCIogQFQRBWAQRooIgCIsgQlQQBGERRIgKgiAsgghRQRCERRAhKgiCsAgiRAVBEBZBhKggCMIiiBAVBEFYBBGigiAIiyBWcRKeuHg8TigUYm5ujoUu3eDxeHA4HGjab9jy6cLnlghR4YmbmpqiqamJrq4u4vH4gsquX7+e2tpaMjN/g96EJnyuiRAVnqipqSlaWlo4fvw4sVgMwzAWVD4cDjM5Ocm2bdvIyMhAUZTHdKaCMD8iRIUnKhAIMDw8zNTU1LzLWK1W3G43uq4zMzNDc3MzsiyzYcMGfD7f430diGmQiEwRGOmh68Y1zLJdFBSVUe55wPapEJM3u+hubaV9cJxg1MSwuHBmFVNSvYqVZV4yXZZ7OiMMUtEZZnuvcPlGP72jM8zEAYubrMKlVNdUUFWei+d+d2tsnKGuDm5c76BzdJpYSka2+cgoKKOyfjXLsq24rfd80ZhJYrPjjHdc4VrHIIOBCOGUArqH7KIqqqsrqCzNxruYFpNUFCMyxvWmK3T0jzAcnCOeltDcheRXVLN0aRm1hS5kQFrEYT4PRIgKT1QkEiEcDi+ojK7r5OTkUFFRQXt7O4ODg5w+fRqbzUZdXR3Z2dmPto3USJGORwhNjzMxPsXoUA99XVe4dOY4GS+Ws8VzvxA1wIwy2dXEpcZGTpy+THtgjqRhYkoWNGcemR0BZp5ez9qaQoo9vwz+ZGiM8e5LnDn4ASevj9M/HSduSiDJ2DOW0nVzE8Ft69lQm4VdllAAzBSkZ7jZfJrTx85wsqmd/mgaKW1iyjq2rCJKR8PEtjSwvMRPpv12bJtRQiO99F67yNmTjVztm2QslCRmyqQlBYeviq6GjWzc0sDGZbnYZVAWmnKpMOGxHnounebg8Uu0DU0RiCVJG2lM2YevrJeahnUktjVQk2XDYfli92+LEBW+EOx2O9u3b8fr9ZJOp+nu7ubdd9/FMAzWrl2L3+9Hkh5FncbEjM8SGbrB1RNv8f4HZzjfPsLQnEnaMHl6a5L7rsVvxiHdx9kf/g0/P9LDNXsdm175BtsrLFhGrtF88jhv/OBD2qb/Fb/96rP8waa82zUwk2DnCc6++f/xf70xReGaV9j03BoaKlQYOMb+t05y+If9XGiPk/nnr7LUquCUgHQIc+YC7/y377CveY6Z8rW88DvPUe+aZabtKGdPHOOtPz/AcOS/8o3nNvFslRUJMNPDtB/+CW9+fx+vTxax6bnd7F21hApPjEjfMfb94ggHf9DFle5Z/P/um1TbwLnAFhMz3EX32bf5L//uR3Tkb2bVtpf5xupSCq0B+o6/z4FTv+BnLU2cCWfxFy+XU5lte3ht1DQwjTRpQ0KSZWRFXmQN1gTDIJU2QFaQZRn5M+5QhKjwhVJfX4+maciyTG9vL42NjczMzLB+/XqKiopQ1cX+SY/QfnQ/B//m5xyKJbCXrGPN3jRbZlv5+fHeB5Yy5maJtRzgePck0xWbefGlP+C31meR6ZCQEyuorKom3/Ft3mi7RPvFUlpX5bHMBnKsg+7mNk6fU1C2/Qnfem0jW2vz8VglqFvG0qxMfvzeeT7sO8gHF/aQscKJ06sQC04wcvxHXBxT8G58iVd+6xX21mTgVNOka0tYUllG9l/9FSdOX+BaUS5PVdWSBwQv7+fs5RtcttTx/D//Z3xlVSaV2XasqkG6bjlLszL5u3cvcKKnkbfPP0/WKidO70I+0yiDV09x8fQl2nwv8to/+Qpb68up8FrR5SRLyqrJK/jvHDrczP6fnaRlUxbeTBvZD6mMhgcv0nXoL/leYyVLnvsSu/Y2UOdawGnda7afYPtB/s1/P426/BW27Xyal5Y5PtOuRIgKXyhut5uqqqqPh0YNDw/T3NxMPB5nw4YNFBYW4nB8tpvhFgWLN5/clVvZXZBNTlkVuekegs03ebvxQVUVg0R0hsHWkwwFPbjrV7JhQyXluQqaDJCBQ01g27Kaw50DjA520Tm2jepiBXOil/7BIW7E7KzYtIO6ZYWU5Nput5lm4F27jpXXe2lt7+fEtQH2lJdT4pWJhUboPtPKuHUD1cvr2VhfSqHrdvuix46ejJDaWMqp410MDQwwNFtDnjvJRGcLN2/GSdob2LyjlqpMmSz9o+vKwLN2FXVNHbT2jnO6e5LXlunMPyZMYJrp0Rkmp53YV21ibd1Saot9OG+HpMvtpaZ6Cf2tPfziai9js3HCScjWP33PqWiQ0M0mWpsN1KdmCC321VypOZIzN7nechXVuZHq8GffoQhR4QvH5/NRX19PIpHg6tWr9PX1cfHiRWT51p1aUlKC1Wr9jHt3kVW9hk3Zq/CUZGJTZRLdUa50f9rjXppkPMRgXzdRZTtluaUsyVVQPq5dSVhsLopqV5Pt/gX9oVEGxxIYRTaMyREmghECtmx2LC/G59Tv6nSSs8ooyMulzNrJL3pvEpzLJwXEI1P0N4eIFpThL8qn2HVHB41kxebOpnpVNY7GXoKBMUaDgDuNYc2jsCIXzbWK+gKFe1/pp/izyXS6yUoF6Q5FSKYXNnoCDHT/EorrMtldvYIlfvvHAXr7CFitDuwOGxAlmTJ44AANM00y0EvfcICuluv0DptEk7OM97fSfMYD3myWrMhBj44SHJtgcEYjd2kVOR4bTg3ABDPOzFAfY6MhJg0fZZU2YmOTTPc0M9Q5zFw8hTreS8/VM5xKe8lasoI8jw3XAvoqRYgKXwimaX78A2Cz2di2bRuZmZmcOnWK8+fPc+zYMSwWC1arlZKSks94JDsunx3Xgt66nCR9DkL9AAAgAElEQVSVihKchGSWD3u2mwz5nl5n1QL+PIosOoF4iulwDNO0Eo8EScR0LFopeX4J/d6bV/bg9DvIyk/BVJB4MkkSSMZijPeZJKr8WN2uT4Shqlnw5OSjWJqIJIIE52TATsUz/5zipwFVw37fS0kQT6dJqwo5TgvagnqVJKCQqqdfo+rp+29hmmki4SCzs7PISjEOi4L2gDZXMxUnfOVH/N0Pj/HTxpuYRhrD6GTyrW4uvPM+7ozn+Td//xXy+9/i7Bvv8p3zXl79s7/g1Q1lrPBLSBiY6RGuv/fXvPmLVg4ndvEv/6yEgV/sp/G9c7SZBmnDgNNv8LMzP2e/L4fn/vXf87X1paxcwDBkEaLC5146nSYajTI0NMTMzMxdv1NVlZKSEoLBID09PczMzBAKhZ7wGUZJxQNMdhjEMx6+dTgeYyIUwsRDMNhPODwGlH96oUQaJmYIx1JEY3Hi4SDDwHymKsRiSULhGGBFtVpRTOB+nXCmSayrme6xGYadhWxfWYrX8ZDn7PkyDcx0jOmOAxw6eJbD3RqFL+1ieZ6b7AcNrJA1bOU7ee5rNRTUXObmpdfZ35JP4brNPNXQQLW3mLosLz7fVtKT07Rf38epd45T7FYp3FxMRirG9MV3OXK5mzZ3BU9/+bdYXZ5g6ct+KpfUMTJ4nv/5wXUo2cTK+tXsrM6kqMZH3n2/XR5MhKjwuRePxxkZGeHo0aP3HcoUiUSYmZnBMAxSqRSpVOoJn2EaI5VkbhrS83jlfSSRIjAXxzQhGY+QTkYfXiiZhrEw8USaVDqJmYwRA+bzsJ1IpojGkoAVSX5Ar3YqjBnu5uShCzRP27HVrWfvEhvez9oqAmCmYeIKx861cr5tBDOdYm68m9E5P/6Gp3j5hTrK/TasD6jsSrKKll1DjaMCjz1F2/jPONHhJad8Jau2bqDBa8XjtKLLFSxZsZ4XdrfTc+o4zVfzKC2ys8nZz9n9Z7gezsG1cjsvbSkm3xcjtdxPrs/KZOswPz3aiZxXSeXq7Wxb7cXqsbPQ7w0RosLnXjKZZHJyksnJyV/1qXyqdArMeaRaIm0SSaYxAYw0D24UvHPnBoTiGCkDwzRvBdR8zyttkkx/yvZmnOj0AEMX3uGDs+MEczaxaus66v2LDAjThMgw/R3NnD7VAUaC2akQetkGVuaXUFPoxmlRHjxUSZJQHH68DiDoZ8oJqmzF7vaTmZ9LnvejDT34ipez7rndNLT9mI62Kxx3GfiKr3Hw7AzJmk2s3bKZhkIVFSeS1YmbbNRRF6oiozq8eHPyyc93f6bLFCEqCL8C0l3RMc92R+mOn4Ud7FOYGPFxhtvP8sO//DsuaC+yff0WvrG9nEVPX5AUyFzFjhdKqF43TTo2wtVjP+P4uZOceTvInK+Mf7Y9j1KfvuhZS7KrANfyL/Hl3af5m30tnPj7ywSrO2ic28VLa9fz/MbixV/PA4gQFYRHQJJA00Gex8B0uyaTYVNvBYeqckc3/oNpCmQ5UDUFRVJAnv+tqykyVssDtjeC9J39gMNvvscH00+x/X97hd3bllPwKBJHksCeRU5xBr78FKZRS0VVHbVLX+f40Uu8/93vcDj3j9i1spCyxYxKA0BGsbhYsuerbOn/OaGDLVxotlH/6otsWLWU0se46NcXe76VIHwu6CgWF95iCc328K2duoVMpx1ZknA6c7Da5jEUQFMgz41dV9E1K6rNhR/mVbuy6hoO+70NfSaQYvLKQRqPnKPxpp2yV36HnRtqqc1zYX1UyaBY0G12nC43Lk8mOUXV1K+spabMyfTAOdoGAkwsetDnLZKsYPf5cVhMmAsTnJWQPE7sdgu2xzhBX4SoICyaFVX3kFUmoRtxknNJYuatmPqYkYboHKF0GtlqJcvtQpLA5cnH4XSQNmaZi97a7C5mjGQ0SSymQp4Ph65h1WxYnB4KvKAn4yTjSRL3FDOMNLG5MIZhx25z4HXdHbdGIkx05CpnDx3hQm+SZPl2XvnaXp4qycD/mddzMSEZZHKgk7ZrbTQNzhJJ3HtBCm6/H1+uF9McZyYUIxZb6FjU+x/bSMeY7mljcCpJWM8iL0thvKeDwdEpgslHcIgHECEqCIumo2ousvJU9LEpQoPTjKXvDlEzmcAYGaQ3liBss5LtdSJJEg5PJjZHgnSyk8HhFNH4PYtUpyeZHZ1hfEBDzsvGabVgxYpud1FQq2CdnSASmCFwVzGTRDzK2M1eEvEcXLZsMu/oMzGNNLGpPgaP/hV/f2ScibxtPP87X+e1So2sxVTZTBMi7Vze9wO+8/98hz/7oIvBYIx7l902DRPTMJGQsesamjrfGPqUBmEzSXJunKvv/JQLN01iS9azZ6OXiWPvc/ZiGy3TxifO41ERISoIj4DV5mZJ3U48niEmJtto6Uzxyw5xg2g4QPOFw8wGM8nwlFKcf3uoZkEFZbkF1CTmOHrhKqPB0F0LnKR62+kevcl1m876JSV47TbAjt2Zx7J1lTimOxjr7qFz8o7QNkNEpvu5cryVsJmNNyv7jp5siAyc4dL+/8W/+ttWzIaX2PvCLp5ZMo+xWQ8jAa4MbMSQR3vpu9TPYChO+K70SjE60Ed/+xiSvIL8XDce9zxiSJZBUx+YocnJLsZOfo8fnJoiXLiKp7/xDV579au8mD/KSNNp9h9rZdKAjwe/STKSrKEhLToERceSIDwCstWNa9ke1lb1cWrgAh++/gbWXbVUZamos8P0NZ/l0JFhokVbWVVXQ5Xr9hJz9hLKa6pZW9vOxcYf8YFjF6HVlZT4ZZju4vrRQ5zsMjFLNvLsUz6yXCogY3HnULDxeVaePkhHyxHe/qlCYssyCqxRYmOtXD9/jP3XomSsX8myZWXk3r7T05NXudp4hLcPttFCLV8qyaHAkSQyNkjk3ouSJGwZObgcOrZ5JYUESg6lNUup67zJqXNv8+YbM4ytqaW2yI9HjRDoaeHCsdOcvSmTt2k3K4o85NgkMKOkokM0vXmYG8l87EvreXZjETZu1fQsuhNfdgWKOkF/dwtXzuaRV+bDXZqJkylGO5rY99Z5OuRVbFq5im0N1RTZ3Dy76zyDp7poOXucQ7UlPFfhwGtVQLeh+HIoU1S6ejtpazrHlcwSMtylZLosCxorKkJUEB4ByWJHyVvNpk0NhGJXOXllP/tiPXRmKqgzYwz3DXHdqGPZ5g2sXVVK/kdNlLKfvOp61u64yfkfnaX7rMnscDsFWQoE2ulsDxB2raRh0242lVvx3n70VWxeXFW72b6pl9ipXq4ff5fEbA/FepToWBcDN4cZzdvM3h2rWVWVx0fLnyZHL3Pt8mWON08QL1xCcvg6NxJ9dN/3oiTKNr9EbVkeRfNaMUkCPOTVNtAQnuX64BHaLx3l8FgvPQWZ+CwRprpu0DOZIp6/hr3PbqYu30WGBhgx0rFBWvf/lPfC9fiezmH7xiJ0boWo7swiu3IL1UUf0NF7kcb3ZaSaejZ81YJ/5iotF86z/2KajGd3s6a+imW5LrRUCSt27mJF7xuMdJzhgw9XUpOxiqocB3bdjZ5dxfrqIgI9XXQ2JnjPrKF+w9dYVS5CVBAeLVlB0azY7Q50TXnAIsUqyH6W7f1dbNmnyNy3j3dOvsFbwRRJewm51ZvY8Q+/zCvri6jIvnteoa3gKWr3ZPOv3Rm89e5xjjee4eisBM58ntr0PC8+s50dG6vI1+54mpWtoFew7bd+j4zCw+x//0P2v/09GmMqanYF5auf5Ruv/BbP1HjJveNxOR6cJpxMEJWi2IeOcPCNT7tslb2+1Ti9PrKU9LxmRykWK6p/BVXb8vg/Sip45513OHLqMO8cmiUqW/EUr6Bh71fYu3srz1TfObhdRpJ1rD47dllH1+4ehK9488lY8zK/vWuc1w9c5OSpI/T2uCnancXU5dM0nWlj1N7A772wjqeW5txaF0C1oC7dzpZVVwnePM3b77/H+fWVeD0OyhwZ6P417P3Wbmbe2M/+syd4r78XS/nzLCnOIH8e1/oRyVzo6xYFYRGuXLlCY2MjTU1Nj2X/q1evZtOmTdTX1z+yfRrxWeZmJhmYmMORVUyG1437QT3YZpJ4JEQoOMN0KEIibWLKFjSbC5fXh89pQdfunXppYqSTJMMBpqdDhKJxYmlAtmB3efF43LidVu67AHw6ylxolpngLMFI7NaixZqO7nDjzfDjsSl3LSKSDo0yHphhcvbe/vz78zgDXP3gBMcPXKTzIdsqqoXN/+g/sHvNUpZnJEnHwwSng8yGokQTaQxkFN2O05OBx+3CY7tzUG0aMx0lMDhMMG1DcfoozHag8NEXh4FpJIhMjhOYiRCKK6BlUFDiRJ6bIhQIE0zYySrOxWO3oH/8WaWIBsaYng4xnXSQVZiLx66hy2CaBqnwJIHADMFwnJRkwVdQitdhmWfzxS2iJioIDyHrbpzZbpZlz2NjSUN3+tCdPua/EJCErFjQPbnkenLJXcjJKTbsXht2bw5589nclUueK3de24IJkTYmiksoW57gYUNgZUWlIMOOXQVJ1lBtGWTaMub5OShIihN/yVL89987kmzFmV2M897/B2shbh8U3Lecis1XgM3HJ2qXkiSjubLJcWWTM69zvD8RooIgPIAEej5la7bjKV/Lw5Z1kSQJR44f7zwmHPw6ESEqCMKDqV58uV58C6oe/2YR40QFQRAWQYSo8ES5XC7c7s+25Nh8uN1uXK7FvMFMEBZGPM4LT5TP56OoqIj8/HzC4TDGfNbSnAdZlnE6nRQVFeHzLejdHoKwKCJEhScqIyODmpoakskkXV1dJBLzG2rzMLquU1FRQU1NDRkZ83hHhyA8ImKcqPDEJZNJotEosViMR/XnJ8syuq5js9nu+woRQXhcRIgKgiAsguhYEgRBWAQRooIgCIsgQlQQBGERRIgKgiAsgghRQRCERRAhKgiCsAgiRAVBEBZBhKggCMIiiBAVBEFYBBGigiAIiyBCVBAEYRHEKk7CEzc7O8vNmzeZmJgglXrYSyfuVlpaSl5eHg6H4zGdnSAsjAhR4YmKxWIMDAxw+vRpRkZGFhyio6OjrFixgsrKSqxWK5J03/cXC8ITI0JUeKICgQBtbW2cPXt23mUkSUKWZWRZZmpqipmZGRwOB4WFhVgslscepKaRJp1KkEzEMTUHmqahPaghzDRIpxIk4gkSqRSGAaYkIysamm5F12RU+ZPna5ppjEScWCJJMpXGMAFJQdEsWCwauqZyn2Jgpkkl4sTjCZJpA8MESVKQNQ2LbkVX5fuUMzGNNKl4jHgyRSptYJgSSDKqZsGiW7Coyv2PN+8PzQQzRTwWI5FMkUqbmIAkq6gWHYtFw6Le++roLyYRosITFQgEmJqaWlAZh8NBTk4OTqeTwcFBOjo6iMfjfOlLX6KgoACb7TG+XtJIEQ0MMNh+jtPH9mOs+WOWr1jL2ge9czg5xc2rZzj74SFONHczHEqTtmbjL69n1faXea4hn7IsG8pdhdIkZ0cZu/gu7xxr4kLHCCMhCRzZVNRtYduODWxft5RsC58MnXAf7WdOcOzDRk51DDEbV1E9BRTWrmXji6+wa4mbHOc9t7kZIzLWRdeRN3nv7A1aB4MEEhqSI4flDU+zbfta1q0sJduyiM8tGSId6OT42+9ysukGbcPThFMKtqzl1KzfwZYta9hVl4XGfa7pC0b59re//e1f9UkIvzmGh4fp6+tjZGRk3mVsNhu5ubls3rwZWZYJBoNMTEwwOzuL3W7H5XJhsSzmjr9HKkpieoi+5mOc2P8+H3xwgAMnznKu6Tpm2XaKy8op99xbKAnGBK3vv8GBd49y5EaIVG45ZSV55NrSJMf7uNp8jREpA92VQUmG/nHJ8GATbSdf57uvn6Bt2oEls4Syslxy9Rmmerro7g0yHLZTWpOLLku3aj7GHES7OPGT13l//yUujpq4ltRSUejDIwWZGbzO5as3iDmLcbi9ZDtuV53NECPNRzn93i/44eE+ArZcMgvLWJLvx2cJMtHVQWfvLKNRO6XVOegS9wT+PESHGLp+ijf/x084cD1I2JpDQVk5FYUZ2KPjjPZ30D44wai1hNIMHYdlwUf4XBE1UeELwWKxsGTJEqxWK6Zp0tzczLVr17BYLBiGQUVFBU6nE1le7ICTCNN9N+g8dYozN65w4+YsU8Eg4XCAzqEIubE093srlJmcIz15hVOHP+RMJySqnmbv3jWsyFNRp/vpvnSafQf2cfZIAW6Hn2VFy/CpIKWnGWu7yJkDR9l3M5+du7awuaGGylwFJlpoOnSQIy0XORhWWLqxhk25Olm6RDoaJNJ9iMMHznItnIVvww6e3b2aMvscczebaD57nA8++AVHM1bgdmVQmp2DA0hNddB67gSHTrbS49rBnk1rWLMklzw9Rni8hYsHDnC47cz/396dB1d1HXYc/97lvXffvkrvaV/RhkASYCRbYBuMAWMTO6RxEjtp0iXpks70j077X2eS5s/OtJ12pjPtJOO0bhLvcWyDY2xiwIBYhEACLSChDYSedj29/b7l9g95YTFGioDYyf3M6B/NOefdqxn93rlnuxyIS9RtrmejW8BoXE5fMU14rIuetvd49b0R7A9tp6VlPRsqc/Eaw0x2t3P00HucPHeAV1O1NBVsxGY1YLnNR6TCQeZHz9A97sJZUk5RqR/fSl5goC6QnBvlePc4greCwqIiyj2/XYN6iOq+UOrq6jCZTKRSKTo7Ozl9+jShUIhMJkNtbS1ms3mFQTrFSPsh3vr3FzlgdVH+wGO0bMzgmD7Cv73SfctamdgC4TP7aRsJEy3fyZN/8hc8W2/AJAE0UV1TSXH2OP+89wz9Z1fRu7WW+x0CUqyfS90XON4pY9n1XZ7+egObKtwf9v7W0ZBnRHj+lzx/8hC/Pv0sVZs85ORKJEKTDB16jc45L77Nu3jme19lS+DDR+O1q6gqz8c7fIb/bj9NT2Up97f4qRQh3n+UjnNX6MqsZfff/B1fq5YptH/US91Ao19Efe513rjYxtGeP6dmnRH3kkNUA2Jc7W6nq72PocBu/vGPv8ZDdQECHyZNdd06Cl1RbC+9y3/ua6Pv6ToKCxxYbpNE0fEu+l75W374ZiMN3/4eT3/Lj8+1xMv6NJErLJx7kR/94C3klr9iz9Nf53sb9RDV/YEoKipi+/btCIJAb28vAwMDLCwskEwmqaurW+GL6pzkbdjBEz/YyJ5VebicTgzB41w8eALpllmSIZmYZ6D3OJFENfl5tTSukpE/znIRi83D2pateNramJsb5NLlNM11BrSxEUanphixOdh6fwN+t+O6xdty2WoqCzqoTXdyvKefZ5rWkAHikXEGTk0S820mv6qcWt81Y4uCHbunlI2PNPLCz68wMzHGlWmozIXp+Wkko5eqynVsrDFgN19zUwLI/gB5Thf5mThToRiptMzylpNPEQkbSIpVlD28gVqfFd91T+syHm8+uXkBNG2KcCxFIsUXOom+wJeu+0NlNBrx+/08+OCDuFwuzp8/z9WrVzl06BCaplFXV7eC1yZbceWXYnKWYPZYMUgCyagZRYZbLwJIk07FmJmIoDpzsAd8BMzCNeUFRKMZS2EFBcoJYvEIU/NJNE1GXZghGhPJGospL7RiVaTrJloEJQd3ros8X4pocJpYUiUFpOIRxi+mUNcGsHo9eK77T5YwKjb8pSUYDaeJxGaYiQC54Kl7nG2uNM1SPjVW4abHaCGVJpXJkABckvAZ93wrXoru28HOwjjr/VWUuM3I17UhkE6rpFNJQEYWhVt+OWkZlXj/ft49cZFj7V3MDGSZjY3SdeBnRC+f5333Gp740/U4Z04z2HGOIyNW1j+1h6YyL/kWgCxo8wwfeY8zZ67So1ax/Skvsx3dXGrvYGiqn+lQHPHsO7wTvsTEAS/1j/8Z95V7KbQt/Y71ENV97mmaRiqVIhKJXLecye/3U1NTQyKRIBQKMTg4SGFhIYFAYAUhasRkMWKyLKdOkowaZvaKhmq0YLQpmIUbZp1FCawO3LKMmFSZiUTRNCvR8CSJWBJJ8uCwgnzjHItgxmQ1YrNlYHKeeDJNMpNGjUUIzkLSZMWgmDDdUE2UJMx2J6IUI5aMEoqmARlnSTMNJTffgZZVycbnGOnq4dJkmoSrmFUFCmbjcnqhAuAit7qJ3OqbPgGyGRJzwwz0D9EfVHFUVpLnVLhx8cA1F0UmPMnU2DBDlycIhzRSmRiR2SDjw260+XzCahpzcoapS6c59tYkVxw1mHY24qm0Y8qmSAY7OXVwL/tPLDBZUsD9MZnZiTFGh64wHAmRSmVhYYaZKxJDRMkNqySWt3RZD1Hd5186nSYSiTA4OIjFcnO6eTweioqKiEajhMNhIpHIPb7CBOlkiJlBDfVWS5+uEUmqTEciaFoOCwtjxKLTt6+kpuFqiGgyRSKZIBUNMQGoS7m6RIpIdLHn9wkNSBOfj5BMpVHVEOrUed568zDngn5c6zazpd6Mc6Vvn07HicYSxBIqWjrO9Pk3OPBBN+0zHmq+/BB1ATveW6SQIBpQSjez7akmKqrbuHDgX/mfY3lUPrCbrds30ehyUeR14Ay0IM7NMnTyx/zy3cNUFLmoLK6lKBNmvO1tPugdZ8S7nie/s5uGkhCJXUXU1dYwdXE/P/jpcYTaVlof3sZXGrw4i9zkLusLVA9R3RdAIpFgeHiYqampT11Yn8lkSCaTpFKp38HVLdI0SCUg+2lT9zeIpTLMxtNoAOk0ZDO3r5TOwnSUtJohq2VAW3p3KZXOkFBvLB8DbZh3/+k/eK9rgB4tg5ZR0XI3sfnJ7Ty+YyOrDLCsifkbZdMw8jY/e/EAL/3mAmga6aSGq24Lzc8+xrM7KsmzG269hEqUkD0lFDiyKOkx0mcFTLIdZ24ppbVV1LolDEYZUcijsPo+9nzzImf/+xDnOkrIL7KzJ6eXt18/w5DQSMWDu/mjehNOkxeH2YXXnMCjdmA0yMiefPIqVlNX50CUTTc/DdyGHqK6z71sNouqqqjqUvpdvzuaxmIH7zayGmSy2odFtQ8rLqHxVHZxI5DG0upcU1W7qbwMgoO8xg00ufPxxOcJj/XQNXmRnp4ifMVlrMqzIwsrOKVIEMCST0XNOrakc8iqIS5f6GJ84jwXzvo4UVvJo5Uyymf0/ATJiEECRTEujkuzuKvKZFZQlI9KGTB5yylo3s3jHYO8N9LJ+y9NIFZ0c+BKLgXbm9m2qRafWUBCBqOMQTGhGBd3gYmSAaOioHzS4LLoIarT3SGi9FmTT5+QRQHloy2Pgrj4c9vGBbAYECVhsTe+lDofVRUF5JuWfRkAHxUPb8cfjxGJzRIa7SL/yCFOjp3hg3etlFYEaM1T8Ci/ZYwKIrhW0dCSR3FdhKw6z3B3HqeOnKJ34ANef6OYgm+00lDswrHCYQNBcaIUNPHgo80Mv9zHibZO3hyZJVz8HbZvaKT542Vjd54eojrdii3u7VdsIC7hP8pqkPCYjQgCSEYTgryEBDFIkGPFYJSQRRkkIzJL2zJpNEgophs/QwTMeIqL+XgKrvF+NtS4ef7Hr/Jy+16eO/ww5TvzcCvKb7k1UwCzF5/Ziy9/8TfVazeyOu8n7HvlV/zLL57n8Ppq3F4n9a6Vbv4UkYxWSjY/xn1nhxjuGKSt188jf7+FxtWlFN7FpNPPE9XpVsyCrHjwVYmY7LcvbVNM5NjtCAg4nSXYbP7bVzLKUODCZjKgmCyYbC7y4aZZ+U+jKAbstiWUFEAuq6U4p4CiWIL+vhHm40nu7EizjL+4hOKqfLLaAKPj88wtLHM6/LOk48SiaaJxyGpZZiMLxJPJO9f+p9B7ojrdipmQjQ58BQLGMyFikxHmNHBeu8wpnYKZKcZUlbhbIcdpQxAEbM4czFaNVHqUqRkN1cP1yajNE5uJMheUod6H1WTALArErHYKygVM0XniC1HCwLX5nU6phKeukk55sSkePA4NCDN89B26ByHsqOaBJ9fgv+HjBKOCUTZgQCMhZNHQltEL1SA2RM+pbs6PJpgrb+GptX789mvPNRAwGI0YFQOQRNBAuCNHkGTIqCGG399L51iKSN5qmgNhLh97n7MFdor99ZTfpSNo9Z6oTrdiMgaTncLyEqzJCeaCYwzPZMl8PJejkUpEmew/x3jEgGDzkp9jQhTA6CvA51ZwqeOcvzhBKKpeNzeVnbtMMDjFSNhIfnE+DrOCjBnF6qW80Y0ldIW5qxOMxa6Z09JU4tEZBs/3E0/7cTpz8TsWr2NhuI1TB99h33tnuBSB+A0LA7KhaUKxMBGjAX+OB4vhM2bPb6KBtsBE7wmO7/s1rxwa5EooccMyrCzRhRALs1EEIRe304x5KWOuggDSrQeds/FZwkNtHNjfxqV0LvmbdrL70bXkBtvpOX2GtovTxDWuOfdgcVxZvAMRroeoTncHmMx2Suq34vfNEJrq5kzXNHMLceKJBIlYiOngCCeOHyWczCcnp4xS/4d5ECintKCI1XKS4ydOMDQWZD6aIJFMkIiGmO0+R9/VIEN2Nw9UF+G2KoAZsz1AdfMaPPFhpgb6ODcUIhxPkkgkiEfGmbjcx4kjA6hKATl5AQIOCXDg9ilITDAx2k1vzwyTs1Gi8STJZIJEdJ6Z7k4uTUwxZXezoaoYl9m0jJAQwOrBrghYIkHGO/q4ODbN+EKMeCKJmowTC08zeHGAgf5ZTLZ1FOU5cNlEIIuWTRKbnWZ2JsR8VL3uoBdBkpAUC4KQQU0miEUTqIkUaU1D01LEghcYOvgzXutKkS1dx9Y9T/H4zid5ojzCXM8p3j/cyWgsQ+qjRkUJ0aBgEQQENUkiFiOeTKKmtcWzXJdBPwpPd08Fg0FGR0eXdRTecuTn51NcXEwgELhjbaZnhwgOnGbv6SAF9+1idXUlFTcchSdIMqLbi3b5DFf6ejjaMcQUItnoGMiyYugAAAUISURBVFfPHuTwr17lp78ZhZaneWhbK9vKHRhFQLChsICQuMChdw5yZSrFTExFjV3lcvsveemFX3NoyIW5bjd/+UwDpQ4JkyggGmTMuT5mz7Vx8XwPJ3snSFgUktP9XPjgDd5+/XVe7oxRuee7PPJQEw05RiTA4nGgTo8xfvYo+w6eZzKhEk/ESE5cov/Ua/zi/97mgxEnltU7+PYzGyh3SChLPp1ZACw4zQnE9Bgd+9+hY3CCyfkk6XSc2PQFOt/6Oa/tPcaRGRf+x77Js5vLqHCbkLUFUuEu3vzhj3hu/zAdMQ/r1/oxstjTExPzaLMj7OvoZzwukkkYcKcyaF47htQIgyd/w3M/Pkx/YA87dz3Iro3FuBQnhdY5ei/00j06Rzi3kTW5ClajCEKCdGaOgX3tDE+ozKcT2FwqyWwOisGAeRknK+pjojrdnSAaEczFNO34Kqr1JJb2Yfre+V+GJCAjkhHcFG//Pg8+uokH6nx8/AQrGHGWradxR5q/Tu2ne7STjr3naDeIkIojmWpperSFptZWqh0ylg83mguyBdndwNav7MHwwWna+ro4+IsLnCBDJptGU2po/ta3eeyRetYVWvhobt7grKJhy24ExYP3eD9jp9/kzQ4JWRLJaik0RwvNLeu5r2Uda5wSlmU/qxqwFK5jzVaJ72s+jl28yuW213nhuIxBzpBRwViwiYfrN9DaupoKnxmTyOLi2WyK2MJVJhZyUUMJMnwyRCE78/E2PcGXNkY43N/NqX1J5voe5uulVmZHDtN+8CSd82U0f2MT61YXkWOSEbNO3I2P8MDZYWaP9dL26l7W53+Z5jI3OQY3ppx1bPtSC+Fjl+g99RYvzvWx5RurcDosuJcxfqqHqE53G5I9gK96M48/UUJ5VR55n7o4XATBir9uMy1KDk5PB+19g0xHs2RMPlwFNdRuaKa5ykfAef1MucFZSH69hS8bzRS099AzOkMwBihuymrW09C4mvrqfJzStSc1GUD2UrHxEWR7Lu5AF2cGg0RVCcnpx1+xmsaNrTQVWnFde1KT5CRQvQGrOwefv5323kEuz0SJaSZkWw7Fq1u5r3EV9eWexcNJkkFGLwwzNBhk7jZ/J0GUKFi7iVJ/PrnVNna6ffja2zl/YYwrU3FUwYDVV0JF40Ya19bRWHDNGwkEI6IxQMWmR3koVoylyouJT+5XNLuxlt3Pjsci2PIG6Zs0I7qd2GQRSbTjKlzN/bvK2PJQDdUB++KXhigj5tTR1LqVjOECp8JGTJKwGMyiBYO9jIbHdhFznsXfP8WC7MVrkzAuc82qoN28lUGnu2vOnj3LkSNH6OjouCvtr1+/ntbWVhobG+9K+39YNJg7wls/eZWXXzhKz21KSwYj2/7hv3iqtZ4NuffkAj8X9J6oTqe7NUsZdY9+lW+WP0z0NkUFUSKwpoDiZRwj9/tAD1GdTncLAhi8BMqtOAKpT30tyvXFBYw2G5al7AD4PaKHqE6nuzXRjMVuxrKEnVh/qPR1orp7ShRFJOnuvd1RkqS72r5OdyM9RHX3lMfjwev13rX2vV7vCk611+mWT3+c191TXq+X6upqpqenCQaDpNN35vAJg8GA3++nurpaD1HdPaWHqO6eMpvNlJQsvuTnboRoSUkJZrP59hV0ujtEXyeq0+l0K6CPiep0Ot0K6CGq0+l0K6CHqE6n062AHqI6nU63AnqI6nQ63Qr8P8ivjBGsXuv9AAAAAElFTkSuQmCC)"
      ],
      "metadata": {
        "id": "_LnjC8OYmrox"
      }
    },
    {
      "cell_type": "code",
      "source": [],
      "metadata": {
        "id": "tl7B5QCveYNn"
      },
      "execution_count": null,
      "outputs": []
    }
  ]
}