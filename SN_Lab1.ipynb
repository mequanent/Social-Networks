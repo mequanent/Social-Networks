{
  "nbformat": 4,
  "nbformat_minor": 0,
  "metadata": {
    "colab": {
      "provenance": [],
      "collapsed_sections": [],
      "include_colab_link": true
    },
    "kernelspec": {
      "name": "python3",
      "display_name": "Python 3"
    },
    "language_info": {
      "name": "python"
    }
  },
  "cells": [
    {
      "cell_type": "markdown",
      "metadata": {
        "id": "view-in-github",
        "colab_type": "text"
      },
      "source": [
        "<a href=\"https://colab.research.google.com/github/mequanent/Social-Networks/blob/main/SN_Lab1.ipynb\" target=\"_parent\"><img src=\"https://colab.research.google.com/assets/colab-badge.svg\" alt=\"Open In Colab\"/></a>"
      ]
    },
    {
      "cell_type": "markdown",
      "source": [
        "# LAB 1\n",
        "\n",
        "\n",
        "\n",
        "## Policies\n",
        "1.   Any python package that can be installed with pip can be used(imported).\n",
        "\n",
        "socore\n",
        "\n",
        "\n"
      ],
      "metadata": {
        "id": "fxp3NR-vZtlX"
      }
    },
    {
      "cell_type": "code",
      "source": [
        "!pip install networkx"
      ],
      "metadata": {
        "colab": {
          "base_uri": "https://localhost:8080/"
        },
        "id": "LUH6ZuQKz7ai",
        "outputId": "a4a99e82-083a-46e4-ee57-53bdcd60a137"
      },
      "execution_count": null,
      "outputs": [
        {
          "output_type": "stream",
          "name": "stdout",
          "text": [
            "Looking in indexes: https://pypi.org/simple, https://us-python.pkg.dev/colab-wheels/public/simple/\n",
            "Requirement already satisfied: networkx in /usr/local/lib/python3.7/dist-packages (2.6.3)\n"
          ]
        }
      ]
    },
    {
      "cell_type": "code",
      "execution_count": 1,
      "metadata": {
        "id": "NUoI1DqQEQwA"
      },
      "outputs": [],
      "source": [
        "import networkx as nx\n",
        "import matplotlib.pyplot as plt\n",
        "import numpy as np\n",
        "\n",
        "\n",
        "%matplotlib inline"
      ]
    },
    {
      "cell_type": "markdown",
      "source": [
        "## Load the graph\n",
        "\n",
        "We use nx.house_x_graph() as our testing example, however, we will not use this testing example for our final grading .\n",
        "\n",
        "The exact testing data for the final grading will be an undirected graph and it will be announced after the due date."
      ],
      "metadata": {
        "id": "2Faf4Vsn6kk6"
      }
    },
    {
      "cell_type": "code",
      "source": [
        "# load the graph\n",
        "#G = nx.karate_club_graph()\n",
        "\n",
        "G = nx.house_x_graph()\n",
        "# visualize the graph\n",
        "nx.draw(G, with_labels = True)"
      ],
      "metadata": {
        "colab": {
          "base_uri": "https://localhost:8080/",
          "height": 319
        },
        "id": "cODoTz8SIPhu",
        "outputId": "c7f6f06e-6dad-4b24-bcbd-8c86c5d56541"
      },
      "execution_count": 2,
      "outputs": [
        {
          "output_type": "display_data",
          "data": {
            "text/plain": [
              "<Figure size 432x288 with 1 Axes>"
            ],
            "image/png": "[encoded data removed]"
          },
          "metadata": {}
        }
      ]
    },
    {
      "cell_type": "code",
      "source": [
        "print(list(nx.nodes(G))) # list of nodes\n",
        "print(list(nx.edges(G))) # list of edges(start, end)\n",
        "print(list(nx.degree(G))) # list of (node_id, degree(node_i))"
      ],
      "metadata": {
        "colab": {
          "base_uri": "https://localhost:8080/"
        },
        "id": "GFoYNcOaqB8g",
        "outputId": "80ff15bb-a34c-445c-972e-67454ec735ac"
      },
      "execution_count": null,
      "outputs": [
        {
          "output_type": "stream",
          "name": "stdout",
          "text": [
            "[0, 1, 2, 3, 4]\n",
            "[(0, 1), (0, 2), (0, 3), (1, 2), (1, 3), (2, 3), (2, 4), (3, 4)]\n",
            "[(0, 3), (1, 3), (2, 4), (3, 4), (4, 2)]\n"
          ]
        }
      ]
    },
    {
      "cell_type": "markdown",
      "source": [
        "Please refer to the NetworkX documentation for more details : [NetworkX](https://networkx.org/documentation/stable/reference/index.html)"
      ],
      "metadata": {
        "id": "_qwhEUfzseQo"
      }
    },
    {
      "cell_type": "markdown",
      "source": [
        "## Part 1 - Degree distribution (15 points)\n",
        "\n",
        "\n"
      ],
      "metadata": {
        "id": "wbbMd5FW7Jny"
      }
    },
    {
      "cell_type": "code",
      "source": [
        "def plot_degree_distribution(G):\n",
        "  ''' ++++++++++++++  My part +++++++++++++++++++++++++++ ''' \n",
        "  degrees = [d for n, d in G.degree()]  # degrees in G\n",
        "  # get the count for possible degrees from 0 to max degree\n",
        "  degree_hist = [degrees.count(i) for i in range(max(degrees)+1)]\n",
        "  ''' +++++++++++++ End of My part ++++++++++++++++++++++ '''\n",
        "\n",
        "  print(degree_hist)\n",
        "  degree_hist = np.array(degree_hist)\n",
        "  degree_hist_dist = degree_hist/sum(degree_hist)\n",
        "  \n",
        "  x = np.arange(0, len(degree_hist))\n",
        "  plt.scatter(x, degree_hist_dist , c =\"blue\")\n",
        "  plt.show()\n",
        "\n",
        "plot_degree_distribution(G)"
      ],
      "metadata": {
        "colab": {
          "base_uri": "https://localhost:8080/",
          "height": 282
        },
        "id": "i4ZCxkaE7hS_",
        "outputId": "5c533f94-d12e-4bfc-d905-81d042efdf61"
      },
      "execution_count": null,
      "outputs": [
        {
          "output_type": "stream",
          "name": "stdout",
          "text": [
            "[0, 0, 1, 2, 2]\n"
          ]
        },
        {
          "output_type": "display_data",
          "data": {
            "text/plain": [
              "<Figure size 432x288 with 1 Axes>"
            ],
            "image/png": "[encoded data removed]"
          },
          "metadata": {
            "needs_background": "light"
          }
        }
      ]
    },
    {
      "cell_type": "markdown",
      "source": [
        "## Part 2 - Network diameter (15 points)\n",
        "\n",
        "\n",
        "$$diameter=\\max\\{\\text{shortest_path}(i, j), ∀i, j \\in\\{0,1, ..., N-1\\}\\}$$\n",
        "$N$ is the number of nodes."
      ],
      "metadata": {
        "id": "HzCg-_5I8HdC"
      }
    },
    {
      "cell_type": "code",
      "source": [
        "paths = nx.shortest_path(G)\n",
        "\n",
        "print(paths[0][4])"
      ],
      "metadata": {
        "colab": {
          "base_uri": "https://localhost:8080/"
        },
        "id": "XCtBbC1xCSri",
        "outputId": "a9955e6f-4832-479b-f9c8-31c3a495dcb9"
      },
      "execution_count": null,
      "outputs": [
        {
          "output_type": "stream",
          "name": "stdout",
          "text": [
            "[0, 2, 4]\n"
          ]
        }
      ]
    },
    {
      "cell_type": "code",
      "source": [
        "\n",
        "def max_shortest_path_algo(paths):\n",
        "\n",
        "  max_length = 0\n",
        "  max_shortest_path = None\n",
        "\n",
        "  ''' ++++++++++++++  My part +++++++++++++++++++++++++++ ''' \n",
        "  for i in paths:\n",
        "    for j in range(len(paths[i])):\n",
        "      num_edges_in_shortest_path = len(paths[i][j]) - 1\n",
        "      if num_edges_in_shortest_path > max_length:\n",
        "        max_length = num_edges_in_shortest_path\n",
        "        max_shortest_path = paths[i][j]\n",
        "  ''' +++++++++++++ End of My part ++++++++++++++++++++++ '''\n",
        "\n",
        "  return max_shortest_path, max_length\n",
        "\n",
        "max_shortest_path, max_length = max_shortest_path_algo(paths)\n",
        "max_shortest_path_edges = []\n",
        "\n",
        "for i in range(len(max_shortest_path)-1):\n",
        "  max_shortest_path_edges.append((max_shortest_path[i], max_shortest_path[i+1]))\n",
        "\n",
        "print(\"Diameter = {}\".format(max_length))\n",
        "print(max_shortest_path)\n",
        "\n",
        "pos = nx.spring_layout(G)\n",
        "nx.draw(G, pos=pos,  with_labels=True)\n",
        "nx.draw_networkx_edges(G, edge_color='r', edgelist=max_shortest_path_edges, pos=pos)\n",
        "plt.show()"
      ],
      "metadata": {
        "colab": {
          "base_uri": "https://localhost:8080/",
          "height": 354
        },
        "id": "8pzX6n1w8Sj1",
        "outputId": "17b0626b-2ac3-464c-bc58-bd548c5d9783"
      },
      "execution_count": null,
      "outputs": [
        {
          "output_type": "stream",
          "name": "stdout",
          "text": [
            "Diameter = 2\n",
            "[0, 2, 4]\n"
          ]
        },
        {
          "output_type": "display_data",
          "data": {
            "text/plain": [
              "<Figure size 432x288 with 1 Axes>"
            ],
            "image/png": "[encoded data removed]"
          },
          "metadata": {}
        }
      ]
    },
    {
      "cell_type": "markdown",
      "source": [
        "## Part 3 - Clustering coeficient (15 points)\n",
        "\n",
        "### Global clustering coefficient\n",
        "$$c_{global} =3\\times \\frac{\\text{number of triangles}}{\\text{number of connected triplets}}$$\n",
        "\n"
      ],
      "metadata": {
        "id": "zJiE4Vly8--y"
      }
    },
    {
      "cell_type": "markdown",
      "source": [
        "### The following method is my user defined method to determine the number of connected triplets in a graph."
      ],
      "metadata": {
        "id": "956pq-avxsp5"
      }
    },
    {
      "cell_type": "code",
      "source": [
        "''' ++++++++++++++  My part +++++++++++++++++++++++++++ ''' \n",
        "def nun_of_triplets(G):\n",
        "  triplets = 0\n",
        "  for n in G.nodes:\n",
        "    neighbors = G.neighbors(n)\n",
        "    for i in neighbors:\n",
        "      _2nd_neighbors = list(G.neighbors(i))\n",
        "      triplets += len(_2nd_neighbors) - 1 # exclude n from neighbor of i since n is already being considered\n",
        "  return triplets / 2 # devided by 2 bc (x, y, z) and (z, y, x) shouldn't be counted as two  \n",
        "#''' +++++++++++++ End of My part ++++++++++++++++++++++ '''    "
      ],
      "metadata": {
        "id": "PK8P4o9JTgaF"
      },
      "execution_count": null,
      "outputs": []
    },
    {
      "cell_type": "code",
      "source": [
        "global_clustering_coefficient = 0\n",
        "''' ++++++++++++++  My part +++++++++++++++++++++++++++ ''' \n",
        "num_of_triangles = np.sum(list(nx.triangles(G).values()))/3\n",
        "nun_of_connected_triplets = nun_of_triplets(G) # I defined this function above\n",
        "global_clustering_coefficient = 3 * num_of_triangles / nun_of_connected_triplets\n",
        "''' +++++++++++++ End of My part ++++++++++++++++++++++ '''  \n",
        "print(\"Global clustering coefficient = {}\".format(global_clustering_coefficient))\n"
      ],
      "metadata": {
        "colab": {
          "base_uri": "https://localhost:8080/"
        },
        "id": "WLV-Epdo-qkC",
        "outputId": "91e25659-7145-45d1-b598-d7b4200bfee5"
      },
      "execution_count": null,
      "outputs": [
        {
          "output_type": "stream",
          "name": "stdout",
          "text": [
            "Global clustering coefficient = 0.7894736842105263\n"
          ]
        }
      ]
    },
    {
      "cell_type": "markdown",
      "source": [
        "## Part 4 - Centrality (15 points)\n",
        "\n",
        "\n",
        "### Betweenness Centrality\n",
        "$$C_b(v_i)=\\sum_{v_i\\neq s \\neq t}\\frac {\\sigma_{st}(v_i)}{\\sigma_{st}}$$\n",
        "\n",
        "$\\sigma_{st}$ : the number of shortest paths from vertex $𝑠$ to $𝑡$\n",
        "\n",
        "$\\sigma_{st}(v_i)$ : the number of shortest paths from $𝑠$ to $𝑡$ that pass through $v_i$\n",
        "\n",
        "\n",
        "### Closenees Centrality\n",
        "\n",
        "$$C_c(v_i)=\\frac{n-1}{\\sum_{i\\neq j}d(v_i, v_j)}$$\n",
        "\n",
        "where $d(v_i, v_j)$ is the shortest-path distance between $v_i$ and  $v_j$, $n$ is the number of nodes in the graph.\n",
        "\n"
      ],
      "metadata": {
        "id": "aGc9btTx_3KK"
      }
    },
    {
      "cell_type": "code",
      "source": [
        "\n",
        "betweenness_centrality = {}\n",
        "closeness_centrality = {}\n",
        "''' ++++++++++++++  My part +++++++++++++++++++++++++++ ''' \n",
        "betweenness_centrality = nx.betweenness_centrality(G)\n",
        "closeness_centrality = nx.closeness_centrality(G)\n",
        "''' +++++++++++++ End of My part ++++++++++++++++++++++ '''  \n",
        "\n",
        "print(betweenness_centrality )\n",
        "print(closeness_centrality )\n",
        "\n",
        "print(\"Betweenness Centrality of node 0 is {}\".format(betweenness_centrality[0]))\n",
        "\n",
        "print(\"Closenees Centrality of node 0 is {}\".format(closeness_centrality[0]))\n"
      ],
      "metadata": {
        "colab": {
          "base_uri": "https://localhost:8080/"
        },
        "id": "r3cP0NemGQ7k",
        "outputId": "5eb3ce1e-febb-4bf8-855c-2eca61017851"
      },
      "execution_count": null,
      "outputs": [
        {
          "output_type": "stream",
          "name": "stdout",
          "text": [
            "{0: 0.0, 1: 0.0, 2: 0.16666666666666666, 3: 0.16666666666666666, 4: 0.0}\n",
            "{0: 0.8, 1: 0.8, 2: 1.0, 3: 1.0, 4: 0.6666666666666666}\n",
            "Betweenness Centrality of node 0 is 0.0\n",
            "Closenees Centrality of node 0 is 0.8\n"
          ]
        }
      ]
    },
    {
      "cell_type": "markdown",
      "source": [
        "## Part 5 - Structural Equivalence (15 points)\n",
        "\n",
        "Vertex similarity\n",
        "$$s(v_i, v_j)=|N(v_i)\\cap N(v_j)|$$\n",
        "\n",
        "Jaccard similarity\n",
        "$$s_{jaccard}(v_i, v_j)=\\frac{|N(v_i)\\cap N(v_j)|}{|N(v_i)\\cup N(v_j)|}$$\n",
        "Cosine similarity\n",
        "$$s_{cosine}(v_i, v_j)=\\frac{|N(v_i)\\cap N(v_j)|}{\\sqrt{|N(v_i)|\\cdot|N(v_j)|}}$$"
      ],
      "metadata": {
        "id": "DGY_NR9_Gkgs"
      }
    },
    {
      "cell_type": "code",
      "source": [
        "def node_similarity(v, u, normalized=False): \n",
        "  neighbors_v = set(nx.neighbors(G, v)) \n",
        "  neighbors_u = set(nx.neighbors(G, u)) \n",
        "\n",
        "  result = 0 \n",
        "  if not normalized: \n",
        "    result = len(neighbors_v.intersection(neighbors_u)) \n",
        "    return result \n",
        "  elif normalized == \"cosine\": \n",
        "    ''' +++++++++++++ My part +++++++++++++++++++++++++++++ '''\n",
        "    numerator = len(neighbors_v.intersection(neighbors_u))\n",
        "    denominator = np.sqrt(len(neighbors_v)*len(neighbors_u))\n",
        "    result = numerator /  denominator\n",
        "    ''' +++++++++++++ End of My part ++++++++++++++++++++++ '''  \n",
        "\n",
        "    return result\n",
        "  elif normalized == \"jaccard\":\n",
        "    ''' +++++++++++++ My part +++++++++++++++++++++++++++++ '''\n",
        "    numerator = len(neighbors_v.intersection(neighbors_u))\n",
        "    denominator = len(neighbors_v.union(neighbors_u))\n",
        "    result = numerator /  denominator\n",
        "    ''' +++++++++++++ End of My part ++++++++++++++++++++++ '''    \n",
        "\n",
        "    return result\n",
        "  else:\n",
        "    pass\n",
        "\n",
        "print(node_similarity(0, 1)) \n",
        "print(node_similarity(0, 1, \"cosine\")) \n",
        "print(node_similarity(0, 1, \"jaccard\")) "
      ],
      "metadata": {
        "colab": {
          "base_uri": "https://localhost:8080/"
        },
        "id": "pZu2XyCyKDSD",
        "outputId": "744e5598-ffaa-44ba-964e-e7aa736441aa"
      },
      "execution_count": null,
      "outputs": [
        {
          "output_type": "stream",
          "name": "stdout",
          "text": [
            "2\n",
            "0.6666666666666666\n",
            "0.5\n"
          ]
        }
      ]
    },
    {
      "cell_type": "markdown",
      "source": [
        "## Part 6 - Community Detection: Girvan-Newman Algorithm (25 points)\n",
        "\n",
        "\n"
      ],
      "metadata": {
        "id": "88TOegTsPD_W"
      }
    },
    {
      "cell_type": "code",
      "source": [
        "\n",
        "def edge_to_remove(graph): \n",
        "\n",
        "  edge_betweenness_centrality_dict = {} \n",
        "  ''' +++++++++++++ My part +++++++++++++++++++++++++++++ '''\n",
        "  edge_betweenness_centrality_dict = nx.edge_betweenness_centrality(graph)\n",
        "  ''' +++++++++++++ End of My part ++++++++++++++++++++++ ''' \n",
        "\n",
        "  edge = ()\n",
        "  for key, value in sorted(edge_betweenness_centrality_dict.items(), key=lambda item: item[1], reverse = True):\n",
        "      edge = key \n",
        "      break \n",
        "  return edge\n",
        "\n",
        "def girvan_newman(graph):\n",
        "  # find number of connected components\n",
        "  connected_component = nx.connected_components(graph)\n",
        "  connected_component_count = nx.number_connected_components(graph)\n",
        "  \n",
        "  while(connected_component_count == 1):\n",
        "    ''' +++++++++++++ My part +++++++++++++++++++++++++++++ '''\n",
        "    graph.remove_edge(*edge_to_remove(graph))\n",
        "\n",
        "    connected_component = nx.connected_components(graph)\n",
        "    connected_component_count = nx.number_connected_components(graph)\n",
        "    ''' +++++++++++++ End of My part ++++++++++++++++++++++ ''' \n",
        "\n",
        "  return connected_component    \n",
        "\n",
        "# the communities in the graph\n",
        "c = girvan_newman(G.copy())\n",
        "\n",
        "# to list\n",
        "node_groups = []\n",
        "\n",
        "for i in c:\n",
        "  node_groups.append(list(i))\n"
      ],
      "metadata": {
        "id": "VY5mPHztxCXz"
      },
      "execution_count": null,
      "outputs": []
    },
    {
      "cell_type": "code",
      "source": [
        "# plot the communities\n",
        "color_map = []\n",
        "for node in G:\n",
        "    if node in node_groups[0]:\n",
        "        #color_map.append('blue')\n",
        "        color_map.append('green')\n",
        "    else: \n",
        "        #color_map.append('green')\n",
        "        color_map.append('blue')\n",
        "\n",
        "nx.draw(G, node_color=color_map, with_labels=True)\n",
        "plt.show()"
      ],
      "metadata": {
        "colab": {
          "base_uri": "https://localhost:8080/",
          "height": 319
        },
        "id": "oePnD5KOxYyC",
        "outputId": "971d6d6b-af32-4578-fbb3-dca7b788d731"
      },
      "execution_count": null,
      "outputs": [
        {
          "output_type": "display_data",
          "data": {
            "text/plain": [
              "<Figure size 432x288 with 1 Axes>"
            ],
            "image/png": "[encoded data removed]"
          },
          "metadata": {}
        }
      ]
    },
    {
      "cell_type": "markdown",
      "source": [
        "### Note - It is possible to swap the colors. So if your blue and green are swapped, it's okay."
      ],
      "metadata": {
        "id": "5EOUyLR0AXK0"
      }
    },
    {
      "cell_type": "markdown",
      "source": [
        "### ***Just to see reversed group/community color***"
      ],
      "metadata": {
        "id": "1ExJBb8G_Mrd"
      }
    },
    {
      "cell_type": "code",
      "source": [
        "# plot the communities\n",
        "color_map = []\n",
        "for node in G:\n",
        "    if node in node_groups[0]:\n",
        "        color_map.append('blue')\n",
        "        #color_map.append('green')\n",
        "    else: \n",
        "        color_map.append('green')\n",
        "        #color_map.append('blue')\n",
        "\n",
        "nx.draw(G, node_color=color_map, with_labels=True)\n",
        "plt.show()"
      ],
      "metadata": {
        "colab": {
          "base_uri": "https://localhost:8080/",
          "height": 319
        },
        "id": "-m-5US_5_GmN",
        "outputId": "0961d7ca-9185-431d-c0ab-0006dbef6f0c"
      },
      "execution_count": null,
      "outputs": [
        {
          "output_type": "display_data",
          "data": {
            "text/plain": [
              "<Figure size 432x288 with 1 Axes>"
            ],
            "image/png": "[encoded data removed]"
          },
          "metadata": {}
        }
      ]
    },
    {
      "cell_type": "markdown",
      "source": [
        "## Reference \n",
        "\n"
      ],
      "metadata": {
        "id": "wGKkgKdVt_Ix"
      }
    }
  ]
}